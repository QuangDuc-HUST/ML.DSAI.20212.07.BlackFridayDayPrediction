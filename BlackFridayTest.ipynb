{
 "cells": [
  {
   "cell_type": "markdown",
   "metadata": {},
   "source": [
    "# Black Friday Prediction\n"
   ]
  },
  {
   "cell_type": "markdown",
   "metadata": {},
   "source": [
    "## 1. Import\n"
   ]
  },
  {
   "cell_type": "markdown",
   "metadata": {},
   "source": [
    "### 1.1 Import libraries"
   ]
  },
  {
   "cell_type": "code",
   "execution_count": 1,
   "metadata": {},
   "outputs": [],
   "source": [
    "import numpy as np\n",
    "import matplotlib.pyplot as plt\n",
    "import seaborn as sns\n",
    "import pandas as pd "
   ]
  },
  {
   "cell_type": "code",
   "execution_count": 2,
   "metadata": {},
   "outputs": [],
   "source": [
    "import matplotlib.style as style\n",
    "style.use('seaborn-poster')\n",
    "style.use(\"fivethirtyeight\")\n",
    "plt.rcParams['font.family'] = 'serif'"
   ]
  },
  {
   "cell_type": "markdown",
   "metadata": {},
   "source": [
    "### 1.2 Import data\n"
   ]
  },
  {
   "cell_type": "code",
   "execution_count": 3,
   "metadata": {},
   "outputs": [
    {
     "data": {
      "text/html": [
       "<div>\n",
       "<style scoped>\n",
       "    .dataframe tbody tr th:only-of-type {\n",
       "        vertical-align: middle;\n",
       "    }\n",
       "\n",
       "    .dataframe tbody tr th {\n",
       "        vertical-align: top;\n",
       "    }\n",
       "\n",
       "    .dataframe thead th {\n",
       "        text-align: right;\n",
       "    }\n",
       "</style>\n",
       "<table border=\"1\" class=\"dataframe\">\n",
       "  <thead>\n",
       "    <tr style=\"text-align: right;\">\n",
       "      <th></th>\n",
       "      <th>User_ID</th>\n",
       "      <th>Product_ID</th>\n",
       "      <th>Gender</th>\n",
       "      <th>Age</th>\n",
       "      <th>Occupation</th>\n",
       "      <th>City_Category</th>\n",
       "      <th>Stay_In_Current_City_Years</th>\n",
       "      <th>Marital_Status</th>\n",
       "      <th>Product_Category_1</th>\n",
       "      <th>Product_Category_2</th>\n",
       "      <th>Product_Category_3</th>\n",
       "      <th>Purchase</th>\n",
       "    </tr>\n",
       "  </thead>\n",
       "  <tbody>\n",
       "    <tr>\n",
       "      <th>0</th>\n",
       "      <td>1000001</td>\n",
       "      <td>P00069042</td>\n",
       "      <td>F</td>\n",
       "      <td>0-17</td>\n",
       "      <td>10</td>\n",
       "      <td>A</td>\n",
       "      <td>2</td>\n",
       "      <td>0</td>\n",
       "      <td>3</td>\n",
       "      <td>NaN</td>\n",
       "      <td>NaN</td>\n",
       "      <td>8370</td>\n",
       "    </tr>\n",
       "    <tr>\n",
       "      <th>1</th>\n",
       "      <td>1000001</td>\n",
       "      <td>P00248942</td>\n",
       "      <td>F</td>\n",
       "      <td>0-17</td>\n",
       "      <td>10</td>\n",
       "      <td>A</td>\n",
       "      <td>2</td>\n",
       "      <td>0</td>\n",
       "      <td>1</td>\n",
       "      <td>6.0</td>\n",
       "      <td>14.0</td>\n",
       "      <td>15200</td>\n",
       "    </tr>\n",
       "    <tr>\n",
       "      <th>2</th>\n",
       "      <td>1000001</td>\n",
       "      <td>P00087842</td>\n",
       "      <td>F</td>\n",
       "      <td>0-17</td>\n",
       "      <td>10</td>\n",
       "      <td>A</td>\n",
       "      <td>2</td>\n",
       "      <td>0</td>\n",
       "      <td>12</td>\n",
       "      <td>NaN</td>\n",
       "      <td>NaN</td>\n",
       "      <td>1422</td>\n",
       "    </tr>\n",
       "    <tr>\n",
       "      <th>3</th>\n",
       "      <td>1000001</td>\n",
       "      <td>P00085442</td>\n",
       "      <td>F</td>\n",
       "      <td>0-17</td>\n",
       "      <td>10</td>\n",
       "      <td>A</td>\n",
       "      <td>2</td>\n",
       "      <td>0</td>\n",
       "      <td>12</td>\n",
       "      <td>14.0</td>\n",
       "      <td>NaN</td>\n",
       "      <td>1057</td>\n",
       "    </tr>\n",
       "    <tr>\n",
       "      <th>4</th>\n",
       "      <td>1000002</td>\n",
       "      <td>P00285442</td>\n",
       "      <td>M</td>\n",
       "      <td>55+</td>\n",
       "      <td>16</td>\n",
       "      <td>C</td>\n",
       "      <td>4+</td>\n",
       "      <td>0</td>\n",
       "      <td>8</td>\n",
       "      <td>NaN</td>\n",
       "      <td>NaN</td>\n",
       "      <td>7969</td>\n",
       "    </tr>\n",
       "  </tbody>\n",
       "</table>\n",
       "</div>"
      ],
      "text/plain": [
       "   User_ID Product_ID Gender   Age  Occupation City_Category  \\\n",
       "0  1000001  P00069042      F  0-17          10             A   \n",
       "1  1000001  P00248942      F  0-17          10             A   \n",
       "2  1000001  P00087842      F  0-17          10             A   \n",
       "3  1000001  P00085442      F  0-17          10             A   \n",
       "4  1000002  P00285442      M   55+          16             C   \n",
       "\n",
       "  Stay_In_Current_City_Years  Marital_Status  Product_Category_1  \\\n",
       "0                          2               0                   3   \n",
       "1                          2               0                   1   \n",
       "2                          2               0                  12   \n",
       "3                          2               0                  12   \n",
       "4                         4+               0                   8   \n",
       "\n",
       "   Product_Category_2  Product_Category_3  Purchase  \n",
       "0                 NaN                 NaN      8370  \n",
       "1                 6.0                14.0     15200  \n",
       "2                 NaN                 NaN      1422  \n",
       "3                14.0                 NaN      1057  \n",
       "4                 NaN                 NaN      7969  "
      ]
     },
     "execution_count": 3,
     "metadata": {},
     "output_type": "execute_result"
    }
   ],
   "source": [
    "df = pd.read_csv('train.csv')\n",
    "df.head(5)"
   ]
  },
  {
   "cell_type": "code",
   "execution_count": 4,
   "metadata": {},
   "outputs": [
    {
     "data": {
      "text/html": [
       "<div>\n",
       "<style scoped>\n",
       "    .dataframe tbody tr th:only-of-type {\n",
       "        vertical-align: middle;\n",
       "    }\n",
       "\n",
       "    .dataframe tbody tr th {\n",
       "        vertical-align: top;\n",
       "    }\n",
       "\n",
       "    .dataframe thead th {\n",
       "        text-align: right;\n",
       "    }\n",
       "</style>\n",
       "<table border=\"1\" class=\"dataframe\">\n",
       "  <thead>\n",
       "    <tr style=\"text-align: right;\">\n",
       "      <th></th>\n",
       "      <th>User_ID</th>\n",
       "      <th>Product_ID</th>\n",
       "      <th>Gender</th>\n",
       "      <th>Age</th>\n",
       "      <th>Occupation</th>\n",
       "      <th>City_Category</th>\n",
       "      <th>Years_in_city</th>\n",
       "      <th>Marital_Status</th>\n",
       "      <th>Product_Category_1</th>\n",
       "      <th>Product_Category_2</th>\n",
       "      <th>Product_Category_3</th>\n",
       "      <th>Purchase</th>\n",
       "    </tr>\n",
       "  </thead>\n",
       "  <tbody>\n",
       "    <tr>\n",
       "      <th>0</th>\n",
       "      <td>1000001</td>\n",
       "      <td>P00069042</td>\n",
       "      <td>F</td>\n",
       "      <td>0-17</td>\n",
       "      <td>10</td>\n",
       "      <td>A</td>\n",
       "      <td>2</td>\n",
       "      <td>0</td>\n",
       "      <td>3</td>\n",
       "      <td>NaN</td>\n",
       "      <td>NaN</td>\n",
       "      <td>8370</td>\n",
       "    </tr>\n",
       "    <tr>\n",
       "      <th>1</th>\n",
       "      <td>1000001</td>\n",
       "      <td>P00248942</td>\n",
       "      <td>F</td>\n",
       "      <td>0-17</td>\n",
       "      <td>10</td>\n",
       "      <td>A</td>\n",
       "      <td>2</td>\n",
       "      <td>0</td>\n",
       "      <td>1</td>\n",
       "      <td>6.0</td>\n",
       "      <td>14.0</td>\n",
       "      <td>15200</td>\n",
       "    </tr>\n",
       "    <tr>\n",
       "      <th>2</th>\n",
       "      <td>1000001</td>\n",
       "      <td>P00087842</td>\n",
       "      <td>F</td>\n",
       "      <td>0-17</td>\n",
       "      <td>10</td>\n",
       "      <td>A</td>\n",
       "      <td>2</td>\n",
       "      <td>0</td>\n",
       "      <td>12</td>\n",
       "      <td>NaN</td>\n",
       "      <td>NaN</td>\n",
       "      <td>1422</td>\n",
       "    </tr>\n",
       "    <tr>\n",
       "      <th>3</th>\n",
       "      <td>1000001</td>\n",
       "      <td>P00085442</td>\n",
       "      <td>F</td>\n",
       "      <td>0-17</td>\n",
       "      <td>10</td>\n",
       "      <td>A</td>\n",
       "      <td>2</td>\n",
       "      <td>0</td>\n",
       "      <td>12</td>\n",
       "      <td>14.0</td>\n",
       "      <td>NaN</td>\n",
       "      <td>1057</td>\n",
       "    </tr>\n",
       "    <tr>\n",
       "      <th>4</th>\n",
       "      <td>1000002</td>\n",
       "      <td>P00285442</td>\n",
       "      <td>M</td>\n",
       "      <td>55+</td>\n",
       "      <td>16</td>\n",
       "      <td>C</td>\n",
       "      <td>4+</td>\n",
       "      <td>0</td>\n",
       "      <td>8</td>\n",
       "      <td>NaN</td>\n",
       "      <td>NaN</td>\n",
       "      <td>7969</td>\n",
       "    </tr>\n",
       "    <tr>\n",
       "      <th>5</th>\n",
       "      <td>1000003</td>\n",
       "      <td>P00193542</td>\n",
       "      <td>M</td>\n",
       "      <td>26-35</td>\n",
       "      <td>15</td>\n",
       "      <td>A</td>\n",
       "      <td>3</td>\n",
       "      <td>0</td>\n",
       "      <td>1</td>\n",
       "      <td>2.0</td>\n",
       "      <td>NaN</td>\n",
       "      <td>15227</td>\n",
       "    </tr>\n",
       "  </tbody>\n",
       "</table>\n",
       "</div>"
      ],
      "text/plain": [
       "   User_ID Product_ID Gender    Age  Occupation City_Category Years_in_city  \\\n",
       "0  1000001  P00069042      F   0-17          10             A             2   \n",
       "1  1000001  P00248942      F   0-17          10             A             2   \n",
       "2  1000001  P00087842      F   0-17          10             A             2   \n",
       "3  1000001  P00085442      F   0-17          10             A             2   \n",
       "4  1000002  P00285442      M    55+          16             C            4+   \n",
       "5  1000003  P00193542      M  26-35          15             A             3   \n",
       "\n",
       "   Marital_Status  Product_Category_1  Product_Category_2  Product_Category_3  \\\n",
       "0               0                   3                 NaN                 NaN   \n",
       "1               0                   1                 6.0                14.0   \n",
       "2               0                  12                 NaN                 NaN   \n",
       "3               0                  12                14.0                 NaN   \n",
       "4               0                   8                 NaN                 NaN   \n",
       "5               0                   1                 2.0                 NaN   \n",
       "\n",
       "   Purchase  \n",
       "0      8370  \n",
       "1     15200  \n",
       "2      1422  \n",
       "3      1057  \n",
       "4      7969  \n",
       "5     15227  "
      ]
     },
     "execution_count": 4,
     "metadata": {},
     "output_type": "execute_result"
    }
   ],
   "source": [
    "df = df.rename(columns={\"Stay_In_Current_City_Years\":\"Years_in_city\"})\n",
    "df.head(6)"
   ]
  },
  {
   "cell_type": "markdown",
   "metadata": {},
   "source": [
    "##  2. Preprocessing & Visualization\n",
    "\n"
   ]
  },
  {
   "cell_type": "code",
   "execution_count": 5,
   "metadata": {
    "scrolled": true
   },
   "outputs": [
    {
     "name": "stdout",
     "output_type": "stream",
     "text": [
      "number of duplicated: 0\n"
     ]
    }
   ],
   "source": [
    "duplicated = df[df.duplicated()]\n",
    "print(\"number of duplicated:\", duplicated.shape[0])"
   ]
  },
  {
   "cell_type": "code",
   "execution_count": 6,
   "metadata": {
    "scrolled": true
   },
   "outputs": [
    {
     "name": "stdout",
     "output_type": "stream",
     "text": [
      "number of duplicated user: 544177\n",
      "number of duplicated user: 0\n"
     ]
    }
   ],
   "source": [
    "user_df = df[[\"User_ID\", \"Gender\", \"Age\", \"Occupation\", \"City_Category\", \"Years_in_city\", \"Marital_Status\"]]\n",
    "user_duplicated = user_df[user_df.duplicated()]\n",
    "print(\"number of duplicated user:\", user_duplicated.shape[0])\n",
    "user_df = user_df.drop_duplicates()\n",
    "print(\"number of duplicated user:\", user_df[user_df.duplicated()].shape[0])"
   ]
  },
  {
   "cell_type": "code",
   "execution_count": 7,
   "metadata": {
    "scrolled": true
   },
   "outputs": [
    {
     "name": "stdout",
     "output_type": "stream",
     "text": [
      "Total amount of money spent by each user:\n",
      "   User_ID  Purchase\n",
      "0  1000001    334093\n",
      "1  1000002    810472\n",
      "2  1000003    341635\n",
      "3  1000004    206468\n",
      "4  1000005    821001\n"
     ]
    }
   ],
   "source": [
    "purchased = df[[\"User_ID\", \"Purchase\"]]\n",
    "purchased = purchased.groupby(\"User_ID\", as_index = False).agg({'Purchase': 'sum'})\n",
    "user_df = pd.merge(user_df, purchased, on='User_ID')\n",
    "print('Total amount of money spent by each user:')\n",
    "print(purchased.head())"
   ]
  },
  {
   "cell_type": "code",
   "execution_count": 8,
   "metadata": {
    "scrolled": false
   },
   "outputs": [
    {
     "data": {
      "text/html": [
       "<div>\n",
       "<style scoped>\n",
       "    .dataframe tbody tr th:only-of-type {\n",
       "        vertical-align: middle;\n",
       "    }\n",
       "\n",
       "    .dataframe tbody tr th {\n",
       "        vertical-align: top;\n",
       "    }\n",
       "\n",
       "    .dataframe thead th {\n",
       "        text-align: right;\n",
       "    }\n",
       "</style>\n",
       "<table border=\"1\" class=\"dataframe\">\n",
       "  <thead>\n",
       "    <tr style=\"text-align: right;\">\n",
       "      <th></th>\n",
       "      <th>User_ID</th>\n",
       "      <th>Gender</th>\n",
       "      <th>Age</th>\n",
       "      <th>Occupation</th>\n",
       "      <th>City_Category</th>\n",
       "      <th>Years_in_city</th>\n",
       "      <th>Marital_Status</th>\n",
       "      <th>Total_Purchase</th>\n",
       "    </tr>\n",
       "  </thead>\n",
       "  <tbody>\n",
       "    <tr>\n",
       "      <th>0</th>\n",
       "      <td>1000001</td>\n",
       "      <td>F</td>\n",
       "      <td>0-17</td>\n",
       "      <td>10</td>\n",
       "      <td>A</td>\n",
       "      <td>2</td>\n",
       "      <td>0</td>\n",
       "      <td>334093</td>\n",
       "    </tr>\n",
       "    <tr>\n",
       "      <th>1</th>\n",
       "      <td>1000002</td>\n",
       "      <td>M</td>\n",
       "      <td>55+</td>\n",
       "      <td>16</td>\n",
       "      <td>C</td>\n",
       "      <td>4+</td>\n",
       "      <td>0</td>\n",
       "      <td>810472</td>\n",
       "    </tr>\n",
       "    <tr>\n",
       "      <th>2</th>\n",
       "      <td>1000003</td>\n",
       "      <td>M</td>\n",
       "      <td>26-35</td>\n",
       "      <td>15</td>\n",
       "      <td>A</td>\n",
       "      <td>3</td>\n",
       "      <td>0</td>\n",
       "      <td>341635</td>\n",
       "    </tr>\n",
       "    <tr>\n",
       "      <th>3</th>\n",
       "      <td>1000004</td>\n",
       "      <td>M</td>\n",
       "      <td>46-50</td>\n",
       "      <td>7</td>\n",
       "      <td>B</td>\n",
       "      <td>2</td>\n",
       "      <td>1</td>\n",
       "      <td>206468</td>\n",
       "    </tr>\n",
       "    <tr>\n",
       "      <th>4</th>\n",
       "      <td>1000005</td>\n",
       "      <td>M</td>\n",
       "      <td>26-35</td>\n",
       "      <td>20</td>\n",
       "      <td>A</td>\n",
       "      <td>1</td>\n",
       "      <td>1</td>\n",
       "      <td>821001</td>\n",
       "    </tr>\n",
       "  </tbody>\n",
       "</table>\n",
       "</div>"
      ],
      "text/plain": [
       "   User_ID Gender    Age  Occupation City_Category Years_in_city  \\\n",
       "0  1000001      F   0-17          10             A             2   \n",
       "1  1000002      M    55+          16             C            4+   \n",
       "2  1000003      M  26-35          15             A             3   \n",
       "3  1000004      M  46-50           7             B             2   \n",
       "4  1000005      M  26-35          20             A             1   \n",
       "\n",
       "   Marital_Status  Total_Purchase  \n",
       "0               0          334093  \n",
       "1               0          810472  \n",
       "2               0          341635  \n",
       "3               1          206468  \n",
       "4               1          821001  "
      ]
     },
     "execution_count": 8,
     "metadata": {},
     "output_type": "execute_result"
    }
   ],
   "source": [
    "user_df = user_df.rename(columns={'Purchase': 'Total_Purchase'})\n",
    "user_df.head()"
   ]
  },
  {
   "cell_type": "markdown",
   "metadata": {},
   "source": [
    "### Relationship between Gender - Purchase amount  "
   ]
  },
  {
   "cell_type": "code",
   "execution_count": 9,
   "metadata": {
    "scrolled": true
   },
   "outputs": [
    {
     "name": "stdout",
     "output_type": "stream",
     "text": [
      "number of female users: 4225\n",
      "number of male users: 1666\n"
     ]
    }
   ],
   "source": [
    "print(\"number of female users:\", len(user_df[user_df.Gender == \"M\"]))\n",
    "print(\"number of male users:\", len(user_df[user_df.Gender == \"F\"]))"
   ]
  },
  {
   "cell_type": "code",
   "execution_count": 10,
   "metadata": {},
   "outputs": [
    {
     "data": {
      "image/png": "[encoded data removed]",
      "text/plain": [
       "<Figure size 720x432 with 1 Axes>"
      ]
     },
     "metadata": {},
     "output_type": "display_data"
    }
   ],
   "source": [
    "plt.figure(figsize=(10,6))\n",
    "ax = sns.countplot(x=\"Gender\", data= user_df, palette=\"deep\")\n",
    "plt.ylabel(\"\")\n",
    "ax.set(xlabel = None, title = \"Customer genders count\")\n",
    "plt.show()"
   ]
  },
  {
   "cell_type": "code",
   "execution_count": 11,
   "metadata": {
    "scrolled": true
   },
   "outputs": [
    {
     "data": {
      "text/html": [
       "<div>\n",
       "<style scoped>\n",
       "    .dataframe tbody tr th:only-of-type {\n",
       "        vertical-align: middle;\n",
       "    }\n",
       "\n",
       "    .dataframe tbody tr th {\n",
       "        vertical-align: top;\n",
       "    }\n",
       "\n",
       "    .dataframe thead th {\n",
       "        text-align: right;\n",
       "    }\n",
       "</style>\n",
       "<table border=\"1\" class=\"dataframe\">\n",
       "  <thead>\n",
       "    <tr style=\"text-align: right;\">\n",
       "      <th></th>\n",
       "      <th>Gender</th>\n",
       "      <th>Total_Purchase</th>\n",
       "    </tr>\n",
       "  </thead>\n",
       "  <tbody>\n",
       "    <tr>\n",
       "      <th>0</th>\n",
       "      <td>F</td>\n",
       "      <td>1186232642</td>\n",
       "    </tr>\n",
       "    <tr>\n",
       "      <th>1</th>\n",
       "      <td>M</td>\n",
       "      <td>3909580100</td>\n",
       "    </tr>\n",
       "  </tbody>\n",
       "</table>\n",
       "</div>"
      ],
      "text/plain": [
       "  Gender  Total_Purchase\n",
       "0      F      1186232642\n",
       "1      M      3909580100"
      ]
     },
     "execution_count": 11,
     "metadata": {},
     "output_type": "execute_result"
    }
   ],
   "source": [
    "gender_purchased = user_df[[\"Gender\", \"Total_Purchase\"]]\n",
    "gender_purchased = gender_purchased.groupby(\"Gender\", as_index = False).agg({'Total_Purchase': 'sum'})\n",
    "gender_purchased.head()"
   ]
  },
  {
   "cell_type": "code",
   "execution_count": 12,
   "metadata": {},
   "outputs": [
    {
     "data": {
      "image/png": "[encoded data removed]",
      "text/plain": [
       "<Figure size 1008x432 with 2 Axes>"
      ]
     },
     "metadata": {},
     "output_type": "display_data"
    }
   ],
   "source": [
    "fig, ax = plt.subplots(1,2, figsize = (14,6))\n",
    "sns.countplot(ax = ax[0], x= 'Gender', data= user_df, palette=\"deep\")\n",
    "sns.barplot(ax= ax[1], x = \"Gender\", y=\"Total_Purchase\", data= gender_purchased, ci=None, palette=\"deep\")\n",
    "ax[0].set(title=\"Number of Gender\", ylabel = None)\n",
    "ax[1].set(title=\"Total Purchase According Gender\", ylabel = None)\n",
    "plt.show()"
   ]
  },
  {
   "cell_type": "markdown",
   "metadata": {},
   "source": [
    "### Relationship between City Category - Purchase amount "
   ]
  },
  {
   "cell_type": "code",
   "execution_count": 13,
   "metadata": {},
   "outputs": [
    {
     "name": "stdout",
     "output_type": "stream",
     "text": [
      "  City_Category  Total_Purchase\n",
      "0             A      1316471661\n",
      "1             B      2115533605\n",
      "2             C      1663807476\n"
     ]
    }
   ],
   "source": [
    "city_purchase = user_df[[\"City_Category\", \"Total_Purchase\"]]\n",
    "city_purchase = city_purchase.groupby(\"City_Category\", as_index = False).agg({'Total_Purchase': 'sum'})\n",
    "print(city_purchase)"
   ]
  },
  {
   "cell_type": "code",
   "execution_count": 14,
   "metadata": {},
   "outputs": [
    {
     "name": "stdout",
     "output_type": "stream",
     "text": [
      "  City_Category  Total_Purchase  Number Citizen  Ratio Purchase/Person\n",
      "0             A      1316471661            1045            1259781.494\n",
      "1             B      2115533605            1707            1239328.415\n",
      "2             C      1663807476            3139             530043.796\n"
     ]
    }
   ],
   "source": [
    "city_purchase[\"Number Citizen\"] = 0\n",
    "for city in user_df.City_Category.unique():\n",
    "    city_purchase.loc[city_purchase.City_Category == city, \"Number Citizen\"] = len(user_df[user_df.City_Category == city])\n",
    "city_purchase[\"Ratio Purchase/Person\"] = round(city_purchase.Total_Purchase / city_purchase[\"Number Citizen\"], 3)\n",
    "print(city_purchase)"
   ]
  },
  {
   "cell_type": "code",
   "execution_count": 15,
   "metadata": {
    "scrolled": false
   },
   "outputs": [
    {
     "data": {
      "image/png": "[encoded data removed]",
      "text/plain": [
       "<Figure size 1008x432 with 2 Axes>"
      ]
     },
     "metadata": {},
     "output_type": "display_data"
    }
   ],
   "source": [
    "fig, ax = plt.subplots(1,2, figsize = (14,6))\n",
    "sns.countplot(ax = ax[0], x= 'City_Category', data= user_df, order=[\"A\", \"B\", \"C\"], palette='Greens_r')\n",
    "sns.barplot(ax= ax[1], x = \"City_Category\", y=\"Total_Purchase\", data= city_purchase, ci=None, palette='Greens_r')\n",
    "ax[0].set(title=\"Number of Citizen according City\", ylabel = None, xlabel=\"City\")\n",
    "ax[1].set(title=\"Total Purchase according City\", ylabel = None, xlabel=\"City\")\n",
    "\n",
    "plt.show()"
   ]
  },
  {
   "cell_type": "markdown",
   "metadata": {},
   "source": [
    "### Relationship between Age - Purchase amount "
   ]
  },
  {
   "cell_type": "code",
   "execution_count": 16,
   "metadata": {
    "scrolled": true
   },
   "outputs": [
    {
     "data": {
      "text/html": [
       "<div>\n",
       "<style scoped>\n",
       "    .dataframe tbody tr th:only-of-type {\n",
       "        vertical-align: middle;\n",
       "    }\n",
       "\n",
       "    .dataframe tbody tr th {\n",
       "        vertical-align: top;\n",
       "    }\n",
       "\n",
       "    .dataframe thead th {\n",
       "        text-align: right;\n",
       "    }\n",
       "</style>\n",
       "<table border=\"1\" class=\"dataframe\">\n",
       "  <thead>\n",
       "    <tr style=\"text-align: right;\">\n",
       "      <th></th>\n",
       "      <th>Age</th>\n",
       "      <th>Total_Purchase</th>\n",
       "    </tr>\n",
       "  </thead>\n",
       "  <tbody>\n",
       "    <tr>\n",
       "      <th>0</th>\n",
       "      <td>0-17</td>\n",
       "      <td>134913183</td>\n",
       "    </tr>\n",
       "    <tr>\n",
       "      <th>1</th>\n",
       "      <td>18-25</td>\n",
       "      <td>913848675</td>\n",
       "    </tr>\n",
       "    <tr>\n",
       "      <th>2</th>\n",
       "      <td>26-35</td>\n",
       "      <td>2031770578</td>\n",
       "    </tr>\n",
       "    <tr>\n",
       "      <th>3</th>\n",
       "      <td>36-45</td>\n",
       "      <td>1026569884</td>\n",
       "    </tr>\n",
       "    <tr>\n",
       "      <th>4</th>\n",
       "      <td>46-50</td>\n",
       "      <td>420843403</td>\n",
       "    </tr>\n",
       "    <tr>\n",
       "      <th>5</th>\n",
       "      <td>51-55</td>\n",
       "      <td>367099644</td>\n",
       "    </tr>\n",
       "    <tr>\n",
       "      <th>6</th>\n",
       "      <td>55+</td>\n",
       "      <td>200767375</td>\n",
       "    </tr>\n",
       "  </tbody>\n",
       "</table>\n",
       "</div>"
      ],
      "text/plain": [
       "     Age  Total_Purchase\n",
       "0   0-17       134913183\n",
       "1  18-25       913848675\n",
       "2  26-35      2031770578\n",
       "3  36-45      1026569884\n",
       "4  46-50       420843403\n",
       "5  51-55       367099644\n",
       "6    55+       200767375"
      ]
     },
     "execution_count": 16,
     "metadata": {},
     "output_type": "execute_result"
    }
   ],
   "source": [
    "age_purchase = user_df[[\"Age\", \"Total_Purchase\"]]\n",
    "age_purchase = age_purchase.groupby(\"Age\", as_index = False).agg({'Total_Purchase': 'sum'})\n",
    "age_purchase"
   ]
  },
  {
   "cell_type": "code",
   "execution_count": 17,
   "metadata": {},
   "outputs": [
    {
     "data": {
      "text/html": [
       "<div>\n",
       "<style scoped>\n",
       "    .dataframe tbody tr th:only-of-type {\n",
       "        vertical-align: middle;\n",
       "    }\n",
       "\n",
       "    .dataframe tbody tr th {\n",
       "        vertical-align: top;\n",
       "    }\n",
       "\n",
       "    .dataframe thead th {\n",
       "        text-align: right;\n",
       "    }\n",
       "</style>\n",
       "<table border=\"1\" class=\"dataframe\">\n",
       "  <thead>\n",
       "    <tr style=\"text-align: right;\">\n",
       "      <th></th>\n",
       "      <th>Age</th>\n",
       "      <th>Total_Purchase</th>\n",
       "      <th>Number customer</th>\n",
       "      <th>Ratio Purchase/Person</th>\n",
       "    </tr>\n",
       "  </thead>\n",
       "  <tbody>\n",
       "    <tr>\n",
       "      <th>0</th>\n",
       "      <td>0-17</td>\n",
       "      <td>134913183</td>\n",
       "      <td>218</td>\n",
       "      <td>618867.812</td>\n",
       "    </tr>\n",
       "    <tr>\n",
       "      <th>1</th>\n",
       "      <td>18-25</td>\n",
       "      <td>913848675</td>\n",
       "      <td>1069</td>\n",
       "      <td>854863.120</td>\n",
       "    </tr>\n",
       "    <tr>\n",
       "      <th>2</th>\n",
       "      <td>26-35</td>\n",
       "      <td>2031770578</td>\n",
       "      <td>2053</td>\n",
       "      <td>989659.317</td>\n",
       "    </tr>\n",
       "    <tr>\n",
       "      <th>3</th>\n",
       "      <td>36-45</td>\n",
       "      <td>1026569884</td>\n",
       "      <td>1167</td>\n",
       "      <td>879665.710</td>\n",
       "    </tr>\n",
       "    <tr>\n",
       "      <th>4</th>\n",
       "      <td>46-50</td>\n",
       "      <td>420843403</td>\n",
       "      <td>531</td>\n",
       "      <td>792548.782</td>\n",
       "    </tr>\n",
       "    <tr>\n",
       "      <th>5</th>\n",
       "      <td>51-55</td>\n",
       "      <td>367099644</td>\n",
       "      <td>481</td>\n",
       "      <td>763200.923</td>\n",
       "    </tr>\n",
       "    <tr>\n",
       "      <th>6</th>\n",
       "      <td>55+</td>\n",
       "      <td>200767375</td>\n",
       "      <td>372</td>\n",
       "      <td>539697.245</td>\n",
       "    </tr>\n",
       "  </tbody>\n",
       "</table>\n",
       "</div>"
      ],
      "text/plain": [
       "     Age  Total_Purchase  Number customer  Ratio Purchase/Person\n",
       "0   0-17       134913183              218             618867.812\n",
       "1  18-25       913848675             1069             854863.120\n",
       "2  26-35      2031770578             2053             989659.317\n",
       "3  36-45      1026569884             1167             879665.710\n",
       "4  46-50       420843403              531             792548.782\n",
       "5  51-55       367099644              481             763200.923\n",
       "6    55+       200767375              372             539697.245"
      ]
     },
     "execution_count": 17,
     "metadata": {},
     "output_type": "execute_result"
    }
   ],
   "source": [
    "age_purchase[\"Number customer\"] = 0\n",
    "for age in age_purchase.Age.unique():\n",
    "    age_purchase.loc[age_purchase.Age == age, \"Number customer\"] = len(user_df[user_df.Age == age])\n",
    "age_purchase[\"Ratio Purchase/Person\"] = round(age_purchase.Total_Purchase / age_purchase[\"Number customer\"], 3)\n",
    "age_purchase"
   ]
  },
  {
   "cell_type": "code",
   "execution_count": 18,
   "metadata": {},
   "outputs": [
    {
     "data": {
      "image/png": "[encoded data removed]",
      "text/plain": [
       "<Figure size 1008x432 with 2 Axes>"
      ]
     },
     "metadata": {},
     "output_type": "display_data"
    }
   ],
   "source": [
    "age_order = list(age_purchase.Age.unique())\n",
    "\n",
    "fig, ax = plt.subplots(1,2, figsize = (14,6))\n",
    "sns.countplot(ax = ax[0], x= 'Age', data= user_df, order = age_order, palette='Set2')\n",
    "sns.barplot(ax= ax[1], x = \"Age\", y=\"Total_Purchase\", data= age_purchase, ci=None, palette='Set2')\n",
    "ax[0].set(title=\"Number of Citizen according Ages\", ylabel = None, xlabel=\"City\")\n",
    "ax[1].set(title=\"Total Purchase according Ages\", ylabel = None, xlabel=\"City\")\n",
    "\n",
    "plt.show()"
   ]
  },
  {
   "cell_type": "code",
   "execution_count": 19,
   "metadata": {},
   "outputs": [
    {
     "name": "stdout",
     "output_type": "stream",
     "text": [
      "['55+', '0-17', '51-55', '46-50', '18-25', '36-45', '26-35']\n"
     ]
    }
   ],
   "source": [
    "# sns.barplot(x = \"Age\", y = \"Ratio Purchase/Person\", data= age_purchase)\n",
    "# plt.title(\"Amount of money spent by each person on average according their Age.\")\n",
    "# plt.ylabel(None)\n",
    "\n",
    "# plt.show()\n",
    "print(list(age_purchase.sort_values(by=\"Ratio Purchase/Person\", ignore_index=True).Age))"
   ]
  },
  {
   "cell_type": "markdown",
   "metadata": {},
   "source": [
    "### Relationship between Occupation - Purchase amount\n"
   ]
  },
  {
   "cell_type": "code",
   "execution_count": 20,
   "metadata": {},
   "outputs": [
    {
     "data": {
      "text/html": [
       "<div>\n",
       "<style scoped>\n",
       "    .dataframe tbody tr th:only-of-type {\n",
       "        vertical-align: middle;\n",
       "    }\n",
       "\n",
       "    .dataframe tbody tr th {\n",
       "        vertical-align: top;\n",
       "    }\n",
       "\n",
       "    .dataframe thead th {\n",
       "        text-align: right;\n",
       "    }\n",
       "</style>\n",
       "<table border=\"1\" class=\"dataframe\">\n",
       "  <thead>\n",
       "    <tr style=\"text-align: right;\">\n",
       "      <th></th>\n",
       "      <th>Occupation</th>\n",
       "      <th>Total_Purchase</th>\n",
       "    </tr>\n",
       "  </thead>\n",
       "  <tbody>\n",
       "    <tr>\n",
       "      <th>0</th>\n",
       "      <td>0</td>\n",
       "      <td>635406958</td>\n",
       "    </tr>\n",
       "    <tr>\n",
       "      <th>1</th>\n",
       "      <td>1</td>\n",
       "      <td>424614144</td>\n",
       "    </tr>\n",
       "    <tr>\n",
       "      <th>2</th>\n",
       "      <td>2</td>\n",
       "      <td>238028583</td>\n",
       "    </tr>\n",
       "    <tr>\n",
       "      <th>3</th>\n",
       "      <td>3</td>\n",
       "      <td>162002168</td>\n",
       "    </tr>\n",
       "    <tr>\n",
       "      <th>4</th>\n",
       "      <td>4</td>\n",
       "      <td>666244484</td>\n",
       "    </tr>\n",
       "    <tr>\n",
       "      <th>5</th>\n",
       "      <td>5</td>\n",
       "      <td>113649759</td>\n",
       "    </tr>\n",
       "  </tbody>\n",
       "</table>\n",
       "</div>"
      ],
      "text/plain": [
       "   Occupation  Total_Purchase\n",
       "0           0       635406958\n",
       "1           1       424614144\n",
       "2           2       238028583\n",
       "3           3       162002168\n",
       "4           4       666244484\n",
       "5           5       113649759"
      ]
     },
     "execution_count": 20,
     "metadata": {},
     "output_type": "execute_result"
    }
   ],
   "source": [
    "job_purchase = user_df[['Occupation', 'Total_Purchase']]\n",
    "job_purchase = job_purchase.groupby(by='Occupation', as_index = False).agg({'Total_Purchase': 'sum'})\n",
    "job_purchase.head(6)"
   ]
  },
  {
   "cell_type": "code",
   "execution_count": 21,
   "metadata": {},
   "outputs": [
    {
     "data": {
      "text/html": [
       "<div>\n",
       "<style scoped>\n",
       "    .dataframe tbody tr th:only-of-type {\n",
       "        vertical-align: middle;\n",
       "    }\n",
       "\n",
       "    .dataframe tbody tr th {\n",
       "        vertical-align: top;\n",
       "    }\n",
       "\n",
       "    .dataframe thead th {\n",
       "        text-align: right;\n",
       "    }\n",
       "</style>\n",
       "<table border=\"1\" class=\"dataframe\">\n",
       "  <thead>\n",
       "    <tr style=\"text-align: right;\">\n",
       "      <th></th>\n",
       "      <th>Occupation</th>\n",
       "      <th>Total_Purchase</th>\n",
       "      <th>NumberCustomer</th>\n",
       "      <th>Ratio Purchase/Person</th>\n",
       "    </tr>\n",
       "  </thead>\n",
       "  <tbody>\n",
       "    <tr>\n",
       "      <th>0</th>\n",
       "      <td>0</td>\n",
       "      <td>635406958</td>\n",
       "      <td>688</td>\n",
       "      <td>923556.625</td>\n",
       "    </tr>\n",
       "    <tr>\n",
       "      <th>1</th>\n",
       "      <td>1</td>\n",
       "      <td>424614144</td>\n",
       "      <td>517</td>\n",
       "      <td>821303.954</td>\n",
       "    </tr>\n",
       "    <tr>\n",
       "      <th>2</th>\n",
       "      <td>2</td>\n",
       "      <td>238028583</td>\n",
       "      <td>256</td>\n",
       "      <td>929799.152</td>\n",
       "    </tr>\n",
       "    <tr>\n",
       "      <th>3</th>\n",
       "      <td>3</td>\n",
       "      <td>162002168</td>\n",
       "      <td>170</td>\n",
       "      <td>952953.929</td>\n",
       "    </tr>\n",
       "    <tr>\n",
       "      <th>4</th>\n",
       "      <td>4</td>\n",
       "      <td>666244484</td>\n",
       "      <td>740</td>\n",
       "      <td>900330.384</td>\n",
       "    </tr>\n",
       "    <tr>\n",
       "      <th>5</th>\n",
       "      <td>5</td>\n",
       "      <td>113649759</td>\n",
       "      <td>111</td>\n",
       "      <td>1023871.703</td>\n",
       "    </tr>\n",
       "  </tbody>\n",
       "</table>\n",
       "</div>"
      ],
      "text/plain": [
       "   Occupation  Total_Purchase  NumberCustomer  Ratio Purchase/Person\n",
       "0           0       635406958             688             923556.625\n",
       "1           1       424614144             517             821303.954\n",
       "2           2       238028583             256             929799.152\n",
       "3           3       162002168             170             952953.929\n",
       "4           4       666244484             740             900330.384\n",
       "5           5       113649759             111            1023871.703"
      ]
     },
     "execution_count": 21,
     "metadata": {},
     "output_type": "execute_result"
    }
   ],
   "source": [
    "job_purchase['NumberCustomer'] = 0 \n",
    "for job in job_purchase.Occupation.unique():\n",
    "    job_purchase.loc[job_purchase.Occupation == job, 'NumberCustomer'] = len(user_df[user_df.Occupation == job])\n",
    "job_purchase['Ratio Purchase/Person'] = round(job_purchase.Total_Purchase / job_purchase[\"NumberCustomer\"], 3)\n",
    "job_purchase.head(6)"
   ]
  },
  {
   "cell_type": "code",
   "execution_count": 22,
   "metadata": {},
   "outputs": [
    {
     "name": "stdout",
     "output_type": "stream",
     "text": [
      "    Occupation  Total_Purchase  NumberCustomer  Ratio Purchase/Person\n",
      "0           13        71919481             140             513710.579\n",
      "1           10       115844465             192             603356.589\n",
      "2            9        54340046              88             617500.523\n",
      "3           17       393281453             491             800980.556\n",
      "4           12       305449446             376             812365.548\n",
      "5            1       424614144             517             821303.954\n",
      "6            6       188416784             228             826389.404\n",
      "7            7       557371587             669             833141.386\n",
      "8           11       106751618             128             833997.016\n",
      "9           15       118960211             140             849715.793\n",
      "10           8        14737388              17             866905.176\n",
      "11          14       259454692             294             882498.952\n",
      "12           4       666244484             740             900330.384\n",
      "13          18        60721461              67             906290.463\n",
      "14           0       635406958             688             923556.625\n",
      "15           2       238028583             256             929799.152\n",
      "16           3       162002168             170             952953.929\n",
      "17          16       238346955             235            1014242.362\n",
      "18           5       113649759             111            1023871.703\n",
      "19          19        73700617              71            1038036.859\n",
      "20          20       296570442             273            1086338.615\n",
      "\n",
      "Order of Job ID which spent most money:\n",
      "[13, 10, 9, 17, 12, 1, 6, 7, 11, 15, 8, 14, 4, 18, 0, 2, 3, 16, 5, 19, 20]\n"
     ]
    }
   ],
   "source": [
    "print(job_purchase.sort_values(by='Ratio Purchase/Person',ignore_index=True))\n",
    "# job_purchase.Occupation = job_purchase.Occupation - 1\n",
    "job_purchase\n",
    "print(\"\\nOrder of Job ID which spent most money:\")\n",
    "print(list(job_purchase.sort_values(by='Ratio Purchase/Person').Occupation))"
   ]
  },
  {
   "cell_type": "markdown",
   "metadata": {},
   "source": [
    "### Relationship between Gender - Martial Status - Purchase amount  "
   ]
  },
  {
   "cell_type": "code",
   "execution_count": 23,
   "metadata": {
    "scrolled": false
   },
   "outputs": [
    {
     "data": {
      "text/plain": [
       "<matplotlib.legend.Legend at 0x15c05dcdb50>"
      ]
     },
     "execution_count": 23,
     "metadata": {},
     "output_type": "execute_result"
    },
    {
     "data": {
      "image/png": "[encoded data removed]",
      "text/plain": [
       "<Figure size 576x432 with 1 Axes>"
      ]
     },
     "metadata": {},
     "output_type": "display_data"
    }
   ],
   "source": [
    "plt.figure(figsize=(8,6))\n",
    "kws = dict(s=200, linewidth=1, edgecolor='w', alpha=0.75)\n",
    "sns.scatterplot(data=user_df, y='Total_Purchase',x = \"Occupation\", hue= 'City_Category')\n",
    "plt.legend()"
   ]
  },
  {
   "cell_type": "code",
   "execution_count": 24,
   "metadata": {},
   "outputs": [
    {
     "data": {
      "image/png": "[encoded data removed]",
      "text/plain": [
       "<Figure size 720x432 with 1 Axes>"
      ]
     },
     "metadata": {},
     "output_type": "display_data"
    }
   ],
   "source": [
    "plt.figure(figsize=(10,6))\n",
    "ax = sns.countplot(x=\"City_Category\", data= user_df, order=[\"A\", \"B\", \"C\"])\n",
    "plt.ylabel(\"\")\n",
    "ax.set(xlabel = None, title = \"City types\")\n",
    "plt.show()"
   ]
  },
  {
   "cell_type": "code",
   "execution_count": 25,
   "metadata": {
    "scrolled": false
   },
   "outputs": [
    {
     "data": {
      "image/png": "[encoded data removed]",
      "text/plain": [
       "<Figure size 576x432 with 1 Axes>"
      ]
     },
     "metadata": {},
     "output_type": "display_data"
    }
   ],
   "source": [
    "plt.figure(figsize=(8,6))\n",
    "ax = sns.countplot(x=\"Age\", data= user_df)\n",
    "plt.ylabel(\"\")\n",
    "ax.set(xlabel = None, title = \"Age of customers\")\n",
    "plt.show()"
   ]
  },
  {
   "cell_type": "markdown",
   "metadata": {},
   "source": [
    "**VISUALIZATION**"
   ]
  },
  {
   "cell_type": "code",
   "execution_count": 26,
   "metadata": {},
   "outputs": [
    {
     "data": {
      "text/html": [
       "<div>\n",
       "<style scoped>\n",
       "    .dataframe tbody tr th:only-of-type {\n",
       "        vertical-align: middle;\n",
       "    }\n",
       "\n",
       "    .dataframe tbody tr th {\n",
       "        vertical-align: top;\n",
       "    }\n",
       "\n",
       "    .dataframe thead th {\n",
       "        text-align: right;\n",
       "    }\n",
       "</style>\n",
       "<table border=\"1\" class=\"dataframe\">\n",
       "  <thead>\n",
       "    <tr style=\"text-align: right;\">\n",
       "      <th></th>\n",
       "      <th>User_ID</th>\n",
       "      <th>Gender</th>\n",
       "      <th>Age</th>\n",
       "      <th>Occupation</th>\n",
       "      <th>City_Category</th>\n",
       "      <th>Years_in_city</th>\n",
       "      <th>Marital_Status</th>\n",
       "      <th>Total_Purchase</th>\n",
       "    </tr>\n",
       "  </thead>\n",
       "  <tbody>\n",
       "    <tr>\n",
       "      <th>0</th>\n",
       "      <td>1000001</td>\n",
       "      <td>F</td>\n",
       "      <td>0-17</td>\n",
       "      <td>10</td>\n",
       "      <td>A</td>\n",
       "      <td>2</td>\n",
       "      <td>0</td>\n",
       "      <td>334093</td>\n",
       "    </tr>\n",
       "    <tr>\n",
       "      <th>1</th>\n",
       "      <td>1000002</td>\n",
       "      <td>M</td>\n",
       "      <td>55+</td>\n",
       "      <td>16</td>\n",
       "      <td>C</td>\n",
       "      <td>4+</td>\n",
       "      <td>0</td>\n",
       "      <td>810472</td>\n",
       "    </tr>\n",
       "    <tr>\n",
       "      <th>2</th>\n",
       "      <td>1000003</td>\n",
       "      <td>M</td>\n",
       "      <td>26-35</td>\n",
       "      <td>15</td>\n",
       "      <td>A</td>\n",
       "      <td>3</td>\n",
       "      <td>0</td>\n",
       "      <td>341635</td>\n",
       "    </tr>\n",
       "    <tr>\n",
       "      <th>3</th>\n",
       "      <td>1000004</td>\n",
       "      <td>M</td>\n",
       "      <td>46-50</td>\n",
       "      <td>7</td>\n",
       "      <td>B</td>\n",
       "      <td>2</td>\n",
       "      <td>1</td>\n",
       "      <td>206468</td>\n",
       "    </tr>\n",
       "    <tr>\n",
       "      <th>4</th>\n",
       "      <td>1000005</td>\n",
       "      <td>M</td>\n",
       "      <td>26-35</td>\n",
       "      <td>20</td>\n",
       "      <td>A</td>\n",
       "      <td>1</td>\n",
       "      <td>1</td>\n",
       "      <td>821001</td>\n",
       "    </tr>\n",
       "  </tbody>\n",
       "</table>\n",
       "</div>"
      ],
      "text/plain": [
       "   User_ID Gender    Age  Occupation City_Category Years_in_city  \\\n",
       "0  1000001      F   0-17          10             A             2   \n",
       "1  1000002      M    55+          16             C            4+   \n",
       "2  1000003      M  26-35          15             A             3   \n",
       "3  1000004      M  46-50           7             B             2   \n",
       "4  1000005      M  26-35          20             A             1   \n",
       "\n",
       "   Marital_Status  Total_Purchase  \n",
       "0               0          334093  \n",
       "1               0          810472  \n",
       "2               0          341635  \n",
       "3               1          206468  \n",
       "4               1          821001  "
      ]
     },
     "execution_count": 26,
     "metadata": {},
     "output_type": "execute_result"
    }
   ],
   "source": [
    "user_df.head()"
   ]
  },
  {
   "cell_type": "markdown",
   "metadata": {},
   "source": [
    "## Modelling"
   ]
  },
  {
   "cell_type": "markdown",
   "metadata": {},
   "source": [
    "### Process "
   ]
  },
  {
   "cell_type": "code",
   "execution_count": 27,
   "metadata": {},
   "outputs": [
    {
     "data": {
      "text/html": [
       "<div>\n",
       "<style scoped>\n",
       "    .dataframe tbody tr th:only-of-type {\n",
       "        vertical-align: middle;\n",
       "    }\n",
       "\n",
       "    .dataframe tbody tr th {\n",
       "        vertical-align: top;\n",
       "    }\n",
       "\n",
       "    .dataframe thead th {\n",
       "        text-align: right;\n",
       "    }\n",
       "</style>\n",
       "<table border=\"1\" class=\"dataframe\">\n",
       "  <thead>\n",
       "    <tr style=\"text-align: right;\">\n",
       "      <th></th>\n",
       "      <th>User_ID</th>\n",
       "      <th>Product_ID</th>\n",
       "      <th>Gender</th>\n",
       "      <th>Age</th>\n",
       "      <th>Occupation</th>\n",
       "      <th>City_Category</th>\n",
       "      <th>Years_in_city</th>\n",
       "      <th>Marital_Status</th>\n",
       "      <th>Product_Category_1</th>\n",
       "      <th>Product_Category_2</th>\n",
       "      <th>Product_Category_3</th>\n",
       "      <th>Purchase</th>\n",
       "    </tr>\n",
       "  </thead>\n",
       "  <tbody>\n",
       "    <tr>\n",
       "      <th>0</th>\n",
       "      <td>1000001</td>\n",
       "      <td>P00069042</td>\n",
       "      <td>F</td>\n",
       "      <td>0-17</td>\n",
       "      <td>10</td>\n",
       "      <td>A</td>\n",
       "      <td>2</td>\n",
       "      <td>0</td>\n",
       "      <td>3</td>\n",
       "      <td>NaN</td>\n",
       "      <td>NaN</td>\n",
       "      <td>8370</td>\n",
       "    </tr>\n",
       "    <tr>\n",
       "      <th>1</th>\n",
       "      <td>1000001</td>\n",
       "      <td>P00248942</td>\n",
       "      <td>F</td>\n",
       "      <td>0-17</td>\n",
       "      <td>10</td>\n",
       "      <td>A</td>\n",
       "      <td>2</td>\n",
       "      <td>0</td>\n",
       "      <td>1</td>\n",
       "      <td>6.0</td>\n",
       "      <td>14.0</td>\n",
       "      <td>15200</td>\n",
       "    </tr>\n",
       "    <tr>\n",
       "      <th>2</th>\n",
       "      <td>1000001</td>\n",
       "      <td>P00087842</td>\n",
       "      <td>F</td>\n",
       "      <td>0-17</td>\n",
       "      <td>10</td>\n",
       "      <td>A</td>\n",
       "      <td>2</td>\n",
       "      <td>0</td>\n",
       "      <td>12</td>\n",
       "      <td>NaN</td>\n",
       "      <td>NaN</td>\n",
       "      <td>1422</td>\n",
       "    </tr>\n",
       "    <tr>\n",
       "      <th>3</th>\n",
       "      <td>1000001</td>\n",
       "      <td>P00085442</td>\n",
       "      <td>F</td>\n",
       "      <td>0-17</td>\n",
       "      <td>10</td>\n",
       "      <td>A</td>\n",
       "      <td>2</td>\n",
       "      <td>0</td>\n",
       "      <td>12</td>\n",
       "      <td>14.0</td>\n",
       "      <td>NaN</td>\n",
       "      <td>1057</td>\n",
       "    </tr>\n",
       "    <tr>\n",
       "      <th>4</th>\n",
       "      <td>1000002</td>\n",
       "      <td>P00285442</td>\n",
       "      <td>M</td>\n",
       "      <td>55+</td>\n",
       "      <td>16</td>\n",
       "      <td>C</td>\n",
       "      <td>4+</td>\n",
       "      <td>0</td>\n",
       "      <td>8</td>\n",
       "      <td>NaN</td>\n",
       "      <td>NaN</td>\n",
       "      <td>7969</td>\n",
       "    </tr>\n",
       "  </tbody>\n",
       "</table>\n",
       "</div>"
      ],
      "text/plain": [
       "   User_ID Product_ID Gender   Age  Occupation City_Category Years_in_city  \\\n",
       "0  1000001  P00069042      F  0-17          10             A             2   \n",
       "1  1000001  P00248942      F  0-17          10             A             2   \n",
       "2  1000001  P00087842      F  0-17          10             A             2   \n",
       "3  1000001  P00085442      F  0-17          10             A             2   \n",
       "4  1000002  P00285442      M   55+          16             C            4+   \n",
       "\n",
       "   Marital_Status  Product_Category_1  Product_Category_2  Product_Category_3  \\\n",
       "0               0                   3                 NaN                 NaN   \n",
       "1               0                   1                 6.0                14.0   \n",
       "2               0                  12                 NaN                 NaN   \n",
       "3               0                  12                14.0                 NaN   \n",
       "4               0                   8                 NaN                 NaN   \n",
       "\n",
       "   Purchase  \n",
       "0      8370  \n",
       "1     15200  \n",
       "2      1422  \n",
       "3      1057  \n",
       "4      7969  "
      ]
     },
     "execution_count": 27,
     "metadata": {},
     "output_type": "execute_result"
    }
   ],
   "source": [
    "learn_df = df.copy()\n",
    "learn_df.head()"
   ]
  },
  {
   "cell_type": "code",
   "execution_count": 28,
   "metadata": {
    "scrolled": true
   },
   "outputs": [
    {
     "data": {
      "text/html": [
       "<div>\n",
       "<style scoped>\n",
       "    .dataframe tbody tr th:only-of-type {\n",
       "        vertical-align: middle;\n",
       "    }\n",
       "\n",
       "    .dataframe tbody tr th {\n",
       "        vertical-align: top;\n",
       "    }\n",
       "\n",
       "    .dataframe thead th {\n",
       "        text-align: right;\n",
       "    }\n",
       "</style>\n",
       "<table border=\"1\" class=\"dataframe\">\n",
       "  <thead>\n",
       "    <tr style=\"text-align: right;\">\n",
       "      <th></th>\n",
       "      <th>User_ID</th>\n",
       "      <th>Product_ID</th>\n",
       "      <th>Gender</th>\n",
       "      <th>Age</th>\n",
       "      <th>Occupation</th>\n",
       "      <th>City_Category</th>\n",
       "      <th>Years_in_city</th>\n",
       "      <th>Marital_Status</th>\n",
       "      <th>Product_Category_1</th>\n",
       "      <th>Product_Category_2</th>\n",
       "      <th>Product_Category_3</th>\n",
       "      <th>Purchase</th>\n",
       "      <th>Efficiency</th>\n",
       "    </tr>\n",
       "  </thead>\n",
       "  <tbody>\n",
       "    <tr>\n",
       "      <th>0</th>\n",
       "      <td>1000001</td>\n",
       "      <td>P00069042</td>\n",
       "      <td>F</td>\n",
       "      <td>0-17</td>\n",
       "      <td>10</td>\n",
       "      <td>A</td>\n",
       "      <td>2</td>\n",
       "      <td>0</td>\n",
       "      <td>3</td>\n",
       "      <td>NaN</td>\n",
       "      <td>NaN</td>\n",
       "      <td>8370</td>\n",
       "      <td>1</td>\n",
       "    </tr>\n",
       "    <tr>\n",
       "      <th>1</th>\n",
       "      <td>1000001</td>\n",
       "      <td>P00248942</td>\n",
       "      <td>F</td>\n",
       "      <td>0-17</td>\n",
       "      <td>10</td>\n",
       "      <td>A</td>\n",
       "      <td>2</td>\n",
       "      <td>0</td>\n",
       "      <td>1</td>\n",
       "      <td>6.0</td>\n",
       "      <td>14.0</td>\n",
       "      <td>15200</td>\n",
       "      <td>3</td>\n",
       "    </tr>\n",
       "    <tr>\n",
       "      <th>2</th>\n",
       "      <td>1000001</td>\n",
       "      <td>P00087842</td>\n",
       "      <td>F</td>\n",
       "      <td>0-17</td>\n",
       "      <td>10</td>\n",
       "      <td>A</td>\n",
       "      <td>2</td>\n",
       "      <td>0</td>\n",
       "      <td>12</td>\n",
       "      <td>NaN</td>\n",
       "      <td>NaN</td>\n",
       "      <td>1422</td>\n",
       "      <td>1</td>\n",
       "    </tr>\n",
       "    <tr>\n",
       "      <th>3</th>\n",
       "      <td>1000001</td>\n",
       "      <td>P00085442</td>\n",
       "      <td>F</td>\n",
       "      <td>0-17</td>\n",
       "      <td>10</td>\n",
       "      <td>A</td>\n",
       "      <td>2</td>\n",
       "      <td>0</td>\n",
       "      <td>12</td>\n",
       "      <td>14.0</td>\n",
       "      <td>NaN</td>\n",
       "      <td>1057</td>\n",
       "      <td>2</td>\n",
       "    </tr>\n",
       "    <tr>\n",
       "      <th>4</th>\n",
       "      <td>1000002</td>\n",
       "      <td>P00285442</td>\n",
       "      <td>M</td>\n",
       "      <td>55+</td>\n",
       "      <td>16</td>\n",
       "      <td>C</td>\n",
       "      <td>4+</td>\n",
       "      <td>0</td>\n",
       "      <td>8</td>\n",
       "      <td>NaN</td>\n",
       "      <td>NaN</td>\n",
       "      <td>7969</td>\n",
       "      <td>1</td>\n",
       "    </tr>\n",
       "  </tbody>\n",
       "</table>\n",
       "</div>"
      ],
      "text/plain": [
       "   User_ID Product_ID Gender   Age  Occupation City_Category Years_in_city  \\\n",
       "0  1000001  P00069042      F  0-17          10             A             2   \n",
       "1  1000001  P00248942      F  0-17          10             A             2   \n",
       "2  1000001  P00087842      F  0-17          10             A             2   \n",
       "3  1000001  P00085442      F  0-17          10             A             2   \n",
       "4  1000002  P00285442      M   55+          16             C            4+   \n",
       "\n",
       "   Marital_Status  Product_Category_1  Product_Category_2  Product_Category_3  \\\n",
       "0               0                   3                 NaN                 NaN   \n",
       "1               0                   1                 6.0                14.0   \n",
       "2               0                  12                 NaN                 NaN   \n",
       "3               0                  12                14.0                 NaN   \n",
       "4               0                   8                 NaN                 NaN   \n",
       "\n",
       "   Purchase  Efficiency  \n",
       "0      8370           1  \n",
       "1     15200           3  \n",
       "2      1422           1  \n",
       "3      1057           2  \n",
       "4      7969           1  "
      ]
     },
     "execution_count": 28,
     "metadata": {},
     "output_type": "execute_result"
    }
   ],
   "source": [
    "learn_df['Efficiency'] = 3 - learn_df.iloc[:,[8, 9, 10]].isnull().sum(axis = 1)\n",
    "learn_df.head()"
   ]
  },
  {
   "cell_type": "code",
   "execution_count": 29,
   "metadata": {},
   "outputs": [
    {
     "data": {
      "text/plain": [
       "<bound method Series.count of 0          3\n",
       "1          1\n",
       "2         12\n",
       "3         12\n",
       "4          8\n",
       "          ..\n",
       "550063    20\n",
       "550064    20\n",
       "550065    20\n",
       "550066    20\n",
       "550067    20\n",
       "Name: Product_Category_1, Length: 550068, dtype: int64>"
      ]
     },
     "execution_count": 29,
     "metadata": {},
     "output_type": "execute_result"
    }
   ],
   "source": [
    "learn_df.Product_Category_1.count"
   ]
  },
  {
   "cell_type": "code",
   "execution_count": 30,
   "metadata": {},
   "outputs": [
    {
     "data": {
      "text/plain": [
       "<matplotlib.axes._subplots.AxesSubplot at 0x15c065f2700>"
      ]
     },
     "execution_count": 30,
     "metadata": {},
     "output_type": "execute_result"
    },
    {
     "data": {
      "image/png": "[encoded data removed]",
      "text/plain": [
       "<Figure size 921.6x633.6 with 1 Axes>"
      ]
     },
     "metadata": {},
     "output_type": "display_data"
    }
   ],
   "source": [
    "sns.countplot(x= 'Product_Category_1', data= learn_df)"
   ]
  },
  {
   "cell_type": "code",
   "execution_count": 31,
   "metadata": {},
   "outputs": [],
   "source": [
    "# dic1 = []\n",
    "# for i in user_df.Product_Category_1.unique():\n",
    "#     dic1.append([i,len(user_df[user_df.Product_Category_1 == i])])\n",
    "# for key, value in sorted(dic1, key= lambda x: x[1], reverse=True):\n",
    "#     print(key , ' - ' , value)"
   ]
  },
  {
   "cell_type": "code",
   "execution_count": null,
   "metadata": {},
   "outputs": [],
   "source": []
  },
  {
   "cell_type": "code",
   "execution_count": 32,
   "metadata": {},
   "outputs": [],
   "source": [
    "# sns.countplot(x = 'Product_Category_2', data= user_df)"
   ]
  },
  {
   "cell_type": "code",
   "execution_count": 33,
   "metadata": {},
   "outputs": [],
   "source": [
    "# sns.countplot(x='Product_Category_3', data=user_df)"
   ]
  },
  {
   "cell_type": "code",
   "execution_count": 34,
   "metadata": {},
   "outputs": [],
   "source": [
    "def preprocessing_train(data_frame:pd.DataFrame):\n",
    "    df = data_frame.copy()\n",
    "    df['Efficiency'] = 3 - df.iloc[:,[8, 9, 10]].isnull().sum(axis = 1)\n",
    "    df.Product_Category_1 = df.Product_Category_1.fillna(0)\n",
    "    df.Product_Category_2 = df.Product_Category_2.fillna(0)\n",
    "    df.Product_Category_3 = df.Product_Category_3.fillna(0)\n",
    "    \n",
    "    le = LabelEncoder()\n",
    "    ss = StandardScaler()\n",
    "\n",
    "    df.Gender = le.fit_transform(df.Gender)\n",
    "    df.City_Category = le.fit(['C', 'B', 'A']).transform(df.City_Category)\n",
    "    df.Age = le.fit(['55+', '0-17', '51-55', '46-50', '18-25', '36-45', '26-35']).transform(df.Age)\n",
    "    df.Years_in_city = le.fit(['0', '1', '2', '3', '4+']).transform(df.Years_in_city)\n",
    "    df.Occupation = le.fit([13, 10, 9, 17, 12, 1, 6, 7, 11, 15, 8, 14, 4, 18, 0, 2, 3, 16, 5, 19, 20]).transform(df.Occupation)\n",
    "#     X = df.iloc[:, [2,3,4,5,6,7,12]]\n",
    "    X = df.iloc[:, [2,3,4,5,6,7]]\n",
    "\n",
    "    y = df.iloc[:, 11]\n",
    "    return X, y\n",
    "def preprocessing_test(data_frame:pd.DataFrame):\n",
    "    df = data_frame.copy()\n",
    "    df['Efficiency'] = 3 - df.iloc[:,[8, 9, 10]].isnull().sum(axis = 1)\n",
    "    df.Product_Category_1 = df.Product_Category_1.fillna(0)\n",
    "    df.Product_Category_2 = df.Product_Category_2.fillna(0)\n",
    "    df.Product_Category_3 = df.Product_Category_3.fillna(0)\n",
    "    \n",
    "    le = LabelEncoder()\n",
    "    ss = StandardScaler()\n",
    "\n",
    "    df.Gender = le.fit_transform(df.Gender)\n",
    "    df.City_Category = le.fit(['C', 'B', 'A']).transform(df.City_Category)\n",
    "    df.Age = le.fit(['55+', '0-17', '51-55', '46-50', '18-25', '36-45', '26-35']).transform(df.Age)\n",
    "    df.Years_in_city = le.fit(['0', '1', '2', '3', '4+']).transform(df.Years_in_city)\n",
    "    df.Occupation = le.fit([13, 10, 9, 17, 12, 1, 6, 7, 11, 15, 8, 14, 4, 18, 0, 2, 3, 16, 5, 19, 20]).transform(df.Occupation)\n",
    "#     X = df.iloc[:, [2,3,4,5,6,7,11]]\n",
    "    X = df.iloc[:, [2,3,4,5,6,7]]\n",
    "#     y = df.iloc[:, 11]\n",
    "    return X    "
   ]
  },
  {
   "cell_type": "code",
   "execution_count": 35,
   "metadata": {},
   "outputs": [],
   "source": [
    "def preprocessing_test(data_frame:pd.DataFrame):\n",
    "    df = data_frame.copy()\n",
    "    df['Efficiency'] = 3 - df.iloc[:,[8, 9, 10]].isnull().sum(axis = 1)\n",
    "    df.Product_Category_1 = df.Product_Category_1.fillna(0)\n",
    "    df.Product_Category_2 = df.Product_Category_2.fillna(0)\n",
    "    df.Product_Category_3 = df.Product_Category_3.fillna(0)\n",
    "    \n",
    "    le = LabelEncoder()\n",
    "    ss = StandardScaler()\n",
    "\n",
    "    df.Gender = le.fit_transform(df.Gender)\n",
    "    df.City_Category = le.fit(['C', 'B', 'A']).transform(df.City_Category)\n",
    "    df.Age = le.fit(['55+', '0-17', '51-55', '46-50', '18-25', '36-45', '26-35']).transform(df.Age)\n",
    "    df.Years_in_city = le.fit(['0', '1', '2', '3', '4+']).transform(df.Years_in_city)\n",
    "    df.Occupation = le.fit([13, 10, 9, 17, 12, 1, 6, 7, 11, 15, 8, 14, 4, 18, 0, 2, 3, 16, 5, 19, 20]).transform(df.Occupation)\n",
    "#     X = df.iloc[:, [2,3,4,5,6,7,11]]\n",
    "    X = df.iloc[:, [2,3,4,5,6,7]]\n",
    "#     y = df.iloc[:, 11]\n",
    "    return X"
   ]
  },
  {
   "cell_type": "markdown",
   "metadata": {},
   "source": [
    "**Modelling**"
   ]
  },
  {
   "cell_type": "code",
   "execution_count": 36,
   "metadata": {},
   "outputs": [],
   "source": [
    "from sklearn.preprocessing import StandardScaler, LabelEncoder, MinMaxScaler\n",
    "from sklearn.linear_model import LinearRegression\n",
    "from sklearn.metrics import mean_squared_error, f1_score\n",
    "import math"
   ]
  },
  {
   "cell_type": "code",
   "execution_count": 37,
   "metadata": {},
   "outputs": [],
   "source": [
    "le = LabelEncoder()\n",
    "ss = StandardScaler()"
   ]
  },
  {
   "cell_type": "code",
   "execution_count": 38,
   "metadata": {
    "scrolled": true
   },
   "outputs": [
    {
     "data": {
      "text/plain": [
       "(   Gender  Age  Occupation  City_Category  Years_in_city  Marital_Status\n",
       " 0       0    0          10              0              2               0\n",
       " 1       0    0          10              0              2               0\n",
       " 2       0    0          10              0              2               0\n",
       " 3       0    0          10              0              2               0\n",
       " 4       1    6          16              2              4               0,\n",
       " 0     8370\n",
       " 1    15200\n",
       " 2     1422\n",
       " 3     1057\n",
       " 4     7969\n",
       " Name: Purchase, dtype: int64)"
      ]
     },
     "execution_count": 38,
     "metadata": {},
     "output_type": "execute_result"
    }
   ],
   "source": [
    "learn_df = df.copy()\n",
    "X, y = preprocessing_train(learn_df)\n",
    "X.head(), y.head()"
   ]
  },
  {
   "cell_type": "code",
   "execution_count": 40,
   "metadata": {
    "scrolled": true
   },
   "outputs": [
    {
     "data": {
      "text/html": [
       "<div>\n",
       "<style scoped>\n",
       "    .dataframe tbody tr th:only-of-type {\n",
       "        vertical-align: middle;\n",
       "    }\n",
       "\n",
       "    .dataframe tbody tr th {\n",
       "        vertical-align: top;\n",
       "    }\n",
       "\n",
       "    .dataframe thead th {\n",
       "        text-align: right;\n",
       "    }\n",
       "</style>\n",
       "<table border=\"1\" class=\"dataframe\">\n",
       "  <thead>\n",
       "    <tr style=\"text-align: right;\">\n",
       "      <th></th>\n",
       "      <th>User_ID</th>\n",
       "      <th>Product_ID</th>\n",
       "      <th>Gender</th>\n",
       "      <th>Age</th>\n",
       "      <th>Occupation</th>\n",
       "      <th>City_Category</th>\n",
       "      <th>Years_in_city</th>\n",
       "      <th>Marital_Status</th>\n",
       "      <th>Product_Category_1</th>\n",
       "      <th>Product_Category_2</th>\n",
       "      <th>Product_Category_3</th>\n",
       "      <th>Purchase</th>\n",
       "    </tr>\n",
       "  </thead>\n",
       "  <tbody>\n",
       "    <tr>\n",
       "      <th>0</th>\n",
       "      <td>1000001</td>\n",
       "      <td>P00069042</td>\n",
       "      <td>F</td>\n",
       "      <td>0-17</td>\n",
       "      <td>10</td>\n",
       "      <td>A</td>\n",
       "      <td>2</td>\n",
       "      <td>0</td>\n",
       "      <td>3</td>\n",
       "      <td>0.0</td>\n",
       "      <td>0.0</td>\n",
       "      <td>8370</td>\n",
       "    </tr>\n",
       "    <tr>\n",
       "      <th>1</th>\n",
       "      <td>1000001</td>\n",
       "      <td>P00248942</td>\n",
       "      <td>F</td>\n",
       "      <td>0-17</td>\n",
       "      <td>10</td>\n",
       "      <td>A</td>\n",
       "      <td>2</td>\n",
       "      <td>0</td>\n",
       "      <td>1</td>\n",
       "      <td>6.0</td>\n",
       "      <td>14.0</td>\n",
       "      <td>15200</td>\n",
       "    </tr>\n",
       "    <tr>\n",
       "      <th>2</th>\n",
       "      <td>1000001</td>\n",
       "      <td>P00087842</td>\n",
       "      <td>F</td>\n",
       "      <td>0-17</td>\n",
       "      <td>10</td>\n",
       "      <td>A</td>\n",
       "      <td>2</td>\n",
       "      <td>0</td>\n",
       "      <td>12</td>\n",
       "      <td>0.0</td>\n",
       "      <td>0.0</td>\n",
       "      <td>1422</td>\n",
       "    </tr>\n",
       "    <tr>\n",
       "      <th>3</th>\n",
       "      <td>1000001</td>\n",
       "      <td>P00085442</td>\n",
       "      <td>F</td>\n",
       "      <td>0-17</td>\n",
       "      <td>10</td>\n",
       "      <td>A</td>\n",
       "      <td>2</td>\n",
       "      <td>0</td>\n",
       "      <td>12</td>\n",
       "      <td>14.0</td>\n",
       "      <td>0.0</td>\n",
       "      <td>1057</td>\n",
       "    </tr>\n",
       "    <tr>\n",
       "      <th>4</th>\n",
       "      <td>1000002</td>\n",
       "      <td>P00285442</td>\n",
       "      <td>M</td>\n",
       "      <td>55+</td>\n",
       "      <td>16</td>\n",
       "      <td>C</td>\n",
       "      <td>4+</td>\n",
       "      <td>0</td>\n",
       "      <td>8</td>\n",
       "      <td>0.0</td>\n",
       "      <td>0.0</td>\n",
       "      <td>7969</td>\n",
       "    </tr>\n",
       "    <tr>\n",
       "      <th>5</th>\n",
       "      <td>1000003</td>\n",
       "      <td>P00193542</td>\n",
       "      <td>M</td>\n",
       "      <td>26-35</td>\n",
       "      <td>15</td>\n",
       "      <td>A</td>\n",
       "      <td>3</td>\n",
       "      <td>0</td>\n",
       "      <td>1</td>\n",
       "      <td>2.0</td>\n",
       "      <td>0.0</td>\n",
       "      <td>15227</td>\n",
       "    </tr>\n",
       "  </tbody>\n",
       "</table>\n",
       "</div>"
      ],
      "text/plain": [
       "   User_ID Product_ID Gender    Age  Occupation City_Category Years_in_city  \\\n",
       "0  1000001  P00069042      F   0-17          10             A             2   \n",
       "1  1000001  P00248942      F   0-17          10             A             2   \n",
       "2  1000001  P00087842      F   0-17          10             A             2   \n",
       "3  1000001  P00085442      F   0-17          10             A             2   \n",
       "4  1000002  P00285442      M    55+          16             C            4+   \n",
       "5  1000003  P00193542      M  26-35          15             A             3   \n",
       "\n",
       "   Marital_Status  Product_Category_1  Product_Category_2  Product_Category_3  \\\n",
       "0               0                   3                 0.0                 0.0   \n",
       "1               0                   1                 6.0                14.0   \n",
       "2               0                  12                 0.0                 0.0   \n",
       "3               0                  12                14.0                 0.0   \n",
       "4               0                   8                 0.0                 0.0   \n",
       "5               0                   1                 2.0                 0.0   \n",
       "\n",
       "   Purchase  \n",
       "0      8370  \n",
       "1     15200  \n",
       "2      1422  \n",
       "3      1057  \n",
       "4      7969  \n",
       "5     15227  "
      ]
     },
     "execution_count": 40,
     "metadata": {},
     "output_type": "execute_result"
    }
   ],
   "source": [
    "learn_df.head(6)"
   ]
  },
  {
   "cell_type": "markdown",
   "metadata": {},
   "source": [
    "Age order: ['55+', '0-17', '51-55', '46-50', '18-25', '36-45', '26-35']"
   ]
  },
  {
   "cell_type": "code",
   "execution_count": null,
   "metadata": {},
   "outputs": [],
   "source": [
    "# df_copy = df.copy()\n",
    "# age_label = le.fit(['0-17', '18-25', '26-35', '36-45', '46-50', '51-55', '55+'])\n",
    "# df_copy.Age = age_label.transform(df_copy.Age)"
   ]
  },
  {
   "cell_type": "code",
   "execution_count": null,
   "metadata": {},
   "outputs": [],
   "source": [
    "# df_copy.Gender = le.fit_transform(df_copy.Gender)\n",
    "# city_label = le.fit(['C', 'B', 'A'])\n",
    "# df_copy.City_Category = city_label.transform(df_copy.City_Category)\n",
    "# year_label = le.fit(['0', '1', '2', '3', '4+'])\n",
    "# df_copy.Years_in_city = year_label.transform(df_copy.Years_in_city)"
   ]
  },
  {
   "cell_type": "code",
   "execution_count": null,
   "metadata": {},
   "outputs": [],
   "source": [
    "# df_copy.head()"
   ]
  },
  {
   "cell_type": "code",
   "execution_count": null,
   "metadata": {},
   "outputs": [],
   "source": [
    "# df_copy.info()"
   ]
  },
  {
   "cell_type": "code",
   "execution_count": null,
   "metadata": {},
   "outputs": [],
   "source": [
    "# df_copy = df_copy.sort_values(by=['Product_Category_1', 'Product_Category_2', 'Product_Category_3'], ascending=[False, False, False])\n",
    "# display(df_copy.head(4))"
   ]
  },
  {
   "cell_type": "code",
   "execution_count": null,
   "metadata": {},
   "outputs": [],
   "source": [
    "# df_copy.Product_ID = le.fit_transform(df_copy.Product_ID)\n",
    "# df_copy.head(4)"
   ]
  },
  {
   "cell_type": "code",
   "execution_count": null,
   "metadata": {},
   "outputs": [],
   "source": [
    "# num_product = df.Product_ID.unique()\n",
    "# print(\"number of products:\", len(num_product))"
   ]
  },
  {
   "cell_type": "code",
   "execution_count": null,
   "metadata": {
    "scrolled": true
   },
   "outputs": [],
   "source": [
    "# print(\"maximum items that was bought by 1 user:\", max(a2), \n",
    "#       \"\\nminimum items that was bought by 1 user:\", min(a2))"
   ]
  },
  {
   "cell_type": "code",
   "execution_count": null,
   "metadata": {},
   "outputs": [],
   "source": []
  },
  {
   "cell_type": "markdown",
   "metadata": {},
   "source": [
    "## Simple linear regression"
   ]
  },
  {
   "cell_type": "code",
   "execution_count": null,
   "metadata": {},
   "outputs": [],
   "source": [
    "from sklearn.model_selection import train_test_split"
   ]
  },
  {
   "cell_type": "code",
   "execution_count": null,
   "metadata": {},
   "outputs": [],
   "source": [
    "# test: \n",
    "X_train, X_test, y_train, y_test = train_test_split(X, y, test_size=0.25, random_state=43)\n",
    "model = LinearRegression().fit(X_train, y_train)\n",
    "y_pred = model.predict(X_test)"
   ]
  },
  {
   "cell_type": "code",
   "execution_count": null,
   "metadata": {
    "scrolled": false
   },
   "outputs": [],
   "source": [
    "# Imoprt test.csv\n",
    "test_df = pd.read_csv('test.csv')\n",
    "test_df = test_df.rename(columns={\"Stay_In_Current_City_Years\":\"Years_in_city\"})\n",
    "test_df.info()"
   ]
  },
  {
   "cell_type": "code",
   "execution_count": null,
   "metadata": {},
   "outputs": [],
   "source": [
    "X, y = preprocessing_train(learn_df)\n",
    "X_test = preprocessing_test(test_df)"
   ]
  },
  {
   "cell_type": "code",
   "execution_count": null,
   "metadata": {},
   "outputs": [],
   "source": [
    "#test \n",
    "model = LinearRegression()\n",
    "model.fit(X, y)\n",
    "y_pred = model.predict(X)"
   ]
  },
  {
   "cell_type": "code",
   "execution_count": null,
   "metadata": {},
   "outputs": [],
   "source": [
    "#test\n",
    "print(math.sqrt(mean_squared_error(y_pred, y)))"
   ]
  },
  {
   "cell_type": "code",
   "execution_count": null,
   "metadata": {},
   "outputs": [],
   "source": [
    "from sklearn.model_selection import train_test_split"
   ]
  },
  {
   "cell_type": "code",
   "execution_count": null,
   "metadata": {},
   "outputs": [],
   "source": [
    "X_train, X_test, y_train, y_test = train_test_split(df_copy.iloc[:,:-1], df_copy.iloc[:,-1], test_size=0.25, random_state=3)\n",
    "model = LinearRegression().fit(X_train, y_train)\n",
    "y_pred = model.predict(X_test)"
   ]
  },
  {
   "cell_type": "code",
   "execution_count": null,
   "metadata": {
    "scrolled": true
   },
   "outputs": [],
   "source": [
    "print(math.sqrt(mean_squared_error(y_pred, y_test)))"
   ]
  },
  {
   "cell_type": "code",
   "execution_count": null,
   "metadata": {},
   "outputs": [],
   "source": [
    "#test\n",
    "X_test = preprocessing_test(test_df)\n",
    "y_test_pred = model.predict(X_test)\n",
    "y_test_pred"
   ]
  },
  {
   "cell_type": "code",
   "execution_count": null,
   "metadata": {},
   "outputs": [],
   "source": [
    "submit_df = pd.DataFrame()\n",
    "submit_df[\"Purchase\"] = y_test_pred\n",
    "submit_df[\"User_ID\"] = test_df.loc[:, \"User_ID\"]\n",
    "submit_df['Product_ID'] = test_df.loc[:, \"Product_ID\"]\n",
    "submit_df.to_csv(path_or_buf= 'out.csv', index = False)"
   ]
  },
  {
   "cell_type": "markdown",
   "metadata": {},
   "source": [
    "## Polynomial Regression\n"
   ]
  },
  {
   "cell_type": "code",
   "execution_count": null,
   "metadata": {},
   "outputs": [],
   "source": [
    "from sklearn.preprocessing import PolynomialFeatures"
   ]
  },
  {
   "cell_type": "code",
   "execution_count": null,
   "metadata": {},
   "outputs": [],
   "source": [
    "poly = PolynomialFeatures(degree = 3)\n",
    "X_train, X_test, y_train, y_test = train_test_split(X, y, test_size=0.25, random_state=42)\n",
    "poly_X_train = poly.fit_transform(X_train)\n",
    "poly_X_test = poly.fit_transform(X_test)"
   ]
  },
  {
   "cell_type": "code",
   "execution_count": null,
   "metadata": {},
   "outputs": [],
   "source": [
    "trans_ = LinearRegression().fit(poly_X_train, y_train)\n",
    "y_pred = trans_.predict(poly.fit_transform(X_test))\n",
    "print(math.sqrt(mean_squared_error(y_pred, y_test)))"
   ]
  },
  {
   "cell_type": "code",
   "execution_count": null,
   "metadata": {},
   "outputs": [],
   "source": [
    "poly_X = poly.fit_transform(X_test)"
   ]
  },
  {
   "cell_type": "code",
   "execution_count": null,
   "metadata": {},
   "outputs": [],
   "source": [
    "y_pred = trans_.predict(poly_X)\n",
    "y_pred"
   ]
  },
  {
   "cell_type": "code",
   "execution_count": null,
   "metadata": {},
   "outputs": [],
   "source": [
    "# Output, need change name\n",
    "submit_df = pd.DataFrame()\n",
    "submit_df[\"Purchase\"] = y_pred\n",
    "submit_df[\"User_ID\"] = test_df.loc[:, \"User_ID\"]\n",
    "submit_df['Product_ID'] = test_df.loc[:, \"Product_ID\"]\n",
    "submit_df.to_csv(path_or_buf= 'out2.csv', index = False)"
   ]
  },
  {
   "cell_type": "markdown",
   "metadata": {},
   "source": [
    "### Analysis on Test Data "
   ]
  },
  {
   "cell_type": "code",
   "execution_count": null,
   "metadata": {},
   "outputs": [],
   "source": [
    "train_df = user_df.copy()"
   ]
  },
  {
   "cell_type": "code",
   "execution_count": null,
   "metadata": {},
   "outputs": [],
   "source": [
    "test_df.head()"
   ]
  },
  {
   "cell_type": "code",
   "execution_count": null,
   "metadata": {},
   "outputs": [],
   "source": [
    "top_user = list(train_df.sort_values(by=\"Total_Purchase\", ignore_index=False, ascending=True).User_ID.unique())\n",
    "print(top_user)"
   ]
  },
  {
   "cell_type": "code",
   "execution_count": null,
   "metadata": {},
   "outputs": [],
   "source": [
    "user_df.head()"
   ]
  },
  {
   "cell_type": "code",
   "execution_count": null,
   "metadata": {},
   "outputs": [],
   "source": [
    "len(user_df.User_ID.unique()) - len(test_df.User_ID.unique())"
   ]
  },
  {
   "cell_type": "code",
   "execution_count": null,
   "metadata": {},
   "outputs": [],
   "source": [
    "# test preprocess for analysis \n",
    "def preprocessing_train(data_frame:pd.DataFrame):\n",
    "    df = data_frame.copy()\n",
    "    df['Efficiency'] = 3 - df.iloc[:,[8, 9, 10]].isnull().sum(axis = 1)\n",
    "    df.Product_Category_1 = df.Product_Category_1.fillna(0)\n",
    "    df.Product_Category_2 = df.Product_Category_2.fillna(0)\n",
    "    df.Product_Category_3 = df.Product_Category_3.fillna(0)\n",
    "    \n",
    "    le = LabelEncoder()\n",
    "    ss = StandardScaler()\n",
    "\n",
    "    df.Gender = le.fit_transform(df.Gender)\n",
    "    df.City_Category = le.fit(['C', 'B', 'A']).transform(df.City_Category)\n",
    "    df.Age = le.fit(['55+', '0-17', '51-55', '46-50', '18-25', '36-45', '26-35']).transform(df.Age)\n",
    "    df.Years_in_city = le.fit(['0', '1', '2', '3', '4+']).transform(df.Years_in_city)\n",
    "    df.Occupation = le.fit([13, 10, 9, 17, 12, 1, 6, 7, 11, 15, 8, 14, 4, 18, 0, 2, 3, 16, 5, 19, 20]).transform(df.Occupation)\n",
    "    df.User_ID = le.fit(top_user).transform(df.User_ID)\n",
    "    #     X = df.iloc[:, [2,3,4,5,6,7,12]]\n",
    "    X = df.iloc[:, [0, 2,3,4,5,6,7,8,9,10, 12]]\n",
    "\n",
    "    y = df.iloc[:, 11]\n",
    "    return X, y\n",
    "def preprocessing_test(data_frame:pd.DataFrame):\n",
    "    df = data_frame.copy()\n",
    "    df['Efficiency'] = 3 - df.iloc[:,[8, 9, 10]].isnull().sum(axis = 1)\n",
    "    df.Product_Category_1 = df.Product_Category_1.fillna(0)\n",
    "    df.Product_Category_2 = df.Product_Category_2.fillna(0)\n",
    "    df.Product_Category_3 = df.Product_Category_3.fillna(0)\n",
    "    \n",
    "    le = LabelEncoder()\n",
    "    ss = StandardScaler()\n",
    "    \n",
    "    df.User_ID = le.fit(top_user).transform(df.User_ID)\n",
    "    df.Gender = le.fit_transform(df.Gender)\n",
    "    df.City_Category = le.fit(['C', 'B', 'A']).transform(df.City_Category)\n",
    "    df.Age = le.fit(['55+', '0-17', '51-55', '46-50', '18-25', '36-45', '26-35']).transform(df.Age)\n",
    "    df.Years_in_city = le.fit(['0', '1', '2', '3', '4+']).transform(df.Years_in_city)\n",
    "    df.Occupation = le.fit([13, 10, 9, 17, 12, 1, 6, 7, 11, 15, 8, 14, 4, 18, 0, 2, 3, 16, 5, 19, 20]).transform(df.Occupation)\n",
    "#     X = df.iloc[:, [2,3,4,5,6,7,11]]\n",
    "    X = df.iloc[:, [0, 2, 3, 4, 5, 6, 7, 8,9,10,11]]\n",
    "#     y = df.iloc[:, 11]\n",
    "    return X"
   ]
  },
  {
   "cell_type": "code",
   "execution_count": null,
   "metadata": {},
   "outputs": [],
   "source": [
    "X, y = preprocessing_train(learn_df)\n",
    "testX = preprocessing_test(test_df)\n"
   ]
  },
  {
   "cell_type": "code",
   "execution_count": null,
   "metadata": {},
   "outputs": [],
   "source": [
    "X_train, X_test, y_train, y_test = train_test_split(X, y, test_size=0.15, random_state=43)\n",
    "model = LinearRegression().fit(X_train, y_train)\n",
    "y_pred = model.predict(X_test)"
   ]
  },
  {
   "cell_type": "code",
   "execution_count": null,
   "metadata": {},
   "outputs": [],
   "source": [
    "print(math.sqrt(mean_squared_error(y_pred, y_test)))"
   ]
  },
  {
   "cell_type": "code",
   "execution_count": null,
   "metadata": {},
   "outputs": [],
   "source": [
    "submit_y = model.predict(testX)"
   ]
  },
  {
   "cell_type": "code",
   "execution_count": null,
   "metadata": {},
   "outputs": [],
   "source": [
    "submit_df = pd.DataFrame()\n",
    "submit_df[\"Purchase\"] = submit_y\n",
    "submit_df[\"User_ID\"] = test_df.loc[:, \"User_ID\"]\n",
    "submit_df['Product_ID'] = test_df.loc[:, \"Product_ID\"]\n",
    "submit_df.to_csv(path_or_buf= 'out.csv', index = False)"
   ]
  },
  {
   "cell_type": "code",
   "execution_count": null,
   "metadata": {},
   "outputs": [],
   "source": [
    "df.head()"
   ]
  },
  {
   "cell_type": "markdown",
   "metadata": {},
   "source": [
    "#### Product analysis\n"
   ]
  },
  {
   "cell_type": "code",
   "execution_count": null,
   "metadata": {},
   "outputs": [],
   "source": [
    "product_df = df.iloc[:, [0, 1, 8, 9, 10, 11]]\n",
    "product_df.head()"
   ]
  },
  {
   "cell_type": "code",
   "execution_count": null,
   "metadata": {},
   "outputs": [],
   "source": [
    "product_df.info()"
   ]
  },
  {
   "cell_type": "code",
   "execution_count": null,
   "metadata": {},
   "outputs": [],
   "source": [
    "train_product = product_df.iloc[:, 0]\n",
    "u_train_product = train_product.unique()\n",
    "print(\"number of distinct products in train data:\", len(u_train_product))\n",
    "print(\"number of duplicated products in train data:\", product_df[product_df.duplicated()].shape[0])"
   ]
  },
  {
   "cell_type": "code",
   "execution_count": null,
   "metadata": {},
   "outputs": [],
   "source": [
    "test_product = test_df.iloc[:, 1]\n",
    "u_test_product = test_product.unique()\n",
    "print(\"number of distinct products in test data:\", len(u_test_product))\n",
    "print(\"number of duplicated product in test data:\", test_product[test_product.duplicated()].shape[0])"
   ]
  },
  {
   "cell_type": "code",
   "execution_count": null,
   "metadata": {},
   "outputs": [],
   "source": [
    "# res = u_train_product[~u_train_product.isin(u_test_product)]\n",
    "# len(res)\n",
    "in_train_but_test = np.isin(u_train_product,u_test_product, invert=True)\n",
    "print(\"number of products in train data but not in test data:\", len(u_train_product[in_train_but_test]))\n",
    "in_test_but_train = np.isin(u_test_product, u_train_product, invert=True)\n",
    "print(\"number of products in test data but not in train data:\", len(u_test_product[in_test_but_train]))"
   ]
  },
  {
   "cell_type": "code",
   "execution_count": null,
   "metadata": {
    "scrolled": true
   },
   "outputs": [],
   "source": [
    "print(sorted(u_test_product[in_test_but_train])[0:2])\n",
    "print(\"product P00012642 in train data:\")\n",
    "(product_df[product_df.Product_ID == 'P00012642'])"
   ]
  },
  {
   "cell_type": "code",
   "execution_count": null,
   "metadata": {
    "scrolled": false
   },
   "outputs": [],
   "source": [
    "new_products = test_df.loc[test_df.Product_ID.isin(list(u_test_product[in_test_but_train]))]\n",
    "new_products.head()"
   ]
  },
  {
   "cell_type": "code",
   "execution_count": null,
   "metadata": {},
   "outputs": [],
   "source": [
    "# a = product_df[(product_df.Product_Category_1 == 5) & (product_df.Product_Category_2 == 8) & (product_df.Product_Category_3 == 18)]\n",
    "# print(len(a))\n",
    "# a.drop_duplicates()\n",
    "# print(len(a))"
   ]
  },
  {
   "cell_type": "code",
   "execution_count": null,
   "metadata": {},
   "outputs": [],
   "source": [
    "print(sorted(test_df.Product_Category_1.unique()))\n",
    "print(sorted(test_df.Product_Category_2.unique()))\n",
    "print(sorted(test_df.Product_Category_3.unique()))\n"
   ]
  },
  {
   "cell_type": "code",
   "execution_count": null,
   "metadata": {},
   "outputs": [],
   "source": [
    "len(product_df.Product_ID.unique())"
   ]
  },
  {
   "cell_type": "code",
   "execution_count": null,
   "metadata": {
    "scrolled": false
   },
   "outputs": [],
   "source": [
    "product_df.head(), product_df.info()"
   ]
  },
  {
   "cell_type": "code",
   "execution_count": null,
   "metadata": {},
   "outputs": [],
   "source": [
    "test = product_df.copy()\n",
    "test = test.groupby(by= \"Product_ID\", as_index= False).agg(({'Purchase': 'sum'}))\n",
    "test.head(), test.info()"
   ]
  },
  {
   "cell_type": "code",
   "execution_count": null,
   "metadata": {},
   "outputs": [],
   "source": []
  },
  {
   "cell_type": "code",
   "execution_count": null,
   "metadata": {},
   "outputs": [],
   "source": []
  }
 ],
 "metadata": {
  "kernelspec": {
   "display_name": "Python 3",
   "language": "python",
   "name": "python3"
  },
  "language_info": {
   "codemirror_mode": {
    "name": "ipython",
    "version": 3
   },
   "file_extension": ".py",
   "mimetype": "text/x-python",
   "name": "python",
   "nbconvert_exporter": "python",
   "pygments_lexer": "ipython3",
   "version": "3.8.2"
  }
 },
 "nbformat": 4,
 "nbformat_minor": 4
}
