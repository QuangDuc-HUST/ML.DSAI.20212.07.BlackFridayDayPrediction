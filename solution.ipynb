{
 "cells": [
  {
   "cell_type": "code",
   "execution_count": 1,
   "metadata": {},
   "outputs": [],
   "source": [
    "import os\n",
    "import numpy as np\n",
    "import pandas as pd\n",
    "from sklearn.model_selection import train_test_split\n",
    "from sklearn.preprocessing import LabelEncoder\n",
    "from sklearn.metrics import mean_squared_error\n",
    "from sklearn.linear_model import LogisticRegression\n",
    "from sklearn.ensemble import RandomForestRegressor\n",
    "from sklearn.neighbors import KNeighborsRegressor\n",
    "import math"
   ]
  },
  {
   "cell_type": "code",
   "execution_count": 2,
   "metadata": {},
   "outputs": [],
   "source": [
    "train_df = pd.read_csv(os.path.join('E:/', 'Datahack', 'train_oSwQCTC', 'train.csv'))\n",
    "#sample_df = pd.read_csv(os.path.join('E:/', 'DataHack', 'sample_submission_V9Inaty.csv'))\n",
    "#print(train_df.info())\n",
    "#print(train_df.head(5))\n",
    "train = train_df.drop(['Product_Category_2', 'Product_Category_3', 'Purchase'], axis = 1)\n",
    "#print(train.isna().sum())\n",
    "y = train_df['Purchase']\n",
    "lb_maker = LabelEncoder()\n",
    "train['Gender'] = lb_maker.fit_transform(train['Gender'])\n",
    "train['Age'] = lb_maker.fit_transform(train['Age'])\n",
    "train['City_Category'] = lb_maker.fit_transform(train['City_Category'])\n",
    "train['Product_ID'] = lb_maker.fit_transform(train['Product_ID'])\n",
    "train['Stay_In_Current_City_Years'] = lb_maker.fit_transform(train['Stay_In_Current_City_Years'])\n",
    "X_train , X_valid , y_train , y_valid = train_test_split(train, y, test_size=0.2)\n"
   ]
  },
  {
   "cell_type": "code",
   "execution_count": 13,
   "metadata": {},
   "outputs": [
    {
     "name": "stdout",
     "output_type": "stream",
     "text": [
      "1027.2608955465237\n",
      "2739.280566377327\n"
     ]
    }
   ],
   "source": [
    "model1 = RandomForestRegressor()\n",
    "model1.fit(X_train, y_train)\n",
    "print(math.sqrt(mean_squared_error(model1.predict(X_train), y_train)))\n",
    "print(math.sqrt(mean_squared_error(model1.predict(X_valid), y_valid)))"
   ]
  },
  {
   "cell_type": "code",
   "execution_count": 25,
   "metadata": {},
   "outputs": [],
   "source": [
    "from sklearn import svm\n",
    "model2 = svm.SVR()\n",
    "model2.fit(X_train, y_train)\n",
    "print(math.sqrt(mean_squared_error(model2.predict(X_train), y_train)))\n",
    "print(math.sqrt(mean_squared_error(model2.predict(X_valid), y_valid)))"
   ]
  },
  {
   "cell_type": "code",
   "execution_count": 11,
   "metadata": {},
   "outputs": [
    {
     "name": "stdout",
     "output_type": "stream",
     "text": [
      "4677.370406171462\n",
      "4692.37256725979\n"
     ]
    }
   ],
   "source": [
    "from sklearn import linear_model\n",
    "model3 = linear_model.Ridge(alpha=.5)\n",
    "model3.fit(X_train, y_train)\n",
    "print(math.sqrt(mean_squared_error(model3.predict(X_train), y_train)))\n",
    "print(math.sqrt(mean_squared_error(model3.predict(X_valid), y_valid)))"
   ]
  },
  {
   "cell_type": "code",
   "execution_count": 12,
   "metadata": {},
   "outputs": [
    {
     "name": "stdout",
     "output_type": "stream",
     "text": [
      "4677.370406171206\n",
      "4692.372575806186\n"
     ]
    }
   ],
   "source": [
    "from sklearn import linear_model\n",
    "model4 = linear_model.LinearRegression()\n",
    "model4.fit(X_train, y_train)\n",
    "print(math.sqrt(mean_squared_error(model4.predict(X_train), y_train)))\n",
    "print(math.sqrt(mean_squared_error(model4.predict(X_valid), y_valid)))"
   ]
  },
  {
   "cell_type": "code",
   "execution_count": 19,
   "metadata": {},
   "outputs": [
    {
     "name": "stdout",
     "output_type": "stream",
     "text": [
      "1025.2189273853228\n",
      "2728.9574884947833\n"
     ]
    }
   ],
   "source": [
    "train_df['Gender'] = lb_maker.fit_transform(train_df['Gender'])\n",
    "train_df['Age'] = lb_maker.fit_transform(train_df['Age'])\n",
    "train_df['City_Category'] = lb_maker.fit_transform(train_df['City_Category'])\n",
    "train_df['Product_ID'] = lb_maker.fit_transform(train_df['Product_ID'])\n",
    "train_df['Stay_In_Current_City_Years'] = lb_maker.fit_transform(train_df['Stay_In_Current_City_Years'])\n",
    "train_df['Product_Category_2'] = train_df['Product_Category_2'].fillna(method = 'pad').fillna(method = 'bfill')\n",
    "train_df['Product_Category_3'] = train_df['Product_Category_3'].fillna(method = 'pad').fillna(method = 'bfill')\n",
    "y = train_df['Purchase']\n",
    "train_fill = train_df.drop(['Purchase'], axis = 1)\n",
    "X_train , X_valid , y_train , y_valid = train_test_split(train_fill, y, test_size=0.2)\n",
    "model1 = RandomForestRegressor()\n",
    "model1.fit(X_train, y_train)\n",
    "print(math.sqrt(mean_squared_error(model1.predict(X_train), y_train)))\n",
    "print(math.sqrt(mean_squared_error(model1.predict(X_valid), y_valid)))\n",
    "\n",
    "\n",
    "\n",
    " \n"
   ]
  },
  {
   "cell_type": "code",
   "execution_count": 18,
   "metadata": {},
   "outputs": [
    {
     "name": "stdout",
     "output_type": "stream",
     "text": [
      "1022.3198879569725\n",
      "2753.1649546648932\n"
     ]
    }
   ],
   "source": [
    "train_df['Gender'] = lb_maker.fit_transform(train_df['Gender'])\n",
    "train_df['Age'] = lb_maker.fit_transform(train_df['Age'])\n",
    "train_df['City_Category'] = lb_maker.fit_transform(train_df['City_Category'])\n",
    "train_df['Product_ID'] = lb_maker.fit_transform(train_df['Product_ID'])\n",
    "train_df['Stay_In_Current_City_Years'] = lb_maker.fit_transform(train_df['Stay_In_Current_City_Years'])\n",
    "train_df['Product_Category_2'] = train_df['Product_Category_2'].fillna(method = 'bfill').fillna(method = 'pad')\n",
    "train_df['Product_Category_3'] = train_df['Product_Category_3'].fillna(method = 'bfill').fillna(method = 'pad')\n",
    "y = train_df['Purchase']\n",
    "train_fill = train_df.drop(['Purchase'], axis = 1)\n",
    "X_train , X_valid , y_train , y_valid = train_test_split(train_fill, y, test_size=0.2)\n",
    "model1 = RandomForestRegressor()\n",
    "model1.fit(X_train, y_train)\n",
    "print(math.sqrt(mean_squared_error(model1.predict(X_train), y_train)))\n",
    "print(math.sqrt(mean_squared_error(model1.predict(X_valid), y_valid)))"
   ]
  },
  {
   "cell_type": "code",
   "execution_count": 14,
   "metadata": {},
   "outputs": [
    {
     "name": "stdout",
     "output_type": "stream",
     "text": [
      "1023.1219618958007\n",
      "2736.891073476582\n"
     ]
    }
   ],
   "source": [
    "train_df['Gender'] = lb_maker.fit_transform(train_df['Gender'])\n",
    "train_df['Age'] = lb_maker.fit_transform(train_df['Age'])\n",
    "train_df['City_Category'] = lb_maker.fit_transform(train_df['City_Category'])\n",
    "train_df['Product_ID'] = lb_maker.fit_transform(train_df['Product_ID'])\n",
    "train_df['Stay_In_Current_City_Years'] = lb_maker.fit_transform(train_df['Stay_In_Current_City_Years'])\n",
    "train_df['Product_Category_2'] = train_df['Product_Category_2'].fillna(train_df.mean())\n",
    "train_df['Product_Category_3'] = train_df['Product_Category_3'].fillna(train_df.mean())\n",
    "y = train_df['Purchase']\n",
    "train_fill = train_df.drop(['Purchase'], axis = 1)\n",
    "X_train , X_valid , y_train , y_valid = train_test_split(train_fill, y, test_size=0.2)\n",
    "model1 = RandomForestRegressor()\n",
    "model1.fit(X_train, y_train)\n",
    "print(math.sqrt(mean_squared_error(model1.predict(X_train), y_train)))\n",
    "print(math.sqrt(mean_squared_error(model1.predict(X_valid), y_valid)))"
   ]
  },
  {
   "cell_type": "code",
   "execution_count": 6,
   "metadata": {},
   "outputs": [
    {
     "name": "stdout",
     "output_type": "stream",
     "text": [
      "1024.1175270717279\n",
      "2741.3615606632775\n"
     ]
    }
   ],
   "source": [
    "train_df['Gender'] = lb_maker.fit_transform(train_df['Gender'])\n",
    "train_df['Age'] = lb_maker.fit_transform(train_df['Age'])\n",
    "train_df['City_Category'] = lb_maker.fit_transform(train_df['City_Category'])\n",
    "train_df['Product_ID'] = lb_maker.fit_transform(train_df['Product_ID'])\n",
    "train_df['Stay_In_Current_City_Years'] = lb_maker.fit_transform(train_df['Stay_In_Current_City_Years'])\n",
    "train_df['Product_Category_2'] = train_df['Product_Category_2'].fillna(train_df.median())\n",
    "train_df['Product_Category_3'] = train_df['Product_Category_3'].fillna(train_df.median())\n",
    "y = train_df['Purchase']\n",
    "train_fill = train_df.drop(['Purchase'], axis = 1)\n",
    "X_train , X_valid , y_train , y_valid = train_test_split(train_fill, y, test_size=0.2)\n",
    "model1 = RandomForestRegressor()\n",
    "model1.fit(X_train, y_train)\n",
    "print(math.sqrt(mean_squared_error(model1.predict(X_train), y_train)))\n",
    "print(math.sqrt(mean_squared_error(model1.predict(X_valid), y_valid)))"
   ]
  },
  {
   "cell_type": "code",
   "execution_count": 10,
   "metadata": {},
   "outputs": [
    {
     "name": "stdout",
     "output_type": "stream",
     "text": [
      "1022.7406754645817\n",
      "2741.3025910188117\n"
     ]
    }
   ],
   "source": [
    "train_df['Gender'] = lb_maker.fit_transform(train_df['Gender'])\n",
    "train_df['Age'] = lb_maker.fit_transform(train_df['Age'])\n",
    "train_df['City_Category'] = lb_maker.fit_transform(train_df['City_Category'])\n",
    "train_df['Product_ID'] = lb_maker.fit_transform(train_df['Product_ID'])\n",
    "train_df['Stay_In_Current_City_Years'] = lb_maker.fit_transform(train_df['Stay_In_Current_City_Years'])\n",
    "train_df['Product_Category_2'] = train_df['Product_Category_2'].fillna(train_df['Product_Category_2'].mode())\n",
    "train_df['Product_Category_3'] = train_df['Product_Category_3'].fillna(train_df['Product_Category_3'].mode())\n",
    "y = train_df['Purchase']\n",
    "train_fill = train_df.drop(['Purchase'], axis = 1)\n",
    "X_train , X_valid , y_train , y_valid = train_test_split(train_fill, y, test_size=0.2)\n",
    "model1 = RandomForestRegressor()\n",
    "model1.fit(X_train, y_train)\n",
    "print(math.sqrt(mean_squared_error(model1.predict(X_train), y_train)))\n",
    "print(math.sqrt(mean_squared_error(model1.predict(X_valid), y_valid)))"
   ]
  },
  {
   "cell_type": "code",
   "execution_count": 20,
   "metadata": {},
   "outputs": [
    {
     "name": "stdout",
     "output_type": "stream",
     "text": [
      "               0\n",
      "0       10733.34\n",
      "1       10231.97\n",
      "2        4212.31\n",
      "3        2365.18\n",
      "4        2818.52\n",
      "...          ...\n",
      "233594   7395.71\n",
      "233595   4849.69\n",
      "233596   9980.23\n",
      "233597  21786.39\n",
      "233598   2232.73\n",
      "\n",
      "[233599 rows x 1 columns]\n"
     ]
    }
   ],
   "source": [
    "test_df = pd.read_csv(os.path.join('E:/', 'Datahack', 'test_HujdGe7', 'test.csv'))\n",
    "test = test_df.copy()\n",
    "test_df['Gender'] = lb_maker.fit_transform(test_df['Gender'])\n",
    "test_df['Age'] = lb_maker.fit_transform(test_df['Age'])\n",
    "test_df['City_Category'] = lb_maker.fit_transform(test_df['City_Category'])\n",
    "test_df['Product_ID'] = lb_maker.fit_transform(test_df['Product_ID'])\n",
    "test_df['Stay_In_Current_City_Years'] = lb_maker.fit_transform(test_df['Stay_In_Current_City_Years'])\n",
    "test_df['Product_Category_2'] = test_df['Product_Category_2'].fillna(method = 'pad').fillna(method = 'bfill')\n",
    "test_df['Product_Category_3'] = test_df['Product_Category_3'].fillna(method = 'pad').fillna(method = 'bfill')\n",
    "print(pd.DataFrame(model1.predict(test_df)))"
   ]
  },
  {
   "cell_type": "code",
   "execution_count": 21,
   "metadata": {},
   "outputs": [],
   "source": [
    "result = pd.DataFrame(model1.predict(test_df))\n",
    "result.columns = ['Purchase']"
   ]
  },
  {
   "cell_type": "code",
   "execution_count": 22,
   "metadata": {},
   "outputs": [],
   "source": [
    "x = test['User_ID']\n",
    "y = test['Product_ID']\n",
    "pd.concat((result, x, y), axis = 1).to_csv('solution.csv', index = False)"
   ]
  }
 ],
 "metadata": {
  "interpreter": {
   "hash": "f922c17c728efa6f80e40605ced160c17cc1e078f551f58ae362182ac4775dd5"
  },
  "kernelspec": {
   "display_name": "Python 3.10.0 64-bit",
   "language": "python",
   "name": "python3"
  },
  "language_info": {
   "codemirror_mode": {
    "name": "ipython",
    "version": 3
   },
   "file_extension": ".py",
   "mimetype": "text/x-python",
   "name": "python",
   "nbconvert_exporter": "python",
   "pygments_lexer": "ipython3",
   "version": "3.10.0"
  },
  "orig_nbformat": 4
 },
 "nbformat": 4,
 "nbformat_minor": 2
}
