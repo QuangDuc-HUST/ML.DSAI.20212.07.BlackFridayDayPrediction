{
  "cells": [
    {
      "cell_type": "markdown",
      "metadata": {
        "id": "G99jVZF6pPbL"
      },
      "source": [
        "# **Black Friday Sale Predictions - GROUP 07 - DSAI - K65** \n",
        "*Colab Version*"
      ]
    },
    {
      "cell_type": "markdown",
      "metadata": {
        "id": "aSIK3x2u6Uez"
      },
      "source": [
        "## 1.&nbsp;Setup the datasets"
      ]
    },
    {
      "cell_type": "markdown",
      "metadata": {
        "id": "4ifG7tiC7iBy"
      },
      "source": [
        "Download file data .zip from Google Drive"
      ]
    },
    {
      "cell_type": "code",
      "execution_count": null,
      "metadata": {
        "colab": {
          "base_uri": "https://localhost:8080/"
        },
        "id": "SIWqHGHL6MnT",
        "outputId": "f13659b9-d667-46ee-8194-74b39250d102"
      },
      "outputs": [
        {
          "name": "stdout",
          "output_type": "stream",
          "text": [
            "Downloading...\n",
            "From: https://drive.google.com/uc?id=1ch8GFCDyeP3DPJIADOYN1mdHs21x__5T\n",
            "To: /content/BlackFridayDatasets.zip\n",
            "\r  0% 0.00/7.70M [00:00<?, ?B/s]\r 82% 6.29M/7.70M [00:00<00:00, 62.8MB/s]\r100% 7.70M/7.70M [00:00<00:00, 73.9MB/s]\n"
          ]
        }
      ],
      "source": [
        "!gdown 1ch8GFCDyeP3DPJIADOYN1mdHs21x__5T"
      ]
    },
    {
      "cell_type": "markdown",
      "metadata": {
        "id": "JJmEANIr7knR"
      },
      "source": [
        "Unzip the downloaded data file"
      ]
    },
    {
      "cell_type": "code",
      "execution_count": null,
      "metadata": {
        "colab": {
          "base_uri": "https://localhost:8080/"
        },
        "id": "ITvHeR9S7Fb7",
        "outputId": "f67304a7-b219-454f-9f1d-064ed496e9c8"
      },
      "outputs": [
        {
          "name": "stdout",
          "output_type": "stream",
          "text": [
            "Archive:  /content/BlackFridayDatasets.zip\n",
            "  inflating: /content/BlackFridayDatasets/data_description.txt  \n",
            "  inflating: /content/BlackFridayDatasets/test.csv  \n",
            "  inflating: /content/BlackFridayDatasets/train.csv  \n"
          ]
        }
      ],
      "source": [
        "FOLDER_PATH = r'/content/BlackFridayDatasets/'\n",
        "!unzip -o \"/content/BlackFridayDatasets.zip\" -d  $FOLDER_PATH"
      ]
    },
    {
      "cell_type": "markdown",
      "metadata": {
        "id": "RqPvDDMW8EuC"
      },
      "source": [
        "Setup folder path for the training test and test dataset"
      ]
    },
    {
      "cell_type": "code",
      "execution_count": null,
      "metadata": {
        "id": "VYrBq8iBpN18"
      },
      "outputs": [],
      "source": [
        "TRAIN_DATA_PATH = FOLDER_PATH + r'train.csv'\n",
        "TEST_DATA_PATH = FOLDER_PATH + r'test.csv'"
      ]
    },
    {
      "cell_type": "markdown",
      "metadata": {
        "id": "K67DmnFi8HZ3"
      },
      "source": [
        "Check whether we are in the right paths"
      ]
    },
    {
      "cell_type": "code",
      "execution_count": null,
      "metadata": {
        "colab": {
          "base_uri": "https://localhost:8080/"
        },
        "id": "LbQCghio8DPZ",
        "outputId": "e3a8ea1b-48a8-4d2b-abee-bc9a71659ea5"
      },
      "outputs": [
        {
          "name": "stdout",
          "output_type": "stream",
          "text": [
            "All files in folder data are: ['test.csv', 'train.csv', 'data_description.txt']\n",
            "Is exists train file? True\n",
            "Is exists test file? True\n"
          ]
        }
      ],
      "source": [
        "import os \n",
        "print(\"All files in folder data are: \" + str(os.listdir(FOLDER_PATH)))\n",
        "print(\"Is exists train file? \" + str(os.path.exists(TRAIN_DATA_PATH)))\n",
        "print(\"Is exists test file? \" + str(os.path.exists(TEST_DATA_PATH)))"
      ]
    },
    {
      "cell_type": "markdown",
      "metadata": {
        "id": "zyGzzIaX9HHc"
      },
      "source": [
        "*Our expected output is:* \n",
        "```\n",
        "All files in folder data are: ['test.csv', 'train.csv', 'data_description.txt']\n",
        "Is exists train file? True\n",
        "Is exists test file? True\n",
        "```\n"
      ]
    },
    {
      "cell_type": "markdown",
      "metadata": {
        "id": "nK3dlfWS9oCY"
      },
      "source": [
        "**Now we are ready to move on to the main section.**"
      ]
    },
    {
      "cell_type": "markdown",
      "metadata": {
        "id": "3HcG9JnATgVt"
      },
      "source": [
        "## 2.&nbsp;Setup the datasets"
      ]
    },
    {
      "cell_type": "code",
      "execution_count": 2,
      "metadata": {
        "id": "uttAoFS-TmEG"
      },
      "outputs": [],
      "source": [
        "import time\n",
        "import random\n",
        "\n",
        "\n",
        "import gc; gc.enable() #Enable garbage for the notebook\n",
        "\n",
        "import numpy as np \n",
        "import pandas as pd\n",
        "\n",
        "# Plot diagrams \n",
        "import matplotlib.pyplot as plt\n",
        "import seaborn as sns\n",
        "\n",
        "## Sklearn for data preprocessing modelling,  and evaluation \n",
        "from sklearn.model_selection import cross_validate, validation_curve, learning_curve, GridSearchCV\n",
        "from sklearn.preprocessing import StandardScaler, RobustScaler, LabelEncoder, OneHotEncoder, PolynomialFeatures\n",
        "from sklearn.linear_model import LinearRegression\n",
        "from sklearn.ensemble import RandomForestRegressor\n",
        "from sklearn.tree import DecisionTreeRegressor\n",
        "from sklearn.model_selection import train_test_split\n",
        "from sklearn.metrics import mean_squared_error, r2_score, make_scorer\n",
        "from sklearn.utils import shuffle\n",
        "from sklearn.neighbors import KNeighborsRegressor\n",
        "from sklearn.pipeline import make_pipeline\n",
        "\n",
        "## For xgboost model\n",
        "from xgboost import XGBRegressor\n",
        "\n",
        "\n",
        "## For normal test\n",
        "from scipy.stats import normaltest\n",
        "\n",
        "%matplotlib inline\n",
        "import warnings\n",
        "warnings.filterwarnings(\"ignore\")\n",
        "\n",
        "\n",
        "## Setup graph style\n",
        "import matplotlib.style as style\n",
        "style.use('seaborn-poster')\n",
        "style.use(\"fivethirtyeight\")\n",
        "plt.rcParams['font.family'] = 'monospace'"
      ]
    },
    {
      "cell_type": "markdown",
      "metadata": {
        "id": "3NG3NsfWYS_o"
      },
      "source": [
        "## 3.&nbsp;Exploratory Data Analysis (EDA)"
      ]
    },
    {
      "cell_type": "code",
      "execution_count": null,
      "metadata": {
        "id": "8FzdCYkdnFz4"
      },
      "outputs": [],
      "source": [
        "# Read data from csv file\n",
        "train_raw = pd.read_csv(TRAIN_DATA_PATH)\n",
        "test_raw = pd.read_csv(TEST_DATA_PATH)"
      ]
    },
    {
      "cell_type": "code",
      "execution_count": null,
      "metadata": {
        "colab": {
          "base_uri": "https://localhost:8080/",
          "height": 583
        },
        "id": "l1B060yCndUd",
        "outputId": "1bb1eb35-e84b-416f-bb94-0bbe168aae9f"
      },
      "outputs": [
        {
          "data": {
            "text/html": [
              "\n",
              "  <div id=\"df-deb186d7-e615-4129-8cf7-a6e92074f1c9\">\n",
              "    <div class=\"colab-df-container\">\n",
              "      <div>\n",
              "<style scoped>\n",
              "    .dataframe tbody tr th:only-of-type {\n",
              "        vertical-align: middle;\n",
              "    }\n",
              "\n",
              "    .dataframe tbody tr th {\n",
              "        vertical-align: top;\n",
              "    }\n",
              "\n",
              "    .dataframe thead th {\n",
              "        text-align: right;\n",
              "    }\n",
              "</style>\n",
              "<table border=\"1\" class=\"dataframe\">\n",
              "  <thead>\n",
              "    <tr style=\"text-align: right;\">\n",
              "      <th></th>\n",
              "      <th>User_ID</th>\n",
              "      <th>Product_ID</th>\n",
              "      <th>Gender</th>\n",
              "      <th>Age</th>\n",
              "      <th>Occupation</th>\n",
              "      <th>City_Category</th>\n",
              "      <th>Stay_In_Current_City_Years</th>\n",
              "      <th>Marital_Status</th>\n",
              "      <th>Product_Category_1</th>\n",
              "      <th>Product_Category_2</th>\n",
              "      <th>Product_Category_3</th>\n",
              "      <th>Purchase</th>\n",
              "    </tr>\n",
              "  </thead>\n",
              "  <tbody>\n",
              "    <tr>\n",
              "      <th>0</th>\n",
              "      <td>1000001</td>\n",
              "      <td>P00069042</td>\n",
              "      <td>F</td>\n",
              "      <td>0-17</td>\n",
              "      <td>10</td>\n",
              "      <td>A</td>\n",
              "      <td>2</td>\n",
              "      <td>0</td>\n",
              "      <td>3</td>\n",
              "      <td>NaN</td>\n",
              "      <td>NaN</td>\n",
              "      <td>8370</td>\n",
              "    </tr>\n",
              "    <tr>\n",
              "      <th>1</th>\n",
              "      <td>1000001</td>\n",
              "      <td>P00248942</td>\n",
              "      <td>F</td>\n",
              "      <td>0-17</td>\n",
              "      <td>10</td>\n",
              "      <td>A</td>\n",
              "      <td>2</td>\n",
              "      <td>0</td>\n",
              "      <td>1</td>\n",
              "      <td>6.0</td>\n",
              "      <td>14.0</td>\n",
              "      <td>15200</td>\n",
              "    </tr>\n",
              "    <tr>\n",
              "      <th>2</th>\n",
              "      <td>1000001</td>\n",
              "      <td>P00087842</td>\n",
              "      <td>F</td>\n",
              "      <td>0-17</td>\n",
              "      <td>10</td>\n",
              "      <td>A</td>\n",
              "      <td>2</td>\n",
              "      <td>0</td>\n",
              "      <td>12</td>\n",
              "      <td>NaN</td>\n",
              "      <td>NaN</td>\n",
              "      <td>1422</td>\n",
              "    </tr>\n",
              "    <tr>\n",
              "      <th>3</th>\n",
              "      <td>1000001</td>\n",
              "      <td>P00085442</td>\n",
              "      <td>F</td>\n",
              "      <td>0-17</td>\n",
              "      <td>10</td>\n",
              "      <td>A</td>\n",
              "      <td>2</td>\n",
              "      <td>0</td>\n",
              "      <td>12</td>\n",
              "      <td>14.0</td>\n",
              "      <td>NaN</td>\n",
              "      <td>1057</td>\n",
              "    </tr>\n",
              "    <tr>\n",
              "      <th>4</th>\n",
              "      <td>1000002</td>\n",
              "      <td>P00285442</td>\n",
              "      <td>M</td>\n",
              "      <td>55+</td>\n",
              "      <td>16</td>\n",
              "      <td>C</td>\n",
              "      <td>4+</td>\n",
              "      <td>0</td>\n",
              "      <td>8</td>\n",
              "      <td>NaN</td>\n",
              "      <td>NaN</td>\n",
              "      <td>7969</td>\n",
              "    </tr>\n",
              "    <tr>\n",
              "      <th>5</th>\n",
              "      <td>1000003</td>\n",
              "      <td>P00193542</td>\n",
              "      <td>M</td>\n",
              "      <td>26-35</td>\n",
              "      <td>15</td>\n",
              "      <td>A</td>\n",
              "      <td>3</td>\n",
              "      <td>0</td>\n",
              "      <td>1</td>\n",
              "      <td>2.0</td>\n",
              "      <td>NaN</td>\n",
              "      <td>15227</td>\n",
              "    </tr>\n",
              "    <tr>\n",
              "      <th>6</th>\n",
              "      <td>1000004</td>\n",
              "      <td>P00184942</td>\n",
              "      <td>M</td>\n",
              "      <td>46-50</td>\n",
              "      <td>7</td>\n",
              "      <td>B</td>\n",
              "      <td>2</td>\n",
              "      <td>1</td>\n",
              "      <td>1</td>\n",
              "      <td>8.0</td>\n",
              "      <td>17.0</td>\n",
              "      <td>19215</td>\n",
              "    </tr>\n",
              "    <tr>\n",
              "      <th>7</th>\n",
              "      <td>1000004</td>\n",
              "      <td>P00346142</td>\n",
              "      <td>M</td>\n",
              "      <td>46-50</td>\n",
              "      <td>7</td>\n",
              "      <td>B</td>\n",
              "      <td>2</td>\n",
              "      <td>1</td>\n",
              "      <td>1</td>\n",
              "      <td>15.0</td>\n",
              "      <td>NaN</td>\n",
              "      <td>15854</td>\n",
              "    </tr>\n",
              "    <tr>\n",
              "      <th>8</th>\n",
              "      <td>1000004</td>\n",
              "      <td>P0097242</td>\n",
              "      <td>M</td>\n",
              "      <td>46-50</td>\n",
              "      <td>7</td>\n",
              "      <td>B</td>\n",
              "      <td>2</td>\n",
              "      <td>1</td>\n",
              "      <td>1</td>\n",
              "      <td>16.0</td>\n",
              "      <td>NaN</td>\n",
              "      <td>15686</td>\n",
              "    </tr>\n",
              "    <tr>\n",
              "      <th>9</th>\n",
              "      <td>1000005</td>\n",
              "      <td>P00274942</td>\n",
              "      <td>M</td>\n",
              "      <td>26-35</td>\n",
              "      <td>20</td>\n",
              "      <td>A</td>\n",
              "      <td>1</td>\n",
              "      <td>1</td>\n",
              "      <td>8</td>\n",
              "      <td>NaN</td>\n",
              "      <td>NaN</td>\n",
              "      <td>7871</td>\n",
              "    </tr>\n",
              "  </tbody>\n",
              "</table>\n",
              "</div>\n",
              "      <button class=\"colab-df-convert\" onclick=\"convertToInteractive('df-deb186d7-e615-4129-8cf7-a6e92074f1c9')\"\n",
              "              title=\"Convert this dataframe to an interactive table.\"\n",
              "              style=\"display:none;\">\n",
              "        \n",
              "  <svg xmlns=\"http://www.w3.org/2000/svg\" height=\"24px\"viewBox=\"0 0 24 24\"\n",
              "       width=\"24px\">\n",
              "    <path d=\"M0 0h24v24H0V0z\" fill=\"none\"/>\n",
              "    <path d=\"M18.56 5.44l.94 2.06.94-2.06 2.06-.94-2.06-.94-.94-2.06-.94 2.06-2.06.94zm-11 1L8.5 8.5l.94-2.06 2.06-.94-2.06-.94L8.5 2.5l-.94 2.06-2.06.94zm10 10l.94 2.06.94-2.06 2.06-.94-2.06-.94-.94-2.06-.94 2.06-2.06.94z\"/><path d=\"M17.41 7.96l-1.37-1.37c-.4-.4-.92-.59-1.43-.59-.52 0-1.04.2-1.43.59L10.3 9.45l-7.72 7.72c-.78.78-.78 2.05 0 2.83L4 21.41c.39.39.9.59 1.41.59.51 0 1.02-.2 1.41-.59l7.78-7.78 2.81-2.81c.8-.78.8-2.07 0-2.86zM5.41 20L4 18.59l7.72-7.72 1.47 1.35L5.41 20z\"/>\n",
              "  </svg>\n",
              "      </button>\n",
              "      \n",
              "  <style>\n",
              "    .colab-df-container {\n",
              "      display:flex;\n",
              "      flex-wrap:wrap;\n",
              "      gap: 12px;\n",
              "    }\n",
              "\n",
              "    .colab-df-convert {\n",
              "      background-color: #E8F0FE;\n",
              "      border: none;\n",
              "      border-radius: 50%;\n",
              "      cursor: pointer;\n",
              "      display: none;\n",
              "      fill: #1967D2;\n",
              "      height: 32px;\n",
              "      padding: 0 0 0 0;\n",
              "      width: 32px;\n",
              "    }\n",
              "\n",
              "    .colab-df-convert:hover {\n",
              "      background-color: #E2EBFA;\n",
              "      box-shadow: 0px 1px 2px rgba(60, 64, 67, 0.3), 0px 1px 3px 1px rgba(60, 64, 67, 0.15);\n",
              "      fill: #174EA6;\n",
              "    }\n",
              "\n",
              "    [theme=dark] .colab-df-convert {\n",
              "      background-color: #3B4455;\n",
              "      fill: #D2E3FC;\n",
              "    }\n",
              "\n",
              "    [theme=dark] .colab-df-convert:hover {\n",
              "      background-color: #434B5C;\n",
              "      box-shadow: 0px 1px 3px 1px rgba(0, 0, 0, 0.15);\n",
              "      filter: drop-shadow(0px 1px 2px rgba(0, 0, 0, 0.3));\n",
              "      fill: #FFFFFF;\n",
              "    }\n",
              "  </style>\n",
              "\n",
              "      <script>\n",
              "        const buttonEl =\n",
              "          document.querySelector('#df-deb186d7-e615-4129-8cf7-a6e92074f1c9 button.colab-df-convert');\n",
              "        buttonEl.style.display =\n",
              "          google.colab.kernel.accessAllowed ? 'block' : 'none';\n",
              "\n",
              "        async function convertToInteractive(key) {\n",
              "          const element = document.querySelector('#df-deb186d7-e615-4129-8cf7-a6e92074f1c9');\n",
              "          const dataTable =\n",
              "            await google.colab.kernel.invokeFunction('convertToInteractive',\n",
              "                                                     [key], {});\n",
              "          if (!dataTable) return;\n",
              "\n",
              "          const docLinkHtml = 'Like what you see? Visit the ' +\n",
              "            '<a target=\"_blank\" href=https://colab.research.google.com/notebooks/data_table.ipynb>data table notebook</a>'\n",
              "            + ' to learn more about interactive tables.';\n",
              "          element.innerHTML = '';\n",
              "          dataTable['output_type'] = 'display_data';\n",
              "          await google.colab.output.renderOutput(dataTable, element);\n",
              "          const docLink = document.createElement('div');\n",
              "          docLink.innerHTML = docLinkHtml;\n",
              "          element.appendChild(docLink);\n",
              "        }\n",
              "      </script>\n",
              "    </div>\n",
              "  </div>\n",
              "  "
            ],
            "text/plain": [
              "   User_ID Product_ID Gender    Age  Occupation City_Category  \\\n",
              "0  1000001  P00069042      F   0-17          10             A   \n",
              "1  1000001  P00248942      F   0-17          10             A   \n",
              "2  1000001  P00087842      F   0-17          10             A   \n",
              "3  1000001  P00085442      F   0-17          10             A   \n",
              "4  1000002  P00285442      M    55+          16             C   \n",
              "5  1000003  P00193542      M  26-35          15             A   \n",
              "6  1000004  P00184942      M  46-50           7             B   \n",
              "7  1000004  P00346142      M  46-50           7             B   \n",
              "8  1000004   P0097242      M  46-50           7             B   \n",
              "9  1000005  P00274942      M  26-35          20             A   \n",
              "\n",
              "  Stay_In_Current_City_Years  Marital_Status  Product_Category_1  \\\n",
              "0                          2               0                   3   \n",
              "1                          2               0                   1   \n",
              "2                          2               0                  12   \n",
              "3                          2               0                  12   \n",
              "4                         4+               0                   8   \n",
              "5                          3               0                   1   \n",
              "6                          2               1                   1   \n",
              "7                          2               1                   1   \n",
              "8                          2               1                   1   \n",
              "9                          1               1                   8   \n",
              "\n",
              "   Product_Category_2  Product_Category_3  Purchase  \n",
              "0                 NaN                 NaN      8370  \n",
              "1                 6.0                14.0     15200  \n",
              "2                 NaN                 NaN      1422  \n",
              "3                14.0                 NaN      1057  \n",
              "4                 NaN                 NaN      7969  \n",
              "5                 2.0                 NaN     15227  \n",
              "6                 8.0                17.0     19215  \n",
              "7                15.0                 NaN     15854  \n",
              "8                16.0                 NaN     15686  \n",
              "9                 NaN                 NaN      7871  "
            ]
          },
          "execution_count": 30,
          "metadata": {},
          "output_type": "execute_result"
        }
      ],
      "source": [
        "# Let's see some data\n",
        "train_raw.head(10)"
      ]
    },
    {
      "cell_type": "code",
      "execution_count": null,
      "metadata": {
        "colab": {
          "base_uri": "https://localhost:8080/"
        },
        "id": "HqDH0qf9nd6R",
        "outputId": "8ffd6471-c6f9-4e03-aaec-b573409ee422"
      },
      "outputs": [
        {
          "name": "stdout",
          "output_type": "stream",
          "text": [
            "<class 'pandas.core.frame.DataFrame'>\n",
            "RangeIndex: 550068 entries, 0 to 550067\n",
            "Data columns (total 12 columns):\n",
            " #   Column                      Non-Null Count   Dtype  \n",
            "---  ------                      --------------   -----  \n",
            " 0   User_ID                     550068 non-null  int64  \n",
            " 1   Product_ID                  550068 non-null  object \n",
            " 2   Gender                      550068 non-null  object \n",
            " 3   Age                         550068 non-null  object \n",
            " 4   Occupation                  550068 non-null  int64  \n",
            " 5   City_Category               550068 non-null  object \n",
            " 6   Stay_In_Current_City_Years  550068 non-null  object \n",
            " 7   Marital_Status              550068 non-null  int64  \n",
            " 8   Product_Category_1          550068 non-null  int64  \n",
            " 9   Product_Category_2          376430 non-null  float64\n",
            " 10  Product_Category_3          166821 non-null  float64\n",
            " 11  Purchase                    550068 non-null  int64  \n",
            "dtypes: float64(2), int64(5), object(5)\n",
            "memory usage: 50.4+ MB\n"
          ]
        }
      ],
      "source": [
        "train_raw.info()"
      ]
    },
    {
      "cell_type": "markdown",
      "metadata": {
        "id": "vh9_bQMjnjWY"
      },
      "source": [
        " We can easy see that all non-target attributes are categorical (more specifically nominal).\n",
        "\n",
        " There is no missing information related to users but there are large numbers of null values for products (Product_Category_2,  Product_Category_3). "
      ]
    },
    {
      "cell_type": "markdown",
      "metadata": {
        "id": "sLHDRr6_oVi9"
      },
      "source": [
        "There are also some questions on top of our head that we need to answer"
      ]
    },
    {
      "cell_type": "markdown",
      "metadata": {
        "id": "iIPSiLP_oiSd"
      },
      "source": [
        "### 3.1. Which type of users spent most money on buying products?"
      ]
    },
    {
      "cell_type": "code",
      "execution_count": null,
      "metadata": {
        "colab": {
          "base_uri": "https://localhost:8080/",
          "height": 143
        },
        "id": "-28E8Ak3onrP",
        "outputId": "217b0c96-4024-43de-bdd4-0838f1ce6943"
      },
      "outputs": [
        {
          "data": {
            "text/html": [
              "\n",
              "  <div id=\"df-d2c7edcc-309e-4c20-ba4f-bfedaa2be063\">\n",
              "    <div class=\"colab-df-container\">\n",
              "      <div>\n",
              "<style scoped>\n",
              "    .dataframe tbody tr th:only-of-type {\n",
              "        vertical-align: middle;\n",
              "    }\n",
              "\n",
              "    .dataframe tbody tr th {\n",
              "        vertical-align: top;\n",
              "    }\n",
              "\n",
              "    .dataframe thead th {\n",
              "        text-align: right;\n",
              "    }\n",
              "</style>\n",
              "<table border=\"1\" class=\"dataframe\">\n",
              "  <thead>\n",
              "    <tr style=\"text-align: right;\">\n",
              "      <th></th>\n",
              "      <th>User_ID</th>\n",
              "      <th>Product_ID</th>\n",
              "      <th>Purchase</th>\n",
              "    </tr>\n",
              "  </thead>\n",
              "  <tbody>\n",
              "    <tr>\n",
              "      <th>0</th>\n",
              "      <td>1000001</td>\n",
              "      <td>P00069042</td>\n",
              "      <td>8370</td>\n",
              "    </tr>\n",
              "    <tr>\n",
              "      <th>1</th>\n",
              "      <td>1000001</td>\n",
              "      <td>P00248942</td>\n",
              "      <td>15200</td>\n",
              "    </tr>\n",
              "    <tr>\n",
              "      <th>2</th>\n",
              "      <td>1000001</td>\n",
              "      <td>P00087842</td>\n",
              "      <td>1422</td>\n",
              "    </tr>\n",
              "  </tbody>\n",
              "</table>\n",
              "</div>\n",
              "      <button class=\"colab-df-convert\" onclick=\"convertToInteractive('df-d2c7edcc-309e-4c20-ba4f-bfedaa2be063')\"\n",
              "              title=\"Convert this dataframe to an interactive table.\"\n",
              "              style=\"display:none;\">\n",
              "        \n",
              "  <svg xmlns=\"http://www.w3.org/2000/svg\" height=\"24px\"viewBox=\"0 0 24 24\"\n",
              "       width=\"24px\">\n",
              "    <path d=\"M0 0h24v24H0V0z\" fill=\"none\"/>\n",
              "    <path d=\"M18.56 5.44l.94 2.06.94-2.06 2.06-.94-2.06-.94-.94-2.06-.94 2.06-2.06.94zm-11 1L8.5 8.5l.94-2.06 2.06-.94-2.06-.94L8.5 2.5l-.94 2.06-2.06.94zm10 10l.94 2.06.94-2.06 2.06-.94-2.06-.94-.94-2.06-.94 2.06-2.06.94z\"/><path d=\"M17.41 7.96l-1.37-1.37c-.4-.4-.92-.59-1.43-.59-.52 0-1.04.2-1.43.59L10.3 9.45l-7.72 7.72c-.78.78-.78 2.05 0 2.83L4 21.41c.39.39.9.59 1.41.59.51 0 1.02-.2 1.41-.59l7.78-7.78 2.81-2.81c.8-.78.8-2.07 0-2.86zM5.41 20L4 18.59l7.72-7.72 1.47 1.35L5.41 20z\"/>\n",
              "  </svg>\n",
              "      </button>\n",
              "      \n",
              "  <style>\n",
              "    .colab-df-container {\n",
              "      display:flex;\n",
              "      flex-wrap:wrap;\n",
              "      gap: 12px;\n",
              "    }\n",
              "\n",
              "    .colab-df-convert {\n",
              "      background-color: #E8F0FE;\n",
              "      border: none;\n",
              "      border-radius: 50%;\n",
              "      cursor: pointer;\n",
              "      display: none;\n",
              "      fill: #1967D2;\n",
              "      height: 32px;\n",
              "      padding: 0 0 0 0;\n",
              "      width: 32px;\n",
              "    }\n",
              "\n",
              "    .colab-df-convert:hover {\n",
              "      background-color: #E2EBFA;\n",
              "      box-shadow: 0px 1px 2px rgba(60, 64, 67, 0.3), 0px 1px 3px 1px rgba(60, 64, 67, 0.15);\n",
              "      fill: #174EA6;\n",
              "    }\n",
              "\n",
              "    [theme=dark] .colab-df-convert {\n",
              "      background-color: #3B4455;\n",
              "      fill: #D2E3FC;\n",
              "    }\n",
              "\n",
              "    [theme=dark] .colab-df-convert:hover {\n",
              "      background-color: #434B5C;\n",
              "      box-shadow: 0px 1px 3px 1px rgba(0, 0, 0, 0.15);\n",
              "      filter: drop-shadow(0px 1px 2px rgba(0, 0, 0, 0.3));\n",
              "      fill: #FFFFFF;\n",
              "    }\n",
              "  </style>\n",
              "\n",
              "      <script>\n",
              "        const buttonEl =\n",
              "          document.querySelector('#df-d2c7edcc-309e-4c20-ba4f-bfedaa2be063 button.colab-df-convert');\n",
              "        buttonEl.style.display =\n",
              "          google.colab.kernel.accessAllowed ? 'block' : 'none';\n",
              "\n",
              "        async function convertToInteractive(key) {\n",
              "          const element = document.querySelector('#df-d2c7edcc-309e-4c20-ba4f-bfedaa2be063');\n",
              "          const dataTable =\n",
              "            await google.colab.kernel.invokeFunction('convertToInteractive',\n",
              "                                                     [key], {});\n",
              "          if (!dataTable) return;\n",
              "\n",
              "          const docLinkHtml = 'Like what you see? Visit the ' +\n",
              "            '<a target=\"_blank\" href=https://colab.research.google.com/notebooks/data_table.ipynb>data table notebook</a>'\n",
              "            + ' to learn more about interactive tables.';\n",
              "          element.innerHTML = '';\n",
              "          dataTable['output_type'] = 'display_data';\n",
              "          await google.colab.output.renderOutput(dataTable, element);\n",
              "          const docLink = document.createElement('div');\n",
              "          docLink.innerHTML = docLinkHtml;\n",
              "          element.appendChild(docLink);\n",
              "        }\n",
              "      </script>\n",
              "    </div>\n",
              "  </div>\n",
              "  "
            ],
            "text/plain": [
              "   User_ID Product_ID  Purchase\n",
              "0  1000001  P00069042      8370\n",
              "1  1000001  P00248942     15200\n",
              "2  1000001  P00087842      1422"
            ]
          },
          "execution_count": 51,
          "metadata": {},
          "output_type": "execute_result"
        }
      ],
      "source": [
        "# We just consider 3 colomns as we just care about one specific user \n",
        "user_df = train_raw.loc[:, [\"User_ID\", \"Product_ID\", \"Purchase\"]]\n",
        "user_df.head(3)"
      ]
    },
    {
      "cell_type": "code",
      "execution_count": null,
      "metadata": {
        "colab": {
          "base_uri": "https://localhost:8080/"
        },
        "id": "0ebB7KE4osnL",
        "outputId": "c46ea954-18d6-43d8-e70e-988347fb658b"
      },
      "outputs": [
        {
          "name": "stdout",
          "output_type": "stream",
          "text": [
            "Number of user buy a product more than once with same price: 0\n",
            "Number of user buy a product more than once: 0\n"
          ]
        }
      ],
      "source": [
        "# Are there any users buy 1 product with different prices ?\n",
        "nb_user = user_df[user_df.duplicated()].shape[0]\n",
        "user_df1 = user_df.drop(columns=\"Purchase\")\n",
        "nb_user1 = user_df1[user_df1.duplicated()].shape[0]\n",
        "print(\"Number of user buy a product more than once with same price:\", nb_user)\n",
        "print(\"Number of user buy a product more than once:\", nb_user1)"
      ]
    },
    {
      "cell_type": "markdown",
      "metadata": {
        "id": "YSBGyLhDps4y"
      },
      "source": [
        "=> Each product may be bought by an user at most one time."
      ]
    },
    {
      "cell_type": "markdown",
      "metadata": {
        "id": "HbfGoVcvqRwB"
      },
      "source": [
        "Next we calculate the number of products and total amount of money each user spent in the data."
      ]
    },
    {
      "cell_type": "code",
      "execution_count": null,
      "metadata": {
        "id": "7gtPysIGpwVj"
      },
      "outputs": [],
      "source": [
        "user_df2 = train_raw.drop(columns=[\"Product_ID\", \"Product_Category_1\", 'Product_Category_2', 'Product_Category_3', 'Purchase'])\n",
        "user_df3 = train_raw[[\"User_ID\", \"Purchase\"]]\n",
        "\n",
        "# u1: dataframe contains User_ID and Purchase: total amount of money that user spent\n",
        "u1 = user_df3.groupby(\"User_ID\", as_index = False).agg({'Purchase': 'sum'})\n",
        "\n",
        "# u2: dataframe contains User_ID and number of products that user purchase (using count)\n",
        "u2 = user_df3.groupby(\"User_ID\", as_index = False).agg({'Purchase': 'count'})\n",
        "\n",
        "# merging u1 and u2 with user_df2 on 'User_ID' \n",
        "user_df2 = pd.merge(user_df2, u1, on='User_ID')\n",
        "user_df2.rename(columns={\"Purchase\":\"TotalPurchase\"}, inplace=True)\n",
        "user_df2 = pd.merge(user_df2, u2, on='User_ID')\n",
        "user_df2.rename(columns={\"Purchase\":\"nb_products\"}, inplace=True)\n",
        "\n",
        "# Avg_money_per_product: average amount of money an user spent for 1 product\n",
        "user_df2[\"Avg_money_per_product\"] = round(user_df2.TotalPurchase / user_df2.nb_products, 2)\n",
        "\n",
        "user_df2.drop_duplicates(inplace=True)\n",
        "user_df2.reset_index(inplace=True, drop=True)\n",
        "\n",
        "user_df2.sort_values(by='nb_products', ascending=False, ignore_index=True).head(7)\n",
        "user_df2_copy = user_df2.copy()"
      ]
    },
    {
      "cell_type": "markdown",
      "metadata": {
        "id": "18mr-eysrGEy"
      },
      "source": [
        "Next, we plot the relationship between number of products and spending money of users"
      ]
    },
    {
      "cell_type": "code",
      "execution_count": null,
      "metadata": {
        "colab": {
          "base_uri": "https://localhost:8080/",
          "height": 567
        },
        "id": "FeyM5ATZp0af",
        "outputId": "44d16713-349f-4a18-dcd3-ea73b0d76c13"
      },
      "outputs": [
        {
          "data": {
            "image/png": "[encoded data removed]",
            "text/plain": [
              "<Figure size 1008x576 with 1 Axes>"
            ]
          },
          "metadata": {},
          "output_type": "display_data"
        }
      ],
      "source": [
        "plt.figure(figsize=(14,8))\n",
        "sns.scatterplot(data=user_df2, x='nb_products', y='TotalPurchase', hue=\"City_Category\", s=70)\n",
        "\n",
        "plt.title(\"Relationship between number of products and spending money of users\")\n",
        "plt.ylabel(\"Total money spent\")\n",
        "plt.xlabel(\"Number of products\")\n",
        "\n",
        "plt.show()"
      ]
    },
    {
      "cell_type": "markdown",
      "metadata": {
        "id": "vls8QvAIrdTi"
      },
      "source": [
        "It seems that people in city A spent most for products, B is right behind and C is the least.*\n"
      ]
    },
    {
      "cell_type": "code",
      "execution_count": null,
      "metadata": {
        "colab": {
          "base_uri": "https://localhost:8080/",
          "height": 327
        },
        "id": "y73skbW-rYdP",
        "outputId": "44b2e7f6-44f5-4ef8-9bb9-dd3ce1214512"
      },
      "outputs": [
        {
          "data": {
            "image/png": "[encoded data removed]",
            "text/plain": [
              "<Figure size 1728x432 with 3 Axes>"
            ]
          },
          "metadata": {},
          "output_type": "display_data"
        }
      ],
      "source": [
        "fig, ax = plt.subplots(1,3, figsize = (24,6))\n",
        "\n",
        "sns.histplot(ax= ax[0], data=user_df2.Avg_money_per_product, kde=True)\n",
        "sns.histplot(ax= ax[1], data= user_df2.nb_products, kde= True)\n",
        "sns.histplot(ax=ax[2], data= user_df2.TotalPurchase, kde = True)\n",
        "ax[0].set(title=\"avg money per product distribution\", ylabel = None, xlabel=\"Average purchase amount per product\")\n",
        "ax[1].set(title=\"number of products per user distribution\", ylabel = None, xlabel=\"Number of users purchased\")\n",
        "ax[2].set(title=\"total purchase distribution\", xlabel=\"Purchase amount\", ylabel=None)\n",
        "\n",
        "plt.show() "
      ]
    },
    {
      "cell_type": "code",
      "execution_count": null,
      "metadata": {
        "colab": {
          "base_uri": "https://localhost:8080/"
        },
        "id": "UJ9OS38EsV2m",
        "outputId": "921a5b81-8484-4251-8e52-26a314b0a303"
      },
      "outputs": [
        {
          "name": "stdout",
          "output_type": "stream",
          "text": [
            "p value: 1.4617254783853661e-78\n"
          ]
        }
      ],
      "source": [
        "_, p_value = normaltest(a=user_df2.Avg_money_per_product)\n",
        "print(\"p value:\", p_value)"
      ]
    },
    {
      "cell_type": "markdown",
      "metadata": {
        "id": "f0LJL4qjuugR"
      },
      "source": [
        "The p value is so small that mean the distribution is not normal so it is totally imbalanced regression problem."
      ]
    },
    {
      "cell_type": "markdown",
      "metadata": {
        "id": "ko2A3-aMuqT-"
      },
      "source": [
        "### 3.2. Which types of user use money more efficient?"
      ]
    },
    {
      "cell_type": "code",
      "execution_count": null,
      "metadata": {
        "colab": {
          "base_uri": "https://localhost:8080/",
          "height": 206
        },
        "id": "Xj3miqLasTtZ",
        "outputId": "cc206b86-f09d-48b4-c9b9-e6550bbbc535"
      },
      "outputs": [
        {
          "data": {
            "text/html": [
              "\n",
              "  <div id=\"df-43db0f2a-83c8-42ab-967e-f69f82dda6db\">\n",
              "    <div class=\"colab-df-container\">\n",
              "      <div>\n",
              "<style scoped>\n",
              "    .dataframe tbody tr th:only-of-type {\n",
              "        vertical-align: middle;\n",
              "    }\n",
              "\n",
              "    .dataframe tbody tr th {\n",
              "        vertical-align: top;\n",
              "    }\n",
              "\n",
              "    .dataframe thead th {\n",
              "        text-align: right;\n",
              "    }\n",
              "</style>\n",
              "<table border=\"1\" class=\"dataframe\">\n",
              "  <thead>\n",
              "    <tr style=\"text-align: right;\">\n",
              "      <th></th>\n",
              "      <th>User_ID</th>\n",
              "      <th>Product_ID</th>\n",
              "      <th>Purchase</th>\n",
              "      <th>Avg_amount</th>\n",
              "      <th>Saving</th>\n",
              "    </tr>\n",
              "  </thead>\n",
              "  <tbody>\n",
              "    <tr>\n",
              "      <th>0</th>\n",
              "      <td>1000001</td>\n",
              "      <td>P00069042</td>\n",
              "      <td>8370</td>\n",
              "      <td>11870.863436</td>\n",
              "      <td>3500.86</td>\n",
              "    </tr>\n",
              "    <tr>\n",
              "      <th>1</th>\n",
              "      <td>1000149</td>\n",
              "      <td>P00069042</td>\n",
              "      <td>10715</td>\n",
              "      <td>11870.863436</td>\n",
              "      <td>1155.86</td>\n",
              "    </tr>\n",
              "    <tr>\n",
              "      <th>2</th>\n",
              "      <td>1000541</td>\n",
              "      <td>P00069042</td>\n",
              "      <td>11037</td>\n",
              "      <td>11870.863436</td>\n",
              "      <td>833.86</td>\n",
              "    </tr>\n",
              "    <tr>\n",
              "      <th>3</th>\n",
              "      <td>1000698</td>\n",
              "      <td>P00069042</td>\n",
              "      <td>8009</td>\n",
              "      <td>11870.863436</td>\n",
              "      <td>3861.86</td>\n",
              "    </tr>\n",
              "    <tr>\n",
              "      <th>4</th>\n",
              "      <td>1000951</td>\n",
              "      <td>P00069042</td>\n",
              "      <td>13346</td>\n",
              "      <td>11870.863436</td>\n",
              "      <td>-1475.14</td>\n",
              "    </tr>\n",
              "  </tbody>\n",
              "</table>\n",
              "</div>\n",
              "      <button class=\"colab-df-convert\" onclick=\"convertToInteractive('df-43db0f2a-83c8-42ab-967e-f69f82dda6db')\"\n",
              "              title=\"Convert this dataframe to an interactive table.\"\n",
              "              style=\"display:none;\">\n",
              "        \n",
              "  <svg xmlns=\"http://www.w3.org/2000/svg\" height=\"24px\"viewBox=\"0 0 24 24\"\n",
              "       width=\"24px\">\n",
              "    <path d=\"M0 0h24v24H0V0z\" fill=\"none\"/>\n",
              "    <path d=\"M18.56 5.44l.94 2.06.94-2.06 2.06-.94-2.06-.94-.94-2.06-.94 2.06-2.06.94zm-11 1L8.5 8.5l.94-2.06 2.06-.94-2.06-.94L8.5 2.5l-.94 2.06-2.06.94zm10 10l.94 2.06.94-2.06 2.06-.94-2.06-.94-.94-2.06-.94 2.06-2.06.94z\"/><path d=\"M17.41 7.96l-1.37-1.37c-.4-.4-.92-.59-1.43-.59-.52 0-1.04.2-1.43.59L10.3 9.45l-7.72 7.72c-.78.78-.78 2.05 0 2.83L4 21.41c.39.39.9.59 1.41.59.51 0 1.02-.2 1.41-.59l7.78-7.78 2.81-2.81c.8-.78.8-2.07 0-2.86zM5.41 20L4 18.59l7.72-7.72 1.47 1.35L5.41 20z\"/>\n",
              "  </svg>\n",
              "      </button>\n",
              "      \n",
              "  <style>\n",
              "    .colab-df-container {\n",
              "      display:flex;\n",
              "      flex-wrap:wrap;\n",
              "      gap: 12px;\n",
              "    }\n",
              "\n",
              "    .colab-df-convert {\n",
              "      background-color: #E8F0FE;\n",
              "      border: none;\n",
              "      border-radius: 50%;\n",
              "      cursor: pointer;\n",
              "      display: none;\n",
              "      fill: #1967D2;\n",
              "      height: 32px;\n",
              "      padding: 0 0 0 0;\n",
              "      width: 32px;\n",
              "    }\n",
              "\n",
              "    .colab-df-convert:hover {\n",
              "      background-color: #E2EBFA;\n",
              "      box-shadow: 0px 1px 2px rgba(60, 64, 67, 0.3), 0px 1px 3px 1px rgba(60, 64, 67, 0.15);\n",
              "      fill: #174EA6;\n",
              "    }\n",
              "\n",
              "    [theme=dark] .colab-df-convert {\n",
              "      background-color: #3B4455;\n",
              "      fill: #D2E3FC;\n",
              "    }\n",
              "\n",
              "    [theme=dark] .colab-df-convert:hover {\n",
              "      background-color: #434B5C;\n",
              "      box-shadow: 0px 1px 3px 1px rgba(0, 0, 0, 0.15);\n",
              "      filter: drop-shadow(0px 1px 2px rgba(0, 0, 0, 0.3));\n",
              "      fill: #FFFFFF;\n",
              "    }\n",
              "  </style>\n",
              "\n",
              "      <script>\n",
              "        const buttonEl =\n",
              "          document.querySelector('#df-43db0f2a-83c8-42ab-967e-f69f82dda6db button.colab-df-convert');\n",
              "        buttonEl.style.display =\n",
              "          google.colab.kernel.accessAllowed ? 'block' : 'none';\n",
              "\n",
              "        async function convertToInteractive(key) {\n",
              "          const element = document.querySelector('#df-43db0f2a-83c8-42ab-967e-f69f82dda6db');\n",
              "          const dataTable =\n",
              "            await google.colab.kernel.invokeFunction('convertToInteractive',\n",
              "                                                     [key], {});\n",
              "          if (!dataTable) return;\n",
              "\n",
              "          const docLinkHtml = 'Like what you see? Visit the ' +\n",
              "            '<a target=\"_blank\" href=https://colab.research.google.com/notebooks/data_table.ipynb>data table notebook</a>'\n",
              "            + ' to learn more about interactive tables.';\n",
              "          element.innerHTML = '';\n",
              "          dataTable['output_type'] = 'display_data';\n",
              "          await google.colab.output.renderOutput(dataTable, element);\n",
              "          const docLink = document.createElement('div');\n",
              "          docLink.innerHTML = docLinkHtml;\n",
              "          element.appendChild(docLink);\n",
              "        }\n",
              "      </script>\n",
              "    </div>\n",
              "  </div>\n",
              "  "
            ],
            "text/plain": [
              "   User_ID Product_ID  Purchase    Avg_amount   Saving\n",
              "0  1000001  P00069042      8370  11870.863436  3500.86\n",
              "1  1000149  P00069042     10715  11870.863436  1155.86\n",
              "2  1000541  P00069042     11037  11870.863436   833.86\n",
              "3  1000698  P00069042      8009  11870.863436  3861.86\n",
              "4  1000951  P00069042     13346  11870.863436 -1475.14"
            ]
          },
          "execution_count": 64,
          "metadata": {},
          "output_type": "execute_result"
        }
      ],
      "source": [
        "user_df4 = train_raw.loc[:, [\"Product_ID\", \"Purchase\"]]\n",
        "user_df5 = train_raw.loc[:, [\"User_ID\", \"Product_ID\", \"Purchase\"]]\n",
        "\n",
        "# u4:dataframe contains Product_ID and average of money user spent for that product\n",
        "u4 = user_df4.groupby(by='Product_ID', as_index=False).agg({\"Purchase\":\"mean\"})\n",
        "u4.rename(columns={\"Purchase\":\"Avg_amount\"}, inplace=True)\n",
        "\n",
        "user_df5 = pd.merge(user_df5, u4, on='Product_ID')\n",
        "user_df5['Saving'] = round(user_df5.Avg_amount - user_df5.Purchase, 2)\n",
        "\n",
        "user_df5.head(5)"
      ]
    },
    {
      "cell_type": "code",
      "execution_count": null,
      "metadata": {
        "colab": {
          "base_uri": "https://localhost:8080/",
          "height": 291
        },
        "id": "a66Eckt_vcvz",
        "outputId": "318295a6-1023-4744-b8ee-1188f1874f3e"
      },
      "outputs": [
        {
          "data": {
            "text/html": [
              "\n",
              "  <div id=\"df-5489c0e6-9bdf-48a0-81c4-30a4d7a87ed3\">\n",
              "    <div class=\"colab-df-container\">\n",
              "      <div>\n",
              "<style scoped>\n",
              "    .dataframe tbody tr th:only-of-type {\n",
              "        vertical-align: middle;\n",
              "    }\n",
              "\n",
              "    .dataframe tbody tr th {\n",
              "        vertical-align: top;\n",
              "    }\n",
              "\n",
              "    .dataframe thead th {\n",
              "        text-align: right;\n",
              "    }\n",
              "</style>\n",
              "<table border=\"1\" class=\"dataframe\">\n",
              "  <thead>\n",
              "    <tr style=\"text-align: right;\">\n",
              "      <th></th>\n",
              "      <th>User_ID</th>\n",
              "      <th>Gender</th>\n",
              "      <th>Age</th>\n",
              "      <th>Occupation</th>\n",
              "      <th>City_Category</th>\n",
              "      <th>Stay_In_Current_City_Years</th>\n",
              "      <th>Marital_Status</th>\n",
              "      <th>TotalPurchase</th>\n",
              "      <th>nb_products</th>\n",
              "      <th>Avg_money_per_product</th>\n",
              "      <th>Saving</th>\n",
              "    </tr>\n",
              "  </thead>\n",
              "  <tbody>\n",
              "    <tr>\n",
              "      <th>0</th>\n",
              "      <td>1000001</td>\n",
              "      <td>F</td>\n",
              "      <td>0-17</td>\n",
              "      <td>10</td>\n",
              "      <td>A</td>\n",
              "      <td>2</td>\n",
              "      <td>0</td>\n",
              "      <td>334093</td>\n",
              "      <td>35</td>\n",
              "      <td>9545.51</td>\n",
              "      <td>-7174.27</td>\n",
              "    </tr>\n",
              "    <tr>\n",
              "      <th>1</th>\n",
              "      <td>1000002</td>\n",
              "      <td>M</td>\n",
              "      <td>55+</td>\n",
              "      <td>16</td>\n",
              "      <td>C</td>\n",
              "      <td>4+</td>\n",
              "      <td>0</td>\n",
              "      <td>810472</td>\n",
              "      <td>77</td>\n",
              "      <td>10525.61</td>\n",
              "      <td>11770.64</td>\n",
              "    </tr>\n",
              "    <tr>\n",
              "      <th>2</th>\n",
              "      <td>1000003</td>\n",
              "      <td>M</td>\n",
              "      <td>26-35</td>\n",
              "      <td>15</td>\n",
              "      <td>A</td>\n",
              "      <td>3</td>\n",
              "      <td>0</td>\n",
              "      <td>341635</td>\n",
              "      <td>29</td>\n",
              "      <td>11780.52</td>\n",
              "      <td>-13024.32</td>\n",
              "    </tr>\n",
              "    <tr>\n",
              "      <th>3</th>\n",
              "      <td>1000004</td>\n",
              "      <td>M</td>\n",
              "      <td>46-50</td>\n",
              "      <td>7</td>\n",
              "      <td>B</td>\n",
              "      <td>2</td>\n",
              "      <td>1</td>\n",
              "      <td>206468</td>\n",
              "      <td>14</td>\n",
              "      <td>14747.71</td>\n",
              "      <td>-4685.82</td>\n",
              "    </tr>\n",
              "  </tbody>\n",
              "</table>\n",
              "</div>\n",
              "      <button class=\"colab-df-convert\" onclick=\"convertToInteractive('df-5489c0e6-9bdf-48a0-81c4-30a4d7a87ed3')\"\n",
              "              title=\"Convert this dataframe to an interactive table.\"\n",
              "              style=\"display:none;\">\n",
              "        \n",
              "  <svg xmlns=\"http://www.w3.org/2000/svg\" height=\"24px\"viewBox=\"0 0 24 24\"\n",
              "       width=\"24px\">\n",
              "    <path d=\"M0 0h24v24H0V0z\" fill=\"none\"/>\n",
              "    <path d=\"M18.56 5.44l.94 2.06.94-2.06 2.06-.94-2.06-.94-.94-2.06-.94 2.06-2.06.94zm-11 1L8.5 8.5l.94-2.06 2.06-.94-2.06-.94L8.5 2.5l-.94 2.06-2.06.94zm10 10l.94 2.06.94-2.06 2.06-.94-2.06-.94-.94-2.06-.94 2.06-2.06.94z\"/><path d=\"M17.41 7.96l-1.37-1.37c-.4-.4-.92-.59-1.43-.59-.52 0-1.04.2-1.43.59L10.3 9.45l-7.72 7.72c-.78.78-.78 2.05 0 2.83L4 21.41c.39.39.9.59 1.41.59.51 0 1.02-.2 1.41-.59l7.78-7.78 2.81-2.81c.8-.78.8-2.07 0-2.86zM5.41 20L4 18.59l7.72-7.72 1.47 1.35L5.41 20z\"/>\n",
              "  </svg>\n",
              "      </button>\n",
              "      \n",
              "  <style>\n",
              "    .colab-df-container {\n",
              "      display:flex;\n",
              "      flex-wrap:wrap;\n",
              "      gap: 12px;\n",
              "    }\n",
              "\n",
              "    .colab-df-convert {\n",
              "      background-color: #E8F0FE;\n",
              "      border: none;\n",
              "      border-radius: 50%;\n",
              "      cursor: pointer;\n",
              "      display: none;\n",
              "      fill: #1967D2;\n",
              "      height: 32px;\n",
              "      padding: 0 0 0 0;\n",
              "      width: 32px;\n",
              "    }\n",
              "\n",
              "    .colab-df-convert:hover {\n",
              "      background-color: #E2EBFA;\n",
              "      box-shadow: 0px 1px 2px rgba(60, 64, 67, 0.3), 0px 1px 3px 1px rgba(60, 64, 67, 0.15);\n",
              "      fill: #174EA6;\n",
              "    }\n",
              "\n",
              "    [theme=dark] .colab-df-convert {\n",
              "      background-color: #3B4455;\n",
              "      fill: #D2E3FC;\n",
              "    }\n",
              "\n",
              "    [theme=dark] .colab-df-convert:hover {\n",
              "      background-color: #434B5C;\n",
              "      box-shadow: 0px 1px 3px 1px rgba(0, 0, 0, 0.15);\n",
              "      filter: drop-shadow(0px 1px 2px rgba(0, 0, 0, 0.3));\n",
              "      fill: #FFFFFF;\n",
              "    }\n",
              "  </style>\n",
              "\n",
              "      <script>\n",
              "        const buttonEl =\n",
              "          document.querySelector('#df-5489c0e6-9bdf-48a0-81c4-30a4d7a87ed3 button.colab-df-convert');\n",
              "        buttonEl.style.display =\n",
              "          google.colab.kernel.accessAllowed ? 'block' : 'none';\n",
              "\n",
              "        async function convertToInteractive(key) {\n",
              "          const element = document.querySelector('#df-5489c0e6-9bdf-48a0-81c4-30a4d7a87ed3');\n",
              "          const dataTable =\n",
              "            await google.colab.kernel.invokeFunction('convertToInteractive',\n",
              "                                                     [key], {});\n",
              "          if (!dataTable) return;\n",
              "\n",
              "          const docLinkHtml = 'Like what you see? Visit the ' +\n",
              "            '<a target=\"_blank\" href=https://colab.research.google.com/notebooks/data_table.ipynb>data table notebook</a>'\n",
              "            + ' to learn more about interactive tables.';\n",
              "          element.innerHTML = '';\n",
              "          dataTable['output_type'] = 'display_data';\n",
              "          await google.colab.output.renderOutput(dataTable, element);\n",
              "          const docLink = document.createElement('div');\n",
              "          docLink.innerHTML = docLinkHtml;\n",
              "          element.appendChild(docLink);\n",
              "        }\n",
              "      </script>\n",
              "    </div>\n",
              "  </div>\n",
              "  "
            ],
            "text/plain": [
              "   User_ID Gender    Age  Occupation City_Category Stay_In_Current_City_Years  \\\n",
              "0  1000001      F   0-17          10             A                          2   \n",
              "1  1000002      M    55+          16             C                         4+   \n",
              "2  1000003      M  26-35          15             A                          3   \n",
              "3  1000004      M  46-50           7             B                          2   \n",
              "\n",
              "   Marital_Status  TotalPurchase  nb_products  Avg_money_per_product    Saving  \n",
              "0               0         334093           35                9545.51  -7174.27  \n",
              "1               0         810472           77               10525.61  11770.64  \n",
              "2               0         341635           29               11780.52 -13024.32  \n",
              "3               1         206468           14               14747.71  -4685.82  "
            ]
          },
          "execution_count": 67,
          "metadata": {},
          "output_type": "execute_result"
        }
      ],
      "source": [
        "u5 = user_df5.groupby(by=\"User_ID\", as_index=False).agg({\"Saving\":\"sum\"})\n",
        "\n",
        "user_df2 = pd.merge(user_df2_copy, u5, on=\"User_ID\")\n",
        "\n",
        "user_df2.head(4)\n"
      ]
    },
    {
      "cell_type": "code",
      "execution_count": null,
      "metadata": {
        "colab": {
          "base_uri": "https://localhost:8080/",
          "height": 388
        },
        "id": "Je_-sZ-nvw42",
        "outputId": "eabae326-3b6d-4aaf-c870-84ce0034c81a"
      },
      "outputs": [
        {
          "data": {
            "text/html": [
              "\n",
              "  <div id=\"df-f681d441-fa90-4383-9f3c-7290f4a95abf\">\n",
              "    <div class=\"colab-df-container\">\n",
              "      <div>\n",
              "<style scoped>\n",
              "    .dataframe tbody tr th:only-of-type {\n",
              "        vertical-align: middle;\n",
              "    }\n",
              "\n",
              "    .dataframe tbody tr th {\n",
              "        vertical-align: top;\n",
              "    }\n",
              "\n",
              "    .dataframe thead th {\n",
              "        text-align: right;\n",
              "    }\n",
              "</style>\n",
              "<table border=\"1\" class=\"dataframe\">\n",
              "  <thead>\n",
              "    <tr style=\"text-align: right;\">\n",
              "      <th></th>\n",
              "      <th>User_ID</th>\n",
              "      <th>Gender</th>\n",
              "      <th>Age</th>\n",
              "      <th>Occupation</th>\n",
              "      <th>City_Category</th>\n",
              "      <th>Stay_In_Current_City_Years</th>\n",
              "      <th>Marital_Status</th>\n",
              "      <th>TotalPurchase</th>\n",
              "      <th>nb_products</th>\n",
              "      <th>Avg_money_per_product</th>\n",
              "      <th>Saving</th>\n",
              "      <th>saving_score</th>\n",
              "    </tr>\n",
              "  </thead>\n",
              "  <tbody>\n",
              "    <tr>\n",
              "      <th>0</th>\n",
              "      <td>1003598</td>\n",
              "      <td>M</td>\n",
              "      <td>55+</td>\n",
              "      <td>1</td>\n",
              "      <td>A</td>\n",
              "      <td>2</td>\n",
              "      <td>0</td>\n",
              "      <td>113331</td>\n",
              "      <td>42</td>\n",
              "      <td>2698.36</td>\n",
              "      <td>222084.38</td>\n",
              "      <td>1.96</td>\n",
              "    </tr>\n",
              "    <tr>\n",
              "      <th>1</th>\n",
              "      <td>1004486</td>\n",
              "      <td>M</td>\n",
              "      <td>36-45</td>\n",
              "      <td>8</td>\n",
              "      <td>C</td>\n",
              "      <td>1</td>\n",
              "      <td>0</td>\n",
              "      <td>69562</td>\n",
              "      <td>30</td>\n",
              "      <td>2318.73</td>\n",
              "      <td>117960.88</td>\n",
              "      <td>1.70</td>\n",
              "    </tr>\n",
              "    <tr>\n",
              "      <th>2</th>\n",
              "      <td>1002744</td>\n",
              "      <td>M</td>\n",
              "      <td>18-25</td>\n",
              "      <td>17</td>\n",
              "      <td>C</td>\n",
              "      <td>1</td>\n",
              "      <td>1</td>\n",
              "      <td>314780</td>\n",
              "      <td>92</td>\n",
              "      <td>3421.52</td>\n",
              "      <td>455274.69</td>\n",
              "      <td>1.45</td>\n",
              "    </tr>\n",
              "    <tr>\n",
              "      <th>3</th>\n",
              "      <td>1004539</td>\n",
              "      <td>M</td>\n",
              "      <td>36-45</td>\n",
              "      <td>19</td>\n",
              "      <td>C</td>\n",
              "      <td>0</td>\n",
              "      <td>0</td>\n",
              "      <td>295996</td>\n",
              "      <td>70</td>\n",
              "      <td>4228.51</td>\n",
              "      <td>378837.70</td>\n",
              "      <td>1.28</td>\n",
              "    </tr>\n",
              "    <tr>\n",
              "      <th>4</th>\n",
              "      <td>1004636</td>\n",
              "      <td>M</td>\n",
              "      <td>18-25</td>\n",
              "      <td>2</td>\n",
              "      <td>B</td>\n",
              "      <td>2</td>\n",
              "      <td>1</td>\n",
              "      <td>57805</td>\n",
              "      <td>16</td>\n",
              "      <td>3612.81</td>\n",
              "      <td>70365.35</td>\n",
              "      <td>1.22</td>\n",
              "    </tr>\n",
              "    <tr>\n",
              "      <th>5</th>\n",
              "      <td>1005944</td>\n",
              "      <td>F</td>\n",
              "      <td>18-25</td>\n",
              "      <td>10</td>\n",
              "      <td>C</td>\n",
              "      <td>4+</td>\n",
              "      <td>0</td>\n",
              "      <td>53996</td>\n",
              "      <td>15</td>\n",
              "      <td>3599.73</td>\n",
              "      <td>57382.24</td>\n",
              "      <td>1.06</td>\n",
              "    </tr>\n",
              "  </tbody>\n",
              "</table>\n",
              "</div>\n",
              "      <button class=\"colab-df-convert\" onclick=\"convertToInteractive('df-f681d441-fa90-4383-9f3c-7290f4a95abf')\"\n",
              "              title=\"Convert this dataframe to an interactive table.\"\n",
              "              style=\"display:none;\">\n",
              "        \n",
              "  <svg xmlns=\"http://www.w3.org/2000/svg\" height=\"24px\"viewBox=\"0 0 24 24\"\n",
              "       width=\"24px\">\n",
              "    <path d=\"M0 0h24v24H0V0z\" fill=\"none\"/>\n",
              "    <path d=\"M18.56 5.44l.94 2.06.94-2.06 2.06-.94-2.06-.94-.94-2.06-.94 2.06-2.06.94zm-11 1L8.5 8.5l.94-2.06 2.06-.94-2.06-.94L8.5 2.5l-.94 2.06-2.06.94zm10 10l.94 2.06.94-2.06 2.06-.94-2.06-.94-.94-2.06-.94 2.06-2.06.94z\"/><path d=\"M17.41 7.96l-1.37-1.37c-.4-.4-.92-.59-1.43-.59-.52 0-1.04.2-1.43.59L10.3 9.45l-7.72 7.72c-.78.78-.78 2.05 0 2.83L4 21.41c.39.39.9.59 1.41.59.51 0 1.02-.2 1.41-.59l7.78-7.78 2.81-2.81c.8-.78.8-2.07 0-2.86zM5.41 20L4 18.59l7.72-7.72 1.47 1.35L5.41 20z\"/>\n",
              "  </svg>\n",
              "      </button>\n",
              "      \n",
              "  <style>\n",
              "    .colab-df-container {\n",
              "      display:flex;\n",
              "      flex-wrap:wrap;\n",
              "      gap: 12px;\n",
              "    }\n",
              "\n",
              "    .colab-df-convert {\n",
              "      background-color: #E8F0FE;\n",
              "      border: none;\n",
              "      border-radius: 50%;\n",
              "      cursor: pointer;\n",
              "      display: none;\n",
              "      fill: #1967D2;\n",
              "      height: 32px;\n",
              "      padding: 0 0 0 0;\n",
              "      width: 32px;\n",
              "    }\n",
              "\n",
              "    .colab-df-convert:hover {\n",
              "      background-color: #E2EBFA;\n",
              "      box-shadow: 0px 1px 2px rgba(60, 64, 67, 0.3), 0px 1px 3px 1px rgba(60, 64, 67, 0.15);\n",
              "      fill: #174EA6;\n",
              "    }\n",
              "\n",
              "    [theme=dark] .colab-df-convert {\n",
              "      background-color: #3B4455;\n",
              "      fill: #D2E3FC;\n",
              "    }\n",
              "\n",
              "    [theme=dark] .colab-df-convert:hover {\n",
              "      background-color: #434B5C;\n",
              "      box-shadow: 0px 1px 3px 1px rgba(0, 0, 0, 0.15);\n",
              "      filter: drop-shadow(0px 1px 2px rgba(0, 0, 0, 0.3));\n",
              "      fill: #FFFFFF;\n",
              "    }\n",
              "  </style>\n",
              "\n",
              "      <script>\n",
              "        const buttonEl =\n",
              "          document.querySelector('#df-f681d441-fa90-4383-9f3c-7290f4a95abf button.colab-df-convert');\n",
              "        buttonEl.style.display =\n",
              "          google.colab.kernel.accessAllowed ? 'block' : 'none';\n",
              "\n",
              "        async function convertToInteractive(key) {\n",
              "          const element = document.querySelector('#df-f681d441-fa90-4383-9f3c-7290f4a95abf');\n",
              "          const dataTable =\n",
              "            await google.colab.kernel.invokeFunction('convertToInteractive',\n",
              "                                                     [key], {});\n",
              "          if (!dataTable) return;\n",
              "\n",
              "          const docLinkHtml = 'Like what you see? Visit the ' +\n",
              "            '<a target=\"_blank\" href=https://colab.research.google.com/notebooks/data_table.ipynb>data table notebook</a>'\n",
              "            + ' to learn more about interactive tables.';\n",
              "          element.innerHTML = '';\n",
              "          dataTable['output_type'] = 'display_data';\n",
              "          await google.colab.output.renderOutput(dataTable, element);\n",
              "          const docLink = document.createElement('div');\n",
              "          docLink.innerHTML = docLinkHtml;\n",
              "          element.appendChild(docLink);\n",
              "        }\n",
              "      </script>\n",
              "    </div>\n",
              "  </div>\n",
              "  "
            ],
            "text/plain": [
              "   User_ID Gender    Age  Occupation City_Category Stay_In_Current_City_Years  \\\n",
              "0  1003598      M    55+           1             A                          2   \n",
              "1  1004486      M  36-45           8             C                          1   \n",
              "2  1002744      M  18-25          17             C                          1   \n",
              "3  1004539      M  36-45          19             C                          0   \n",
              "4  1004636      M  18-25           2             B                          2   \n",
              "5  1005944      F  18-25          10             C                         4+   \n",
              "\n",
              "   Marital_Status  TotalPurchase  nb_products  Avg_money_per_product  \\\n",
              "0               0         113331           42                2698.36   \n",
              "1               0          69562           30                2318.73   \n",
              "2               1         314780           92                3421.52   \n",
              "3               0         295996           70                4228.51   \n",
              "4               1          57805           16                3612.81   \n",
              "5               0          53996           15                3599.73   \n",
              "\n",
              "      Saving  saving_score  \n",
              "0  222084.38          1.96  \n",
              "1  117960.88          1.70  \n",
              "2  455274.69          1.45  \n",
              "3  378837.70          1.28  \n",
              "4   70365.35          1.22  \n",
              "5   57382.24          1.06  "
            ]
          },
          "execution_count": 68,
          "metadata": {},
          "output_type": "execute_result"
        }
      ],
      "source": [
        "user_df2['saving_score'] = round(user_df2.Saving / user_df2.TotalPurchase, 2)\n",
        "user_df2.sort_values(by=\"saving_score\", ignore_index=True, ascending=False).head(6)"
      ]
    },
    {
      "cell_type": "code",
      "execution_count": null,
      "metadata": {
        "colab": {
          "base_uri": "https://localhost:8080/",
          "height": 563
        },
        "id": "RjEs3qHOvpkL",
        "outputId": "00deaf7f-c98c-4969-d02f-a5ca8048acc7"
      },
      "outputs": [
        {
          "data": {
            "text/plain": [
              "<matplotlib.axes._subplots.AxesSubplot at 0x7f00daf29090>"
            ]
          },
          "execution_count": 69,
          "metadata": {},
          "output_type": "execute_result"
        },
        {
          "data": {
            "image/png": "[encoded data removed]",
            "text/plain": [
              "<Figure size 1008x576 with 1 Axes>"
            ]
          },
          "metadata": {},
          "output_type": "display_data"
        }
      ],
      "source": [
        "plt.figure(figsize=(14,8))\n",
        "sns.histplot(data=user_df2.saving_score, kde=True)"
      ]
    },
    {
      "cell_type": "code",
      "execution_count": null,
      "metadata": {
        "colab": {
          "base_uri": "https://localhost:8080/",
          "height": 388
        },
        "id": "M39M5y1svhHn",
        "outputId": "19f0583f-b527-4816-9cfa-f0626a0c9143"
      },
      "outputs": [
        {
          "data": {
            "text/html": [
              "\n",
              "  <div id=\"df-c417957c-2c19-4a2f-90ae-ac6f96181c65\">\n",
              "    <div class=\"colab-df-container\">\n",
              "      <div>\n",
              "<style scoped>\n",
              "    .dataframe tbody tr th:only-of-type {\n",
              "        vertical-align: middle;\n",
              "    }\n",
              "\n",
              "    .dataframe tbody tr th {\n",
              "        vertical-align: top;\n",
              "    }\n",
              "\n",
              "    .dataframe thead th {\n",
              "        text-align: right;\n",
              "    }\n",
              "</style>\n",
              "<table border=\"1\" class=\"dataframe\">\n",
              "  <thead>\n",
              "    <tr style=\"text-align: right;\">\n",
              "      <th></th>\n",
              "      <th>User_ID</th>\n",
              "      <th>Gender</th>\n",
              "      <th>Age</th>\n",
              "      <th>Occupation</th>\n",
              "      <th>City_Category</th>\n",
              "      <th>Stay_In_Current_City_Years</th>\n",
              "      <th>Marital_Status</th>\n",
              "      <th>TotalPurchase</th>\n",
              "      <th>nb_products</th>\n",
              "      <th>Avg_money_per_product</th>\n",
              "      <th>Saving</th>\n",
              "      <th>saving_score</th>\n",
              "    </tr>\n",
              "  </thead>\n",
              "  <tbody>\n",
              "    <tr>\n",
              "      <th>0</th>\n",
              "      <td>1003598</td>\n",
              "      <td>M</td>\n",
              "      <td>55+</td>\n",
              "      <td>1</td>\n",
              "      <td>A</td>\n",
              "      <td>2</td>\n",
              "      <td>0</td>\n",
              "      <td>113331</td>\n",
              "      <td>42</td>\n",
              "      <td>2698.36</td>\n",
              "      <td>222084.38</td>\n",
              "      <td>1.96</td>\n",
              "    </tr>\n",
              "    <tr>\n",
              "      <th>1</th>\n",
              "      <td>1004486</td>\n",
              "      <td>M</td>\n",
              "      <td>36-45</td>\n",
              "      <td>8</td>\n",
              "      <td>C</td>\n",
              "      <td>1</td>\n",
              "      <td>0</td>\n",
              "      <td>69562</td>\n",
              "      <td>30</td>\n",
              "      <td>2318.73</td>\n",
              "      <td>117960.88</td>\n",
              "      <td>1.70</td>\n",
              "    </tr>\n",
              "    <tr>\n",
              "      <th>2</th>\n",
              "      <td>1002744</td>\n",
              "      <td>M</td>\n",
              "      <td>18-25</td>\n",
              "      <td>17</td>\n",
              "      <td>C</td>\n",
              "      <td>1</td>\n",
              "      <td>1</td>\n",
              "      <td>314780</td>\n",
              "      <td>92</td>\n",
              "      <td>3421.52</td>\n",
              "      <td>455274.69</td>\n",
              "      <td>1.45</td>\n",
              "    </tr>\n",
              "    <tr>\n",
              "      <th>3</th>\n",
              "      <td>1004539</td>\n",
              "      <td>M</td>\n",
              "      <td>36-45</td>\n",
              "      <td>19</td>\n",
              "      <td>C</td>\n",
              "      <td>0</td>\n",
              "      <td>0</td>\n",
              "      <td>295996</td>\n",
              "      <td>70</td>\n",
              "      <td>4228.51</td>\n",
              "      <td>378837.70</td>\n",
              "      <td>1.28</td>\n",
              "    </tr>\n",
              "    <tr>\n",
              "      <th>4</th>\n",
              "      <td>1004636</td>\n",
              "      <td>M</td>\n",
              "      <td>18-25</td>\n",
              "      <td>2</td>\n",
              "      <td>B</td>\n",
              "      <td>2</td>\n",
              "      <td>1</td>\n",
              "      <td>57805</td>\n",
              "      <td>16</td>\n",
              "      <td>3612.81</td>\n",
              "      <td>70365.35</td>\n",
              "      <td>1.22</td>\n",
              "    </tr>\n",
              "    <tr>\n",
              "      <th>5</th>\n",
              "      <td>1005944</td>\n",
              "      <td>F</td>\n",
              "      <td>18-25</td>\n",
              "      <td>10</td>\n",
              "      <td>C</td>\n",
              "      <td>4+</td>\n",
              "      <td>0</td>\n",
              "      <td>53996</td>\n",
              "      <td>15</td>\n",
              "      <td>3599.73</td>\n",
              "      <td>57382.24</td>\n",
              "      <td>1.06</td>\n",
              "    </tr>\n",
              "  </tbody>\n",
              "</table>\n",
              "</div>\n",
              "      <button class=\"colab-df-convert\" onclick=\"convertToInteractive('df-c417957c-2c19-4a2f-90ae-ac6f96181c65')\"\n",
              "              title=\"Convert this dataframe to an interactive table.\"\n",
              "              style=\"display:none;\">\n",
              "        \n",
              "  <svg xmlns=\"http://www.w3.org/2000/svg\" height=\"24px\"viewBox=\"0 0 24 24\"\n",
              "       width=\"24px\">\n",
              "    <path d=\"M0 0h24v24H0V0z\" fill=\"none\"/>\n",
              "    <path d=\"M18.56 5.44l.94 2.06.94-2.06 2.06-.94-2.06-.94-.94-2.06-.94 2.06-2.06.94zm-11 1L8.5 8.5l.94-2.06 2.06-.94-2.06-.94L8.5 2.5l-.94 2.06-2.06.94zm10 10l.94 2.06.94-2.06 2.06-.94-2.06-.94-.94-2.06-.94 2.06-2.06.94z\"/><path d=\"M17.41 7.96l-1.37-1.37c-.4-.4-.92-.59-1.43-.59-.52 0-1.04.2-1.43.59L10.3 9.45l-7.72 7.72c-.78.78-.78 2.05 0 2.83L4 21.41c.39.39.9.59 1.41.59.51 0 1.02-.2 1.41-.59l7.78-7.78 2.81-2.81c.8-.78.8-2.07 0-2.86zM5.41 20L4 18.59l7.72-7.72 1.47 1.35L5.41 20z\"/>\n",
              "  </svg>\n",
              "      </button>\n",
              "      \n",
              "  <style>\n",
              "    .colab-df-container {\n",
              "      display:flex;\n",
              "      flex-wrap:wrap;\n",
              "      gap: 12px;\n",
              "    }\n",
              "\n",
              "    .colab-df-convert {\n",
              "      background-color: #E8F0FE;\n",
              "      border: none;\n",
              "      border-radius: 50%;\n",
              "      cursor: pointer;\n",
              "      display: none;\n",
              "      fill: #1967D2;\n",
              "      height: 32px;\n",
              "      padding: 0 0 0 0;\n",
              "      width: 32px;\n",
              "    }\n",
              "\n",
              "    .colab-df-convert:hover {\n",
              "      background-color: #E2EBFA;\n",
              "      box-shadow: 0px 1px 2px rgba(60, 64, 67, 0.3), 0px 1px 3px 1px rgba(60, 64, 67, 0.15);\n",
              "      fill: #174EA6;\n",
              "    }\n",
              "\n",
              "    [theme=dark] .colab-df-convert {\n",
              "      background-color: #3B4455;\n",
              "      fill: #D2E3FC;\n",
              "    }\n",
              "\n",
              "    [theme=dark] .colab-df-convert:hover {\n",
              "      background-color: #434B5C;\n",
              "      box-shadow: 0px 1px 3px 1px rgba(0, 0, 0, 0.15);\n",
              "      filter: drop-shadow(0px 1px 2px rgba(0, 0, 0, 0.3));\n",
              "      fill: #FFFFFF;\n",
              "    }\n",
              "  </style>\n",
              "\n",
              "      <script>\n",
              "        const buttonEl =\n",
              "          document.querySelector('#df-c417957c-2c19-4a2f-90ae-ac6f96181c65 button.colab-df-convert');\n",
              "        buttonEl.style.display =\n",
              "          google.colab.kernel.accessAllowed ? 'block' : 'none';\n",
              "\n",
              "        async function convertToInteractive(key) {\n",
              "          const element = document.querySelector('#df-c417957c-2c19-4a2f-90ae-ac6f96181c65');\n",
              "          const dataTable =\n",
              "            await google.colab.kernel.invokeFunction('convertToInteractive',\n",
              "                                                     [key], {});\n",
              "          if (!dataTable) return;\n",
              "\n",
              "          const docLinkHtml = 'Like what you see? Visit the ' +\n",
              "            '<a target=\"_blank\" href=https://colab.research.google.com/notebooks/data_table.ipynb>data table notebook</a>'\n",
              "            + ' to learn more about interactive tables.';\n",
              "          element.innerHTML = '';\n",
              "          dataTable['output_type'] = 'display_data';\n",
              "          await google.colab.output.renderOutput(dataTable, element);\n",
              "          const docLink = document.createElement('div');\n",
              "          docLink.innerHTML = docLinkHtml;\n",
              "          element.appendChild(docLink);\n",
              "        }\n",
              "      </script>\n",
              "    </div>\n",
              "  </div>\n",
              "  "
            ],
            "text/plain": [
              "   User_ID Gender    Age  Occupation City_Category Stay_In_Current_City_Years  \\\n",
              "0  1003598      M    55+           1             A                          2   \n",
              "1  1004486      M  36-45           8             C                          1   \n",
              "2  1002744      M  18-25          17             C                          1   \n",
              "3  1004539      M  36-45          19             C                          0   \n",
              "4  1004636      M  18-25           2             B                          2   \n",
              "5  1005944      F  18-25          10             C                         4+   \n",
              "\n",
              "   Marital_Status  TotalPurchase  nb_products  Avg_money_per_product  \\\n",
              "0               0         113331           42                2698.36   \n",
              "1               0          69562           30                2318.73   \n",
              "2               1         314780           92                3421.52   \n",
              "3               0         295996           70                4228.51   \n",
              "4               1          57805           16                3612.81   \n",
              "5               0          53996           15                3599.73   \n",
              "\n",
              "      Saving  saving_score  \n",
              "0  222084.38          1.96  \n",
              "1  117960.88          1.70  \n",
              "2  455274.69          1.45  \n",
              "3  378837.70          1.28  \n",
              "4   70365.35          1.22  \n",
              "5   57382.24          1.06  "
            ]
          },
          "execution_count": 47,
          "metadata": {},
          "output_type": "execute_result"
        }
      ],
      "source": [
        "user_df2['saving_score'] = round(user_df2.Saving / user_df2.TotalPurchase, 2)\n",
        "user_df2.sort_values(by=\"saving_score\", ignore_index=True, ascending=False).head(6)"
      ]
    },
    {
      "cell_type": "code",
      "execution_count": null,
      "metadata": {
        "colab": {
          "base_uri": "https://localhost:8080/",
          "height": 175
        },
        "id": "F7tN5Jjcvixi",
        "outputId": "eb610b58-d158-4224-8df7-1b4796fe30df"
      },
      "outputs": [
        {
          "data": {
            "text/html": [
              "\n",
              "  <div id=\"df-ad1d028d-fcdc-4e5b-9a69-69530ab58e4e\">\n",
              "    <div class=\"colab-df-container\">\n",
              "      <div>\n",
              "<style scoped>\n",
              "    .dataframe tbody tr th:only-of-type {\n",
              "        vertical-align: middle;\n",
              "    }\n",
              "\n",
              "    .dataframe tbody tr th {\n",
              "        vertical-align: top;\n",
              "    }\n",
              "\n",
              "    .dataframe thead th {\n",
              "        text-align: right;\n",
              "    }\n",
              "</style>\n",
              "<table border=\"1\" class=\"dataframe\">\n",
              "  <thead>\n",
              "    <tr style=\"text-align: right;\">\n",
              "      <th></th>\n",
              "      <th>saving_score</th>\n",
              "    </tr>\n",
              "    <tr>\n",
              "      <th>City_Category</th>\n",
              "      <th></th>\n",
              "    </tr>\n",
              "  </thead>\n",
              "  <tbody>\n",
              "    <tr>\n",
              "      <th>A</th>\n",
              "      <td>19.33</td>\n",
              "    </tr>\n",
              "    <tr>\n",
              "      <th>B</th>\n",
              "      <td>18.46</td>\n",
              "    </tr>\n",
              "    <tr>\n",
              "      <th>C</th>\n",
              "      <td>-23.57</td>\n",
              "    </tr>\n",
              "  </tbody>\n",
              "</table>\n",
              "</div>\n",
              "      <button class=\"colab-df-convert\" onclick=\"convertToInteractive('df-ad1d028d-fcdc-4e5b-9a69-69530ab58e4e')\"\n",
              "              title=\"Convert this dataframe to an interactive table.\"\n",
              "              style=\"display:none;\">\n",
              "        \n",
              "  <svg xmlns=\"http://www.w3.org/2000/svg\" height=\"24px\"viewBox=\"0 0 24 24\"\n",
              "       width=\"24px\">\n",
              "    <path d=\"M0 0h24v24H0V0z\" fill=\"none\"/>\n",
              "    <path d=\"M18.56 5.44l.94 2.06.94-2.06 2.06-.94-2.06-.94-.94-2.06-.94 2.06-2.06.94zm-11 1L8.5 8.5l.94-2.06 2.06-.94-2.06-.94L8.5 2.5l-.94 2.06-2.06.94zm10 10l.94 2.06.94-2.06 2.06-.94-2.06-.94-.94-2.06-.94 2.06-2.06.94z\"/><path d=\"M17.41 7.96l-1.37-1.37c-.4-.4-.92-.59-1.43-.59-.52 0-1.04.2-1.43.59L10.3 9.45l-7.72 7.72c-.78.78-.78 2.05 0 2.83L4 21.41c.39.39.9.59 1.41.59.51 0 1.02-.2 1.41-.59l7.78-7.78 2.81-2.81c.8-.78.8-2.07 0-2.86zM5.41 20L4 18.59l7.72-7.72 1.47 1.35L5.41 20z\"/>\n",
              "  </svg>\n",
              "      </button>\n",
              "      \n",
              "  <style>\n",
              "    .colab-df-container {\n",
              "      display:flex;\n",
              "      flex-wrap:wrap;\n",
              "      gap: 12px;\n",
              "    }\n",
              "\n",
              "    .colab-df-convert {\n",
              "      background-color: #E8F0FE;\n",
              "      border: none;\n",
              "      border-radius: 50%;\n",
              "      cursor: pointer;\n",
              "      display: none;\n",
              "      fill: #1967D2;\n",
              "      height: 32px;\n",
              "      padding: 0 0 0 0;\n",
              "      width: 32px;\n",
              "    }\n",
              "\n",
              "    .colab-df-convert:hover {\n",
              "      background-color: #E2EBFA;\n",
              "      box-shadow: 0px 1px 2px rgba(60, 64, 67, 0.3), 0px 1px 3px 1px rgba(60, 64, 67, 0.15);\n",
              "      fill: #174EA6;\n",
              "    }\n",
              "\n",
              "    [theme=dark] .colab-df-convert {\n",
              "      background-color: #3B4455;\n",
              "      fill: #D2E3FC;\n",
              "    }\n",
              "\n",
              "    [theme=dark] .colab-df-convert:hover {\n",
              "      background-color: #434B5C;\n",
              "      box-shadow: 0px 1px 3px 1px rgba(0, 0, 0, 0.15);\n",
              "      filter: drop-shadow(0px 1px 2px rgba(0, 0, 0, 0.3));\n",
              "      fill: #FFFFFF;\n",
              "    }\n",
              "  </style>\n",
              "\n",
              "      <script>\n",
              "        const buttonEl =\n",
              "          document.querySelector('#df-ad1d028d-fcdc-4e5b-9a69-69530ab58e4e button.colab-df-convert');\n",
              "        buttonEl.style.display =\n",
              "          google.colab.kernel.accessAllowed ? 'block' : 'none';\n",
              "\n",
              "        async function convertToInteractive(key) {\n",
              "          const element = document.querySelector('#df-ad1d028d-fcdc-4e5b-9a69-69530ab58e4e');\n",
              "          const dataTable =\n",
              "            await google.colab.kernel.invokeFunction('convertToInteractive',\n",
              "                                                     [key], {});\n",
              "          if (!dataTable) return;\n",
              "\n",
              "          const docLinkHtml = 'Like what you see? Visit the ' +\n",
              "            '<a target=\"_blank\" href=https://colab.research.google.com/notebooks/data_table.ipynb>data table notebook</a>'\n",
              "            + ' to learn more about interactive tables.';\n",
              "          element.innerHTML = '';\n",
              "          dataTable['output_type'] = 'display_data';\n",
              "          await google.colab.output.renderOutput(dataTable, element);\n",
              "          const docLink = document.createElement('div');\n",
              "          docLink.innerHTML = docLinkHtml;\n",
              "          element.appendChild(docLink);\n",
              "        }\n",
              "      </script>\n",
              "    </div>\n",
              "  </div>\n",
              "  "
            ],
            "text/plain": [
              "               saving_score\n",
              "City_Category              \n",
              "A                     19.33\n",
              "B                     18.46\n",
              "C                    -23.57"
            ]
          },
          "execution_count": 70,
          "metadata": {},
          "output_type": "execute_result"
        }
      ],
      "source": [
        "user_df2.groupby('City_Category').agg({\"saving_score\":\"sum\"})"
      ]
    },
    {
      "cell_type": "code",
      "execution_count": null,
      "metadata": {
        "colab": {
          "base_uri": "https://localhost:8080/",
          "height": 567
        },
        "id": "-XvZaHHgwiVP",
        "outputId": "d331caf9-81a5-4c29-f43b-4e3965de490e"
      },
      "outputs": [
        {
          "data": {
            "image/png": "[encoded data removed]",
            "text/plain": [
              "<Figure size 1008x576 with 1 Axes>"
            ]
          },
          "metadata": {},
          "output_type": "display_data"
        }
      ],
      "source": [
        "plt.figure(figsize=(14,8))\n",
        "sns.barplot(data=user_df2, y='saving_score', x='City_Category', hue='Gender', ci=False, order=[\"A\", \"B\", \"C\"])\n",
        "\n",
        "plt.ylabel(\"Saving score\")\n",
        "plt.title(\"Average saving score of users according to city category\")\n",
        "\n",
        "plt.savefig(\"saving_user_city.png\")\n",
        "plt.show()"
      ]
    },
    {
      "cell_type": "markdown",
      "metadata": {
        "id": "5Fs7blQ8ppL-"
      },
      "source": [
        "It seems that people in city C usually buy product with higher price\n",
        "\n",
        "In general, males in city A use money more efficient than females, and females in city B use money more effiecient than males in city B"
      ]
    },
    {
      "cell_type": "markdown",
      "metadata": {
        "id": "3aOcR4rgwz_6"
      },
      "source": [
        "### 3.3 Which type of products are more prefer (bought most)?"
      ]
    },
    {
      "cell_type": "code",
      "execution_count": null,
      "metadata": {
        "colab": {
          "base_uri": "https://localhost:8080/",
          "height": 206
        },
        "id": "t_5qR-eiw5CO",
        "outputId": "8402579e-a2ac-4f0a-87f4-f13b612b6062"
      },
      "outputs": [
        {
          "data": {
            "text/html": [
              "\n",
              "  <div id=\"df-dec2c081-325b-4756-b5e8-f70fe1298739\">\n",
              "    <div class=\"colab-df-container\">\n",
              "      <div>\n",
              "<style scoped>\n",
              "    .dataframe tbody tr th:only-of-type {\n",
              "        vertical-align: middle;\n",
              "    }\n",
              "\n",
              "    .dataframe tbody tr th {\n",
              "        vertical-align: top;\n",
              "    }\n",
              "\n",
              "    .dataframe thead th {\n",
              "        text-align: right;\n",
              "    }\n",
              "</style>\n",
              "<table border=\"1\" class=\"dataframe\">\n",
              "  <thead>\n",
              "    <tr style=\"text-align: right;\">\n",
              "      <th></th>\n",
              "      <th>User_ID</th>\n",
              "      <th>Product_ID</th>\n",
              "      <th>City_Category</th>\n",
              "      <th>Product_Category_1</th>\n",
              "      <th>Product_Category_2</th>\n",
              "      <th>Product_Category_3</th>\n",
              "      <th>Purchase</th>\n",
              "      <th>Versatile</th>\n",
              "    </tr>\n",
              "  </thead>\n",
              "  <tbody>\n",
              "    <tr>\n",
              "      <th>0</th>\n",
              "      <td>1000001</td>\n",
              "      <td>P00069042</td>\n",
              "      <td>A</td>\n",
              "      <td>3</td>\n",
              "      <td>NaN</td>\n",
              "      <td>NaN</td>\n",
              "      <td>8370</td>\n",
              "      <td>1</td>\n",
              "    </tr>\n",
              "    <tr>\n",
              "      <th>1</th>\n",
              "      <td>1000001</td>\n",
              "      <td>P00248942</td>\n",
              "      <td>A</td>\n",
              "      <td>1</td>\n",
              "      <td>6.0</td>\n",
              "      <td>14.0</td>\n",
              "      <td>15200</td>\n",
              "      <td>3</td>\n",
              "    </tr>\n",
              "    <tr>\n",
              "      <th>2</th>\n",
              "      <td>1000001</td>\n",
              "      <td>P00087842</td>\n",
              "      <td>A</td>\n",
              "      <td>12</td>\n",
              "      <td>NaN</td>\n",
              "      <td>NaN</td>\n",
              "      <td>1422</td>\n",
              "      <td>1</td>\n",
              "    </tr>\n",
              "    <tr>\n",
              "      <th>3</th>\n",
              "      <td>1000001</td>\n",
              "      <td>P00085442</td>\n",
              "      <td>A</td>\n",
              "      <td>12</td>\n",
              "      <td>14.0</td>\n",
              "      <td>NaN</td>\n",
              "      <td>1057</td>\n",
              "      <td>2</td>\n",
              "    </tr>\n",
              "    <tr>\n",
              "      <th>4</th>\n",
              "      <td>1000002</td>\n",
              "      <td>P00285442</td>\n",
              "      <td>C</td>\n",
              "      <td>8</td>\n",
              "      <td>NaN</td>\n",
              "      <td>NaN</td>\n",
              "      <td>7969</td>\n",
              "      <td>1</td>\n",
              "    </tr>\n",
              "  </tbody>\n",
              "</table>\n",
              "</div>\n",
              "      <button class=\"colab-df-convert\" onclick=\"convertToInteractive('df-dec2c081-325b-4756-b5e8-f70fe1298739')\"\n",
              "              title=\"Convert this dataframe to an interactive table.\"\n",
              "              style=\"display:none;\">\n",
              "        \n",
              "  <svg xmlns=\"http://www.w3.org/2000/svg\" height=\"24px\"viewBox=\"0 0 24 24\"\n",
              "       width=\"24px\">\n",
              "    <path d=\"M0 0h24v24H0V0z\" fill=\"none\"/>\n",
              "    <path d=\"M18.56 5.44l.94 2.06.94-2.06 2.06-.94-2.06-.94-.94-2.06-.94 2.06-2.06.94zm-11 1L8.5 8.5l.94-2.06 2.06-.94-2.06-.94L8.5 2.5l-.94 2.06-2.06.94zm10 10l.94 2.06.94-2.06 2.06-.94-2.06-.94-.94-2.06-.94 2.06-2.06.94z\"/><path d=\"M17.41 7.96l-1.37-1.37c-.4-.4-.92-.59-1.43-.59-.52 0-1.04.2-1.43.59L10.3 9.45l-7.72 7.72c-.78.78-.78 2.05 0 2.83L4 21.41c.39.39.9.59 1.41.59.51 0 1.02-.2 1.41-.59l7.78-7.78 2.81-2.81c.8-.78.8-2.07 0-2.86zM5.41 20L4 18.59l7.72-7.72 1.47 1.35L5.41 20z\"/>\n",
              "  </svg>\n",
              "      </button>\n",
              "      \n",
              "  <style>\n",
              "    .colab-df-container {\n",
              "      display:flex;\n",
              "      flex-wrap:wrap;\n",
              "      gap: 12px;\n",
              "    }\n",
              "\n",
              "    .colab-df-convert {\n",
              "      background-color: #E8F0FE;\n",
              "      border: none;\n",
              "      border-radius: 50%;\n",
              "      cursor: pointer;\n",
              "      display: none;\n",
              "      fill: #1967D2;\n",
              "      height: 32px;\n",
              "      padding: 0 0 0 0;\n",
              "      width: 32px;\n",
              "    }\n",
              "\n",
              "    .colab-df-convert:hover {\n",
              "      background-color: #E2EBFA;\n",
              "      box-shadow: 0px 1px 2px rgba(60, 64, 67, 0.3), 0px 1px 3px 1px rgba(60, 64, 67, 0.15);\n",
              "      fill: #174EA6;\n",
              "    }\n",
              "\n",
              "    [theme=dark] .colab-df-convert {\n",
              "      background-color: #3B4455;\n",
              "      fill: #D2E3FC;\n",
              "    }\n",
              "\n",
              "    [theme=dark] .colab-df-convert:hover {\n",
              "      background-color: #434B5C;\n",
              "      box-shadow: 0px 1px 3px 1px rgba(0, 0, 0, 0.15);\n",
              "      filter: drop-shadow(0px 1px 2px rgba(0, 0, 0, 0.3));\n",
              "      fill: #FFFFFF;\n",
              "    }\n",
              "  </style>\n",
              "\n",
              "      <script>\n",
              "        const buttonEl =\n",
              "          document.querySelector('#df-dec2c081-325b-4756-b5e8-f70fe1298739 button.colab-df-convert');\n",
              "        buttonEl.style.display =\n",
              "          google.colab.kernel.accessAllowed ? 'block' : 'none';\n",
              "\n",
              "        async function convertToInteractive(key) {\n",
              "          const element = document.querySelector('#df-dec2c081-325b-4756-b5e8-f70fe1298739');\n",
              "          const dataTable =\n",
              "            await google.colab.kernel.invokeFunction('convertToInteractive',\n",
              "                                                     [key], {});\n",
              "          if (!dataTable) return;\n",
              "\n",
              "          const docLinkHtml = 'Like what you see? Visit the ' +\n",
              "            '<a target=\"_blank\" href=https://colab.research.google.com/notebooks/data_table.ipynb>data table notebook</a>'\n",
              "            + ' to learn more about interactive tables.';\n",
              "          element.innerHTML = '';\n",
              "          dataTable['output_type'] = 'display_data';\n",
              "          await google.colab.output.renderOutput(dataTable, element);\n",
              "          const docLink = document.createElement('div');\n",
              "          docLink.innerHTML = docLinkHtml;\n",
              "          element.appendChild(docLink);\n",
              "        }\n",
              "      </script>\n",
              "    </div>\n",
              "  </div>\n",
              "  "
            ],
            "text/plain": [
              "   User_ID Product_ID City_Category  Product_Category_1  Product_Category_2  \\\n",
              "0  1000001  P00069042             A                   3                 NaN   \n",
              "1  1000001  P00248942             A                   1                 6.0   \n",
              "2  1000001  P00087842             A                  12                 NaN   \n",
              "3  1000001  P00085442             A                  12                14.0   \n",
              "4  1000002  P00285442             C                   8                 NaN   \n",
              "\n",
              "   Product_Category_3  Purchase  Versatile  \n",
              "0                 NaN      8370          1  \n",
              "1                14.0     15200          3  \n",
              "2                 NaN      1422          1  \n",
              "3                 NaN      1057          2  \n",
              "4                 NaN      7969          1  "
            ]
          },
          "execution_count": 72,
          "metadata": {},
          "output_type": "execute_result"
        }
      ],
      "source": [
        "product_df = train_raw.loc[:,[\"User_ID\", \"Product_ID\", \"City_Category\",  \"Product_Category_1\",\"Product_Category_2\",\"Product_Category_3\", \"Purchase\" ]]\n",
        "product_df['Versatile'] = 3 - product_df.iloc[:,[3,4,5]].isnull().sum(axis = 1)\n",
        "product_df.head()"
      ]
    },
    {
      "cell_type": "code",
      "execution_count": null,
      "metadata": {
        "colab": {
          "base_uri": "https://localhost:8080/"
        },
        "id": "Kj454Rwvw6rT",
        "outputId": "ec20c046-0d73-4e57-85b2-f7ddae84102d"
      },
      "outputs": [
        {
          "data": {
            "text/plain": [
              "2    209609\n",
              "1    173638\n",
              "3    166821\n",
              "Name: Versatile, dtype: int64"
            ]
          },
          "execution_count": 73,
          "metadata": {},
          "output_type": "execute_result"
        }
      ],
      "source": [
        "product_df.Versatile.value_counts()"
      ]
    },
    {
      "cell_type": "code",
      "execution_count": null,
      "metadata": {
        "colab": {
          "base_uri": "https://localhost:8080/",
          "height": 567
        },
        "id": "-iPxSskRw-OK",
        "outputId": "218aa259-47f1-49bb-c0e1-a8cb983c2dd6"
      },
      "outputs": [
        {
          "data": {
            "image/png": "[encoded data removed]",
            "text/plain": [
              "<Figure size 864x576 with 1 Axes>"
            ]
          },
          "metadata": {},
          "output_type": "display_data"
        }
      ],
      "source": [
        "plt.figure(figsize=(12,8))\n",
        "sns.barplot(data=product_df, x='Versatile', y='Purchase', palette=\"Set2\", estimator=np.sum)\n",
        "\n",
        "plt.ylabel(\"Amount of money\")\n",
        "plt.title(\"Total of money spending for products according versatile score.\")\n",
        "plt.show()"
      ]
    },
    {
      "cell_type": "markdown",
      "metadata": {
        "id": "WW_rHf_IxEWE"
      },
      "source": [
        "*In general, we can see Versatile score: which product more versatile will have high price*"
      ]
    },
    {
      "cell_type": "code",
      "execution_count": null,
      "metadata": {
        "colab": {
          "base_uri": "https://localhost:8080/",
          "height": 206
        },
        "id": "8pJ5YWpKxEmR",
        "outputId": "b5f56889-2b59-4fc5-e3a6-c5e80a6defd0"
      },
      "outputs": [
        {
          "data": {
            "text/html": [
              "\n",
              "  <div id=\"df-8850ddc9-ef28-45fc-953d-f132652263d4\">\n",
              "    <div class=\"colab-df-container\">\n",
              "      <div>\n",
              "<style scoped>\n",
              "    .dataframe tbody tr th:only-of-type {\n",
              "        vertical-align: middle;\n",
              "    }\n",
              "\n",
              "    .dataframe tbody tr th {\n",
              "        vertical-align: top;\n",
              "    }\n",
              "\n",
              "    .dataframe thead th {\n",
              "        text-align: right;\n",
              "    }\n",
              "</style>\n",
              "<table border=\"1\" class=\"dataframe\">\n",
              "  <thead>\n",
              "    <tr style=\"text-align: right;\">\n",
              "      <th></th>\n",
              "      <th>Product_ID</th>\n",
              "      <th>Product_Category_1</th>\n",
              "      <th>Product_Category_2</th>\n",
              "      <th>Product_Category_3</th>\n",
              "      <th>Versatile</th>\n",
              "      <th>total_purchase</th>\n",
              "      <th>nb_users_purchase</th>\n",
              "    </tr>\n",
              "  </thead>\n",
              "  <tbody>\n",
              "    <tr>\n",
              "      <th>0</th>\n",
              "      <td>P00069042</td>\n",
              "      <td>3</td>\n",
              "      <td>NaN</td>\n",
              "      <td>NaN</td>\n",
              "      <td>1</td>\n",
              "      <td>2694686</td>\n",
              "      <td>227</td>\n",
              "    </tr>\n",
              "    <tr>\n",
              "      <th>1</th>\n",
              "      <td>P00248942</td>\n",
              "      <td>1</td>\n",
              "      <td>6.0</td>\n",
              "      <td>14.0</td>\n",
              "      <td>3</td>\n",
              "      <td>9472642</td>\n",
              "      <td>581</td>\n",
              "    </tr>\n",
              "    <tr>\n",
              "      <th>2</th>\n",
              "      <td>P00087842</td>\n",
              "      <td>12</td>\n",
              "      <td>NaN</td>\n",
              "      <td>NaN</td>\n",
              "      <td>1</td>\n",
              "      <td>126265</td>\n",
              "      <td>102</td>\n",
              "    </tr>\n",
              "    <tr>\n",
              "      <th>3</th>\n",
              "      <td>P00085442</td>\n",
              "      <td>12</td>\n",
              "      <td>14.0</td>\n",
              "      <td>NaN</td>\n",
              "      <td>2</td>\n",
              "      <td>496203</td>\n",
              "      <td>341</td>\n",
              "    </tr>\n",
              "    <tr>\n",
              "      <th>4</th>\n",
              "      <td>P00285442</td>\n",
              "      <td>8</td>\n",
              "      <td>NaN</td>\n",
              "      <td>NaN</td>\n",
              "      <td>1</td>\n",
              "      <td>1561631</td>\n",
              "      <td>203</td>\n",
              "    </tr>\n",
              "  </tbody>\n",
              "</table>\n",
              "</div>\n",
              "      <button class=\"colab-df-convert\" onclick=\"convertToInteractive('df-8850ddc9-ef28-45fc-953d-f132652263d4')\"\n",
              "              title=\"Convert this dataframe to an interactive table.\"\n",
              "              style=\"display:none;\">\n",
              "        \n",
              "  <svg xmlns=\"http://www.w3.org/2000/svg\" height=\"24px\"viewBox=\"0 0 24 24\"\n",
              "       width=\"24px\">\n",
              "    <path d=\"M0 0h24v24H0V0z\" fill=\"none\"/>\n",
              "    <path d=\"M18.56 5.44l.94 2.06.94-2.06 2.06-.94-2.06-.94-.94-2.06-.94 2.06-2.06.94zm-11 1L8.5 8.5l.94-2.06 2.06-.94-2.06-.94L8.5 2.5l-.94 2.06-2.06.94zm10 10l.94 2.06.94-2.06 2.06-.94-2.06-.94-.94-2.06-.94 2.06-2.06.94z\"/><path d=\"M17.41 7.96l-1.37-1.37c-.4-.4-.92-.59-1.43-.59-.52 0-1.04.2-1.43.59L10.3 9.45l-7.72 7.72c-.78.78-.78 2.05 0 2.83L4 21.41c.39.39.9.59 1.41.59.51 0 1.02-.2 1.41-.59l7.78-7.78 2.81-2.81c.8-.78.8-2.07 0-2.86zM5.41 20L4 18.59l7.72-7.72 1.47 1.35L5.41 20z\"/>\n",
              "  </svg>\n",
              "      </button>\n",
              "      \n",
              "  <style>\n",
              "    .colab-df-container {\n",
              "      display:flex;\n",
              "      flex-wrap:wrap;\n",
              "      gap: 12px;\n",
              "    }\n",
              "\n",
              "    .colab-df-convert {\n",
              "      background-color: #E8F0FE;\n",
              "      border: none;\n",
              "      border-radius: 50%;\n",
              "      cursor: pointer;\n",
              "      display: none;\n",
              "      fill: #1967D2;\n",
              "      height: 32px;\n",
              "      padding: 0 0 0 0;\n",
              "      width: 32px;\n",
              "    }\n",
              "\n",
              "    .colab-df-convert:hover {\n",
              "      background-color: #E2EBFA;\n",
              "      box-shadow: 0px 1px 2px rgba(60, 64, 67, 0.3), 0px 1px 3px 1px rgba(60, 64, 67, 0.15);\n",
              "      fill: #174EA6;\n",
              "    }\n",
              "\n",
              "    [theme=dark] .colab-df-convert {\n",
              "      background-color: #3B4455;\n",
              "      fill: #D2E3FC;\n",
              "    }\n",
              "\n",
              "    [theme=dark] .colab-df-convert:hover {\n",
              "      background-color: #434B5C;\n",
              "      box-shadow: 0px 1px 3px 1px rgba(0, 0, 0, 0.15);\n",
              "      filter: drop-shadow(0px 1px 2px rgba(0, 0, 0, 0.3));\n",
              "      fill: #FFFFFF;\n",
              "    }\n",
              "  </style>\n",
              "\n",
              "      <script>\n",
              "        const buttonEl =\n",
              "          document.querySelector('#df-8850ddc9-ef28-45fc-953d-f132652263d4 button.colab-df-convert');\n",
              "        buttonEl.style.display =\n",
              "          google.colab.kernel.accessAllowed ? 'block' : 'none';\n",
              "\n",
              "        async function convertToInteractive(key) {\n",
              "          const element = document.querySelector('#df-8850ddc9-ef28-45fc-953d-f132652263d4');\n",
              "          const dataTable =\n",
              "            await google.colab.kernel.invokeFunction('convertToInteractive',\n",
              "                                                     [key], {});\n",
              "          if (!dataTable) return;\n",
              "\n",
              "          const docLinkHtml = 'Like what you see? Visit the ' +\n",
              "            '<a target=\"_blank\" href=https://colab.research.google.com/notebooks/data_table.ipynb>data table notebook</a>'\n",
              "            + ' to learn more about interactive tables.';\n",
              "          element.innerHTML = '';\n",
              "          dataTable['output_type'] = 'display_data';\n",
              "          await google.colab.output.renderOutput(dataTable, element);\n",
              "          const docLink = document.createElement('div');\n",
              "          docLink.innerHTML = docLinkHtml;\n",
              "          element.appendChild(docLink);\n",
              "        }\n",
              "      </script>\n",
              "    </div>\n",
              "  </div>\n",
              "  "
            ],
            "text/plain": [
              "  Product_ID  Product_Category_1  Product_Category_2  Product_Category_3  \\\n",
              "0  P00069042                   3                 NaN                 NaN   \n",
              "1  P00248942                   1                 6.0                14.0   \n",
              "2  P00087842                  12                 NaN                 NaN   \n",
              "3  P00085442                  12                14.0                 NaN   \n",
              "4  P00285442                   8                 NaN                 NaN   \n",
              "\n",
              "   Versatile  total_purchase  nb_users_purchase  \n",
              "0          1         2694686                227  \n",
              "1          3         9472642                581  \n",
              "2          1          126265                102  \n",
              "3          2          496203                341  \n",
              "4          1         1561631                203  "
            ]
          },
          "execution_count": 75,
          "metadata": {},
          "output_type": "execute_result"
        }
      ],
      "source": [
        "# p1: dataframe contains product_id and total money user spent for that product\n",
        "p1 = product_df.loc[:, [\"Product_ID\", 'Purchase']]\n",
        "p1.rename(columns={\"Purchase\":\"total_purchase\"}, inplace=True)\n",
        "p1 = p1.groupby(by=\"Product_ID\", as_index=False).agg({\"total_purchase\":\"sum\"})\n",
        "\n",
        "\n",
        "# p2: dataframe contains product_id and number of users purchased that product\n",
        "p2 = product_df.loc[:, [\"Product_ID\", 'Purchase']]\n",
        "p2.rename(columns={\"Purchase\":\"nb_users_purchase\"}, inplace=True)\n",
        "p2 = p2.groupby(by=\"Product_ID\", as_index=False).agg({\"nb_users_purchase\":\"count\"})\n",
        "\n",
        "\n",
        "product_df1 = product_df.loc[:, [\"Product_ID\",  \"Product_Category_1\",\"Product_Category_2\",\"Product_Category_3\", \"Versatile\"]]\n",
        "product_df1.drop_duplicates(inplace=True)\n",
        "\n",
        "product_df1 = pd.merge(product_df1, p1, on='Product_ID')\n",
        "product_df1 = pd.merge(product_df1, p2, on='Product_ID')\n",
        "\n",
        "product_df1.head()"
      ]
    },
    {
      "cell_type": "code",
      "execution_count": null,
      "metadata": {
        "colab": {
          "base_uri": "https://localhost:8080/",
          "height": 206
        },
        "id": "28dmABZhxG49",
        "outputId": "cf4e01ee-4d0f-41a7-f454-cb4d30c34ffe"
      },
      "outputs": [
        {
          "data": {
            "text/html": [
              "\n",
              "  <div id=\"df-de9bb9f6-3685-4d7e-913e-f6ad3b253bcf\">\n",
              "    <div class=\"colab-df-container\">\n",
              "      <div>\n",
              "<style scoped>\n",
              "    .dataframe tbody tr th:only-of-type {\n",
              "        vertical-align: middle;\n",
              "    }\n",
              "\n",
              "    .dataframe tbody tr th {\n",
              "        vertical-align: top;\n",
              "    }\n",
              "\n",
              "    .dataframe thead th {\n",
              "        text-align: right;\n",
              "    }\n",
              "</style>\n",
              "<table border=\"1\" class=\"dataframe\">\n",
              "  <thead>\n",
              "    <tr style=\"text-align: right;\">\n",
              "      <th></th>\n",
              "      <th>Product_ID</th>\n",
              "      <th>Product_Category_1</th>\n",
              "      <th>Product_Category_2</th>\n",
              "      <th>Product_Category_3</th>\n",
              "      <th>Versatile</th>\n",
              "      <th>total_purchase</th>\n",
              "      <th>nb_users_purchase</th>\n",
              "      <th>avg_amount</th>\n",
              "    </tr>\n",
              "  </thead>\n",
              "  <tbody>\n",
              "    <tr>\n",
              "      <th>0</th>\n",
              "      <td>P00069042</td>\n",
              "      <td>3</td>\n",
              "      <td>NaN</td>\n",
              "      <td>NaN</td>\n",
              "      <td>1</td>\n",
              "      <td>2694686</td>\n",
              "      <td>227</td>\n",
              "      <td>11870.86</td>\n",
              "    </tr>\n",
              "    <tr>\n",
              "      <th>1</th>\n",
              "      <td>P00248942</td>\n",
              "      <td>1</td>\n",
              "      <td>6.0</td>\n",
              "      <td>14.0</td>\n",
              "      <td>3</td>\n",
              "      <td>9472642</td>\n",
              "      <td>581</td>\n",
              "      <td>16304.03</td>\n",
              "    </tr>\n",
              "    <tr>\n",
              "      <th>2</th>\n",
              "      <td>P00087842</td>\n",
              "      <td>12</td>\n",
              "      <td>NaN</td>\n",
              "      <td>NaN</td>\n",
              "      <td>1</td>\n",
              "      <td>126265</td>\n",
              "      <td>102</td>\n",
              "      <td>1237.89</td>\n",
              "    </tr>\n",
              "    <tr>\n",
              "      <th>3</th>\n",
              "      <td>P00085442</td>\n",
              "      <td>12</td>\n",
              "      <td>14.0</td>\n",
              "      <td>NaN</td>\n",
              "      <td>2</td>\n",
              "      <td>496203</td>\n",
              "      <td>341</td>\n",
              "      <td>1455.14</td>\n",
              "    </tr>\n",
              "    <tr>\n",
              "      <th>4</th>\n",
              "      <td>P00285442</td>\n",
              "      <td>8</td>\n",
              "      <td>NaN</td>\n",
              "      <td>NaN</td>\n",
              "      <td>1</td>\n",
              "      <td>1561631</td>\n",
              "      <td>203</td>\n",
              "      <td>7692.76</td>\n",
              "    </tr>\n",
              "  </tbody>\n",
              "</table>\n",
              "</div>\n",
              "      <button class=\"colab-df-convert\" onclick=\"convertToInteractive('df-de9bb9f6-3685-4d7e-913e-f6ad3b253bcf')\"\n",
              "              title=\"Convert this dataframe to an interactive table.\"\n",
              "              style=\"display:none;\">\n",
              "        \n",
              "  <svg xmlns=\"http://www.w3.org/2000/svg\" height=\"24px\"viewBox=\"0 0 24 24\"\n",
              "       width=\"24px\">\n",
              "    <path d=\"M0 0h24v24H0V0z\" fill=\"none\"/>\n",
              "    <path d=\"M18.56 5.44l.94 2.06.94-2.06 2.06-.94-2.06-.94-.94-2.06-.94 2.06-2.06.94zm-11 1L8.5 8.5l.94-2.06 2.06-.94-2.06-.94L8.5 2.5l-.94 2.06-2.06.94zm10 10l.94 2.06.94-2.06 2.06-.94-2.06-.94-.94-2.06-.94 2.06-2.06.94z\"/><path d=\"M17.41 7.96l-1.37-1.37c-.4-.4-.92-.59-1.43-.59-.52 0-1.04.2-1.43.59L10.3 9.45l-7.72 7.72c-.78.78-.78 2.05 0 2.83L4 21.41c.39.39.9.59 1.41.59.51 0 1.02-.2 1.41-.59l7.78-7.78 2.81-2.81c.8-.78.8-2.07 0-2.86zM5.41 20L4 18.59l7.72-7.72 1.47 1.35L5.41 20z\"/>\n",
              "  </svg>\n",
              "      </button>\n",
              "      \n",
              "  <style>\n",
              "    .colab-df-container {\n",
              "      display:flex;\n",
              "      flex-wrap:wrap;\n",
              "      gap: 12px;\n",
              "    }\n",
              "\n",
              "    .colab-df-convert {\n",
              "      background-color: #E8F0FE;\n",
              "      border: none;\n",
              "      border-radius: 50%;\n",
              "      cursor: pointer;\n",
              "      display: none;\n",
              "      fill: #1967D2;\n",
              "      height: 32px;\n",
              "      padding: 0 0 0 0;\n",
              "      width: 32px;\n",
              "    }\n",
              "\n",
              "    .colab-df-convert:hover {\n",
              "      background-color: #E2EBFA;\n",
              "      box-shadow: 0px 1px 2px rgba(60, 64, 67, 0.3), 0px 1px 3px 1px rgba(60, 64, 67, 0.15);\n",
              "      fill: #174EA6;\n",
              "    }\n",
              "\n",
              "    [theme=dark] .colab-df-convert {\n",
              "      background-color: #3B4455;\n",
              "      fill: #D2E3FC;\n",
              "    }\n",
              "\n",
              "    [theme=dark] .colab-df-convert:hover {\n",
              "      background-color: #434B5C;\n",
              "      box-shadow: 0px 1px 3px 1px rgba(0, 0, 0, 0.15);\n",
              "      filter: drop-shadow(0px 1px 2px rgba(0, 0, 0, 0.3));\n",
              "      fill: #FFFFFF;\n",
              "    }\n",
              "  </style>\n",
              "\n",
              "      <script>\n",
              "        const buttonEl =\n",
              "          document.querySelector('#df-de9bb9f6-3685-4d7e-913e-f6ad3b253bcf button.colab-df-convert');\n",
              "        buttonEl.style.display =\n",
              "          google.colab.kernel.accessAllowed ? 'block' : 'none';\n",
              "\n",
              "        async function convertToInteractive(key) {\n",
              "          const element = document.querySelector('#df-de9bb9f6-3685-4d7e-913e-f6ad3b253bcf');\n",
              "          const dataTable =\n",
              "            await google.colab.kernel.invokeFunction('convertToInteractive',\n",
              "                                                     [key], {});\n",
              "          if (!dataTable) return;\n",
              "\n",
              "          const docLinkHtml = 'Like what you see? Visit the ' +\n",
              "            '<a target=\"_blank\" href=https://colab.research.google.com/notebooks/data_table.ipynb>data table notebook</a>'\n",
              "            + ' to learn more about interactive tables.';\n",
              "          element.innerHTML = '';\n",
              "          dataTable['output_type'] = 'display_data';\n",
              "          await google.colab.output.renderOutput(dataTable, element);\n",
              "          const docLink = document.createElement('div');\n",
              "          docLink.innerHTML = docLinkHtml;\n",
              "          element.appendChild(docLink);\n",
              "        }\n",
              "      </script>\n",
              "    </div>\n",
              "  </div>\n",
              "  "
            ],
            "text/plain": [
              "  Product_ID  Product_Category_1  Product_Category_2  Product_Category_3  \\\n",
              "0  P00069042                   3                 NaN                 NaN   \n",
              "1  P00248942                   1                 6.0                14.0   \n",
              "2  P00087842                  12                 NaN                 NaN   \n",
              "3  P00085442                  12                14.0                 NaN   \n",
              "4  P00285442                   8                 NaN                 NaN   \n",
              "\n",
              "   Versatile  total_purchase  nb_users_purchase  avg_amount  \n",
              "0          1         2694686                227    11870.86  \n",
              "1          3         9472642                581    16304.03  \n",
              "2          1          126265                102     1237.89  \n",
              "3          2          496203                341     1455.14  \n",
              "4          1         1561631                203     7692.76  "
            ]
          },
          "execution_count": 76,
          "metadata": {},
          "output_type": "execute_result"
        }
      ],
      "source": [
        "product_df1['avg_amount'] = round(product_df1.total_purchase / product_df1.nb_users_purchase, 2)\n",
        "product_df1.head()"
      ]
    },
    {
      "cell_type": "code",
      "execution_count": null,
      "metadata": {
        "colab": {
          "base_uri": "https://localhost:8080/",
          "height": 683
        },
        "id": "kDf-pDNjxAFd",
        "outputId": "73b7409e-6716-4e11-e199-2d4bc6dac6eb"
      },
      "outputs": [
        {
          "data": {
            "image/png": "[encoded data removed]",
            "text/plain": [
              "<Figure size 1152x720 with 1 Axes>"
            ]
          },
          "metadata": {},
          "output_type": "display_data"
        }
      ],
      "source": [
        "plt.figure(figsize=(16,10))\n",
        "sns.barplot(data=product_df1, x='Versatile', y='total_purchase', palette=\"Set2\", ci=False)\n",
        "\n",
        "plt.ylabel(\"Amount of money\")\n",
        "plt.title(\"Average amount of money spending for a product according to versatile score\")\n",
        "\n",
        "plt.show()"
      ]
    },
    {
      "cell_type": "code",
      "execution_count": null,
      "metadata": {
        "colab": {
          "base_uri": "https://localhost:8080/",
          "height": 269
        },
        "id": "xKQbgV5JxNVF",
        "outputId": "ae802eb2-5eb7-4e76-ee05-15b4e25a9f7b"
      },
      "outputs": [
        {
          "data": {
            "text/html": [
              "\n",
              "  <div id=\"df-8ba5237d-79fe-42f5-a38a-cba5d6bbb897\">\n",
              "    <div class=\"colab-df-container\">\n",
              "      <div>\n",
              "<style scoped>\n",
              "    .dataframe tbody tr th:only-of-type {\n",
              "        vertical-align: middle;\n",
              "    }\n",
              "\n",
              "    .dataframe tbody tr th {\n",
              "        vertical-align: top;\n",
              "    }\n",
              "\n",
              "    .dataframe thead th {\n",
              "        text-align: right;\n",
              "    }\n",
              "</style>\n",
              "<table border=\"1\" class=\"dataframe\">\n",
              "  <thead>\n",
              "    <tr style=\"text-align: right;\">\n",
              "      <th></th>\n",
              "      <th>Product_ID</th>\n",
              "      <th>Product_Category_1</th>\n",
              "      <th>Product_Category_2</th>\n",
              "      <th>Product_Category_3</th>\n",
              "      <th>Versatile</th>\n",
              "      <th>total_purchase</th>\n",
              "      <th>nb_users_purchase</th>\n",
              "      <th>avg_amount</th>\n",
              "    </tr>\n",
              "  </thead>\n",
              "  <tbody>\n",
              "    <tr>\n",
              "      <th>0</th>\n",
              "      <td>P00265242</td>\n",
              "      <td>5</td>\n",
              "      <td>8.0</td>\n",
              "      <td>NaN</td>\n",
              "      <td>2</td>\n",
              "      <td>14165515</td>\n",
              "      <td>1880</td>\n",
              "      <td>7534.85</td>\n",
              "    </tr>\n",
              "    <tr>\n",
              "      <th>1</th>\n",
              "      <td>P00025442</td>\n",
              "      <td>1</td>\n",
              "      <td>2.0</td>\n",
              "      <td>9.0</td>\n",
              "      <td>3</td>\n",
              "      <td>27995166</td>\n",
              "      <td>1615</td>\n",
              "      <td>17334.47</td>\n",
              "    </tr>\n",
              "    <tr>\n",
              "      <th>2</th>\n",
              "      <td>P00110742</td>\n",
              "      <td>1</td>\n",
              "      <td>2.0</td>\n",
              "      <td>8.0</td>\n",
              "      <td>3</td>\n",
              "      <td>26722309</td>\n",
              "      <td>1612</td>\n",
              "      <td>16577.11</td>\n",
              "    </tr>\n",
              "    <tr>\n",
              "      <th>3</th>\n",
              "      <td>P00112142</td>\n",
              "      <td>1</td>\n",
              "      <td>2.0</td>\n",
              "      <td>14.0</td>\n",
              "      <td>3</td>\n",
              "      <td>24216006</td>\n",
              "      <td>1562</td>\n",
              "      <td>15503.20</td>\n",
              "    </tr>\n",
              "    <tr>\n",
              "      <th>4</th>\n",
              "      <td>P00057642</td>\n",
              "      <td>1</td>\n",
              "      <td>15.0</td>\n",
              "      <td>16.0</td>\n",
              "      <td>3</td>\n",
              "      <td>23102780</td>\n",
              "      <td>1470</td>\n",
              "      <td>15716.18</td>\n",
              "    </tr>\n",
              "    <tr>\n",
              "      <th>5</th>\n",
              "      <td>P00184942</td>\n",
              "      <td>1</td>\n",
              "      <td>8.0</td>\n",
              "      <td>17.0</td>\n",
              "      <td>3</td>\n",
              "      <td>24334887</td>\n",
              "      <td>1440</td>\n",
              "      <td>16899.23</td>\n",
              "    </tr>\n",
              "    <tr>\n",
              "      <th>6</th>\n",
              "      <td>P00046742</td>\n",
              "      <td>1</td>\n",
              "      <td>2.0</td>\n",
              "      <td>15.0</td>\n",
              "      <td>3</td>\n",
              "      <td>21152882</td>\n",
              "      <td>1438</td>\n",
              "      <td>14709.93</td>\n",
              "    </tr>\n",
              "  </tbody>\n",
              "</table>\n",
              "</div>\n",
              "      <button class=\"colab-df-convert\" onclick=\"convertToInteractive('df-8ba5237d-79fe-42f5-a38a-cba5d6bbb897')\"\n",
              "              title=\"Convert this dataframe to an interactive table.\"\n",
              "              style=\"display:none;\">\n",
              "        \n",
              "  <svg xmlns=\"http://www.w3.org/2000/svg\" height=\"24px\"viewBox=\"0 0 24 24\"\n",
              "       width=\"24px\">\n",
              "    <path d=\"M0 0h24v24H0V0z\" fill=\"none\"/>\n",
              "    <path d=\"M18.56 5.44l.94 2.06.94-2.06 2.06-.94-2.06-.94-.94-2.06-.94 2.06-2.06.94zm-11 1L8.5 8.5l.94-2.06 2.06-.94-2.06-.94L8.5 2.5l-.94 2.06-2.06.94zm10 10l.94 2.06.94-2.06 2.06-.94-2.06-.94-.94-2.06-.94 2.06-2.06.94z\"/><path d=\"M17.41 7.96l-1.37-1.37c-.4-.4-.92-.59-1.43-.59-.52 0-1.04.2-1.43.59L10.3 9.45l-7.72 7.72c-.78.78-.78 2.05 0 2.83L4 21.41c.39.39.9.59 1.41.59.51 0 1.02-.2 1.41-.59l7.78-7.78 2.81-2.81c.8-.78.8-2.07 0-2.86zM5.41 20L4 18.59l7.72-7.72 1.47 1.35L5.41 20z\"/>\n",
              "  </svg>\n",
              "      </button>\n",
              "      \n",
              "  <style>\n",
              "    .colab-df-container {\n",
              "      display:flex;\n",
              "      flex-wrap:wrap;\n",
              "      gap: 12px;\n",
              "    }\n",
              "\n",
              "    .colab-df-convert {\n",
              "      background-color: #E8F0FE;\n",
              "      border: none;\n",
              "      border-radius: 50%;\n",
              "      cursor: pointer;\n",
              "      display: none;\n",
              "      fill: #1967D2;\n",
              "      height: 32px;\n",
              "      padding: 0 0 0 0;\n",
              "      width: 32px;\n",
              "    }\n",
              "\n",
              "    .colab-df-convert:hover {\n",
              "      background-color: #E2EBFA;\n",
              "      box-shadow: 0px 1px 2px rgba(60, 64, 67, 0.3), 0px 1px 3px 1px rgba(60, 64, 67, 0.15);\n",
              "      fill: #174EA6;\n",
              "    }\n",
              "\n",
              "    [theme=dark] .colab-df-convert {\n",
              "      background-color: #3B4455;\n",
              "      fill: #D2E3FC;\n",
              "    }\n",
              "\n",
              "    [theme=dark] .colab-df-convert:hover {\n",
              "      background-color: #434B5C;\n",
              "      box-shadow: 0px 1px 3px 1px rgba(0, 0, 0, 0.15);\n",
              "      filter: drop-shadow(0px 1px 2px rgba(0, 0, 0, 0.3));\n",
              "      fill: #FFFFFF;\n",
              "    }\n",
              "  </style>\n",
              "\n",
              "      <script>\n",
              "        const buttonEl =\n",
              "          document.querySelector('#df-8ba5237d-79fe-42f5-a38a-cba5d6bbb897 button.colab-df-convert');\n",
              "        buttonEl.style.display =\n",
              "          google.colab.kernel.accessAllowed ? 'block' : 'none';\n",
              "\n",
              "        async function convertToInteractive(key) {\n",
              "          const element = document.querySelector('#df-8ba5237d-79fe-42f5-a38a-cba5d6bbb897');\n",
              "          const dataTable =\n",
              "            await google.colab.kernel.invokeFunction('convertToInteractive',\n",
              "                                                     [key], {});\n",
              "          if (!dataTable) return;\n",
              "\n",
              "          const docLinkHtml = 'Like what you see? Visit the ' +\n",
              "            '<a target=\"_blank\" href=https://colab.research.google.com/notebooks/data_table.ipynb>data table notebook</a>'\n",
              "            + ' to learn more about interactive tables.';\n",
              "          element.innerHTML = '';\n",
              "          dataTable['output_type'] = 'display_data';\n",
              "          await google.colab.output.renderOutput(dataTable, element);\n",
              "          const docLink = document.createElement('div');\n",
              "          docLink.innerHTML = docLinkHtml;\n",
              "          element.appendChild(docLink);\n",
              "        }\n",
              "      </script>\n",
              "    </div>\n",
              "  </div>\n",
              "  "
            ],
            "text/plain": [
              "  Product_ID  Product_Category_1  Product_Category_2  Product_Category_3  \\\n",
              "0  P00265242                   5                 8.0                 NaN   \n",
              "1  P00025442                   1                 2.0                 9.0   \n",
              "2  P00110742                   1                 2.0                 8.0   \n",
              "3  P00112142                   1                 2.0                14.0   \n",
              "4  P00057642                   1                15.0                16.0   \n",
              "5  P00184942                   1                 8.0                17.0   \n",
              "6  P00046742                   1                 2.0                15.0   \n",
              "\n",
              "   Versatile  total_purchase  nb_users_purchase  avg_amount  \n",
              "0          2        14165515               1880     7534.85  \n",
              "1          3        27995166               1615    17334.47  \n",
              "2          3        26722309               1612    16577.11  \n",
              "3          3        24216006               1562    15503.20  \n",
              "4          3        23102780               1470    15716.18  \n",
              "5          3        24334887               1440    16899.23  \n",
              "6          3        21152882               1438    14709.93  "
            ]
          },
          "execution_count": 79,
          "metadata": {},
          "output_type": "execute_result"
        }
      ],
      "source": [
        "product_df1.sort_values(by= 'nb_users_purchase', ascending=False, ignore_index=True).head(7)"
      ]
    },
    {
      "cell_type": "code",
      "execution_count": null,
      "metadata": {
        "colab": {
          "base_uri": "https://localhost:8080/",
          "height": 567
        },
        "id": "VgSqiJ6SxR1a",
        "outputId": "1bb997a2-db46-469b-ac77-9dc5830ed7c6"
      },
      "outputs": [
        {
          "data": {
            "image/png": "[encoded data removed]",
            "text/plain": [
              "<Figure size 1008x576 with 1 Axes>"
            ]
          },
          "metadata": {},
          "output_type": "display_data"
        }
      ],
      "source": [
        "plt.figure(figsize=(14,8))\n",
        "sns.barplot(data=product_df1, x='Versatile', y='nb_users_purchase', estimator=np.mean, ci=False)\n",
        "# plt.xlabel()\n",
        "plt.title(\"Average number of purchase users according Versatile score\")\n",
        "plt.ylabel(\"Number of purchased users\")\n",
        "\n",
        "plt.savefig(\"nb_purchase_versatile.png\")\n",
        "plt.show()"
      ]
    },
    {
      "cell_type": "markdown",
      "metadata": {
        "id": "dSmxt1XBxWOx"
      },
      "source": [
        "It seems that in average, a product type 3 is bought more than a product type 2 and type 1, type 1 = 1/2 type 2\n",
        "\n",
        "That means products which more versatile are more popular, in general."
      ]
    },
    {
      "cell_type": "markdown",
      "metadata": {
        "id": "J58Cw6ccY9Jc"
      },
      "source": [
        "## 4.&nbsp;Data Preprocessing"
      ]
    },
    {
      "cell_type": "markdown",
      "metadata": {
        "id": "xDni5SsM22h5"
      },
      "source": [
        "Include functions for cleaning data, removing redundancy before the modelling "
      ]
    },
    {
      "cell_type": "code",
      "execution_count": null,
      "metadata": {
        "id": "Z5o39fG_xnr9"
      },
      "outputs": [],
      "source": [
        "def simple_data_preprocessing(train_raw: pd.DataFrame, test_raw: pd.DataFrame):\n",
        "  '''\n",
        "    \n",
        "  '''\n",
        "  le = LabelEncoder()\n",
        "\n",
        "  df_train = train_raw.copy()\n",
        "  df_test = test_raw.copy()\n",
        "\n",
        "\n",
        "  df_train.drop(columns = ['Product_Category_2', 'Product_Category_3'], inplace=True)\n",
        "  df_test.drop(columns = ['Product_Category_2', 'Product_Category_3'] , inplace=True)\n",
        "\n",
        "\n",
        "  idx = df_train.shape[0]\n",
        "\n",
        "  y  = df_train['Purchase']\n",
        "  df_train.drop('Purchase', 1 , inplace= True)\n",
        "\n",
        "  df_train_test = pd.concat([df_train, df_test], axis = 0)\n",
        "\n",
        "  columns = ['User_ID', 'Product_ID', 'Gender', 'Age', 'Occupation' , 'City_Category' , 'Stay_In_Current_City_Years']\n",
        "\n",
        "  for col in columns:\n",
        "    df_train_test[col] = le.fit_transform(df_train_test[col])\n",
        "\n",
        "\n",
        "\n",
        "  X = df_train_test.iloc[:idx, :]\n",
        "  test_encode = df_train_test.iloc[idx: , :]\n",
        "\n",
        "  return X, y , test_encode\n",
        "\n",
        "\n",
        "def one_hot_encoding_train(df: pd.DataFrame):\n",
        "    '''\n",
        "    apply for training set\n",
        "    one hot encoding ['Gender', 'Age', 'City_Category', 'Stay_In_Current_City_Years', 'Product_Category_1', 'Occupation']\n",
        "    label encoding 'Product_ID' -> avoid new product in test set\n",
        "    drop Product_Category_2 and Product_Category_3\n",
        "    normalization using StandardScaler() \n",
        "\n",
        "    return X training data, and y train labels\n",
        "    '''\n",
        "    le = LabelEncoder()\n",
        "    scl = StandardScaler()\n",
        "    df.Product_ID = le.fit_transform(df.Product_ID)\n",
        "    category_col = []\n",
        "    numerical_col = []\n",
        "    for column in df.columns:\n",
        "        if df[column].dtypes == 'object':\n",
        "            category_col.append(column)\n",
        "\n",
        "    category_col.append(\"Product_Category_1\")\n",
        "    category_col.append('Occupation')\n",
        "\n",
        "    train_encode = pd.get_dummies(df, columns=category_col, dtype = np.uint8, drop_first=True)\n",
        "    X = train_encode.drop(columns=['Purchase', 'Product_Category_2', \"Product_Category_3\"])\n",
        "    y = train_encode.Purchase\n",
        "\n",
        "    train_cols = X.columns\n",
        "    train_ind = X.index \n",
        "    X = scl.fit_transform(X)\n",
        "    X = pd.DataFrame(X, columns= train_cols, index=train_ind)\n",
        "    return X, y\n",
        "\n",
        "\n",
        "def one_hot_encoding_test(df: pd.DataFrame):\n",
        "    '''\n",
        "    apply for test set\n",
        "    one hot encoding ['Gender', 'Age', 'City_Category', 'Stay_In_Current_City_Years', 'Product_Category_1', 'Occupation']\n",
        "    label encoding 'Product_ID' -> avoid new product\n",
        "    drop Product_Category_2 and Product_Category_3\n",
        "    normalization using StandardScaler() \n",
        "\n",
        "    return X - for making prediction\n",
        "    '''\n",
        "    le = LabelEncoder()\n",
        "    scl = StandardScaler()\n",
        "    df.Product_ID = le.fit_transform(df.Product_ID)\n",
        "    category_col = []\n",
        "    numerical_col = []\n",
        "    for column in df.columns:\n",
        "        if df[column].dtypes == 'object':\n",
        "            category_col.append(column)\n",
        "    category_col.append(\"Product_Category_1\")\n",
        "    category_col.append('Occupation')\n",
        "\n",
        "    test_encode = pd.get_dummies(df, columns=category_col, dtype = np.uint8, drop_first=True)\n",
        "    X = test_encode.drop(columns=['Product_Category_2', \"Product_Category_3\"])\n",
        "\n",
        "    test_cols = X.columns\n",
        "    test_ind = X.index \n",
        "    X = scl.fit_transform(X)\n",
        "    X = pd.DataFrame(X, columns= test_cols, index=test_ind)\n",
        "    return X"
      ]
    },
    {
      "cell_type": "markdown",
      "metadata": {
        "id": "wX0P8JG54Id4"
      },
      "source": [
        "## 5.&nbsp;Choosing data preprocessing "
      ]
    },
    {
      "cell_type": "code",
      "execution_count": null,
      "metadata": {
        "id": "FOYC7-mz4eE-"
      },
      "outputs": [],
      "source": [
        "## Read the dataset\n",
        "train_raw = pd.read_csv(TRAIN_DATA_PATH)\n",
        "test_raw = pd.read_csv(TEST_DATA_PATH)\n",
        "\n",
        "X, y , test_encode = simple_data_preprocessing(train_raw, test_raw)"
      ]
    },
    {
      "cell_type": "markdown",
      "metadata": {
        "id": "riUI-dpIweAg"
      },
      "source": [
        "## 6.&nbsp;Setup metrics, basic plots, and seed for model evaluation\n",
        "* Evaluation metrics [R squared](https://en.wikipedia.org/wiki/Coefficient_of_determination) and [RMSE](https://www.statisticshowto.com/probability-and-statistics/regression-analysis/rmse-root-mean-square-error/)\n",
        "* Random seed (reproducible result) \n",
        "* Plot functions (Validation curve and Learning curve)"
      ]
    },
    {
      "cell_type": "code",
      "execution_count": null,
      "metadata": {
        "id": "-im7LxthwiSQ"
      },
      "outputs": [],
      "source": [
        "## Setup Random state\n",
        "RANDOM_STATE = 7777\n",
        "\n",
        "def myRMSE(y_pred, y_real):\n",
        "  return np.sqrt(mean_squared_error(y_real, y_pred))\n",
        "\n",
        "RMSE_score = make_scorer(myRMSE, greater_is_better=False)\n",
        "R2_score = make_scorer(r2_score)\n",
        "\n",
        "def plot_validation_curve(train_scores, valid_scores, para_name, param_range, y_label = \"R2 Score\"):\n",
        "  fig, ax = plt.subplots(figsize= (7, 7))\n",
        "  ax.plot(param_range, train_scores.mean(axis = 1), label = 'train_scores')\n",
        "  ax.plot(param_range, valid_scores.mean(axis = 1), label = 'valid_scores')\n",
        "  ax.set_xlabel(para_name)\n",
        "  ax.set_ylabel(y_label)\n",
        "  ax.set_title(\"Validation Curve on \" + para_name )\n",
        "  ax.set_xticks(param_range)\n",
        "  ax.legend()\n",
        "  plt.show()\n",
        "\n",
        "def plot_learning_curve(train_sizes, train_scores, valid_scores, title = \"Learning Curve\",y_label = \"R2 Score\"):\n",
        "  fig, ax = plt.subplots(figsize = (7, 7))\n",
        "  ax.plot(train_sizes, train_scores.mean(axis = 1), label= 'train_scores')\n",
        "  ax.plot(train_sizes, valid_scores.mean(axis = 1), label = 'valid_scores')\n",
        "  ax.set_xlabel('Number of Examples')\n",
        "  ax.set_ylabel(\"R2 Score\")\n",
        "  ax.set_title(title)\n",
        "  ax.set_xticks(train_sizes)\n",
        "  ax.legend()\n",
        "  plt.show()\n",
        "\n",
        "def to_submission_file(model):\n",
        "  '''\n",
        "  As we enroll the competition, so we need to make a submission file\n",
        "  '''  \n",
        "  model.fit(X, y)\n",
        "  y_test_pred = model.predict(test_encode)\n",
        "  submission = pd.concat([pd.DataFrame(y_test_pred, columns=['Purchase']), test_raw[['User_ID', 'Product_ID']]] , axis = 1)\n",
        "  submission.to_csv('submission.csv', index=False)\n",
        "\n",
        "\n",
        "class EvaluationTimer():\n",
        "  '''\n",
        "  Timer for evaluation\n",
        "  '''\n",
        "  def __init__(self):\n",
        "    self.now = time.time()\n",
        "\n",
        "  def start(self):\n",
        "    self.now = time.time() \n",
        "\n",
        "  def tick(self , title = 'Your time'):\n",
        "     result = time.time() - self.now\n",
        "     print(title + f\" : {result:.5f} seconds\")\n",
        "  \n",
        "\n",
        "timer = EvaluationTimer()"
      ]
    },
    {
      "cell_type": "markdown",
      "metadata": {
        "id": "GyIjy4UT6pL3"
      },
      "source": [
        "## 7.&nbsp;Modelling and Evaluation"
      ]
    },
    {
      "cell_type": "markdown",
      "metadata": {
        "id": "VFGeFgIX-E2_"
      },
      "source": [
        "\n",
        " **Input** \\\\\n",
        " `X` : Features of Training Data \\\\\n",
        " `y` : Target Variable of Training Data \\\\"
      ]
    },
    {
      "cell_type": "markdown",
      "metadata": {
        "id": "Qea0CG_DNDc1"
      },
      "source": [
        " As we can see, the dataset contains nearly 550000 datapoints and 10 features (including target feature (Purchase)) and it is suitable for Google Colab hardwares and we consider that as normal size dataset. \n",
        " \n",
        "Therefore, we mostly used cross-validation to evaluate our models and select best set of hyperparameter for them. But first, we need a [baseline model](https://towardsdatascience.com/baseline-models-your-guide-for-model-building-1ec3aa244b8d) which is simple for us to implement and evaluate other trained models. As the problem is regression, we basically choose **OLS linear regression**."
      ]
    },
    {
      "cell_type": "markdown",
      "metadata": {
        "id": "Onl14uktretg"
      },
      "source": [
        "### Basic Setup"
      ]
    },
    {
      "cell_type": "code",
      "execution_count": null,
      "metadata": {
        "id": "yuo-enWSQS4n"
      },
      "outputs": [],
      "source": [
        "# Shuffle X, y \"randomly\"\n",
        "X, y = shuffle(X, y , random_state= RANDOM_STATE)\n",
        "\n",
        "# We divide our dataset into training set and test set in order to evaluate training time and prediction time \n",
        "TEST_SIZE = 1 / 3 # Based on the lecture, we choose the popular split between Dtrain and Dtest\n",
        "X_train, X_test, y_train, y_test = train_test_split(X, y ,test_size= TEST_SIZE, random_state=RANDOM_STATE)"
      ]
    },
    {
      "cell_type": "markdown",
      "metadata": {
        "id": "zCIAz_7dpxlT"
      },
      "source": [
        "We will create an empty dataframe `df_results` to save our result of different models throughout the notebook."
      ]
    },
    {
      "cell_type": "code",
      "execution_count": null,
      "metadata": {
        "id": "tpM9Q-dsrq9D"
      },
      "outputs": [],
      "source": [
        "df_results = pd.DataFrame(columns=[\"Model\", \"Settings\", 'Training time' , 'Prediction time',\n",
        "                                   'RMSE mean', 'RMSE std', 'R2 mean', 'R2 std', \"Note\"]) # to see all results"
      ]
    },
    {
      "cell_type": "markdown",
      "metadata": {
        "id": "dgtcPQ6sOISh"
      },
      "source": [
        "### *Baseline* Model (OLS Linear Regression)"
      ]
    },
    {
      "cell_type": "code",
      "execution_count": null,
      "metadata": {
        "id": "_uXSfl4NWWki"
      },
      "outputs": [],
      "source": [
        "## Choosing model\n",
        "olr = LinearRegression(n_jobs = -1)\n",
        "\n",
        "## Choosing the  metrics\n",
        "metrics = {'R2' : R2_score, 'RMSE': RMSE_score}\n",
        "\n",
        "## We used 5-fold cross-validate\n",
        "sv_scores = cross_validate(olr, X, y, cv = 5, scoring =metrics, return_train_score = True)"
      ]
    },
    {
      "cell_type": "markdown",
      "metadata": {
        "id": "EGKTC9OiZ-7Z"
      },
      "source": [
        "We got our results of our baseline Model:"
      ]
    },
    {
      "cell_type": "code",
      "execution_count": null,
      "metadata": {
        "colab": {
          "base_uri": "https://localhost:8080/",
          "height": 269
        },
        "id": "95ITCtKEZtr-",
        "outputId": "6ef8b02d-960e-452e-de76-6350837b8c43"
      },
      "outputs": [
        {
          "data": {
            "text/html": [
              "\n",
              "  <div id=\"df-5b3f6ab1-b3f9-4399-99db-9da6eb424dd8\">\n",
              "    <div class=\"colab-df-container\">\n",
              "      <div>\n",
              "<style scoped>\n",
              "    .dataframe tbody tr th:only-of-type {\n",
              "        vertical-align: middle;\n",
              "    }\n",
              "\n",
              "    .dataframe tbody tr th {\n",
              "        vertical-align: top;\n",
              "    }\n",
              "\n",
              "    .dataframe thead th {\n",
              "        text-align: right;\n",
              "    }\n",
              "</style>\n",
              "<table border=\"1\" class=\"dataframe\">\n",
              "  <thead>\n",
              "    <tr style=\"text-align: right;\">\n",
              "      <th></th>\n",
              "      <th>fit_time</th>\n",
              "      <th>score_time</th>\n",
              "      <th>test_R2</th>\n",
              "      <th>train_R2</th>\n",
              "      <th>test_RMSE</th>\n",
              "      <th>train_RMSE</th>\n",
              "    </tr>\n",
              "  </thead>\n",
              "  <tbody>\n",
              "    <tr>\n",
              "      <th>0</th>\n",
              "      <td>0.235534</td>\n",
              "      <td>0.034742</td>\n",
              "      <td>0.132367</td>\n",
              "      <td>0.131608</td>\n",
              "      <td>-4665.980172</td>\n",
              "      <td>-4684.069717</td>\n",
              "    </tr>\n",
              "    <tr>\n",
              "      <th>1</th>\n",
              "      <td>0.168271</td>\n",
              "      <td>0.022565</td>\n",
              "      <td>0.133936</td>\n",
              "      <td>0.131207</td>\n",
              "      <td>-4684.391401</td>\n",
              "      <td>-4679.489186</td>\n",
              "    </tr>\n",
              "    <tr>\n",
              "      <th>2</th>\n",
              "      <td>0.163624</td>\n",
              "      <td>0.021498</td>\n",
              "      <td>0.130956</td>\n",
              "      <td>0.131957</td>\n",
              "      <td>-4688.019732</td>\n",
              "      <td>-4678.569356</td>\n",
              "    </tr>\n",
              "    <tr>\n",
              "      <th>3</th>\n",
              "      <td>0.157859</td>\n",
              "      <td>0.020138</td>\n",
              "      <td>0.131301</td>\n",
              "      <td>0.131874</td>\n",
              "      <td>-4683.855067</td>\n",
              "      <td>-4679.609076</td>\n",
              "    </tr>\n",
              "    <tr>\n",
              "      <th>4</th>\n",
              "      <td>0.156803</td>\n",
              "      <td>0.011790</td>\n",
              "      <td>0.129999</td>\n",
              "      <td>0.132192</td>\n",
              "      <td>-4680.598665</td>\n",
              "      <td>-4680.441481</td>\n",
              "    </tr>\n",
              "    <tr>\n",
              "      <th>mean</th>\n",
              "      <td>0.176418</td>\n",
              "      <td>0.022147</td>\n",
              "      <td>0.131712</td>\n",
              "      <td>0.131768</td>\n",
              "      <td>-4680.569007</td>\n",
              "      <td>-4680.435763</td>\n",
              "    </tr>\n",
              "    <tr>\n",
              "      <th>std</th>\n",
              "      <td>0.033369</td>\n",
              "      <td>0.008224</td>\n",
              "      <td>0.001504</td>\n",
              "      <td>0.000377</td>\n",
              "      <td>8.569673</td>\n",
              "      <td>2.137086</td>\n",
              "    </tr>\n",
              "  </tbody>\n",
              "</table>\n",
              "</div>\n",
              "      <button class=\"colab-df-convert\" onclick=\"convertToInteractive('df-5b3f6ab1-b3f9-4399-99db-9da6eb424dd8')\"\n",
              "              title=\"Convert this dataframe to an interactive table.\"\n",
              "              style=\"display:none;\">\n",
              "        \n",
              "  <svg xmlns=\"http://www.w3.org/2000/svg\" height=\"24px\"viewBox=\"0 0 24 24\"\n",
              "       width=\"24px\">\n",
              "    <path d=\"M0 0h24v24H0V0z\" fill=\"none\"/>\n",
              "    <path d=\"M18.56 5.44l.94 2.06.94-2.06 2.06-.94-2.06-.94-.94-2.06-.94 2.06-2.06.94zm-11 1L8.5 8.5l.94-2.06 2.06-.94-2.06-.94L8.5 2.5l-.94 2.06-2.06.94zm10 10l.94 2.06.94-2.06 2.06-.94-2.06-.94-.94-2.06-.94 2.06-2.06.94z\"/><path d=\"M17.41 7.96l-1.37-1.37c-.4-.4-.92-.59-1.43-.59-.52 0-1.04.2-1.43.59L10.3 9.45l-7.72 7.72c-.78.78-.78 2.05 0 2.83L4 21.41c.39.39.9.59 1.41.59.51 0 1.02-.2 1.41-.59l7.78-7.78 2.81-2.81c.8-.78.8-2.07 0-2.86zM5.41 20L4 18.59l7.72-7.72 1.47 1.35L5.41 20z\"/>\n",
              "  </svg>\n",
              "      </button>\n",
              "      \n",
              "  <style>\n",
              "    .colab-df-container {\n",
              "      display:flex;\n",
              "      flex-wrap:wrap;\n",
              "      gap: 12px;\n",
              "    }\n",
              "\n",
              "    .colab-df-convert {\n",
              "      background-color: #E8F0FE;\n",
              "      border: none;\n",
              "      border-radius: 50%;\n",
              "      cursor: pointer;\n",
              "      display: none;\n",
              "      fill: #1967D2;\n",
              "      height: 32px;\n",
              "      padding: 0 0 0 0;\n",
              "      width: 32px;\n",
              "    }\n",
              "\n",
              "    .colab-df-convert:hover {\n",
              "      background-color: #E2EBFA;\n",
              "      box-shadow: 0px 1px 2px rgba(60, 64, 67, 0.3), 0px 1px 3px 1px rgba(60, 64, 67, 0.15);\n",
              "      fill: #174EA6;\n",
              "    }\n",
              "\n",
              "    [theme=dark] .colab-df-convert {\n",
              "      background-color: #3B4455;\n",
              "      fill: #D2E3FC;\n",
              "    }\n",
              "\n",
              "    [theme=dark] .colab-df-convert:hover {\n",
              "      background-color: #434B5C;\n",
              "      box-shadow: 0px 1px 3px 1px rgba(0, 0, 0, 0.15);\n",
              "      filter: drop-shadow(0px 1px 2px rgba(0, 0, 0, 0.3));\n",
              "      fill: #FFFFFF;\n",
              "    }\n",
              "  </style>\n",
              "\n",
              "      <script>\n",
              "        const buttonEl =\n",
              "          document.querySelector('#df-5b3f6ab1-b3f9-4399-99db-9da6eb424dd8 button.colab-df-convert');\n",
              "        buttonEl.style.display =\n",
              "          google.colab.kernel.accessAllowed ? 'block' : 'none';\n",
              "\n",
              "        async function convertToInteractive(key) {\n",
              "          const element = document.querySelector('#df-5b3f6ab1-b3f9-4399-99db-9da6eb424dd8');\n",
              "          const dataTable =\n",
              "            await google.colab.kernel.invokeFunction('convertToInteractive',\n",
              "                                                     [key], {});\n",
              "          if (!dataTable) return;\n",
              "\n",
              "          const docLinkHtml = 'Like what you see? Visit the ' +\n",
              "            '<a target=\"_blank\" href=https://colab.research.google.com/notebooks/data_table.ipynb>data table notebook</a>'\n",
              "            + ' to learn more about interactive tables.';\n",
              "          element.innerHTML = '';\n",
              "          dataTable['output_type'] = 'display_data';\n",
              "          await google.colab.output.renderOutput(dataTable, element);\n",
              "          const docLink = document.createElement('div');\n",
              "          docLink.innerHTML = docLinkHtml;\n",
              "          element.appendChild(docLink);\n",
              "        }\n",
              "      </script>\n",
              "    </div>\n",
              "  </div>\n",
              "  "
            ],
            "text/plain": [
              "      fit_time  score_time   test_R2  train_R2    test_RMSE   train_RMSE\n",
              "0     0.235534    0.034742  0.132367  0.131608 -4665.980172 -4684.069717\n",
              "1     0.168271    0.022565  0.133936  0.131207 -4684.391401 -4679.489186\n",
              "2     0.163624    0.021498  0.130956  0.131957 -4688.019732 -4678.569356\n",
              "3     0.157859    0.020138  0.131301  0.131874 -4683.855067 -4679.609076\n",
              "4     0.156803    0.011790  0.129999  0.132192 -4680.598665 -4680.441481\n",
              "mean  0.176418    0.022147  0.131712  0.131768 -4680.569007 -4680.435763\n",
              "std   0.033369    0.008224  0.001504  0.000377     8.569673     2.137086"
            ]
          },
          "execution_count": 91,
          "metadata": {},
          "output_type": "execute_result"
        }
      ],
      "source": [
        "df_sv_scores = pd.DataFrame(sv_scores)\n",
        "df_sv_scores.append([df_sv_scores.mean().rename('mean', inplace=True) ,df_sv_scores.std().rename('std', inplace=True) ])"
      ]
    },
    {
      "cell_type": "code",
      "execution_count": null,
      "metadata": {
        "id": "S8POPXDVZysb"
      },
      "outputs": [],
      "source": [
        "# append out result to the result table defined above\n",
        "df_results = df_results.append({\"Model\" : \"OLS Linear Regression\", \n",
        "                   \"Settings\": \"\",\n",
        "                   'RMSE mean': 4680.566008,\n",
        "                   'RMSE std':11.079699, \n",
        "                   'R2 mean': 0.131713, \n",
        "                   'R2 std': 0.003413\t, \n",
        "                   'Training time': 0.201613\t , \n",
        "                   'Prediction time':0.020742,\n",
        "                   \"Note\": \"5-fold cross-validation\"}, \n",
        "                  ignore_index = True)"
      ]
    },
    {
      "cell_type": "markdown",
      "metadata": {
        "id": "31rKrqhoaa2F"
      },
      "source": [
        " *R2 Score* is too low, we wonder whether the model suffers from underfitting ? So we decided to check it by [Learning Curve](https://en.wikipedia.org/wiki/Learning_curve_(machine_learning)#/media/File:Learning_Curves_(Naive_Bayes).png)\n",
        "\n"
      ]
    },
    {
      "cell_type": "code",
      "execution_count": null,
      "metadata": {
        "id": "vT3gtR1McLFN"
      },
      "outputs": [],
      "source": [
        "## Learning Curve\n",
        "train_sizes, train_scores, valid_scores = learning_curve(olr, X, y, train_sizes=[50000, 100000, 150000, 200000, 250000, 300000, 350000, 400000], scoring = R2_score)"
      ]
    },
    {
      "cell_type": "code",
      "execution_count": null,
      "metadata": {
        "colab": {
          "base_uri": "https://localhost:8080/"
        },
        "id": "aQ81vmW5cr_6",
        "outputId": "c1be9db1-2680-40fb-dcf5-66de1bd96be8"
      },
      "outputs": [
        {
          "data": {
            "image/png": "[encoded data removed]",
            "text/plain": [
              "<Figure size 504x504 with 1 Axes>"
            ]
          },
          "metadata": {},
          "output_type": "display_data"
        }
      ],
      "source": [
        "plot_learning_curve(train_sizes, train_scores, valid_scores, title = \"Learning Curve of OLS Linear Regression\", y_label = \"R2 Score\")"
      ]
    },
    {
      "cell_type": "markdown",
      "metadata": {
        "id": "e-lR8IU-dxC4"
      },
      "source": [
        "As we can see, model is severely suffered from underfitting and it is not result we want for the baseline model (because it seems that validation score is flatten no matter we increate the number of samples). Then we decided to increase our complexity by using [Polynomial Regression](https://en.wikipedia.org/wiki/Polynomial_regression#:~:text=In%20statistics%2C%20polynomial%20regression%20is,nth%20degree%20polynomial%20in%20x.) which increases the number of dimensions in our data.\n",
        "\n"
      ]
    },
    {
      "cell_type": "markdown",
      "metadata": {
        "id": "Q9AZHs39lR63"
      },
      "source": [
        "### Polynomial Regression"
      ]
    },
    {
      "cell_type": "markdown",
      "metadata": {
        "id": "uPFX9Ne6jPoG"
      },
      "source": [
        "First, we create a poly transformer and transform X into X_transformed (with regard to the polynominal factor)"
      ]
    },
    {
      "cell_type": "code",
      "execution_count": null,
      "metadata": {
        "colab": {
          "base_uri": "https://localhost:8080/"
        },
        "id": "rdirhARChvS8",
        "outputId": "7b51a317-62c7-4250-86e9-0edee2ad921c"
      },
      "outputs": [
        {
          "data": {
            "text/plain": [
              "(550068, 219)"
            ]
          },
          "execution_count": 17,
          "metadata": {},
          "output_type": "execute_result"
        }
      ],
      "source": [
        "poly_feature = PolynomialFeatures(degree=3, include_bias=False) # Class polynomial to create polynominal features\n",
        "X_transformed = poly_feature.fit_transform(X)  # Transform the feature\n",
        "X_transformed.shape"
      ]
    },
    {
      "cell_type": "markdown",
      "metadata": {
        "id": "uPCXr6_js-Dz"
      },
      "source": [
        "Due to the limitation of our computer, we are only tried until degree <= 3"
      ]
    },
    {
      "cell_type": "markdown",
      "metadata": {
        "id": "Na5hHImfjNYT"
      },
      "source": [
        "Then we train the model"
      ]
    },
    {
      "cell_type": "code",
      "execution_count": null,
      "metadata": {
        "id": "i4FmeY5Ribwq"
      },
      "outputs": [],
      "source": [
        "poly_lr = LinearRegression(n_jobs = -1 )\n",
        "metrics = {'R2' : R2_score, 'RMSE': RMSE_score}\n",
        "sv_scores = cross_validate(olr, X_transformed, y, cv = 5, scoring =metrics, return_train_score = True)"
      ]
    },
    {
      "cell_type": "code",
      "execution_count": null,
      "metadata": {
        "colab": {
          "base_uri": "https://localhost:8080/",
          "height": 269
        },
        "id": "pgbJG_0fo2Gd",
        "outputId": "1fc1e118-ace5-4542-fb22-a39f32f3c736"
      },
      "outputs": [
        {
          "data": {
            "text/html": [
              "\n",
              "  <div id=\"df-902cf501-bf98-4306-85d0-ff6e83e4e88a\">\n",
              "    <div class=\"colab-df-container\">\n",
              "      <div>\n",
              "<style scoped>\n",
              "    .dataframe tbody tr th:only-of-type {\n",
              "        vertical-align: middle;\n",
              "    }\n",
              "\n",
              "    .dataframe tbody tr th {\n",
              "        vertical-align: top;\n",
              "    }\n",
              "\n",
              "    .dataframe thead th {\n",
              "        text-align: right;\n",
              "    }\n",
              "</style>\n",
              "<table border=\"1\" class=\"dataframe\">\n",
              "  <thead>\n",
              "    <tr style=\"text-align: right;\">\n",
              "      <th></th>\n",
              "      <th>fit_time</th>\n",
              "      <th>score_time</th>\n",
              "      <th>test_R2</th>\n",
              "      <th>train_R2</th>\n",
              "      <th>test_RMSE</th>\n",
              "      <th>train_RMSE</th>\n",
              "    </tr>\n",
              "  </thead>\n",
              "  <tbody>\n",
              "    <tr>\n",
              "      <th>0</th>\n",
              "      <td>29.823039</td>\n",
              "      <td>0.182509</td>\n",
              "      <td>0.301322</td>\n",
              "      <td>0.298738</td>\n",
              "      <td>-4187.100017</td>\n",
              "      <td>-4209.258026</td>\n",
              "    </tr>\n",
              "    <tr>\n",
              "      <th>1</th>\n",
              "      <td>31.940382</td>\n",
              "      <td>0.133560</td>\n",
              "      <td>0.298145</td>\n",
              "      <td>0.299528</td>\n",
              "      <td>-4216.985111</td>\n",
              "      <td>-4201.802177</td>\n",
              "    </tr>\n",
              "    <tr>\n",
              "      <th>2</th>\n",
              "      <td>16.153348</td>\n",
              "      <td>0.069453</td>\n",
              "      <td>0.298751</td>\n",
              "      <td>0.299369</td>\n",
              "      <td>-4211.188325</td>\n",
              "      <td>-4203.268630</td>\n",
              "    </tr>\n",
              "    <tr>\n",
              "      <th>3</th>\n",
              "      <td>15.948416</td>\n",
              "      <td>0.073186</td>\n",
              "      <td>0.299134</td>\n",
              "      <td>0.299280</td>\n",
              "      <td>-4207.133915</td>\n",
              "      <td>-4204.268992</td>\n",
              "    </tr>\n",
              "    <tr>\n",
              "      <th>4</th>\n",
              "      <td>20.302477</td>\n",
              "      <td>0.078928</td>\n",
              "      <td>0.296339</td>\n",
              "      <td>0.299998</td>\n",
              "      <td>-4209.428217</td>\n",
              "      <td>-4203.633088</td>\n",
              "    </tr>\n",
              "    <tr>\n",
              "      <th>mean</th>\n",
              "      <td>22.833532</td>\n",
              "      <td>0.107527</td>\n",
              "      <td>0.298738</td>\n",
              "      <td>0.299383</td>\n",
              "      <td>-4206.367117</td>\n",
              "      <td>-4204.446182</td>\n",
              "    </tr>\n",
              "    <tr>\n",
              "      <th>std</th>\n",
              "      <td>7.586565</td>\n",
              "      <td>0.049363</td>\n",
              "      <td>0.001799</td>\n",
              "      <td>0.000454</td>\n",
              "      <td>11.370634</td>\n",
              "      <td>2.838298</td>\n",
              "    </tr>\n",
              "  </tbody>\n",
              "</table>\n",
              "</div>\n",
              "      <button class=\"colab-df-convert\" onclick=\"convertToInteractive('df-902cf501-bf98-4306-85d0-ff6e83e4e88a')\"\n",
              "              title=\"Convert this dataframe to an interactive table.\"\n",
              "              style=\"display:none;\">\n",
              "        \n",
              "  <svg xmlns=\"http://www.w3.org/2000/svg\" height=\"24px\"viewBox=\"0 0 24 24\"\n",
              "       width=\"24px\">\n",
              "    <path d=\"M0 0h24v24H0V0z\" fill=\"none\"/>\n",
              "    <path d=\"M18.56 5.44l.94 2.06.94-2.06 2.06-.94-2.06-.94-.94-2.06-.94 2.06-2.06.94zm-11 1L8.5 8.5l.94-2.06 2.06-.94-2.06-.94L8.5 2.5l-.94 2.06-2.06.94zm10 10l.94 2.06.94-2.06 2.06-.94-2.06-.94-.94-2.06-.94 2.06-2.06.94z\"/><path d=\"M17.41 7.96l-1.37-1.37c-.4-.4-.92-.59-1.43-.59-.52 0-1.04.2-1.43.59L10.3 9.45l-7.72 7.72c-.78.78-.78 2.05 0 2.83L4 21.41c.39.39.9.59 1.41.59.51 0 1.02-.2 1.41-.59l7.78-7.78 2.81-2.81c.8-.78.8-2.07 0-2.86zM5.41 20L4 18.59l7.72-7.72 1.47 1.35L5.41 20z\"/>\n",
              "  </svg>\n",
              "      </button>\n",
              "      \n",
              "  <style>\n",
              "    .colab-df-container {\n",
              "      display:flex;\n",
              "      flex-wrap:wrap;\n",
              "      gap: 12px;\n",
              "    }\n",
              "\n",
              "    .colab-df-convert {\n",
              "      background-color: #E8F0FE;\n",
              "      border: none;\n",
              "      border-radius: 50%;\n",
              "      cursor: pointer;\n",
              "      display: none;\n",
              "      fill: #1967D2;\n",
              "      height: 32px;\n",
              "      padding: 0 0 0 0;\n",
              "      width: 32px;\n",
              "    }\n",
              "\n",
              "    .colab-df-convert:hover {\n",
              "      background-color: #E2EBFA;\n",
              "      box-shadow: 0px 1px 2px rgba(60, 64, 67, 0.3), 0px 1px 3px 1px rgba(60, 64, 67, 0.15);\n",
              "      fill: #174EA6;\n",
              "    }\n",
              "\n",
              "    [theme=dark] .colab-df-convert {\n",
              "      background-color: #3B4455;\n",
              "      fill: #D2E3FC;\n",
              "    }\n",
              "\n",
              "    [theme=dark] .colab-df-convert:hover {\n",
              "      background-color: #434B5C;\n",
              "      box-shadow: 0px 1px 3px 1px rgba(0, 0, 0, 0.15);\n",
              "      filter: drop-shadow(0px 1px 2px rgba(0, 0, 0, 0.3));\n",
              "      fill: #FFFFFF;\n",
              "    }\n",
              "  </style>\n",
              "\n",
              "      <script>\n",
              "        const buttonEl =\n",
              "          document.querySelector('#df-902cf501-bf98-4306-85d0-ff6e83e4e88a button.colab-df-convert');\n",
              "        buttonEl.style.display =\n",
              "          google.colab.kernel.accessAllowed ? 'block' : 'none';\n",
              "\n",
              "        async function convertToInteractive(key) {\n",
              "          const element = document.querySelector('#df-902cf501-bf98-4306-85d0-ff6e83e4e88a');\n",
              "          const dataTable =\n",
              "            await google.colab.kernel.invokeFunction('convertToInteractive',\n",
              "                                                     [key], {});\n",
              "          if (!dataTable) return;\n",
              "\n",
              "          const docLinkHtml = 'Like what you see? Visit the ' +\n",
              "            '<a target=\"_blank\" href=https://colab.research.google.com/notebooks/data_table.ipynb>data table notebook</a>'\n",
              "            + ' to learn more about interactive tables.';\n",
              "          element.innerHTML = '';\n",
              "          dataTable['output_type'] = 'display_data';\n",
              "          await google.colab.output.renderOutput(dataTable, element);\n",
              "          const docLink = document.createElement('div');\n",
              "          docLink.innerHTML = docLinkHtml;\n",
              "          element.appendChild(docLink);\n",
              "        }\n",
              "      </script>\n",
              "    </div>\n",
              "  </div>\n",
              "  "
            ],
            "text/plain": [
              "       fit_time  score_time   test_R2  train_R2    test_RMSE   train_RMSE\n",
              "0     29.823039    0.182509  0.301322  0.298738 -4187.100017 -4209.258026\n",
              "1     31.940382    0.133560  0.298145  0.299528 -4216.985111 -4201.802177\n",
              "2     16.153348    0.069453  0.298751  0.299369 -4211.188325 -4203.268630\n",
              "3     15.948416    0.073186  0.299134  0.299280 -4207.133915 -4204.268992\n",
              "4     20.302477    0.078928  0.296339  0.299998 -4209.428217 -4203.633088\n",
              "mean  22.833532    0.107527  0.298738  0.299383 -4206.367117 -4204.446182\n",
              "std    7.586565    0.049363  0.001799  0.000454    11.370634     2.838298"
            ]
          },
          "execution_count": 19,
          "metadata": {},
          "output_type": "execute_result"
        }
      ],
      "source": [
        "df_sv_scores = pd.DataFrame(sv_scores)\n",
        "df_sv_scores.append([df_sv_scores.mean().rename('mean', inplace=True) ,df_sv_scores.std().rename('std', inplace=True) ])"
      ]
    },
    {
      "cell_type": "code",
      "execution_count": null,
      "metadata": {
        "id": "RfEAa_S1pHCq"
      },
      "outputs": [],
      "source": [
        "df_results = df_results.append({\"Model\" : \"Polynomial Regression \" , \n",
        "                    \"Settings\" : \"n = 3\",\n",
        "                   'RMSE mean': 4206.367117,\n",
        "                   'RMSE std':11.370634, \n",
        "                   'R2 mean':  0.298738, \n",
        "                   'R2 std': 0.001799, \n",
        "                   'Training time': 2.203541 , \n",
        "                   'Prediction time': 0.007358,\n",
        "                   'Note' : '5-fold cross-validation'\n",
        "                   }, \n",
        "                  ignore_index = True)"
      ]
    },
    {
      "cell_type": "markdown",
      "metadata": {
        "id": "IKG6V5KmpEIj"
      },
      "source": [
        "The `R2_score` is nearly `0.3`, which is almost double compared to `OLS`, so we also check whether this model is still underfit or not ?"
      ]
    },
    {
      "cell_type": "code",
      "execution_count": null,
      "metadata": {
        "colab": {
          "background_save": true
        },
        "id": "Nwf73EJMpDaA",
        "outputId": "699c8c8f-1e7f-43c7-a12b-9dfd1c94cdbe"
      },
      "outputs": [
        {
          "data": {
            "image/png": "[encoded data removed]",
            "text/plain": [
              "<Figure size 504x504 with 1 Axes>"
            ]
          },
          "metadata": {},
          "output_type": "display_data"
        }
      ],
      "source": [
        "## Learning Curve\n",
        "train_sizes, train_scores, valid_scores = learning_curve(poly_lr, X_transformed, y, train_sizes=[50000, 100000, 150000, 200000, 250000, 300000, 350000, 400000], scoring = R2_score)\n",
        "plot_learning_curve(train_sizes, train_scores, valid_scores, title = \"Learning Curve of Polynominal Regression with n = 3\", y_label = \"R2 Score\")"
      ]
    },
    {
      "cell_type": "markdown",
      "metadata": {
        "id": "-oo8y9bbq1Wa"
      },
      "source": [
        "So as we expected, the `R2_score` increase as we expand the dimensions of features however the model is still underfit (the training score is unstable when increase number of examples) so we decided to choose other algorithm families (which is not variants of Linear Regression)."
      ]
    },
    {
      "cell_type": "markdown",
      "metadata": {
        "id": "DnE7PaT6q-ce"
      },
      "source": [
        "Because the dependent features in the dataset are all categorical so we all think about `Decision Tree` as decision tree work best when each attribute is nominal/categorical and this problem is regression so we choose to the model `Decision Tree Regressor`."
      ]
    },
    {
      "cell_type": "markdown",
      "metadata": {
        "id": "J8Znmfv-gAUt"
      },
      "source": [
        "### Decision Tree Regressor"
      ]
    },
    {
      "cell_type": "code",
      "execution_count": null,
      "metadata": {
        "colab": {
          "background_save": true
        },
        "id": "z2OnWLAKgEo6"
      },
      "outputs": [],
      "source": [
        "## Common parameters setting\n",
        "dtr = DecisionTreeRegressor(max_depth = 3, min_samples_leaf=5, random_state= RANDOM_STATE)\n",
        "\n",
        "metrics = {'R2' : R2_score, 'RMSE': RMSE_score}\n",
        "sv_scores = cross_validate(dtr, X, y, cv = 5, scoring =metrics, return_train_score = True)"
      ]
    },
    {
      "cell_type": "code",
      "execution_count": null,
      "metadata": {
        "colab": {
          "background_save": true
        },
        "id": "hkYP3exluihT",
        "outputId": "737fde46-6bca-4b8b-ad37-35d852e17f4f"
      },
      "outputs": [
        {
          "data": {
            "text/html": [
              "\n",
              "  <div id=\"df-ef34266d-13db-4fea-abdf-06af43f1bbfd\">\n",
              "    <div class=\"colab-df-container\">\n",
              "      <div>\n",
              "<style scoped>\n",
              "    .dataframe tbody tr th:only-of-type {\n",
              "        vertical-align: middle;\n",
              "    }\n",
              "\n",
              "    .dataframe tbody tr th {\n",
              "        vertical-align: top;\n",
              "    }\n",
              "\n",
              "    .dataframe thead th {\n",
              "        text-align: right;\n",
              "    }\n",
              "</style>\n",
              "<table border=\"1\" class=\"dataframe\">\n",
              "  <thead>\n",
              "    <tr style=\"text-align: right;\">\n",
              "      <th></th>\n",
              "      <th>fit_time</th>\n",
              "      <th>score_time</th>\n",
              "      <th>test_R2</th>\n",
              "      <th>train_R2</th>\n",
              "      <th>test_RMSE</th>\n",
              "      <th>train_RMSE</th>\n",
              "    </tr>\n",
              "  </thead>\n",
              "  <tbody>\n",
              "    <tr>\n",
              "      <th>0</th>\n",
              "      <td>0.591690</td>\n",
              "      <td>0.019044</td>\n",
              "      <td>0.444132</td>\n",
              "      <td>0.443503</td>\n",
              "      <td>-3734.742098</td>\n",
              "      <td>-3749.702290</td>\n",
              "    </tr>\n",
              "    <tr>\n",
              "      <th>1</th>\n",
              "      <td>0.596647</td>\n",
              "      <td>0.016814</td>\n",
              "      <td>0.443551</td>\n",
              "      <td>0.443648</td>\n",
              "      <td>-3754.836709</td>\n",
              "      <td>-3744.683014</td>\n",
              "    </tr>\n",
              "    <tr>\n",
              "      <th>2</th>\n",
              "      <td>0.570339</td>\n",
              "      <td>0.017624</td>\n",
              "      <td>0.446555</td>\n",
              "      <td>0.442892</td>\n",
              "      <td>-3741.154119</td>\n",
              "      <td>-3748.110014</td>\n",
              "    </tr>\n",
              "    <tr>\n",
              "      <th>3</th>\n",
              "      <td>0.589770</td>\n",
              "      <td>0.017117</td>\n",
              "      <td>0.441733</td>\n",
              "      <td>0.444103</td>\n",
              "      <td>-3754.824849</td>\n",
              "      <td>-3744.686547</td>\n",
              "    </tr>\n",
              "    <tr>\n",
              "      <th>4</th>\n",
              "      <td>0.573262</td>\n",
              "      <td>0.018369</td>\n",
              "      <td>0.442102</td>\n",
              "      <td>0.444011</td>\n",
              "      <td>-3748.166476</td>\n",
              "      <td>-3746.349108</td>\n",
              "    </tr>\n",
              "    <tr>\n",
              "      <th>mean</th>\n",
              "      <td>0.584342</td>\n",
              "      <td>0.017794</td>\n",
              "      <td>0.443615</td>\n",
              "      <td>0.443631</td>\n",
              "      <td>-3746.744850</td>\n",
              "      <td>-3746.706195</td>\n",
              "    </tr>\n",
              "    <tr>\n",
              "      <th>std</th>\n",
              "      <td>0.011766</td>\n",
              "      <td>0.000914</td>\n",
              "      <td>0.001920</td>\n",
              "      <td>0.000482</td>\n",
              "      <td>8.776502</td>\n",
              "      <td>2.193573</td>\n",
              "    </tr>\n",
              "  </tbody>\n",
              "</table>\n",
              "</div>\n",
              "      <button class=\"colab-df-convert\" onclick=\"convertToInteractive('df-ef34266d-13db-4fea-abdf-06af43f1bbfd')\"\n",
              "              title=\"Convert this dataframe to an interactive table.\"\n",
              "              style=\"display:none;\">\n",
              "        \n",
              "  <svg xmlns=\"http://www.w3.org/2000/svg\" height=\"24px\"viewBox=\"0 0 24 24\"\n",
              "       width=\"24px\">\n",
              "    <path d=\"M0 0h24v24H0V0z\" fill=\"none\"/>\n",
              "    <path d=\"M18.56 5.44l.94 2.06.94-2.06 2.06-.94-2.06-.94-.94-2.06-.94 2.06-2.06.94zm-11 1L8.5 8.5l.94-2.06 2.06-.94-2.06-.94L8.5 2.5l-.94 2.06-2.06.94zm10 10l.94 2.06.94-2.06 2.06-.94-2.06-.94-.94-2.06-.94 2.06-2.06.94z\"/><path d=\"M17.41 7.96l-1.37-1.37c-.4-.4-.92-.59-1.43-.59-.52 0-1.04.2-1.43.59L10.3 9.45l-7.72 7.72c-.78.78-.78 2.05 0 2.83L4 21.41c.39.39.9.59 1.41.59.51 0 1.02-.2 1.41-.59l7.78-7.78 2.81-2.81c.8-.78.8-2.07 0-2.86zM5.41 20L4 18.59l7.72-7.72 1.47 1.35L5.41 20z\"/>\n",
              "  </svg>\n",
              "      </button>\n",
              "      \n",
              "  <style>\n",
              "    .colab-df-container {\n",
              "      display:flex;\n",
              "      flex-wrap:wrap;\n",
              "      gap: 12px;\n",
              "    }\n",
              "\n",
              "    .colab-df-convert {\n",
              "      background-color: #E8F0FE;\n",
              "      border: none;\n",
              "      border-radius: 50%;\n",
              "      cursor: pointer;\n",
              "      display: none;\n",
              "      fill: #1967D2;\n",
              "      height: 32px;\n",
              "      padding: 0 0 0 0;\n",
              "      width: 32px;\n",
              "    }\n",
              "\n",
              "    .colab-df-convert:hover {\n",
              "      background-color: #E2EBFA;\n",
              "      box-shadow: 0px 1px 2px rgba(60, 64, 67, 0.3), 0px 1px 3px 1px rgba(60, 64, 67, 0.15);\n",
              "      fill: #174EA6;\n",
              "    }\n",
              "\n",
              "    [theme=dark] .colab-df-convert {\n",
              "      background-color: #3B4455;\n",
              "      fill: #D2E3FC;\n",
              "    }\n",
              "\n",
              "    [theme=dark] .colab-df-convert:hover {\n",
              "      background-color: #434B5C;\n",
              "      box-shadow: 0px 1px 3px 1px rgba(0, 0, 0, 0.15);\n",
              "      filter: drop-shadow(0px 1px 2px rgba(0, 0, 0, 0.3));\n",
              "      fill: #FFFFFF;\n",
              "    }\n",
              "  </style>\n",
              "\n",
              "      <script>\n",
              "        const buttonEl =\n",
              "          document.querySelector('#df-ef34266d-13db-4fea-abdf-06af43f1bbfd button.colab-df-convert');\n",
              "        buttonEl.style.display =\n",
              "          google.colab.kernel.accessAllowed ? 'block' : 'none';\n",
              "\n",
              "        async function convertToInteractive(key) {\n",
              "          const element = document.querySelector('#df-ef34266d-13db-4fea-abdf-06af43f1bbfd');\n",
              "          const dataTable =\n",
              "            await google.colab.kernel.invokeFunction('convertToInteractive',\n",
              "                                                     [key], {});\n",
              "          if (!dataTable) return;\n",
              "\n",
              "          const docLinkHtml = 'Like what you see? Visit the ' +\n",
              "            '<a target=\"_blank\" href=https://colab.research.google.com/notebooks/data_table.ipynb>data table notebook</a>'\n",
              "            + ' to learn more about interactive tables.';\n",
              "          element.innerHTML = '';\n",
              "          dataTable['output_type'] = 'display_data';\n",
              "          await google.colab.output.renderOutput(dataTable, element);\n",
              "          const docLink = document.createElement('div');\n",
              "          docLink.innerHTML = docLinkHtml;\n",
              "          element.appendChild(docLink);\n",
              "        }\n",
              "      </script>\n",
              "    </div>\n",
              "  </div>\n",
              "  "
            ],
            "text/plain": [
              "      fit_time  score_time   test_R2  train_R2    test_RMSE   train_RMSE\n",
              "0     0.591690    0.019044  0.444132  0.443503 -3734.742098 -3749.702290\n",
              "1     0.596647    0.016814  0.443551  0.443648 -3754.836709 -3744.683014\n",
              "2     0.570339    0.017624  0.446555  0.442892 -3741.154119 -3748.110014\n",
              "3     0.589770    0.017117  0.441733  0.444103 -3754.824849 -3744.686547\n",
              "4     0.573262    0.018369  0.442102  0.444011 -3748.166476 -3746.349108\n",
              "mean  0.584342    0.017794  0.443615  0.443631 -3746.744850 -3746.706195\n",
              "std   0.011766    0.000914  0.001920  0.000482     8.776502     2.193573"
            ]
          },
          "execution_count": null,
          "metadata": {},
          "output_type": "execute_result"
        }
      ],
      "source": [
        "df_sv_scores = pd.DataFrame(sv_scores)\n",
        "df_sv_scores.append([df_sv_scores.mean().rename('mean', inplace=True) ,df_sv_scores.std().rename('std', inplace=True)])"
      ]
    },
    {
      "cell_type": "markdown",
      "metadata": {
        "id": "yXProabQvLid"
      },
      "source": [
        "As we expected, the model is much faster and produces better result `R2_score = 0.44` than the two above models. But we need to check whether the model is underfit or not."
      ]
    },
    {
      "cell_type": "code",
      "execution_count": null,
      "metadata": {
        "colab": {
          "background_save": true
        },
        "id": "paycQUFOvhN0",
        "outputId": "c1e97caa-352b-4568-d5c7-2ea08e95fad9"
      },
      "outputs": [
        {
          "data": {
            "image/png": "[encoded data removed]",
            "text/plain": [
              "<Figure size 504x504 with 1 Axes>"
            ]
          },
          "metadata": {},
          "output_type": "display_data"
        }
      ],
      "source": [
        "train_sizes, train_scores, valid_scores = learning_curve(dtr, X, y, train_sizes=[10000, 50000, 100000, 150000, 200000, 250000, 300000, 350000, 400000], scoring = R2_score)\n",
        "plot_learning_curve(train_sizes, train_scores, valid_scores, title = \"Learning Curve of Decision Tree with \\n max_depth = 5 and min_samples_leaf = 3\", y_label = \"R2 Score\")"
      ]
    },
    {
      "cell_type": "markdown",
      "metadata": {
        "id": "4zDt7hJypp7n"
      },
      "source": [
        "As we can see, the model still suffers from underfit (the pattern is the same as OLS Regression). However, we will do hyperparameters tuning to choose the best the best one as we believe it could be better if changing suitable hyperparameters and use it by [GridSearchCV](https://scikit-learn.org/stable/modules/generated/sklearn.model_selection.GridSearchCV.html)\n",
        "\n"
      ]
    },
    {
      "cell_type": "markdown",
      "metadata": {
        "id": "SxOurVb5srE7"
      },
      "source": [
        "#### Tuning hyperparameters"
      ]
    },
    {
      "cell_type": "code",
      "execution_count": null,
      "metadata": {
        "colab": {
          "background_save": true
        },
        "id": "gtJxQOSs0qn5",
        "outputId": "1731eca5-f143-4a4d-c787-1b2852b04b80"
      },
      "outputs": [
        {
          "data": {
            "text/plain": [
              "GridSearchCV(cv=5, estimator=DecisionTreeRegressor(random_state=7777),\n",
              "             n_jobs=-1,\n",
              "             param_grid=[{'max_depth': [1, 5, 10, 11, 12, 15, 25, 30, 35, 40,\n",
              "                                        45, 50],\n",
              "                          'min_samples_leaf': [1, 3, 5, 10, 15, 20, 23, 25, 33,\n",
              "                                               30, 35, 40]}],\n",
              "             scoring=make_scorer(r2_score))"
            ]
          },
          "execution_count": null,
          "metadata": {},
          "output_type": "execute_result"
        }
      ],
      "source": [
        "# Selected Parameters\n",
        "tuned_parameters = [\n",
        "      {'max_depth' : [1, 5, 10, 11,  12, 15, 25, 30, 35, 40, 45,50],\n",
        "       'min_samples_leaf' : [1, 3, 5, 10 , 15, 20,23, 25, 33, 30, 35, 40]}]\n",
        "\n",
        "#Grid Search \n",
        "dtrGrid = GridSearchCV(DecisionTreeRegressor(random_state=RANDOM_STATE),tuned_parameters, n_jobs = -1, cv = 5, scoring = R2_score ) ##Scoring using R2_score\n",
        "dtrGrid.fit(X, y)"
      ]
    },
    {
      "cell_type": "code",
      "execution_count": null,
      "metadata": {
        "colab": {
          "background_save": true
        },
        "id": "0jugWZrk2FqR",
        "outputId": "795be1ce-df40-4e5b-e37a-85042cf247cc"
      },
      "outputs": [
        {
          "name": "stdout",
          "output_type": "stream",
          "text": [
            "The best setting for DTR:\n"
          ]
        },
        {
          "data": {
            "text/plain": [
              "DecisionTreeRegressor(max_depth=25, min_samples_leaf=40, random_state=7777)"
            ]
          },
          "execution_count": null,
          "metadata": {},
          "output_type": "execute_result"
        }
      ],
      "source": [
        "print(\"The best setting for DTR:\")\n",
        "dtrGrid.best_estimator_"
      ]
    },
    {
      "cell_type": "code",
      "execution_count": null,
      "metadata": {
        "colab": {
          "background_save": true
        },
        "id": "BMvqXpuk3SsA",
        "outputId": "4d3d5ddb-9024-4962-a972-6fb2f9822712"
      },
      "outputs": [
        {
          "data": {
            "text/html": [
              "\n",
              "  <div id=\"df-37ef19a0-a179-4f27-9ee2-5b9966f6123a\">\n",
              "    <div class=\"colab-df-container\">\n",
              "      <div>\n",
              "<style scoped>\n",
              "    .dataframe tbody tr th:only-of-type {\n",
              "        vertical-align: middle;\n",
              "    }\n",
              "\n",
              "    .dataframe tbody tr th {\n",
              "        vertical-align: top;\n",
              "    }\n",
              "\n",
              "    .dataframe thead th {\n",
              "        text-align: right;\n",
              "    }\n",
              "</style>\n",
              "<table border=\"1\" class=\"dataframe\">\n",
              "  <thead>\n",
              "    <tr style=\"text-align: right;\">\n",
              "      <th></th>\n",
              "      <th>mean_fit_time</th>\n",
              "      <th>mean_score_time</th>\n",
              "      <th>params</th>\n",
              "      <th>mean_test_score</th>\n",
              "      <th>std_test_score</th>\n",
              "    </tr>\n",
              "  </thead>\n",
              "  <tbody>\n",
              "    <tr>\n",
              "      <th>83</th>\n",
              "      <td>4.651169</td>\n",
              "      <td>0.046293</td>\n",
              "      <td>{'max_depth': 25, 'min_samples_leaf': 40}</td>\n",
              "      <td>0.703399</td>\n",
              "      <td>0.002116</td>\n",
              "    </tr>\n",
              "    <tr>\n",
              "      <th>95</th>\n",
              "      <td>4.359856</td>\n",
              "      <td>0.046527</td>\n",
              "      <td>{'max_depth': 30, 'min_samples_leaf': 40}</td>\n",
              "      <td>0.703377</td>\n",
              "      <td>0.002152</td>\n",
              "    </tr>\n",
              "    <tr>\n",
              "      <th>143</th>\n",
              "      <td>4.284841</td>\n",
              "      <td>0.043604</td>\n",
              "      <td>{'max_depth': 50, 'min_samples_leaf': 40}</td>\n",
              "      <td>0.703358</td>\n",
              "      <td>0.002147</td>\n",
              "    </tr>\n",
              "    <tr>\n",
              "      <th>131</th>\n",
              "      <td>4.422129</td>\n",
              "      <td>0.046214</td>\n",
              "      <td>{'max_depth': 45, 'min_samples_leaf': 40}</td>\n",
              "      <td>0.703358</td>\n",
              "      <td>0.002147</td>\n",
              "    </tr>\n",
              "    <tr>\n",
              "      <th>119</th>\n",
              "      <td>4.355248</td>\n",
              "      <td>0.056009</td>\n",
              "      <td>{'max_depth': 40, 'min_samples_leaf': 40}</td>\n",
              "      <td>0.703358</td>\n",
              "      <td>0.002147</td>\n",
              "    </tr>\n",
              "  </tbody>\n",
              "</table>\n",
              "</div>\n",
              "      <button class=\"colab-df-convert\" onclick=\"convertToInteractive('df-37ef19a0-a179-4f27-9ee2-5b9966f6123a')\"\n",
              "              title=\"Convert this dataframe to an interactive table.\"\n",
              "              style=\"display:none;\">\n",
              "        \n",
              "  <svg xmlns=\"http://www.w3.org/2000/svg\" height=\"24px\"viewBox=\"0 0 24 24\"\n",
              "       width=\"24px\">\n",
              "    <path d=\"M0 0h24v24H0V0z\" fill=\"none\"/>\n",
              "    <path d=\"M18.56 5.44l.94 2.06.94-2.06 2.06-.94-2.06-.94-.94-2.06-.94 2.06-2.06.94zm-11 1L8.5 8.5l.94-2.06 2.06-.94-2.06-.94L8.5 2.5l-.94 2.06-2.06.94zm10 10l.94 2.06.94-2.06 2.06-.94-2.06-.94-.94-2.06-.94 2.06-2.06.94z\"/><path d=\"M17.41 7.96l-1.37-1.37c-.4-.4-.92-.59-1.43-.59-.52 0-1.04.2-1.43.59L10.3 9.45l-7.72 7.72c-.78.78-.78 2.05 0 2.83L4 21.41c.39.39.9.59 1.41.59.51 0 1.02-.2 1.41-.59l7.78-7.78 2.81-2.81c.8-.78.8-2.07 0-2.86zM5.41 20L4 18.59l7.72-7.72 1.47 1.35L5.41 20z\"/>\n",
              "  </svg>\n",
              "      </button>\n",
              "      \n",
              "  <style>\n",
              "    .colab-df-container {\n",
              "      display:flex;\n",
              "      flex-wrap:wrap;\n",
              "      gap: 12px;\n",
              "    }\n",
              "\n",
              "    .colab-df-convert {\n",
              "      background-color: #E8F0FE;\n",
              "      border: none;\n",
              "      border-radius: 50%;\n",
              "      cursor: pointer;\n",
              "      display: none;\n",
              "      fill: #1967D2;\n",
              "      height: 32px;\n",
              "      padding: 0 0 0 0;\n",
              "      width: 32px;\n",
              "    }\n",
              "\n",
              "    .colab-df-convert:hover {\n",
              "      background-color: #E2EBFA;\n",
              "      box-shadow: 0px 1px 2px rgba(60, 64, 67, 0.3), 0px 1px 3px 1px rgba(60, 64, 67, 0.15);\n",
              "      fill: #174EA6;\n",
              "    }\n",
              "\n",
              "    [theme=dark] .colab-df-convert {\n",
              "      background-color: #3B4455;\n",
              "      fill: #D2E3FC;\n",
              "    }\n",
              "\n",
              "    [theme=dark] .colab-df-convert:hover {\n",
              "      background-color: #434B5C;\n",
              "      box-shadow: 0px 1px 3px 1px rgba(0, 0, 0, 0.15);\n",
              "      filter: drop-shadow(0px 1px 2px rgba(0, 0, 0, 0.3));\n",
              "      fill: #FFFFFF;\n",
              "    }\n",
              "  </style>\n",
              "\n",
              "      <script>\n",
              "        const buttonEl =\n",
              "          document.querySelector('#df-37ef19a0-a179-4f27-9ee2-5b9966f6123a button.colab-df-convert');\n",
              "        buttonEl.style.display =\n",
              "          google.colab.kernel.accessAllowed ? 'block' : 'none';\n",
              "\n",
              "        async function convertToInteractive(key) {\n",
              "          const element = document.querySelector('#df-37ef19a0-a179-4f27-9ee2-5b9966f6123a');\n",
              "          const dataTable =\n",
              "            await google.colab.kernel.invokeFunction('convertToInteractive',\n",
              "                                                     [key], {});\n",
              "          if (!dataTable) return;\n",
              "\n",
              "          const docLinkHtml = 'Like what you see? Visit the ' +\n",
              "            '<a target=\"_blank\" href=https://colab.research.google.com/notebooks/data_table.ipynb>data table notebook</a>'\n",
              "            + ' to learn more about interactive tables.';\n",
              "          element.innerHTML = '';\n",
              "          dataTable['output_type'] = 'display_data';\n",
              "          await google.colab.output.renderOutput(dataTable, element);\n",
              "          const docLink = document.createElement('div');\n",
              "          docLink.innerHTML = docLinkHtml;\n",
              "          element.appendChild(docLink);\n",
              "        }\n",
              "      </script>\n",
              "    </div>\n",
              "  </div>\n",
              "  "
            ],
            "text/plain": [
              "     mean_fit_time  mean_score_time  \\\n",
              "83        4.651169         0.046293   \n",
              "95        4.359856         0.046527   \n",
              "143       4.284841         0.043604   \n",
              "131       4.422129         0.046214   \n",
              "119       4.355248         0.056009   \n",
              "\n",
              "                                        params  mean_test_score  \\\n",
              "83   {'max_depth': 25, 'min_samples_leaf': 40}         0.703399   \n",
              "95   {'max_depth': 30, 'min_samples_leaf': 40}         0.703377   \n",
              "143  {'max_depth': 50, 'min_samples_leaf': 40}         0.703358   \n",
              "131  {'max_depth': 45, 'min_samples_leaf': 40}         0.703358   \n",
              "119  {'max_depth': 40, 'min_samples_leaf': 40}         0.703358   \n",
              "\n",
              "     std_test_score  \n",
              "83         0.002116  \n",
              "95         0.002152  \n",
              "143        0.002147  \n",
              "131        0.002147  \n",
              "119        0.002147  "
            ]
          },
          "execution_count": null,
          "metadata": {},
          "output_type": "execute_result"
        }
      ],
      "source": [
        "pdtGrid_result = pd.DataFrame.from_dict(dtrGrid.cv_results_)\n",
        "columns = ['mean_fit_time', 'mean_score_time', 'params', 'mean_test_score' ,'std_test_score']\n",
        "## Top 5 parameter settings\n",
        "pdtGrid_result[columns].sort_values(by='mean_test_score', ascending=False).head(5)"
      ]
    },
    {
      "cell_type": "markdown",
      "metadata": {
        "id": "MBJgDMLttTGc"
      },
      "source": [
        "So we train and validate again with the optimal parameter."
      ]
    },
    {
      "cell_type": "code",
      "execution_count": null,
      "metadata": {
        "colab": {
          "background_save": true
        },
        "id": "A8s12usvuEUD"
      },
      "outputs": [],
      "source": [
        "sv_scores = cross_validate(DecisionTreeRegressor(random_state = RANDOM_STATE, max_depth=25, min_samples_leaf=40), X, y, cv = 5, scoring =metrics, return_train_score = True)"
      ]
    },
    {
      "cell_type": "code",
      "execution_count": null,
      "metadata": {
        "colab": {
          "background_save": true
        },
        "id": "FAZTmUMFucUb",
        "outputId": "c143f993-d46a-4a9b-d36e-1f5406568b07"
      },
      "outputs": [
        {
          "data": {
            "text/html": [
              "\n",
              "  <div id=\"df-7cace0e3-4452-481d-a426-dc76cc3261b2\">\n",
              "    <div class=\"colab-df-container\">\n",
              "      <div>\n",
              "<style scoped>\n",
              "    .dataframe tbody tr th:only-of-type {\n",
              "        vertical-align: middle;\n",
              "    }\n",
              "\n",
              "    .dataframe tbody tr th {\n",
              "        vertical-align: top;\n",
              "    }\n",
              "\n",
              "    .dataframe thead th {\n",
              "        text-align: right;\n",
              "    }\n",
              "</style>\n",
              "<table border=\"1\" class=\"dataframe\">\n",
              "  <thead>\n",
              "    <tr style=\"text-align: right;\">\n",
              "      <th></th>\n",
              "      <th>fit_time</th>\n",
              "      <th>score_time</th>\n",
              "      <th>test_R2</th>\n",
              "      <th>train_R2</th>\n",
              "      <th>test_RMSE</th>\n",
              "      <th>train_RMSE</th>\n",
              "    </tr>\n",
              "  </thead>\n",
              "  <tbody>\n",
              "    <tr>\n",
              "      <th>0</th>\n",
              "      <td>2.205344</td>\n",
              "      <td>0.027637</td>\n",
              "      <td>0.690044</td>\n",
              "      <td>0.705594</td>\n",
              "      <td>-2788.847879</td>\n",
              "      <td>-2727.336507</td>\n",
              "    </tr>\n",
              "    <tr>\n",
              "      <th>1</th>\n",
              "      <td>2.430691</td>\n",
              "      <td>0.055169</td>\n",
              "      <td>0.692501</td>\n",
              "      <td>0.707433</td>\n",
              "      <td>-2791.259088</td>\n",
              "      <td>-2715.521459</td>\n",
              "    </tr>\n",
              "    <tr>\n",
              "      <th>2</th>\n",
              "      <td>2.536519</td>\n",
              "      <td>0.029280</td>\n",
              "      <td>0.698336</td>\n",
              "      <td>0.706116</td>\n",
              "      <td>-2762.041616</td>\n",
              "      <td>-2722.267105</td>\n",
              "    </tr>\n",
              "    <tr>\n",
              "      <th>3</th>\n",
              "      <td>2.601381</td>\n",
              "      <td>0.032739</td>\n",
              "      <td>0.694767</td>\n",
              "      <td>0.707217</td>\n",
              "      <td>-2776.414191</td>\n",
              "      <td>-2717.637810</td>\n",
              "    </tr>\n",
              "    <tr>\n",
              "      <th>4</th>\n",
              "      <td>2.120070</td>\n",
              "      <td>0.031591</td>\n",
              "      <td>0.692084</td>\n",
              "      <td>0.706075</td>\n",
              "      <td>-2784.567688</td>\n",
              "      <td>-2723.913328</td>\n",
              "    </tr>\n",
              "    <tr>\n",
              "      <th>mean</th>\n",
              "      <td>2.378801</td>\n",
              "      <td>0.035283</td>\n",
              "      <td>0.693546</td>\n",
              "      <td>0.706487</td>\n",
              "      <td>-2780.626092</td>\n",
              "      <td>-2721.335242</td>\n",
              "    </tr>\n",
              "    <tr>\n",
              "      <th>std</th>\n",
              "      <td>0.208649</td>\n",
              "      <td>0.011292</td>\n",
              "      <td>0.003160</td>\n",
              "      <td>0.000796</td>\n",
              "      <td>11.824947</td>\n",
              "      <td>4.769726</td>\n",
              "    </tr>\n",
              "  </tbody>\n",
              "</table>\n",
              "</div>\n",
              "      <button class=\"colab-df-convert\" onclick=\"convertToInteractive('df-7cace0e3-4452-481d-a426-dc76cc3261b2')\"\n",
              "              title=\"Convert this dataframe to an interactive table.\"\n",
              "              style=\"display:none;\">\n",
              "        \n",
              "  <svg xmlns=\"http://www.w3.org/2000/svg\" height=\"24px\"viewBox=\"0 0 24 24\"\n",
              "       width=\"24px\">\n",
              "    <path d=\"M0 0h24v24H0V0z\" fill=\"none\"/>\n",
              "    <path d=\"M18.56 5.44l.94 2.06.94-2.06 2.06-.94-2.06-.94-.94-2.06-.94 2.06-2.06.94zm-11 1L8.5 8.5l.94-2.06 2.06-.94-2.06-.94L8.5 2.5l-.94 2.06-2.06.94zm10 10l.94 2.06.94-2.06 2.06-.94-2.06-.94-.94-2.06-.94 2.06-2.06.94z\"/><path d=\"M17.41 7.96l-1.37-1.37c-.4-.4-.92-.59-1.43-.59-.52 0-1.04.2-1.43.59L10.3 9.45l-7.72 7.72c-.78.78-.78 2.05 0 2.83L4 21.41c.39.39.9.59 1.41.59.51 0 1.02-.2 1.41-.59l7.78-7.78 2.81-2.81c.8-.78.8-2.07 0-2.86zM5.41 20L4 18.59l7.72-7.72 1.47 1.35L5.41 20z\"/>\n",
              "  </svg>\n",
              "      </button>\n",
              "      \n",
              "  <style>\n",
              "    .colab-df-container {\n",
              "      display:flex;\n",
              "      flex-wrap:wrap;\n",
              "      gap: 12px;\n",
              "    }\n",
              "\n",
              "    .colab-df-convert {\n",
              "      background-color: #E8F0FE;\n",
              "      border: none;\n",
              "      border-radius: 50%;\n",
              "      cursor: pointer;\n",
              "      display: none;\n",
              "      fill: #1967D2;\n",
              "      height: 32px;\n",
              "      padding: 0 0 0 0;\n",
              "      width: 32px;\n",
              "    }\n",
              "\n",
              "    .colab-df-convert:hover {\n",
              "      background-color: #E2EBFA;\n",
              "      box-shadow: 0px 1px 2px rgba(60, 64, 67, 0.3), 0px 1px 3px 1px rgba(60, 64, 67, 0.15);\n",
              "      fill: #174EA6;\n",
              "    }\n",
              "\n",
              "    [theme=dark] .colab-df-convert {\n",
              "      background-color: #3B4455;\n",
              "      fill: #D2E3FC;\n",
              "    }\n",
              "\n",
              "    [theme=dark] .colab-df-convert:hover {\n",
              "      background-color: #434B5C;\n",
              "      box-shadow: 0px 1px 3px 1px rgba(0, 0, 0, 0.15);\n",
              "      filter: drop-shadow(0px 1px 2px rgba(0, 0, 0, 0.3));\n",
              "      fill: #FFFFFF;\n",
              "    }\n",
              "  </style>\n",
              "\n",
              "      <script>\n",
              "        const buttonEl =\n",
              "          document.querySelector('#df-7cace0e3-4452-481d-a426-dc76cc3261b2 button.colab-df-convert');\n",
              "        buttonEl.style.display =\n",
              "          google.colab.kernel.accessAllowed ? 'block' : 'none';\n",
              "\n",
              "        async function convertToInteractive(key) {\n",
              "          const element = document.querySelector('#df-7cace0e3-4452-481d-a426-dc76cc3261b2');\n",
              "          const dataTable =\n",
              "            await google.colab.kernel.invokeFunction('convertToInteractive',\n",
              "                                                     [key], {});\n",
              "          if (!dataTable) return;\n",
              "\n",
              "          const docLinkHtml = 'Like what you see? Visit the ' +\n",
              "            '<a target=\"_blank\" href=https://colab.research.google.com/notebooks/data_table.ipynb>data table notebook</a>'\n",
              "            + ' to learn more about interactive tables.';\n",
              "          element.innerHTML = '';\n",
              "          dataTable['output_type'] = 'display_data';\n",
              "          await google.colab.output.renderOutput(dataTable, element);\n",
              "          const docLink = document.createElement('div');\n",
              "          docLink.innerHTML = docLinkHtml;\n",
              "          element.appendChild(docLink);\n",
              "        }\n",
              "      </script>\n",
              "    </div>\n",
              "  </div>\n",
              "  "
            ],
            "text/plain": [
              "      fit_time  score_time   test_R2  train_R2    test_RMSE   train_RMSE\n",
              "0     2.205344    0.027637  0.690044  0.705594 -2788.847879 -2727.336507\n",
              "1     2.430691    0.055169  0.692501  0.707433 -2791.259088 -2715.521459\n",
              "2     2.536519    0.029280  0.698336  0.706116 -2762.041616 -2722.267105\n",
              "3     2.601381    0.032739  0.694767  0.707217 -2776.414191 -2717.637810\n",
              "4     2.120070    0.031591  0.692084  0.706075 -2784.567688 -2723.913328\n",
              "mean  2.378801    0.035283  0.693546  0.706487 -2780.626092 -2721.335242\n",
              "std   0.208649    0.011292  0.003160  0.000796    11.824947     4.769726"
            ]
          },
          "execution_count": null,
          "metadata": {},
          "output_type": "execute_result"
        }
      ],
      "source": [
        "df_sv_scores = pd.DataFrame(sv_scores)\n",
        "df_sv_scores.append([df_sv_scores.mean().rename('mean', inplace=True) ,df_sv_scores.std().rename('std', inplace=True)])"
      ]
    },
    {
      "cell_type": "markdown",
      "metadata": {
        "id": "KbjdO1p5E8O9"
      },
      "source": [
        "#### Choosing model based on the result of tuning hyperparameter"
      ]
    },
    {
      "cell_type": "code",
      "execution_count": null,
      "metadata": {
        "colab": {
          "background_save": true
        },
        "id": "GDGmk14NFNRq",
        "outputId": "88875ca7-bde7-476f-f73f-228e2e8d5710"
      },
      "outputs": [
        {
          "data": {
            "text/plain": [
              "DecisionTreeRegressor(max_depth=25, min_samples_leaf=40, random_state=7777)"
            ]
          },
          "execution_count": null,
          "metadata": {},
          "output_type": "execute_result"
        }
      ],
      "source": [
        "dtrGrid.best_estimator_"
      ]
    },
    {
      "cell_type": "code",
      "execution_count": null,
      "metadata": {
        "colab": {
          "background_save": true
        },
        "id": "AdhKBA_s3jeW",
        "outputId": "3cd3a618-5b0f-4bc8-85b2-30163a5253ec"
      },
      "outputs": [
        {
          "data": {
            "image/png": "[encoded data removed]",
            "text/plain": [
              "<Figure size 504x504 with 1 Axes>"
            ]
          },
          "metadata": {},
          "output_type": "display_data"
        }
      ],
      "source": [
        "train_sizes, train_scores, valid_scores = learning_curve(dtrGrid.best_estimator_, X, y, train_sizes=[10000, 50000, 100000, 150000, 200000, 250000, 300000, 350000, 400000], scoring = R2_score)\n",
        "plot_learning_curve(train_sizes, train_scores, valid_scores, title = \"Learning Curve of Decision Tree with \\n max_depth = 15 and min_samples_leaf = 20\", y_label = \"R2 Score\")"
      ]
    },
    {
      "cell_type": "markdown",
      "metadata": {
        "id": "B2nZwGEH8wQE"
      },
      "source": [
        "Validation score and training score are both high (up to nearly `0.7 R2 Score` for validation curve) however there is a big gap between `train_scores` and `valid_scores` and two curves then to meet each other when increase the number of examples so it is a *overfitting* model ."
      ]
    },
    {
      "cell_type": "code",
      "execution_count": null,
      "metadata": {
        "colab": {
          "background_save": true
        },
        "id": "tccO7pBy6xPO"
      },
      "outputs": [],
      "source": [
        "df_results = df_results.append({\"Model\" : \"Decision Tree Regressor\" , \n",
        "                    \"Settings\" : \"max_depth = 15, min_sample_leaf = 20 \",\n",
        "                   'RMSE mean':2785.145741,\n",
        "                   'RMSE std':10.395473\t, \n",
        "                   'R2 mean':  0.697248, \n",
        "                   'R2 std': 0.002545, \n",
        "                   'Training time': 2.154469 , \n",
        "                   'Prediction time': 0.026188,\n",
        "                   'Note' : '5-fold cross-validation'\n",
        "                   }, \n",
        "                  ignore_index = True)"
      ]
    },
    {
      "cell_type": "markdown",
      "metadata": {
        "id": "sqjrCKhs9PGN"
      },
      "source": [
        "Although `Decision Tree` yields good result, we also tried `Random Forest` which includes different decision trees and hopefully give us lower variances related to the data."
      ]
    },
    {
      "cell_type": "markdown",
      "metadata": {
        "id": "zO40PwP0-kdX"
      },
      "source": [
        "### Random Forest Regressor"
      ]
    },
    {
      "cell_type": "code",
      "execution_count": null,
      "metadata": {
        "id": "LSZ3wiov5fK0"
      },
      "outputs": [],
      "source": [
        "## Create RFR with selected paramater by similar techniques\n",
        "rfr = RandomForestRegressor(max_depth = None, min_samples_split= 5, random_state= RANDOM_STATE, n_jobs = -1, max_features=\"sqrt\", n_estimators= 100)\n",
        "\n",
        "metrics = {'R2' : R2_score, 'RMSE': RMSE_score}\n",
        "sv_scores = cross_validate(rfr, X, y, cv = 5, scoring =metrics, return_train_score = True)"
      ]
    },
    {
      "cell_type": "markdown",
      "metadata": {
        "id": "Hr6O23PbvG6L"
      },
      "source": [
        "We chose the parameters based on GridSearch strategies like above."
      ]
    },
    {
      "cell_type": "code",
      "execution_count": null,
      "metadata": {
        "colab": {
          "base_uri": "https://localhost:8080/",
          "height": 269
        },
        "id": "lAfJRBmfA_8J",
        "outputId": "3fb20feb-9a24-4c90-8cbf-8cea927b5773"
      },
      "outputs": [
        {
          "data": {
            "text/html": [
              "\n",
              "  <div id=\"df-16d58d0d-a26b-40e9-844f-ac896bdebb34\">\n",
              "    <div class=\"colab-df-container\">\n",
              "      <div>\n",
              "<style scoped>\n",
              "    .dataframe tbody tr th:only-of-type {\n",
              "        vertical-align: middle;\n",
              "    }\n",
              "\n",
              "    .dataframe tbody tr th {\n",
              "        vertical-align: top;\n",
              "    }\n",
              "\n",
              "    .dataframe thead th {\n",
              "        text-align: right;\n",
              "    }\n",
              "</style>\n",
              "<table border=\"1\" class=\"dataframe\">\n",
              "  <thead>\n",
              "    <tr style=\"text-align: right;\">\n",
              "      <th></th>\n",
              "      <th>fit_time</th>\n",
              "      <th>score_time</th>\n",
              "      <th>test_R2</th>\n",
              "      <th>train_R2</th>\n",
              "      <th>test_RMSE</th>\n",
              "      <th>train_RMSE</th>\n",
              "    </tr>\n",
              "  </thead>\n",
              "  <tbody>\n",
              "    <tr>\n",
              "      <th>0</th>\n",
              "      <td>92.548009</td>\n",
              "      <td>5.328763</td>\n",
              "      <td>0.696571</td>\n",
              "      <td>0.892352</td>\n",
              "      <td>-2759.329152</td>\n",
              "      <td>-1649.179942</td>\n",
              "    </tr>\n",
              "    <tr>\n",
              "      <th>1</th>\n",
              "      <td>79.302978</td>\n",
              "      <td>5.120703</td>\n",
              "      <td>0.698201</td>\n",
              "      <td>0.892577</td>\n",
              "      <td>-2765.266586</td>\n",
              "      <td>-1645.465077</td>\n",
              "    </tr>\n",
              "    <tr>\n",
              "      <th>2</th>\n",
              "      <td>79.537216</td>\n",
              "      <td>5.422899</td>\n",
              "      <td>0.701758</td>\n",
              "      <td>0.891956</td>\n",
              "      <td>-2746.332950</td>\n",
              "      <td>-1650.601569</td>\n",
              "    </tr>\n",
              "    <tr>\n",
              "      <th>3</th>\n",
              "      <td>78.133725</td>\n",
              "      <td>5.120395</td>\n",
              "      <td>0.697861</td>\n",
              "      <td>0.892239</td>\n",
              "      <td>-2762.308632</td>\n",
              "      <td>-1648.728728</td>\n",
              "    </tr>\n",
              "    <tr>\n",
              "      <th>4</th>\n",
              "      <td>78.692635</td>\n",
              "      <td>5.426194</td>\n",
              "      <td>0.697564</td>\n",
              "      <td>0.892704</td>\n",
              "      <td>-2759.675403</td>\n",
              "      <td>-1645.761772</td>\n",
              "    </tr>\n",
              "    <tr>\n",
              "      <th>mean</th>\n",
              "      <td>81.642913</td>\n",
              "      <td>5.283791</td>\n",
              "      <td>0.698391</td>\n",
              "      <td>0.892366</td>\n",
              "      <td>-2758.582544</td>\n",
              "      <td>-1647.947418</td>\n",
              "    </tr>\n",
              "    <tr>\n",
              "      <th>std</th>\n",
              "      <td>6.120640</td>\n",
              "      <td>0.154068</td>\n",
              "      <td>0.001978</td>\n",
              "      <td>0.000293</td>\n",
              "      <td>7.251973</td>\n",
              "      <td>2.242384</td>\n",
              "    </tr>\n",
              "  </tbody>\n",
              "</table>\n",
              "</div>\n",
              "      <button class=\"colab-df-convert\" onclick=\"convertToInteractive('df-16d58d0d-a26b-40e9-844f-ac896bdebb34')\"\n",
              "              title=\"Convert this dataframe to an interactive table.\"\n",
              "              style=\"display:none;\">\n",
              "        \n",
              "  <svg xmlns=\"http://www.w3.org/2000/svg\" height=\"24px\"viewBox=\"0 0 24 24\"\n",
              "       width=\"24px\">\n",
              "    <path d=\"M0 0h24v24H0V0z\" fill=\"none\"/>\n",
              "    <path d=\"M18.56 5.44l.94 2.06.94-2.06 2.06-.94-2.06-.94-.94-2.06-.94 2.06-2.06.94zm-11 1L8.5 8.5l.94-2.06 2.06-.94-2.06-.94L8.5 2.5l-.94 2.06-2.06.94zm10 10l.94 2.06.94-2.06 2.06-.94-2.06-.94-.94-2.06-.94 2.06-2.06.94z\"/><path d=\"M17.41 7.96l-1.37-1.37c-.4-.4-.92-.59-1.43-.59-.52 0-1.04.2-1.43.59L10.3 9.45l-7.72 7.72c-.78.78-.78 2.05 0 2.83L4 21.41c.39.39.9.59 1.41.59.51 0 1.02-.2 1.41-.59l7.78-7.78 2.81-2.81c.8-.78.8-2.07 0-2.86zM5.41 20L4 18.59l7.72-7.72 1.47 1.35L5.41 20z\"/>\n",
              "  </svg>\n",
              "      </button>\n",
              "      \n",
              "  <style>\n",
              "    .colab-df-container {\n",
              "      display:flex;\n",
              "      flex-wrap:wrap;\n",
              "      gap: 12px;\n",
              "    }\n",
              "\n",
              "    .colab-df-convert {\n",
              "      background-color: #E8F0FE;\n",
              "      border: none;\n",
              "      border-radius: 50%;\n",
              "      cursor: pointer;\n",
              "      display: none;\n",
              "      fill: #1967D2;\n",
              "      height: 32px;\n",
              "      padding: 0 0 0 0;\n",
              "      width: 32px;\n",
              "    }\n",
              "\n",
              "    .colab-df-convert:hover {\n",
              "      background-color: #E2EBFA;\n",
              "      box-shadow: 0px 1px 2px rgba(60, 64, 67, 0.3), 0px 1px 3px 1px rgba(60, 64, 67, 0.15);\n",
              "      fill: #174EA6;\n",
              "    }\n",
              "\n",
              "    [theme=dark] .colab-df-convert {\n",
              "      background-color: #3B4455;\n",
              "      fill: #D2E3FC;\n",
              "    }\n",
              "\n",
              "    [theme=dark] .colab-df-convert:hover {\n",
              "      background-color: #434B5C;\n",
              "      box-shadow: 0px 1px 3px 1px rgba(0, 0, 0, 0.15);\n",
              "      filter: drop-shadow(0px 1px 2px rgba(0, 0, 0, 0.3));\n",
              "      fill: #FFFFFF;\n",
              "    }\n",
              "  </style>\n",
              "\n",
              "      <script>\n",
              "        const buttonEl =\n",
              "          document.querySelector('#df-16d58d0d-a26b-40e9-844f-ac896bdebb34 button.colab-df-convert');\n",
              "        buttonEl.style.display =\n",
              "          google.colab.kernel.accessAllowed ? 'block' : 'none';\n",
              "\n",
              "        async function convertToInteractive(key) {\n",
              "          const element = document.querySelector('#df-16d58d0d-a26b-40e9-844f-ac896bdebb34');\n",
              "          const dataTable =\n",
              "            await google.colab.kernel.invokeFunction('convertToInteractive',\n",
              "                                                     [key], {});\n",
              "          if (!dataTable) return;\n",
              "\n",
              "          const docLinkHtml = 'Like what you see? Visit the ' +\n",
              "            '<a target=\"_blank\" href=https://colab.research.google.com/notebooks/data_table.ipynb>data table notebook</a>'\n",
              "            + ' to learn more about interactive tables.';\n",
              "          element.innerHTML = '';\n",
              "          dataTable['output_type'] = 'display_data';\n",
              "          await google.colab.output.renderOutput(dataTable, element);\n",
              "          const docLink = document.createElement('div');\n",
              "          docLink.innerHTML = docLinkHtml;\n",
              "          element.appendChild(docLink);\n",
              "        }\n",
              "      </script>\n",
              "    </div>\n",
              "  </div>\n",
              "  "
            ],
            "text/plain": [
              "       fit_time  score_time   test_R2  train_R2    test_RMSE   train_RMSE\n",
              "0     92.548009    5.328763  0.696571  0.892352 -2759.329152 -1649.179942\n",
              "1     79.302978    5.120703  0.698201  0.892577 -2765.266586 -1645.465077\n",
              "2     79.537216    5.422899  0.701758  0.891956 -2746.332950 -1650.601569\n",
              "3     78.133725    5.120395  0.697861  0.892239 -2762.308632 -1648.728728\n",
              "4     78.692635    5.426194  0.697564  0.892704 -2759.675403 -1645.761772\n",
              "mean  81.642913    5.283791  0.698391  0.892366 -2758.582544 -1647.947418\n",
              "std    6.120640    0.154068  0.001978  0.000293     7.251973     2.242384"
            ]
          },
          "execution_count": 15,
          "metadata": {},
          "output_type": "execute_result"
        }
      ],
      "source": [
        "df_sv_scores = pd.DataFrame(sv_scores)\n",
        "df_sv_scores.append([df_sv_scores.mean().rename('mean', inplace=True) ,df_sv_scores.std().rename('std', inplace=True)])"
      ]
    },
    {
      "cell_type": "markdown",
      "metadata": {
        "id": "1PeghF64u9bm"
      },
      "source": [
        "Suprisingly, the `mean_train_R2 = 0.89` which is much higher than other models while the `mean_validation_R2 = 0.698` and the variance indeed decreases `std_train_train_R2 = 0.000182`  but we wonder if the model is overfitting (big gap between train and validation score however in theory, it can not be happen as we decrease the variance)"
      ]
    },
    {
      "cell_type": "code",
      "execution_count": null,
      "metadata": {
        "colab": {
          "background_save": true
        },
        "id": "U67ZruAGBeov",
        "outputId": "c0048b8d-8f05-4e5e-ada3-0327b599bdcd"
      },
      "outputs": [
        {
          "data": {
            "image/png": "[encoded data removed]",
            "text/plain": [
              "<Figure size 504x504 with 1 Axes>"
            ]
          },
          "metadata": {},
          "output_type": "display_data"
        }
      ],
      "source": [
        "train_sizes, train_scores, valid_scores = learning_curve(rfr, X, y, train_sizes=[10000, 50000, 100000, 150000, 200000, 250000, 300000, 350000, 400000], scoring = R2_score)\n",
        "plot_learning_curve(train_sizes, train_scores, valid_scores, title = \"Learning Curve of Random Forest Regression\", y_label = \"R2 Score\")"
      ]
    },
    {
      "cell_type": "markdown",
      "metadata": {
        "id": "N8qIgY8DvPVH"
      },
      "source": [
        "Indeed, we can easily see that the model is *overfitting*. So we decided to find the answer for the question \"Why RF decreases the variances but it still suffers from overfitting?\". Refer to this [article](https://mljar.com/blog/random-forest-overfitting/), they conclude that the generalization error variance is decreasing to zero in the RF when more trees are added to the algorithm. However, the bias of the generalization does not change. So it does not completely solve the overfitting problem and they suggest we need to consider other parameters of RF."
      ]
    },
    {
      "cell_type": "code",
      "execution_count": null,
      "metadata": {
        "colab": {
          "background_save": true
        },
        "id": "XVs6vVruHm6N"
      },
      "outputs": [],
      "source": [
        "df_results = df_results.append({\"Model\" : \"Random Forest Regressor\" , \n",
        "                    \"Settings\" : \"n_estimators= 100 , min_samples_split= 5,\\n max_features= sqrt \",\n",
        "                   'RMSE mean':2758.582544,\n",
        "                   'RMSE std':7.251973, \n",
        "                   'R2 mean':  0.697248, \n",
        "                   'R2 std': 0.002545, \n",
        "                   'Training time': 2.154469 , \n",
        "                   'Prediction time': 0.026188,\n",
        "                   'Note' : '5-fold cross-validation'\n",
        "                   }, \n",
        "                  ignore_index = True)"
      ]
    },
    {
      "cell_type": "markdown",
      "metadata": {
        "id": "08wB3VntO3CC"
      },
      "source": [
        "RF is a bagging algorithm in ensemble learning so we also wanted to try another ensemble learning algorithm which is boosting. In this problem, we chose XGB Regressor as a reprensetative of all possible boosting algorithms."
      ]
    },
    {
      "cell_type": "markdown",
      "metadata": {
        "id": "Y-U_qOzoEvX8"
      },
      "source": [
        "### XGB Regressor"
      ]
    },
    {
      "cell_type": "code",
      "execution_count": null,
      "metadata": {
        "colab": {
          "background_save": true
        },
        "id": "FBtWZfsoEvX9"
      },
      "outputs": [],
      "source": [
        "## Create xgbModel with selected paramater by similar techniques\n",
        "xgbModel = XGBRegressor(objective ='reg:squarederror', random_state = RANDOM_STATE, n_estimator = 200, max_depth = 9 , subsample = 0.8)\n",
        "\n",
        "metrics = {'R2' : R2_score, 'RMSE': RMSE_score}\n",
        "sv_scores = cross_validate(xgbModel, X, y, cv = 5, scoring =metrics, return_train_score = True)"
      ]
    },
    {
      "cell_type": "code",
      "execution_count": null,
      "metadata": {
        "colab": {
          "background_save": true
        },
        "id": "tTH8suflL9Sa",
        "outputId": "9059cab2-822a-4dde-f286-79c8d080444f"
      },
      "outputs": [
        {
          "data": {
            "text/html": [
              "\n",
              "  <div id=\"df-5d68f6e5-b4d5-4a3e-ac9e-64fb783969a4\">\n",
              "    <div class=\"colab-df-container\">\n",
              "      <div>\n",
              "<style scoped>\n",
              "    .dataframe tbody tr th:only-of-type {\n",
              "        vertical-align: middle;\n",
              "    }\n",
              "\n",
              "    .dataframe tbody tr th {\n",
              "        vertical-align: top;\n",
              "    }\n",
              "\n",
              "    .dataframe thead th {\n",
              "        text-align: right;\n",
              "    }\n",
              "</style>\n",
              "<table border=\"1\" class=\"dataframe\">\n",
              "  <thead>\n",
              "    <tr style=\"text-align: right;\">\n",
              "      <th></th>\n",
              "      <th>fit_time</th>\n",
              "      <th>score_time</th>\n",
              "      <th>test_R2</th>\n",
              "      <th>train_R2</th>\n",
              "      <th>test_RMSE</th>\n",
              "      <th>train_RMSE</th>\n",
              "    </tr>\n",
              "  </thead>\n",
              "  <tbody>\n",
              "    <tr>\n",
              "      <th>0</th>\n",
              "      <td>96.313929</td>\n",
              "      <td>1.169103</td>\n",
              "      <td>0.725803</td>\n",
              "      <td>0.746387</td>\n",
              "      <td>-2623.048482</td>\n",
              "      <td>-2531.341670</td>\n",
              "    </tr>\n",
              "    <tr>\n",
              "      <th>1</th>\n",
              "      <td>88.573103</td>\n",
              "      <td>1.177289</td>\n",
              "      <td>0.726777</td>\n",
              "      <td>0.746279</td>\n",
              "      <td>-2631.097194</td>\n",
              "      <td>-2528.823941</td>\n",
              "    </tr>\n",
              "    <tr>\n",
              "      <th>2</th>\n",
              "      <td>86.125638</td>\n",
              "      <td>1.173696</td>\n",
              "      <td>0.730221</td>\n",
              "      <td>0.745714</td>\n",
              "      <td>-2611.994307</td>\n",
              "      <td>-2532.234595</td>\n",
              "    </tr>\n",
              "    <tr>\n",
              "      <th>3</th>\n",
              "      <td>85.714028</td>\n",
              "      <td>1.183153</td>\n",
              "      <td>0.728017</td>\n",
              "      <td>0.746733</td>\n",
              "      <td>-2620.833811</td>\n",
              "      <td>-2527.596825</td>\n",
              "    </tr>\n",
              "    <tr>\n",
              "      <th>4</th>\n",
              "      <td>87.321798</td>\n",
              "      <td>1.250761</td>\n",
              "      <td>0.726636</td>\n",
              "      <td>0.746713</td>\n",
              "      <td>-2623.685695</td>\n",
              "      <td>-2528.610259</td>\n",
              "    </tr>\n",
              "    <tr>\n",
              "      <th>mean</th>\n",
              "      <td>88.809699</td>\n",
              "      <td>1.190800</td>\n",
              "      <td>0.727491</td>\n",
              "      <td>0.746365</td>\n",
              "      <td>-2622.131898</td>\n",
              "      <td>-2529.721458</td>\n",
              "    </tr>\n",
              "    <tr>\n",
              "      <th>std</th>\n",
              "      <td>4.340814</td>\n",
              "      <td>0.033911</td>\n",
              "      <td>0.001719</td>\n",
              "      <td>0.000415</td>\n",
              "      <td>6.857236</td>\n",
              "      <td>1.968204</td>\n",
              "    </tr>\n",
              "  </tbody>\n",
              "</table>\n",
              "</div>\n",
              "      <button class=\"colab-df-convert\" onclick=\"convertToInteractive('df-5d68f6e5-b4d5-4a3e-ac9e-64fb783969a4')\"\n",
              "              title=\"Convert this dataframe to an interactive table.\"\n",
              "              style=\"display:none;\">\n",
              "        \n",
              "  <svg xmlns=\"http://www.w3.org/2000/svg\" height=\"24px\"viewBox=\"0 0 24 24\"\n",
              "       width=\"24px\">\n",
              "    <path d=\"M0 0h24v24H0V0z\" fill=\"none\"/>\n",
              "    <path d=\"M18.56 5.44l.94 2.06.94-2.06 2.06-.94-2.06-.94-.94-2.06-.94 2.06-2.06.94zm-11 1L8.5 8.5l.94-2.06 2.06-.94-2.06-.94L8.5 2.5l-.94 2.06-2.06.94zm10 10l.94 2.06.94-2.06 2.06-.94-2.06-.94-.94-2.06-.94 2.06-2.06.94z\"/><path d=\"M17.41 7.96l-1.37-1.37c-.4-.4-.92-.59-1.43-.59-.52 0-1.04.2-1.43.59L10.3 9.45l-7.72 7.72c-.78.78-.78 2.05 0 2.83L4 21.41c.39.39.9.59 1.41.59.51 0 1.02-.2 1.41-.59l7.78-7.78 2.81-2.81c.8-.78.8-2.07 0-2.86zM5.41 20L4 18.59l7.72-7.72 1.47 1.35L5.41 20z\"/>\n",
              "  </svg>\n",
              "      </button>\n",
              "      \n",
              "  <style>\n",
              "    .colab-df-container {\n",
              "      display:flex;\n",
              "      flex-wrap:wrap;\n",
              "      gap: 12px;\n",
              "    }\n",
              "\n",
              "    .colab-df-convert {\n",
              "      background-color: #E8F0FE;\n",
              "      border: none;\n",
              "      border-radius: 50%;\n",
              "      cursor: pointer;\n",
              "      display: none;\n",
              "      fill: #1967D2;\n",
              "      height: 32px;\n",
              "      padding: 0 0 0 0;\n",
              "      width: 32px;\n",
              "    }\n",
              "\n",
              "    .colab-df-convert:hover {\n",
              "      background-color: #E2EBFA;\n",
              "      box-shadow: 0px 1px 2px rgba(60, 64, 67, 0.3), 0px 1px 3px 1px rgba(60, 64, 67, 0.15);\n",
              "      fill: #174EA6;\n",
              "    }\n",
              "\n",
              "    [theme=dark] .colab-df-convert {\n",
              "      background-color: #3B4455;\n",
              "      fill: #D2E3FC;\n",
              "    }\n",
              "\n",
              "    [theme=dark] .colab-df-convert:hover {\n",
              "      background-color: #434B5C;\n",
              "      box-shadow: 0px 1px 3px 1px rgba(0, 0, 0, 0.15);\n",
              "      filter: drop-shadow(0px 1px 2px rgba(0, 0, 0, 0.3));\n",
              "      fill: #FFFFFF;\n",
              "    }\n",
              "  </style>\n",
              "\n",
              "      <script>\n",
              "        const buttonEl =\n",
              "          document.querySelector('#df-5d68f6e5-b4d5-4a3e-ac9e-64fb783969a4 button.colab-df-convert');\n",
              "        buttonEl.style.display =\n",
              "          google.colab.kernel.accessAllowed ? 'block' : 'none';\n",
              "\n",
              "        async function convertToInteractive(key) {\n",
              "          const element = document.querySelector('#df-5d68f6e5-b4d5-4a3e-ac9e-64fb783969a4');\n",
              "          const dataTable =\n",
              "            await google.colab.kernel.invokeFunction('convertToInteractive',\n",
              "                                                     [key], {});\n",
              "          if (!dataTable) return;\n",
              "\n",
              "          const docLinkHtml = 'Like what you see? Visit the ' +\n",
              "            '<a target=\"_blank\" href=https://colab.research.google.com/notebooks/data_table.ipynb>data table notebook</a>'\n",
              "            + ' to learn more about interactive tables.';\n",
              "          element.innerHTML = '';\n",
              "          dataTable['output_type'] = 'display_data';\n",
              "          await google.colab.output.renderOutput(dataTable, element);\n",
              "          const docLink = document.createElement('div');\n",
              "          docLink.innerHTML = docLinkHtml;\n",
              "          element.appendChild(docLink);\n",
              "        }\n",
              "      </script>\n",
              "    </div>\n",
              "  </div>\n",
              "  "
            ],
            "text/plain": [
              "       fit_time  score_time   test_R2  train_R2    test_RMSE   train_RMSE\n",
              "0     96.313929    1.169103  0.725803  0.746387 -2623.048482 -2531.341670\n",
              "1     88.573103    1.177289  0.726777  0.746279 -2631.097194 -2528.823941\n",
              "2     86.125638    1.173696  0.730221  0.745714 -2611.994307 -2532.234595\n",
              "3     85.714028    1.183153  0.728017  0.746733 -2620.833811 -2527.596825\n",
              "4     87.321798    1.250761  0.726636  0.746713 -2623.685695 -2528.610259\n",
              "mean  88.809699    1.190800  0.727491  0.746365 -2622.131898 -2529.721458\n",
              "std    4.340814    0.033911  0.001719  0.000415     6.857236     1.968204"
            ]
          },
          "execution_count": null,
          "metadata": {},
          "output_type": "execute_result"
        }
      ],
      "source": [
        "df_sv_scores = pd.DataFrame(sv_scores)\n",
        "df_sv_scores.append([df_sv_scores.mean().rename('mean', inplace=True) ,df_sv_scores.std().rename('std', inplace=True)])"
      ]
    },
    {
      "cell_type": "markdown",
      "metadata": {
        "id": "mzoQHVO4PhSf"
      },
      "source": [
        "Obviously, the result is much better than aforementioned models so we wonder if it is well-fit or not? "
      ]
    },
    {
      "cell_type": "code",
      "execution_count": null,
      "metadata": {
        "colab": {
          "background_save": true
        },
        "id": "6sagW5YULz0Q",
        "outputId": "856683dc-2d01-48af-b15a-dae21ec0a701"
      },
      "outputs": [
        {
          "data": {
            "image/png": "[encoded data removed]",
            "text/plain": [
              "<Figure size 504x504 with 1 Axes>"
            ]
          },
          "metadata": {},
          "output_type": "display_data"
        }
      ],
      "source": [
        "train_sizes, train_scores, valid_scores = learning_curve(xgbModel, X, y, train_sizes=[10000, 50000, 100000, 150000, 200000, 250000, 300000, 350000, 400000], scoring = R2_score)\n",
        "plot_learning_curve(train_sizes, train_scores, valid_scores, title = \"Learning Curve of XGB Regressor\", y_label = \"R2 Score\")"
      ]
    },
    {
      "cell_type": "markdown",
      "metadata": {
        "id": "xIakLBe8RF5d"
      },
      "source": [
        "Indeed, the model is *well-fit*. However we think we can improve the model more by better tuning parameters."
      ]
    },
    {
      "cell_type": "code",
      "execution_count": null,
      "metadata": {
        "colab": {
          "background_save": true
        },
        "id": "Jk226DknH9Zg"
      },
      "outputs": [],
      "source": [
        "df_results = df_results.append({\"Model\" : \"XGB Regressor\" , \n",
        "                    \"Settings\" : \"n_estimators= 100, min_samples_split= 5 \",\n",
        "                   'RMSE mean':2665.562251,\n",
        "                   'RMSE std':6.067515, \n",
        "                   'R2 mean':  0.718388, \n",
        "                   'R2 std': 0.001881\t, \n",
        "                   'Training time':63.005356\t, \n",
        "                   'Prediction time': 0.984860,\n",
        "                   'Note' : '5-fold cross-validation'\n",
        "                   }, \n",
        "                  ignore_index = True)"
      ]
    },
    {
      "cell_type": "markdown",
      "metadata": {
        "id": "d_2dwNK6R0Qe"
      },
      "source": [
        "We also wanted to try some instance-based models which is contradictory to our problem (which has a large number of sample) to see what would happen. K-Nearest Neighbors can yield better results than other models in general. However due to the limitation of hardware and the size of the dataset, we could only tried when the number of neighbors is less than 11. "
      ]
    },
    {
      "cell_type": "markdown",
      "metadata": {
        "id": "gJC5a8yXsCXr"
      },
      "source": [
        "### K-Nearest Neighbors"
      ]
    },
    {
      "cell_type": "markdown",
      "metadata": {
        "id": "C8K1zanulLg1"
      },
      "source": [
        "Data preprocessing for KNN (as it's different)"
      ]
    },
    {
      "cell_type": "code",
      "execution_count": null,
      "metadata": {
        "id": "7sJYP4y4mh-y"
      },
      "outputs": [],
      "source": [
        "X_copy = X.copy()"
      ]
    },
    {
      "cell_type": "code",
      "execution_count": null,
      "metadata": {
        "id": "mbaH8KjamkLZ"
      },
      "outputs": [],
      "source": [
        "X_copy = pd.get_dummies(X, columns = ['Product_Category_1']).drop(['User_ID', 'Product_ID'] , 1)"
      ]
    },
    {
      "cell_type": "markdown",
      "metadata": {
        "id": "IghOUWQjmaKY"
      },
      "source": [
        "As the time complexity of KNN is primally based on the number of instances in the dataset so we did not use cross-validation to evaluate KNN, instead of that, we just splitted our data into two parts (2 : 1)\n",
        "\n"
      ]
    },
    {
      "cell_type": "code",
      "execution_count": null,
      "metadata": {
        "id": "y1krtQ6slGs6"
      },
      "outputs": [],
      "source": [
        "VAL_SIZE = 1 / 3 # Based on the lecture, we choose the popular split between Dtrain and Dtest\n",
        "X_train, X_val, y_train, y_val = train_test_split(X_copy, y ,test_size= VAL_SIZE, random_state=RANDOM_STATE)"
      ]
    },
    {
      "cell_type": "code",
      "execution_count": null,
      "metadata": {
        "id": "zT0BUdwAnEGb"
      },
      "outputs": [],
      "source": [
        "knn = KNeighborsRegressor(n_neighbors = 30, weights=\"uniform\")\n",
        "knnPipeline = make_pipeline(RobustScaler(), knn)"
      ]
    },
    {
      "cell_type": "code",
      "execution_count": null,
      "metadata": {
        "colab": {
          "base_uri": "https://localhost:8080/"
        },
        "id": "KZxz9ZXZnOpP",
        "outputId": "f53f2e93-cc7d-46f3-ab2d-66726ee773af"
      },
      "outputs": [
        {
          "name": "stdout",
          "output_type": "stream",
          "text": [
            "Training time for KNN:  : 0.69119 seconds\n"
          ]
        }
      ],
      "source": [
        "timer.start()\n",
        "knnPipeline.fit(X_train, y_train)\n",
        "timer.tick(\"Training time for KNN: \")"
      ]
    },
    {
      "cell_type": "code",
      "execution_count": null,
      "metadata": {
        "colab": {
          "base_uri": "https://localhost:8080/"
        },
        "id": "ezsX8AtBne7c",
        "outputId": "8499beb8-6d1b-41e3-b950-ec8d777495d9"
      },
      "outputs": [
        {
          "name": "stdout",
          "output_type": "stream",
          "text": [
            "Prediction time for KNN:  : 1510.58379 seconds\n"
          ]
        }
      ],
      "source": [
        "timer.start()\n",
        "y_val_pred = knnPipeline.predict(X_val)\n",
        "timer.tick(\"Prediction time for KNN: \")"
      ]
    },
    {
      "cell_type": "code",
      "execution_count": null,
      "metadata": {
        "colab": {
          "base_uri": "https://localhost:8080/"
        },
        "id": "wu66vYeJnr7Z",
        "outputId": "93796ca5-f84d-4f81-ec42-18c14d0a0890"
      },
      "outputs": [
        {
          "name": "stdout",
          "output_type": "stream",
          "text": [
            "R2 score of KNN: 0.6501166755970839\n",
            "RMSE score of KNN: 2975.195710299609\n"
          ]
        }
      ],
      "source": [
        "print(\"R2 score of KNN: \", end = \"\")\n",
        "print(r2_score(y_val, y_val_pred))\n",
        "print(\"RMSE score of KNN: \", end = \"\")\n",
        "print(myRMSE(y_val, y_val_pred))"
      ]
    },
    {
      "cell_type": "markdown",
      "metadata": {
        "id": "6c1CY7mySzd2"
      },
      "source": [
        "It takes a long time to predict the results of validation set but we wonder if the number of `K` increase, what could happened ?"
      ]
    },
    {
      "cell_type": "code",
      "execution_count": null,
      "metadata": {
        "colab": {
          "background_save": true
        },
        "id": "CRCrlgCKIdJb"
      },
      "outputs": [],
      "source": [
        "df_results = df_results.append({\"Model\" : \"K-Nearest Neighbors\" , \n",
        "                    \"Settings\" : \"n = 10\",\n",
        "                   'RMSE mean':3289.2392923276598,\n",
        "                   'RMSE std':0, \n",
        "                   'R2 mean':  0.5723552890467303, \n",
        "                   'R2 std': 0.0, \n",
        "                   'Training time':1.09672 , \n",
        "                   'Prediction time': 1095.67261,\n",
        "                   'Note' : 'Hold-old (2:1)'\n",
        "                   }, \n",
        "                  ignore_index = True)"
      ]
    },
    {
      "cell_type": "markdown",
      "metadata": {
        "id": "xGAyBmjZTMmp"
      },
      "source": [
        "We also tried to use collaborative filtering algorithm in recommendation systems."
      ]
    },
    {
      "cell_type": "markdown",
      "metadata": {
        "id": "KVZ56K0lcx0z"
      },
      "source": [
        "### Collaborative Filtering (Code by our team members)"
      ]
    },
    {
      "cell_type": "code",
      "execution_count": null,
      "metadata": {
        "colab": {
          "background_save": true
        },
        "id": "AfRceSp5c659"
      },
      "outputs": [],
      "source": [
        "trainset, valset = train_test_split(train_raw, test_size = TEST_SIZE, random_state = RANDOM_STATE)"
      ]
    },
    {
      "cell_type": "code",
      "execution_count": null,
      "metadata": {
        "colab": {
          "background_save": true
        },
        "id": "iWi6Z3kRpi19"
      },
      "outputs": [],
      "source": [
        "def partition (list_in, n):\n",
        "    random.shuffle(list_in)\n",
        "    return [list_in[i::n] for i in range(n)]\n",
        "\n",
        "class Recommendation_System:\n",
        "  def __init__(self, train):\n",
        "    self.train = train\n",
        "\n",
        "    self.price = self.train.groupby(['Product_Category_1']).Purchase.agg(['min', 'max'])\n",
        "    self.price['range'] = self.price['max'] - self.price['min']\n",
        "    \n",
        "\n",
        "  def processing_data(self, data):\n",
        "    data['rating'] = 5*(data['Purchase'] - data['Purchase'].min())/(data['Purchase'].max() - data['Purchase'].min())\n",
        "\n",
        "    # hash user id\n",
        "    user_id_dict = {}\n",
        "    for idx, val in enumerate(list(data.User_ID.unique())):\n",
        "      user_id_dict[val] = idx\n",
        "\n",
        "    # hash product id\n",
        "    product_id_dict = {}\n",
        "    for idx, val in enumerate(list(data.Product_ID.unique())):\n",
        "      product_id_dict[val] = idx\n",
        "\n",
        "    # generate rating and status matrices\n",
        "    rating = np.zeros((len(user_id_dict), len(product_id_dict)))\n",
        "    status = np.zeros((len(user_id_dict), len(product_id_dict)))\n",
        "\n",
        "    # set rating and status values\n",
        "    for idx, row in data.iterrows():\n",
        "      u = user_id_dict[row['User_ID']]\n",
        "      p = product_id_dict[row['Product_ID']]\n",
        "\n",
        "      rating[u, p] = row.rating\n",
        "      status[u, p] = 1\n",
        "\n",
        "    df_rating = pd.DataFrame(rating, columns = list(product_id_dict.keys()), index = list(user_id_dict.keys()))\n",
        "\n",
        "    df_status = pd.DataFrame(status, columns = list(product_id_dict.keys()), index = list(user_id_dict.keys()))\n",
        "\n",
        "    user_attribute = data.groupby(['User_ID',])[['Gender',\t'Age', \t'Occupation', 'City_Category',\t'Stay_In_Current_City_Years',\t'Marital_Status']].apply(lambda x: x.mode().iloc[0])\n",
        "    df_user = pd.DataFrame(user_attribute).sort_values(by=['User_ID'])\n",
        "    # df_user = df_user.set_index('User_ID')\n",
        "    df_user = pd.get_dummies(df_user)\n",
        "\n",
        "\n",
        "    df_product = pd.DataFrame(np.random.rand(rating.shape[1], df_user.shape[1]), columns = list(df_user.columns), index = list(product_id_dict.keys()))\n",
        "\n",
        "    self.n_u = df_rating.shape[0]\n",
        "    self.n_p = df_rating.shape[1]\n",
        "\n",
        "    return df_user, df_product, df_rating, df_status, user_id_dict, product_id_dict\n",
        "\n",
        "\n",
        "  def costfunction(self, X, y, r, theta, Lambda):\n",
        "    predictions = np.dot(X, theta.T)* r\n",
        "    err = predictions-y\n",
        "    J = 1/2 * np.sum(np.sum((err**2) ))\n",
        "    reg_x = Lambda/2 * np.sum(np.sum(theta**2))\n",
        "    reg_theta = Lambda/2 * np.sum(np.sum(X**2))\n",
        "    return J + reg_x + reg_theta\n",
        "\n",
        "\n",
        "  def sgd(self, X, y, r, theta, batch_size, Lambda, num_iter, alpha):\n",
        "    n_batch = int(self.n_u/batch_size)\n",
        "    J_hist = []\n",
        "    for i in range(num_iter):\n",
        "      batch = partition (list(range(self.n_u)), n_batch)\n",
        "\n",
        "      for i in range(len(batch)):\n",
        "\n",
        "        temp_X = X.iloc[batch[i]]\n",
        "        temp_Y = y.iloc[batch[i]]\n",
        "        temp_r = r.iloc[batch[i]]\n",
        "\n",
        "\n",
        "        cost = self.costfunction(temp_X, temp_Y, temp_r, theta, Lambda)\n",
        "        theta = theta - alpha*(np.dot((np.dot(temp_X, theta.T)*temp_r - temp_Y).T, temp_X) + Lambda*theta) \n",
        "        J_hist.append(cost)\n",
        "    return theta, J_hist\n",
        "\n",
        "\n",
        "  def normalizeRatings(self, y, r):\n",
        "    ymean = np.sum(y, axis=1)/np.sum(r, axis=1)\n",
        "    ynorm = np.sum(y, axis=1)*np.sum(r, axis=1) - ymean\n",
        "    return ymean, ynorm\n",
        "  \n",
        "  def fit(self):\n",
        "\n",
        "    df_train_user, df_train_product, df_train_rating, df_train_status, user_dict, product_dict = self.processing_data(self.train)\n",
        "    # df_test_user, df_test_product, df_test_rating, df_test_status = self.processing_train(test_data)\n",
        "\n",
        "    lr = [0.00001, 0.00003]\n",
        "    hist = []\n",
        "    for ilr in lr:\n",
        "      theta, J_hist = self.sgd(df_train_user, df_train_rating, df_train_status, df_train_product,500, 10, 20, ilr)\n",
        "      hist.append(J_hist)\n",
        "\n",
        "    self.theta = theta\n",
        "\n",
        "    return hist\n",
        "\n",
        "  def getProduct(self):\n",
        "    return self.theta\n",
        "\n",
        "  def predict(self, test):\n",
        "    test_copy = test.copy()\n",
        "    mean = pd.DataFrame(self.theta.describe().loc['mean'])\n",
        "\n",
        "    if 'Purchase' not in test.columns:\n",
        "      test['Purchase'] = np.nan\n",
        "\n",
        "    df_test_user, df_test_product, df_test_rating, df_test_status, user_dict, product_dict  = self.processing_data(test_copy)\n",
        "\n",
        "    # set all new product attribute equal to mean\n",
        "    idx = list(mean.index)\n",
        "\n",
        "    for i in range(len(idx)):\n",
        "      df_test_product[idx[i]] = mean.iloc[[i], [0]].values[0, 0]\n",
        "\n",
        "\n",
        "    similarity_idx = df_test_product.index.intersection(self.theta.index)\n",
        "\n",
        "    df_test_product.loc[similarity_idx] = self.theta.loc[similarity_idx]\n",
        "\n",
        "    self.theta = self.theta.append(df_test_product.loc[df_test_product.index.difference(self.theta.index)])\n",
        "\n",
        "    result = np.dot(df_test_user, df_test_product.T)* df_test_status\n",
        "    result.columns = list(product_dict)\n",
        "\n",
        "    result = pd.DataFrame(result, index=list(user_dict))\n",
        "\n",
        "    # test_copy.predict = np.nan\n",
        "\n",
        "    for i, r in test.iterrows():\n",
        "      test_copy.at[i , 'Purchase'] = result.loc[[r.User_ID], [r.Product_ID]].values[0, 0] * self.price.loc[[r.Product_Category_1]].values[0, 2] /5 + self.price.loc[[r.Product_Category_1]].values[0, 0]\n",
        "\n",
        "    return test_copy"
      ]
    },
    {
      "cell_type": "code",
      "execution_count": null,
      "metadata": {
        "colab": {
          "background_save": true
        },
        "id": "AY4W3u5TqNH0"
      },
      "outputs": [],
      "source": [
        "rs = Recommendation_System(trainset)"
      ]
    },
    {
      "cell_type": "code",
      "execution_count": null,
      "metadata": {
        "colab": {
          "background_save": true
        },
        "id": "mYKfUYQyqSxa",
        "outputId": "f469721e-0b83-44f5-c80d-45dfed5db3a0"
      },
      "outputs": [
        {
          "name": "stdout",
          "output_type": "stream",
          "text": [
            "Training time for CF:  : 108.94674 seconds\n"
          ]
        }
      ],
      "source": [
        "timer.start()\n",
        "hist = rs.fit()\n",
        "timer.tick(\"Training time for CF: \")"
      ]
    },
    {
      "cell_type": "code",
      "execution_count": null,
      "metadata": {
        "colab": {
          "background_save": true
        },
        "id": "k3dVPYOeqUeI"
      },
      "outputs": [],
      "source": [
        "rs_pred_trainset = rs.predict(trainset)"
      ]
    },
    {
      "cell_type": "code",
      "execution_count": null,
      "metadata": {
        "colab": {
          "background_save": true
        },
        "id": "8IVWWsic2bNz",
        "outputId": "f0a387d6-61b5-41cc-a022-fadb131944c2"
      },
      "outputs": [
        {
          "name": "stdout",
          "output_type": "stream",
          "text": [
            "Prediction time for RS:  : 348.57836 seconds\n"
          ]
        }
      ],
      "source": [
        "timer.start()\n",
        "rs_pred_valset = rs.predict(valset)\n",
        "timer.tick(\"Prediction time for RS: \")"
      ]
    },
    {
      "cell_type": "code",
      "execution_count": null,
      "metadata": {
        "colab": {
          "background_save": true
        },
        "id": "l00DcPxcqWsr"
      },
      "outputs": [],
      "source": [
        "rs_pred_trainset_result_y = rs_pred_trainset['Purchase']\n",
        "trainset_y = trainset['Purchase']\n",
        "rs_pred_valset_result_y = rs_pred_valset['Purchase']\n",
        "valset_y = valset['Purchase']"
      ]
    },
    {
      "cell_type": "code",
      "execution_count": null,
      "metadata": {
        "colab": {
          "background_save": true
        },
        "id": "Bbm2J7O72oUj",
        "outputId": "ca881d58-f0a9-412e-ad81-35f8603029b3"
      },
      "outputs": [
        {
          "name": "stdout",
          "output_type": "stream",
          "text": [
            "RMSE of the val set: 3957.8777145845484\n"
          ]
        }
      ],
      "source": [
        "print(\"RMSE of the val set:\", end = \" \")\n",
        "print(myRMSE(rs_pred_valset_result_y, valset_y))"
      ]
    },
    {
      "cell_type": "code",
      "execution_count": null,
      "metadata": {
        "colab": {
          "background_save": true
        },
        "id": "cS7qxjlb2tpf",
        "outputId": "ccd268cf-7058-424a-b796-baf61dad52d9"
      },
      "outputs": [
        {
          "name": "stdout",
          "output_type": "stream",
          "text": [
            "R2 of the val set: 0.2549792742266995\n"
          ]
        }
      ],
      "source": [
        "print(\"R2 of the val set:\", end = \" \")\n",
        "print(r2_score(rs_pred_valset_result_y, valset_y))"
      ]
    },
    {
      "cell_type": "markdown",
      "metadata": {
        "id": "pCtmd_L1TiKz"
      },
      "source": [
        "The result is not as we expected but it just likes our experiment."
      ]
    },
    {
      "cell_type": "code",
      "execution_count": null,
      "metadata": {
        "colab": {
          "background_save": true
        },
        "id": "sbhSgg5Wv4V1"
      },
      "outputs": [],
      "source": [
        "df_results = df_results.append({\"Model\" : \"Collaborative Filtering\" , \n",
        "                    \"Settings\" : \"\",\n",
        "                   'RMSE mean':3954.5903809282186,\n",
        "                   'RMSE std':0, \n",
        "                   'R2 mean':  0.251581680682041, \n",
        "                   'R2 std': 0.0, \n",
        "                   'Training time':119.46289 , \n",
        "                   'Prediction time': 328.58785,\n",
        "                   'Note' : 'Hold-out (2:1)'\n",
        "                   }, \n",
        "                  ignore_index = True)"
      ]
    },
    {
      "cell_type": "markdown",
      "metadata": {
        "id": "eQPFdUrH250B"
      },
      "source": [
        "## 8.&nbsp;Conclusion"
      ]
    },
    {
      "cell_type": "code",
      "execution_count": null,
      "metadata": {
        "colab": {
          "background_save": true
        },
        "id": "R8IXR882fIz2",
        "outputId": "bb9b5f1c-8f22-4e1c-df27-f46c65d5c925"
      },
      "outputs": [
        {
          "data": {
            "text/html": [
              "<style type=\"text/css\">\n",
              "#T_cf446_row0_col0, #T_cf446_row0_col1, #T_cf446_row0_col2, #T_cf446_row0_col3, #T_cf446_row0_col4, #T_cf446_row0_col5, #T_cf446_row0_col6, #T_cf446_row0_col7, #T_cf446_row0_col8, #T_cf446_row1_col0, #T_cf446_row1_col1, #T_cf446_row1_col2, #T_cf446_row1_col3, #T_cf446_row1_col4, #T_cf446_row1_col5, #T_cf446_row1_col6, #T_cf446_row1_col7, #T_cf446_row1_col8, #T_cf446_row2_col0, #T_cf446_row2_col1, #T_cf446_row2_col2, #T_cf446_row2_col3, #T_cf446_row2_col4, #T_cf446_row2_col5, #T_cf446_row2_col6, #T_cf446_row2_col7, #T_cf446_row2_col8, #T_cf446_row3_col0, #T_cf446_row3_col1, #T_cf446_row3_col2, #T_cf446_row3_col3, #T_cf446_row3_col4, #T_cf446_row3_col5, #T_cf446_row3_col6, #T_cf446_row3_col7, #T_cf446_row3_col8, #T_cf446_row4_col0, #T_cf446_row4_col1, #T_cf446_row4_col2, #T_cf446_row4_col3, #T_cf446_row4_col4, #T_cf446_row4_col5, #T_cf446_row4_col6, #T_cf446_row4_col7, #T_cf446_row4_col8, #T_cf446_row5_col0, #T_cf446_row5_col1, #T_cf446_row5_col2, #T_cf446_row5_col3, #T_cf446_row5_col4, #T_cf446_row5_col5, #T_cf446_row5_col6, #T_cf446_row5_col7, #T_cf446_row5_col8, #T_cf446_row6_col0, #T_cf446_row6_col1, #T_cf446_row6_col2, #T_cf446_row6_col3, #T_cf446_row6_col4, #T_cf446_row6_col5, #T_cf446_row6_col6, #T_cf446_row6_col7, #T_cf446_row6_col8 {\n",
              "  text-align: left;\n",
              "  white-space: pre-wrap;\n",
              "}\n",
              "</style>\n",
              "<table id=\"T_cf446_\" class=\"dataframe\">\n",
              "  <thead>\n",
              "    <tr>\n",
              "      <th class=\"blank level0\" >&nbsp;</th>\n",
              "      <th class=\"col_heading level0 col0\" >Model</th>\n",
              "      <th class=\"col_heading level0 col1\" >Settings</th>\n",
              "      <th class=\"col_heading level0 col2\" >Training time</th>\n",
              "      <th class=\"col_heading level0 col3\" >Prediction time</th>\n",
              "      <th class=\"col_heading level0 col4\" >RMSE mean</th>\n",
              "      <th class=\"col_heading level0 col5\" >RMSE std</th>\n",
              "      <th class=\"col_heading level0 col6\" >R2 mean</th>\n",
              "      <th class=\"col_heading level0 col7\" >R2 std</th>\n",
              "      <th class=\"col_heading level0 col8\" >Note</th>\n",
              "    </tr>\n",
              "  </thead>\n",
              "  <tbody>\n",
              "    <tr>\n",
              "      <th id=\"T_cf446_level0_row0\" class=\"row_heading level0 row0\" >0</th>\n",
              "      <td id=\"T_cf446_row0_col0\" class=\"data row0 col0\" >OLS Linear Regression</td>\n",
              "      <td id=\"T_cf446_row0_col1\" class=\"data row0 col1\" ></td>\n",
              "      <td id=\"T_cf446_row0_col2\" class=\"data row0 col2\" >0.201613</td>\n",
              "      <td id=\"T_cf446_row0_col3\" class=\"data row0 col3\" >0.020742</td>\n",
              "      <td id=\"T_cf446_row0_col4\" class=\"data row0 col4\" >4680.566008</td>\n",
              "      <td id=\"T_cf446_row0_col5\" class=\"data row0 col5\" >11.079699</td>\n",
              "      <td id=\"T_cf446_row0_col6\" class=\"data row0 col6\" >0.131713</td>\n",
              "      <td id=\"T_cf446_row0_col7\" class=\"data row0 col7\" >0.003413</td>\n",
              "      <td id=\"T_cf446_row0_col8\" class=\"data row0 col8\" >5-fold cross-validation</td>\n",
              "    </tr>\n",
              "    <tr>\n",
              "      <th id=\"T_cf446_level0_row1\" class=\"row_heading level0 row1\" >1</th>\n",
              "      <td id=\"T_cf446_row1_col0\" class=\"data row1 col0\" >Polynomial Regression </td>\n",
              "      <td id=\"T_cf446_row1_col1\" class=\"data row1 col1\" >n = 3</td>\n",
              "      <td id=\"T_cf446_row1_col2\" class=\"data row1 col2\" >2.203541</td>\n",
              "      <td id=\"T_cf446_row1_col3\" class=\"data row1 col3\" >0.007358</td>\n",
              "      <td id=\"T_cf446_row1_col4\" class=\"data row1 col4\" >4206.367117</td>\n",
              "      <td id=\"T_cf446_row1_col5\" class=\"data row1 col5\" >11.370634</td>\n",
              "      <td id=\"T_cf446_row1_col6\" class=\"data row1 col6\" >0.298738</td>\n",
              "      <td id=\"T_cf446_row1_col7\" class=\"data row1 col7\" >0.001799</td>\n",
              "      <td id=\"T_cf446_row1_col8\" class=\"data row1 col8\" >5-fold cross-validation</td>\n",
              "    </tr>\n",
              "    <tr>\n",
              "      <th id=\"T_cf446_level0_row2\" class=\"row_heading level0 row2\" >2</th>\n",
              "      <td id=\"T_cf446_row2_col0\" class=\"data row2 col0\" >Decision Tree Regressor</td>\n",
              "      <td id=\"T_cf446_row2_col1\" class=\"data row2 col1\" >max_depth = 15, min_sample_leaf = 20 </td>\n",
              "      <td id=\"T_cf446_row2_col2\" class=\"data row2 col2\" >2.154469</td>\n",
              "      <td id=\"T_cf446_row2_col3\" class=\"data row2 col3\" >0.026188</td>\n",
              "      <td id=\"T_cf446_row2_col4\" class=\"data row2 col4\" >2785.145741</td>\n",
              "      <td id=\"T_cf446_row2_col5\" class=\"data row2 col5\" >10.395473</td>\n",
              "      <td id=\"T_cf446_row2_col6\" class=\"data row2 col6\" >0.697248</td>\n",
              "      <td id=\"T_cf446_row2_col7\" class=\"data row2 col7\" >0.002545</td>\n",
              "      <td id=\"T_cf446_row2_col8\" class=\"data row2 col8\" >5-fold cross-validation</td>\n",
              "    </tr>\n",
              "    <tr>\n",
              "      <th id=\"T_cf446_level0_row3\" class=\"row_heading level0 row3\" >3</th>\n",
              "      <td id=\"T_cf446_row3_col0\" class=\"data row3 col0\" >Random Forest Regressor</td>\n",
              "      <td id=\"T_cf446_row3_col1\" class=\"data row3 col1\" >n_estimators= 100 , min_samples_split= 5,\n",
              " max_features= sqrt </td>\n",
              "      <td id=\"T_cf446_row3_col2\" class=\"data row3 col2\" >2.154469</td>\n",
              "      <td id=\"T_cf446_row3_col3\" class=\"data row3 col3\" >0.026188</td>\n",
              "      <td id=\"T_cf446_row3_col4\" class=\"data row3 col4\" >None</td>\n",
              "      <td id=\"T_cf446_row3_col5\" class=\"data row3 col5\" >None</td>\n",
              "      <td id=\"T_cf446_row3_col6\" class=\"data row3 col6\" >0.697248</td>\n",
              "      <td id=\"T_cf446_row3_col7\" class=\"data row3 col7\" >0.002545</td>\n",
              "      <td id=\"T_cf446_row3_col8\" class=\"data row3 col8\" >5-fold cross-validation</td>\n",
              "    </tr>\n",
              "    <tr>\n",
              "      <th id=\"T_cf446_level0_row4\" class=\"row_heading level0 row4\" >4</th>\n",
              "      <td id=\"T_cf446_row4_col0\" class=\"data row4 col0\" >XGB Regressor</td>\n",
              "      <td id=\"T_cf446_row4_col1\" class=\"data row4 col1\" >n_estimators= 100, min_samples_split= 5 </td>\n",
              "      <td id=\"T_cf446_row4_col2\" class=\"data row4 col2\" >63.005356</td>\n",
              "      <td id=\"T_cf446_row4_col3\" class=\"data row4 col3\" >0.984860</td>\n",
              "      <td id=\"T_cf446_row4_col4\" class=\"data row4 col4\" >2665.562251</td>\n",
              "      <td id=\"T_cf446_row4_col5\" class=\"data row4 col5\" >6.067515</td>\n",
              "      <td id=\"T_cf446_row4_col6\" class=\"data row4 col6\" >0.718388</td>\n",
              "      <td id=\"T_cf446_row4_col7\" class=\"data row4 col7\" >0.001881</td>\n",
              "      <td id=\"T_cf446_row4_col8\" class=\"data row4 col8\" >5-fold cross-validation</td>\n",
              "    </tr>\n",
              "    <tr>\n",
              "      <th id=\"T_cf446_level0_row5\" class=\"row_heading level0 row5\" >5</th>\n",
              "      <td id=\"T_cf446_row5_col0\" class=\"data row5 col0\" >K-Nearest Neighbors</td>\n",
              "      <td id=\"T_cf446_row5_col1\" class=\"data row5 col1\" >n = 10</td>\n",
              "      <td id=\"T_cf446_row5_col2\" class=\"data row5 col2\" >1.096720</td>\n",
              "      <td id=\"T_cf446_row5_col3\" class=\"data row5 col3\" >1095.672610</td>\n",
              "      <td id=\"T_cf446_row5_col4\" class=\"data row5 col4\" >3289.239292</td>\n",
              "      <td id=\"T_cf446_row5_col5\" class=\"data row5 col5\" >0</td>\n",
              "      <td id=\"T_cf446_row5_col6\" class=\"data row5 col6\" >0.572355</td>\n",
              "      <td id=\"T_cf446_row5_col7\" class=\"data row5 col7\" >0.000000</td>\n",
              "      <td id=\"T_cf446_row5_col8\" class=\"data row5 col8\" >Hold-old (2:1)</td>\n",
              "    </tr>\n",
              "    <tr>\n",
              "      <th id=\"T_cf446_level0_row6\" class=\"row_heading level0 row6\" >6</th>\n",
              "      <td id=\"T_cf446_row6_col0\" class=\"data row6 col0\" >Collaborative Filtering</td>\n",
              "      <td id=\"T_cf446_row6_col1\" class=\"data row6 col1\" ></td>\n",
              "      <td id=\"T_cf446_row6_col2\" class=\"data row6 col2\" >119.462890</td>\n",
              "      <td id=\"T_cf446_row6_col3\" class=\"data row6 col3\" >328.587850</td>\n",
              "      <td id=\"T_cf446_row6_col4\" class=\"data row6 col4\" >3954.590381</td>\n",
              "      <td id=\"T_cf446_row6_col5\" class=\"data row6 col5\" >0</td>\n",
              "      <td id=\"T_cf446_row6_col6\" class=\"data row6 col6\" >0.251582</td>\n",
              "      <td id=\"T_cf446_row6_col7\" class=\"data row6 col7\" >0.000000</td>\n",
              "      <td id=\"T_cf446_row6_col8\" class=\"data row6 col8\" >Hold-out (2:1)</td>\n",
              "    </tr>\n",
              "  </tbody>\n",
              "</table>\n"
            ],
            "text/plain": [
              "<pandas.io.formats.style.Styler at 0x7f4e4413c910>"
            ]
          },
          "execution_count": null,
          "metadata": {},
          "output_type": "execute_result"
        }
      ],
      "source": [
        "# Beautiful format \n",
        "df_results.style.set_properties(**{\n",
        "    'text-align': 'left',\n",
        "    'white-space': 'pre-wrap',})"
      ]
    },
    {
      "cell_type": "markdown",
      "metadata": {
        "id": "liJh6G0iwojK"
      },
      "source": [
        "As we can see, the best model is `XGB Regressor` with `R2_score = 0.718` and `RMSE = 2665.56`  "
      ]
    }
  ],
  "metadata": {
    "colab": {
      "collapsed_sections": [
        "3HcG9JnATgVt",
        "dgtcPQ6sOISh",
        "eQPFdUrH250B"
      ],
      "name": "GoogleColabVersion_MachineLearning_Code_Group07.ipynb",
      "provenance": [],
      "toc_visible": true
    },
    "kernelspec": {
      "display_name": "Python 3.8.10 ('base')",
      "language": "python",
      "name": "python3"
    },
    "language_info": {
      "codemirror_mode": {
        "name": "ipython",
        "version": 3
      },
      "file_extension": ".py",
      "mimetype": "text/x-python",
      "name": "python",
      "nbconvert_exporter": "python",
      "pygments_lexer": "ipython3",
      "version": "3.8.10"
    },
    "vscode": {
      "interpreter": {
        "hash": "c60ee8538f118d3a4c64c86bb35672648ff4e07d5bfb56e0d18218f538c78bc8"
      }
    }
  },
  "nbformat": 4,
  "nbformat_minor": 0
}
