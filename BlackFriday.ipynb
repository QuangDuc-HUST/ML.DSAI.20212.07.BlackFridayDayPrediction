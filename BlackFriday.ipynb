{
 "cells": [
  {
   "cell_type": "markdown",
   "metadata": {
    "id": "jE5bROvncgE_"
   },
   "source": [
    "# Black Friday Prediction\n"
   ]
  },
  {
   "cell_type": "code",
   "execution_count": 1,
   "metadata": {
    "colab": {
     "base_uri": "https://localhost:8080/"
    },
    "id": "UqH7AbYbcp-_",
    "outputId": "93942eb6-9efb-443b-92d7-7d491e4d9202"
   },
   "outputs": [],
   "source": [
    "# from google.colab import drive\n",
    "# drive.mount('/content/drive')"
   ]
  },
  {
   "cell_type": "code",
   "execution_count": 2,
   "metadata": {
    "id": "dHb64z-DcyKd"
   },
   "outputs": [],
   "source": [
    "import warnings\n",
    "warnings.filterwarnings('ignore')"
   ]
  },
  {
   "cell_type": "markdown",
   "metadata": {
    "id": "cW9fApcrcgFD"
   },
   "source": [
    "## **1. Import**\n"
   ]
  },
  {
   "cell_type": "markdown",
   "metadata": {
    "id": "FMaX_McXcgFE"
   },
   "source": [
    "### 1.1 Import libraries"
   ]
  },
  {
   "cell_type": "code",
   "execution_count": 3,
   "metadata": {
    "id": "Eh7FNMDlcgFF"
   },
   "outputs": [],
   "source": [
    "import numpy as np\n",
    "import matplotlib.pyplot as plt\n",
    "import seaborn as sns\n",
    "import pandas as pd "
   ]
  },
  {
   "cell_type": "code",
   "execution_count": 4,
   "metadata": {
    "id": "Z0IfQjE6cgFY"
   },
   "outputs": [],
   "source": [
    "from sklearn.preprocessing import StandardScaler, LabelEncoder, MinMaxScaler, PolynomialFeatures\n",
    "from sklearn.linear_model import LinearRegression\n",
    "from sklearn.metrics import mean_squared_error, f1_score\n",
    "from sklearn.model_selection import train_test_split\n",
    " \n",
    "import math"
   ]
  },
  {
   "cell_type": "code",
   "execution_count": 5,
   "metadata": {
    "id": "Mer2IPiIcgFG"
   },
   "outputs": [],
   "source": [
    "import matplotlib.style as style\n",
    "style.use('seaborn-poster')\n",
    "style.use(\"fivethirtyeight\")\n",
    "plt.rcParams['font.family'] = 'serif'"
   ]
  },
  {
   "cell_type": "markdown",
   "metadata": {
    "id": "lhs8o5KScgFH"
   },
   "source": [
    "### 1.2 Import data\n"
   ]
  },
  {
   "cell_type": "code",
   "execution_count": 6,
   "metadata": {
    "colab": {
     "base_uri": "https://localhost:8080/",
     "height": 206
    },
    "id": "YSU44OzDcgFH",
    "outputId": "5d5b0df4-513b-4b55-ad93-c535dc6489ea"
   },
   "outputs": [
    {
     "data": {
      "text/html": [
       "<div>\n",
       "<style scoped>\n",
       "    .dataframe tbody tr th:only-of-type {\n",
       "        vertical-align: middle;\n",
       "    }\n",
       "\n",
       "    .dataframe tbody tr th {\n",
       "        vertical-align: top;\n",
       "    }\n",
       "\n",
       "    .dataframe thead th {\n",
       "        text-align: right;\n",
       "    }\n",
       "</style>\n",
       "<table border=\"1\" class=\"dataframe\">\n",
       "  <thead>\n",
       "    <tr style=\"text-align: right;\">\n",
       "      <th></th>\n",
       "      <th>User_ID</th>\n",
       "      <th>Product_ID</th>\n",
       "      <th>Gender</th>\n",
       "      <th>Age</th>\n",
       "      <th>Occupation</th>\n",
       "      <th>City_Category</th>\n",
       "      <th>Stay_In_Current_City_Years</th>\n",
       "      <th>Marital_Status</th>\n",
       "      <th>Product_Category_1</th>\n",
       "      <th>Product_Category_2</th>\n",
       "      <th>Product_Category_3</th>\n",
       "      <th>Purchase</th>\n",
       "    </tr>\n",
       "  </thead>\n",
       "  <tbody>\n",
       "    <tr>\n",
       "      <th>0</th>\n",
       "      <td>1000001</td>\n",
       "      <td>P00069042</td>\n",
       "      <td>F</td>\n",
       "      <td>0-17</td>\n",
       "      <td>10</td>\n",
       "      <td>A</td>\n",
       "      <td>2</td>\n",
       "      <td>0</td>\n",
       "      <td>3</td>\n",
       "      <td>NaN</td>\n",
       "      <td>NaN</td>\n",
       "      <td>8370</td>\n",
       "    </tr>\n",
       "    <tr>\n",
       "      <th>1</th>\n",
       "      <td>1000001</td>\n",
       "      <td>P00248942</td>\n",
       "      <td>F</td>\n",
       "      <td>0-17</td>\n",
       "      <td>10</td>\n",
       "      <td>A</td>\n",
       "      <td>2</td>\n",
       "      <td>0</td>\n",
       "      <td>1</td>\n",
       "      <td>6.0</td>\n",
       "      <td>14.0</td>\n",
       "      <td>15200</td>\n",
       "    </tr>\n",
       "    <tr>\n",
       "      <th>2</th>\n",
       "      <td>1000001</td>\n",
       "      <td>P00087842</td>\n",
       "      <td>F</td>\n",
       "      <td>0-17</td>\n",
       "      <td>10</td>\n",
       "      <td>A</td>\n",
       "      <td>2</td>\n",
       "      <td>0</td>\n",
       "      <td>12</td>\n",
       "      <td>NaN</td>\n",
       "      <td>NaN</td>\n",
       "      <td>1422</td>\n",
       "    </tr>\n",
       "    <tr>\n",
       "      <th>3</th>\n",
       "      <td>1000001</td>\n",
       "      <td>P00085442</td>\n",
       "      <td>F</td>\n",
       "      <td>0-17</td>\n",
       "      <td>10</td>\n",
       "      <td>A</td>\n",
       "      <td>2</td>\n",
       "      <td>0</td>\n",
       "      <td>12</td>\n",
       "      <td>14.0</td>\n",
       "      <td>NaN</td>\n",
       "      <td>1057</td>\n",
       "    </tr>\n",
       "    <tr>\n",
       "      <th>4</th>\n",
       "      <td>1000002</td>\n",
       "      <td>P00285442</td>\n",
       "      <td>M</td>\n",
       "      <td>55+</td>\n",
       "      <td>16</td>\n",
       "      <td>C</td>\n",
       "      <td>4+</td>\n",
       "      <td>0</td>\n",
       "      <td>8</td>\n",
       "      <td>NaN</td>\n",
       "      <td>NaN</td>\n",
       "      <td>7969</td>\n",
       "    </tr>\n",
       "  </tbody>\n",
       "</table>\n",
       "</div>"
      ],
      "text/plain": [
       "   User_ID Product_ID Gender   Age  Occupation City_Category  \\\n",
       "0  1000001  P00069042      F  0-17          10             A   \n",
       "1  1000001  P00248942      F  0-17          10             A   \n",
       "2  1000001  P00087842      F  0-17          10             A   \n",
       "3  1000001  P00085442      F  0-17          10             A   \n",
       "4  1000002  P00285442      M   55+          16             C   \n",
       "\n",
       "  Stay_In_Current_City_Years  Marital_Status  Product_Category_1  \\\n",
       "0                          2               0                   3   \n",
       "1                          2               0                   1   \n",
       "2                          2               0                  12   \n",
       "3                          2               0                  12   \n",
       "4                         4+               0                   8   \n",
       "\n",
       "   Product_Category_2  Product_Category_3  Purchase  \n",
       "0                 NaN                 NaN      8370  \n",
       "1                 6.0                14.0     15200  \n",
       "2                 NaN                 NaN      1422  \n",
       "3                14.0                 NaN      1057  \n",
       "4                 NaN                 NaN      7969  "
      ]
     },
     "execution_count": 6,
     "metadata": {},
     "output_type": "execute_result"
    }
   ],
   "source": [
    "folder_path = '/content/drive/MyDrive/Project_PML/BlackFridayPrediction/'\n",
    "folder_path = ''\n",
    "train_df = pd.read_csv(folder_path + 'train.csv')\n",
    "test_df = pd.read_csv(folder_path + 'test.csv')\n",
    "train_df.head(5)"
   ]
  },
  {
   "cell_type": "code",
   "execution_count": 7,
   "metadata": {
    "colab": {
     "base_uri": "https://localhost:8080/",
     "height": 238
    },
    "id": "nfTV0dt6cgFJ",
    "outputId": "1d1f1fcf-c388-4b8a-df55-3e2dc70c6006"
   },
   "outputs": [
    {
     "data": {
      "text/html": [
       "<div>\n",
       "<style scoped>\n",
       "    .dataframe tbody tr th:only-of-type {\n",
       "        vertical-align: middle;\n",
       "    }\n",
       "\n",
       "    .dataframe tbody tr th {\n",
       "        vertical-align: top;\n",
       "    }\n",
       "\n",
       "    .dataframe thead th {\n",
       "        text-align: right;\n",
       "    }\n",
       "</style>\n",
       "<table border=\"1\" class=\"dataframe\">\n",
       "  <thead>\n",
       "    <tr style=\"text-align: right;\">\n",
       "      <th></th>\n",
       "      <th>User_ID</th>\n",
       "      <th>Product_ID</th>\n",
       "      <th>Gender</th>\n",
       "      <th>Age</th>\n",
       "      <th>Occupation</th>\n",
       "      <th>City_Category</th>\n",
       "      <th>Years_in_city</th>\n",
       "      <th>Marital_Status</th>\n",
       "      <th>Product_Category_1</th>\n",
       "      <th>Product_Category_2</th>\n",
       "      <th>Product_Category_3</th>\n",
       "      <th>Purchase</th>\n",
       "    </tr>\n",
       "  </thead>\n",
       "  <tbody>\n",
       "    <tr>\n",
       "      <th>0</th>\n",
       "      <td>1000001</td>\n",
       "      <td>P00069042</td>\n",
       "      <td>F</td>\n",
       "      <td>0-17</td>\n",
       "      <td>10</td>\n",
       "      <td>A</td>\n",
       "      <td>2</td>\n",
       "      <td>0</td>\n",
       "      <td>3</td>\n",
       "      <td>NaN</td>\n",
       "      <td>NaN</td>\n",
       "      <td>8370</td>\n",
       "    </tr>\n",
       "    <tr>\n",
       "      <th>1</th>\n",
       "      <td>1000001</td>\n",
       "      <td>P00248942</td>\n",
       "      <td>F</td>\n",
       "      <td>0-17</td>\n",
       "      <td>10</td>\n",
       "      <td>A</td>\n",
       "      <td>2</td>\n",
       "      <td>0</td>\n",
       "      <td>1</td>\n",
       "      <td>6.0</td>\n",
       "      <td>14.0</td>\n",
       "      <td>15200</td>\n",
       "    </tr>\n",
       "    <tr>\n",
       "      <th>2</th>\n",
       "      <td>1000001</td>\n",
       "      <td>P00087842</td>\n",
       "      <td>F</td>\n",
       "      <td>0-17</td>\n",
       "      <td>10</td>\n",
       "      <td>A</td>\n",
       "      <td>2</td>\n",
       "      <td>0</td>\n",
       "      <td>12</td>\n",
       "      <td>NaN</td>\n",
       "      <td>NaN</td>\n",
       "      <td>1422</td>\n",
       "    </tr>\n",
       "    <tr>\n",
       "      <th>3</th>\n",
       "      <td>1000001</td>\n",
       "      <td>P00085442</td>\n",
       "      <td>F</td>\n",
       "      <td>0-17</td>\n",
       "      <td>10</td>\n",
       "      <td>A</td>\n",
       "      <td>2</td>\n",
       "      <td>0</td>\n",
       "      <td>12</td>\n",
       "      <td>14.0</td>\n",
       "      <td>NaN</td>\n",
       "      <td>1057</td>\n",
       "    </tr>\n",
       "    <tr>\n",
       "      <th>4</th>\n",
       "      <td>1000002</td>\n",
       "      <td>P00285442</td>\n",
       "      <td>M</td>\n",
       "      <td>55+</td>\n",
       "      <td>16</td>\n",
       "      <td>C</td>\n",
       "      <td>4+</td>\n",
       "      <td>0</td>\n",
       "      <td>8</td>\n",
       "      <td>NaN</td>\n",
       "      <td>NaN</td>\n",
       "      <td>7969</td>\n",
       "    </tr>\n",
       "    <tr>\n",
       "      <th>5</th>\n",
       "      <td>1000003</td>\n",
       "      <td>P00193542</td>\n",
       "      <td>M</td>\n",
       "      <td>26-35</td>\n",
       "      <td>15</td>\n",
       "      <td>A</td>\n",
       "      <td>3</td>\n",
       "      <td>0</td>\n",
       "      <td>1</td>\n",
       "      <td>2.0</td>\n",
       "      <td>NaN</td>\n",
       "      <td>15227</td>\n",
       "    </tr>\n",
       "  </tbody>\n",
       "</table>\n",
       "</div>"
      ],
      "text/plain": [
       "   User_ID Product_ID Gender    Age  Occupation City_Category Years_in_city  \\\n",
       "0  1000001  P00069042      F   0-17          10             A             2   \n",
       "1  1000001  P00248942      F   0-17          10             A             2   \n",
       "2  1000001  P00087842      F   0-17          10             A             2   \n",
       "3  1000001  P00085442      F   0-17          10             A             2   \n",
       "4  1000002  P00285442      M    55+          16             C            4+   \n",
       "5  1000003  P00193542      M  26-35          15             A             3   \n",
       "\n",
       "   Marital_Status  Product_Category_1  Product_Category_2  Product_Category_3  \\\n",
       "0               0                   3                 NaN                 NaN   \n",
       "1               0                   1                 6.0                14.0   \n",
       "2               0                  12                 NaN                 NaN   \n",
       "3               0                  12                14.0                 NaN   \n",
       "4               0                   8                 NaN                 NaN   \n",
       "5               0                   1                 2.0                 NaN   \n",
       "\n",
       "   Purchase  \n",
       "0      8370  \n",
       "1     15200  \n",
       "2      1422  \n",
       "3      1057  \n",
       "4      7969  \n",
       "5     15227  "
      ]
     },
     "execution_count": 7,
     "metadata": {},
     "output_type": "execute_result"
    }
   ],
   "source": [
    "train_df.rename(columns={\"Stay_In_Current_City_Years\":\"Years_in_city\"}, inplace= True)\n",
    "test_df.rename(columns={\"Stay_In_Current_City_Years\":\"Years_in_city\"}, inplace = True)\n",
    "train_df.head(6)"
   ]
  },
  {
   "cell_type": "markdown",
   "metadata": {
    "id": "drp3UnklcgFJ"
   },
   "source": [
    "##  **2. Preprocessing & Visualization**\n",
    "\n"
   ]
  },
  {
   "cell_type": "markdown",
   "metadata": {
    "id": "QTbAI1GkdVqJ"
   },
   "source": [
    "### 2.1 Processing duplicates"
   ]
  },
  {
   "cell_type": "code",
   "execution_count": 8,
   "metadata": {
    "colab": {
     "base_uri": "https://localhost:8080/"
    },
    "id": "NQQxKAFXcgFK",
    "outputId": "707b6155-0af8-40e6-a910-5f02389aa866",
    "scrolled": true
   },
   "outputs": [
    {
     "name": "stdout",
     "output_type": "stream",
     "text": [
      "number of duplicated: 0\n"
     ]
    }
   ],
   "source": [
    "duplicated = train_df[train_df.duplicated()]\n",
    "print(\"number of duplicated:\", duplicated.shape[0])"
   ]
  },
  {
   "cell_type": "code",
   "execution_count": 9,
   "metadata": {
    "colab": {
     "base_uri": "https://localhost:8080/"
    },
    "id": "1q44M0SPcgFL",
    "outputId": "e0443b33-d53f-4764-c773-aa035058f837",
    "scrolled": true
   },
   "outputs": [
    {
     "name": "stdout",
     "output_type": "stream",
     "text": [
      "number of duplicated user: 544177\n",
      "number of duplicated user: 0\n"
     ]
    }
   ],
   "source": [
    "user_df = train_df[[\"User_ID\", \"Gender\", \"Age\", \"Occupation\", \"City_Category\", \"Years_in_city\", \"Marital_Status\"]]\n",
    "user_duplicated = user_df[user_df.duplicated()]\n",
    "print(\"number of duplicated user:\", user_duplicated.shape[0])\n",
    "user_df = user_df.drop_duplicates()\n",
    "print(\"number of duplicated user:\", user_df[user_df.duplicated()].shape[0])"
   ]
  },
  {
   "cell_type": "code",
   "execution_count": 10,
   "metadata": {
    "colab": {
     "base_uri": "https://localhost:8080/"
    },
    "id": "H23IdhiacgFM",
    "outputId": "516d07b2-1675-4825-937a-4d94cffdf060",
    "scrolled": true
   },
   "outputs": [
    {
     "name": "stdout",
     "output_type": "stream",
     "text": [
      "Total amount of money spent by each user:\n",
      "   User_ID  Purchase\n",
      "0  1000001    334093\n",
      "1  1000002    810472\n",
      "2  1000003    341635\n",
      "3  1000004    206468\n",
      "4  1000005    821001\n"
     ]
    }
   ],
   "source": [
    "purchased = train_df[[\"User_ID\", \"Purchase\"]]\n",
    "purchased = purchased.groupby(\"User_ID\", as_index = False).agg({'Purchase': 'sum'})\n",
    "user_df = pd.merge(user_df, purchased, on='User_ID')\n",
    "print('Total amount of money spent by each user:')\n",
    "print(purchased.head())"
   ]
  },
  {
   "cell_type": "code",
   "execution_count": 11,
   "metadata": {
    "colab": {
     "base_uri": "https://localhost:8080/",
     "height": 206
    },
    "id": "rqfWHCTqcgFM",
    "outputId": "d66e8088-cdba-4084-cbd2-42d55c4be665",
    "scrolled": true
   },
   "outputs": [
    {
     "data": {
      "text/html": [
       "<div>\n",
       "<style scoped>\n",
       "    .dataframe tbody tr th:only-of-type {\n",
       "        vertical-align: middle;\n",
       "    }\n",
       "\n",
       "    .dataframe tbody tr th {\n",
       "        vertical-align: top;\n",
       "    }\n",
       "\n",
       "    .dataframe thead th {\n",
       "        text-align: right;\n",
       "    }\n",
       "</style>\n",
       "<table border=\"1\" class=\"dataframe\">\n",
       "  <thead>\n",
       "    <tr style=\"text-align: right;\">\n",
       "      <th></th>\n",
       "      <th>User_ID</th>\n",
       "      <th>Gender</th>\n",
       "      <th>Age</th>\n",
       "      <th>Occupation</th>\n",
       "      <th>City_Category</th>\n",
       "      <th>Years_in_city</th>\n",
       "      <th>Marital_Status</th>\n",
       "      <th>Total_Purchase</th>\n",
       "    </tr>\n",
       "  </thead>\n",
       "  <tbody>\n",
       "    <tr>\n",
       "      <th>0</th>\n",
       "      <td>1000001</td>\n",
       "      <td>F</td>\n",
       "      <td>0-17</td>\n",
       "      <td>10</td>\n",
       "      <td>A</td>\n",
       "      <td>2</td>\n",
       "      <td>0</td>\n",
       "      <td>334093</td>\n",
       "    </tr>\n",
       "    <tr>\n",
       "      <th>1</th>\n",
       "      <td>1000002</td>\n",
       "      <td>M</td>\n",
       "      <td>55+</td>\n",
       "      <td>16</td>\n",
       "      <td>C</td>\n",
       "      <td>4+</td>\n",
       "      <td>0</td>\n",
       "      <td>810472</td>\n",
       "    </tr>\n",
       "    <tr>\n",
       "      <th>2</th>\n",
       "      <td>1000003</td>\n",
       "      <td>M</td>\n",
       "      <td>26-35</td>\n",
       "      <td>15</td>\n",
       "      <td>A</td>\n",
       "      <td>3</td>\n",
       "      <td>0</td>\n",
       "      <td>341635</td>\n",
       "    </tr>\n",
       "    <tr>\n",
       "      <th>3</th>\n",
       "      <td>1000004</td>\n",
       "      <td>M</td>\n",
       "      <td>46-50</td>\n",
       "      <td>7</td>\n",
       "      <td>B</td>\n",
       "      <td>2</td>\n",
       "      <td>1</td>\n",
       "      <td>206468</td>\n",
       "    </tr>\n",
       "    <tr>\n",
       "      <th>4</th>\n",
       "      <td>1000005</td>\n",
       "      <td>M</td>\n",
       "      <td>26-35</td>\n",
       "      <td>20</td>\n",
       "      <td>A</td>\n",
       "      <td>1</td>\n",
       "      <td>1</td>\n",
       "      <td>821001</td>\n",
       "    </tr>\n",
       "  </tbody>\n",
       "</table>\n",
       "</div>"
      ],
      "text/plain": [
       "   User_ID Gender    Age  Occupation City_Category Years_in_city  \\\n",
       "0  1000001      F   0-17          10             A             2   \n",
       "1  1000002      M    55+          16             C            4+   \n",
       "2  1000003      M  26-35          15             A             3   \n",
       "3  1000004      M  46-50           7             B             2   \n",
       "4  1000005      M  26-35          20             A             1   \n",
       "\n",
       "   Marital_Status  Total_Purchase  \n",
       "0               0          334093  \n",
       "1               0          810472  \n",
       "2               0          341635  \n",
       "3               1          206468  \n",
       "4               1          821001  "
      ]
     },
     "execution_count": 11,
     "metadata": {},
     "output_type": "execute_result"
    }
   ],
   "source": [
    "user_df.rename(columns={'Purchase': 'Total_Purchase'}, inplace=True)\n",
    "user_df.head()"
   ]
  },
  {
   "cell_type": "markdown",
   "metadata": {
    "id": "8Q31dbfyyiUy"
   },
   "source": [
    "### 2.2 User Attributes Analysis"
   ]
  },
  {
   "cell_type": "markdown",
   "metadata": {
    "id": "l8GaquRYcgFN"
   },
   "source": [
    "#### Relationship between Gender - Purchase amount  "
   ]
  },
  {
   "cell_type": "code",
   "execution_count": 12,
   "metadata": {
    "colab": {
     "base_uri": "https://localhost:8080/"
    },
    "id": "57SDRoMLcgFN",
    "outputId": "9822f3a3-7014-49eb-9b8c-59f9287184dd",
    "scrolled": true
   },
   "outputs": [
    {
     "name": "stdout",
     "output_type": "stream",
     "text": [
      "number of female users: 4225\n",
      "number of male users: 1666\n"
     ]
    }
   ],
   "source": [
    "print(\"number of female users:\", len(user_df[user_df.Gender == \"M\"]))\n",
    "print(\"number of male users:\", len(user_df[user_df.Gender == \"F\"]))"
   ]
  },
  {
   "cell_type": "code",
   "execution_count": 13,
   "metadata": {
    "id": "2F_cjY3ZcgFO"
   },
   "outputs": [],
   "source": [
    "# plt.figure(figsize=(10,6))\n",
    "# ax = sns.countplot(x=\"Gender\", data= user_df, palette=\"deep\")\n",
    "# plt.ylabel(\"\")\n",
    "# ax.set(xlabel = None, title = \"Customer genders count\")\n",
    "# plt.show()"
   ]
  },
  {
   "cell_type": "code",
   "execution_count": 14,
   "metadata": {
    "colab": {
     "base_uri": "https://localhost:8080/",
     "height": 112
    },
    "id": "vW9DgnfOcgFP",
    "outputId": "75aa4f79-f2d6-4f4c-cd4a-209fcea5e55c",
    "scrolled": false
   },
   "outputs": [
    {
     "data": {
      "text/html": [
       "<div>\n",
       "<style scoped>\n",
       "    .dataframe tbody tr th:only-of-type {\n",
       "        vertical-align: middle;\n",
       "    }\n",
       "\n",
       "    .dataframe tbody tr th {\n",
       "        vertical-align: top;\n",
       "    }\n",
       "\n",
       "    .dataframe thead th {\n",
       "        text-align: right;\n",
       "    }\n",
       "</style>\n",
       "<table border=\"1\" class=\"dataframe\">\n",
       "  <thead>\n",
       "    <tr style=\"text-align: right;\">\n",
       "      <th></th>\n",
       "      <th>Gender</th>\n",
       "      <th>Total_Purchase</th>\n",
       "    </tr>\n",
       "  </thead>\n",
       "  <tbody>\n",
       "    <tr>\n",
       "      <th>0</th>\n",
       "      <td>F</td>\n",
       "      <td>1186232642</td>\n",
       "    </tr>\n",
       "    <tr>\n",
       "      <th>1</th>\n",
       "      <td>M</td>\n",
       "      <td>3909580100</td>\n",
       "    </tr>\n",
       "  </tbody>\n",
       "</table>\n",
       "</div>"
      ],
      "text/plain": [
       "  Gender  Total_Purchase\n",
       "0      F      1186232642\n",
       "1      M      3909580100"
      ]
     },
     "execution_count": 14,
     "metadata": {},
     "output_type": "execute_result"
    }
   ],
   "source": [
    "gender_purchased = user_df[[\"Gender\", \"Total_Purchase\"]]\n",
    "gender_purchased = gender_purchased.groupby(\"Gender\", as_index = False).agg({'Total_Purchase': 'sum'})\n",
    "gender_purchased.head()"
   ]
  },
  {
   "cell_type": "code",
   "execution_count": 15,
   "metadata": {
    "colab": {
     "base_uri": "https://localhost:8080/",
     "height": 451
    },
    "id": "KKqA3S-ycgFP",
    "outputId": "a4e99b50-3c81-4eca-fa07-6d4eafbd258d"
   },
   "outputs": [
    {
     "data": {
      "image/png": "[encoded data removed]",
      "text/plain": [
       "<Figure size 1008x432 with 2 Axes>"
      ]
     },
     "metadata": {},
     "output_type": "display_data"
    }
   ],
   "source": [
    "fig, ax = plt.subplots(1,2, figsize = (14,6))\n",
    "sns.countplot(ax = ax[0], x= 'Gender', data= user_df, palette=\"deep\")\n",
    "sns.barplot(ax= ax[1], x = \"Gender\", y=\"Total_Purchase\", data= gender_purchased, ci=None, palette=\"deep\")\n",
    "ax[0].set(title=\"Number of Gender\", ylabel = None)\n",
    "ax[1].set(title=\"Total Purchase According Gender\", ylabel = None)\n",
    "plt.show()"
   ]
  },
  {
   "cell_type": "markdown",
   "metadata": {
    "id": "iSN_EzzEcgFP"
   },
   "source": [
    "#### Relationship between City Category - Purchase amount "
   ]
  },
  {
   "cell_type": "code",
   "execution_count": 16,
   "metadata": {
    "colab": {
     "base_uri": "https://localhost:8080/"
    },
    "id": "R9W8cnGScgFQ",
    "outputId": "f4429602-1aac-4bd9-ec09-ac8e3f041cd5"
   },
   "outputs": [
    {
     "name": "stdout",
     "output_type": "stream",
     "text": [
      "  City_Category  Total_Purchase\n",
      "0             A      1316471661\n",
      "1             B      2115533605\n",
      "2             C      1663807476\n"
     ]
    }
   ],
   "source": [
    "city_purchase = user_df[[\"City_Category\", \"Total_Purchase\"]]\n",
    "city_purchase = city_purchase.groupby(\"City_Category\", as_index = False).agg({'Total_Purchase': 'sum'})\n",
    "print(city_purchase)"
   ]
  },
  {
   "cell_type": "code",
   "execution_count": 17,
   "metadata": {
    "colab": {
     "base_uri": "https://localhost:8080/"
    },
    "id": "bDwjTOu8cgFQ",
    "outputId": "d094f6fd-4557-49a6-9bd7-9128941e7c6c"
   },
   "outputs": [
    {
     "name": "stdout",
     "output_type": "stream",
     "text": [
      "  City_Category  Total_Purchase  Number Citizen  Ratio Purchase/Person\n",
      "0             A      1316471661            1045            1259781.494\n",
      "1             B      2115533605            1707            1239328.415\n",
      "2             C      1663807476            3139             530043.796\n"
     ]
    }
   ],
   "source": [
    "city_purchase[\"Number Citizen\"] = 0\n",
    "for city in user_df.City_Category.unique():\n",
    "    city_purchase.loc[city_purchase.City_Category == city, \"Number Citizen\"] = len(user_df[user_df.City_Category == city])\n",
    "city_purchase[\"Ratio Purchase/Person\"] = round(city_purchase.Total_Purchase / city_purchase[\"Number Citizen\"], 3)\n",
    "print(city_purchase)"
   ]
  },
  {
   "cell_type": "code",
   "execution_count": 18,
   "metadata": {
    "colab": {
     "base_uri": "https://localhost:8080/",
     "height": 431
    },
    "id": "rdhSxIpWcgFR",
    "outputId": "ae00de73-0b47-4d85-ca76-945984e434b0",
    "scrolled": false
   },
   "outputs": [
    {
     "data": {
      "image/png": "[encoded data removed]",
      "text/plain": [
       "<Figure size 1728x432 with 3 Axes>"
      ]
     },
     "metadata": {},
     "output_type": "display_data"
    }
   ],
   "source": [
    "fig, ax = plt.subplots(1,3, figsize = (24,6))\n",
    "sns.countplot(ax = ax[0], x= 'City_Category', data= user_df, order=[\"A\", \"B\", \"C\"], palette='Greens_r')\n",
    "sns.barplot(ax= ax[1], x = \"City_Category\", y=\"Total_Purchase\", data= city_purchase, ci=None, palette='Greens_r')\n",
    "sns.barplot(ax= ax[2], x = \"City_Category\", y=\"Ratio Purchase/Person\", data= city_purchase, ci=None, palette='Greens_r')\n",
    "ax[0].set(title=\"Number of Citizen according City\", ylabel = None, xlabel=None)\n",
    "ax[1].set(title=\"Total Purchase according City\", ylabel = None, xlabel=\"City\")\n",
    "ax[2].set(title=\"Purchase/Person\", xlabel=None, ylabel=None)\n",
    "\n",
    "plt.show()"
   ]
  },
  {
   "cell_type": "code",
   "execution_count": 19,
   "metadata": {
    "colab": {
     "base_uri": "https://localhost:8080/"
    },
    "id": "d1wcGIR9BBzW",
    "outputId": "b7b54a7d-b70a-43ea-e1d2-267fd6df6ff1"
   },
   "outputs": [
    {
     "name": "stdout",
     "output_type": "stream",
     "text": [
      "Increasing order of cities according amount of purchase/person: ['C', 'B', 'A']\n"
     ]
    }
   ],
   "source": [
    "ord_city = list(city_purchase.sort_values(by=\"Ratio Purchase/Person\").City_Category)\n",
    "print(\"Increasing order of cities according amount of purchase/person:\", ord_city)"
   ]
  },
  {
   "cell_type": "markdown",
   "metadata": {
    "id": "M-0t6iMLcgFR"
   },
   "source": [
    "#### Relationship between Age - Purchase amount "
   ]
  },
  {
   "cell_type": "code",
   "execution_count": 20,
   "metadata": {
    "colab": {
     "base_uri": "https://localhost:8080/",
     "height": 269
    },
    "id": "hHdc6l9xcgFR",
    "outputId": "3c1087f7-e388-4b74-fdb8-3dbb0866a695",
    "scrolled": true
   },
   "outputs": [
    {
     "data": {
      "text/html": [
       "<div>\n",
       "<style scoped>\n",
       "    .dataframe tbody tr th:only-of-type {\n",
       "        vertical-align: middle;\n",
       "    }\n",
       "\n",
       "    .dataframe tbody tr th {\n",
       "        vertical-align: top;\n",
       "    }\n",
       "\n",
       "    .dataframe thead th {\n",
       "        text-align: right;\n",
       "    }\n",
       "</style>\n",
       "<table border=\"1\" class=\"dataframe\">\n",
       "  <thead>\n",
       "    <tr style=\"text-align: right;\">\n",
       "      <th></th>\n",
       "      <th>Age</th>\n",
       "      <th>Total_Purchase</th>\n",
       "    </tr>\n",
       "  </thead>\n",
       "  <tbody>\n",
       "    <tr>\n",
       "      <th>0</th>\n",
       "      <td>0-17</td>\n",
       "      <td>134913183</td>\n",
       "    </tr>\n",
       "    <tr>\n",
       "      <th>1</th>\n",
       "      <td>18-25</td>\n",
       "      <td>913848675</td>\n",
       "    </tr>\n",
       "    <tr>\n",
       "      <th>2</th>\n",
       "      <td>26-35</td>\n",
       "      <td>2031770578</td>\n",
       "    </tr>\n",
       "    <tr>\n",
       "      <th>3</th>\n",
       "      <td>36-45</td>\n",
       "      <td>1026569884</td>\n",
       "    </tr>\n",
       "    <tr>\n",
       "      <th>4</th>\n",
       "      <td>46-50</td>\n",
       "      <td>420843403</td>\n",
       "    </tr>\n",
       "    <tr>\n",
       "      <th>5</th>\n",
       "      <td>51-55</td>\n",
       "      <td>367099644</td>\n",
       "    </tr>\n",
       "    <tr>\n",
       "      <th>6</th>\n",
       "      <td>55+</td>\n",
       "      <td>200767375</td>\n",
       "    </tr>\n",
       "  </tbody>\n",
       "</table>\n",
       "</div>"
      ],
      "text/plain": [
       "     Age  Total_Purchase\n",
       "0   0-17       134913183\n",
       "1  18-25       913848675\n",
       "2  26-35      2031770578\n",
       "3  36-45      1026569884\n",
       "4  46-50       420843403\n",
       "5  51-55       367099644\n",
       "6    55+       200767375"
      ]
     },
     "execution_count": 20,
     "metadata": {},
     "output_type": "execute_result"
    }
   ],
   "source": [
    "age_purchase = user_df[[\"Age\", \"Total_Purchase\"]]\n",
    "age_purchase = age_purchase.groupby(\"Age\", as_index = False).agg({'Total_Purchase': 'sum'})\n",
    "age_purchase"
   ]
  },
  {
   "cell_type": "code",
   "execution_count": 21,
   "metadata": {
    "colab": {
     "base_uri": "https://localhost:8080/",
     "height": 269
    },
    "id": "_ZIvDoHFcgFS",
    "outputId": "1a030f5a-978e-4e77-87ed-3c219c38117d"
   },
   "outputs": [
    {
     "data": {
      "text/html": [
       "<div>\n",
       "<style scoped>\n",
       "    .dataframe tbody tr th:only-of-type {\n",
       "        vertical-align: middle;\n",
       "    }\n",
       "\n",
       "    .dataframe tbody tr th {\n",
       "        vertical-align: top;\n",
       "    }\n",
       "\n",
       "    .dataframe thead th {\n",
       "        text-align: right;\n",
       "    }\n",
       "</style>\n",
       "<table border=\"1\" class=\"dataframe\">\n",
       "  <thead>\n",
       "    <tr style=\"text-align: right;\">\n",
       "      <th></th>\n",
       "      <th>Age</th>\n",
       "      <th>Total_Purchase</th>\n",
       "      <th>Number customer</th>\n",
       "      <th>Ratio Purchase/Person</th>\n",
       "    </tr>\n",
       "  </thead>\n",
       "  <tbody>\n",
       "    <tr>\n",
       "      <th>0</th>\n",
       "      <td>0-17</td>\n",
       "      <td>134913183</td>\n",
       "      <td>218</td>\n",
       "      <td>618867.812</td>\n",
       "    </tr>\n",
       "    <tr>\n",
       "      <th>1</th>\n",
       "      <td>18-25</td>\n",
       "      <td>913848675</td>\n",
       "      <td>1069</td>\n",
       "      <td>854863.120</td>\n",
       "    </tr>\n",
       "    <tr>\n",
       "      <th>2</th>\n",
       "      <td>26-35</td>\n",
       "      <td>2031770578</td>\n",
       "      <td>2053</td>\n",
       "      <td>989659.317</td>\n",
       "    </tr>\n",
       "    <tr>\n",
       "      <th>3</th>\n",
       "      <td>36-45</td>\n",
       "      <td>1026569884</td>\n",
       "      <td>1167</td>\n",
       "      <td>879665.710</td>\n",
       "    </tr>\n",
       "    <tr>\n",
       "      <th>4</th>\n",
       "      <td>46-50</td>\n",
       "      <td>420843403</td>\n",
       "      <td>531</td>\n",
       "      <td>792548.782</td>\n",
       "    </tr>\n",
       "    <tr>\n",
       "      <th>5</th>\n",
       "      <td>51-55</td>\n",
       "      <td>367099644</td>\n",
       "      <td>481</td>\n",
       "      <td>763200.923</td>\n",
       "    </tr>\n",
       "    <tr>\n",
       "      <th>6</th>\n",
       "      <td>55+</td>\n",
       "      <td>200767375</td>\n",
       "      <td>372</td>\n",
       "      <td>539697.245</td>\n",
       "    </tr>\n",
       "  </tbody>\n",
       "</table>\n",
       "</div>"
      ],
      "text/plain": [
       "     Age  Total_Purchase  Number customer  Ratio Purchase/Person\n",
       "0   0-17       134913183              218             618867.812\n",
       "1  18-25       913848675             1069             854863.120\n",
       "2  26-35      2031770578             2053             989659.317\n",
       "3  36-45      1026569884             1167             879665.710\n",
       "4  46-50       420843403              531             792548.782\n",
       "5  51-55       367099644              481             763200.923\n",
       "6    55+       200767375              372             539697.245"
      ]
     },
     "execution_count": 21,
     "metadata": {},
     "output_type": "execute_result"
    }
   ],
   "source": [
    "age_purchase[\"Number customer\"] = 0\n",
    "for age in age_purchase.Age.unique():\n",
    "    age_purchase.loc[age_purchase.Age == age, \"Number customer\"] = len(user_df[user_df.Age == age])\n",
    "age_purchase[\"Ratio Purchase/Person\"] = round(age_purchase.Total_Purchase / age_purchase[\"Number customer\"], 3)\n",
    "age_purchase"
   ]
  },
  {
   "cell_type": "code",
   "execution_count": 22,
   "metadata": {
    "colab": {
     "base_uri": "https://localhost:8080/",
     "height": 431
    },
    "id": "Kx4xRTWtcgFS",
    "outputId": "e92cdfd9-dae3-4401-be64-7cc527928e42"
   },
   "outputs": [
    {
     "data": {
      "image/png": "[encoded data removed]",
      "text/plain": [
       "<Figure size 1728x432 with 3 Axes>"
      ]
     },
     "metadata": {},
     "output_type": "display_data"
    }
   ],
   "source": [
    "age_order = list(age_purchase.Age.unique())\n",
    "\n",
    "fig, ax = plt.subplots(1, 3, figsize = (24,6))\n",
    "sns.countplot(ax = ax[0], x= 'Age', data= user_df, order = age_order, palette='Set2')\n",
    "sns.barplot(ax= ax[1], x = \"Age\", y=\"Total_Purchase\", data= age_purchase, ci=None, palette='Set2', order=['0-17', '18-25', '26-35', '36-45', '46-50', '51-55', '55+'])\n",
    "sns.barplot(ax= ax[2], x = \"Age\", y=\"Ratio Purchase/Person\", data= age_purchase, ci=None, palette='Set2', order=['0-17', '18-25', '26-35', '36-45', '46-50', '51-55', '55+'])\n",
    "\n",
    "ax[0].set(title=\"Number of Citizen according Ages\", ylabel = None, xlabel=None)\n",
    "ax[1].set(title=\"Total Purchase according Ages\", ylabel = None, xlabel=\"City\")\n",
    "ax[2].set(title=\"Purchase/Person\", xlabel=None, ylabel=None)\n",
    "plt.show()"
   ]
  },
  {
   "cell_type": "code",
   "execution_count": 23,
   "metadata": {
    "colab": {
     "base_uri": "https://localhost:8080/"
    },
    "id": "BmNq5ZvdcgFT",
    "outputId": "c11a40b6-1144-4b71-fcb3-cafc91be4389"
   },
   "outputs": [
    {
     "name": "stdout",
     "output_type": "stream",
     "text": [
      "Increasing order of age range according to amount of Purchase/Person:  ['55+', '0-17', '51-55', '46-50', '18-25', '36-45', '26-35']\n"
     ]
    }
   ],
   "source": [
    "# sns.barplot(x = \"Age\", y = \"Ratio Purchase/Person\", data= age_purchase)\n",
    "# plt.title(\"Amount of money spent by each person on average according their Age.\")\n",
    "# plt.ylabel(None)\n",
    "\n",
    "# plt.show()\n",
    "ord_age = list(age_purchase.sort_values(by=\"Ratio Purchase/Person\", ignore_index=True).Age)\n",
    "print(\"Increasing order of age range according to amount of Purchase/Person: \", ord_age)"
   ]
  },
  {
   "cell_type": "markdown",
   "metadata": {
    "id": "vOn5u9wxcgFT"
   },
   "source": [
    "#### Relationship between Occupation - Purchase amount\n"
   ]
  },
  {
   "cell_type": "code",
   "execution_count": 24,
   "metadata": {
    "colab": {
     "base_uri": "https://localhost:8080/",
     "height": 238
    },
    "id": "xlOU18ADcgFT",
    "outputId": "bf03c37c-e289-4b41-97a2-8481647434ad"
   },
   "outputs": [
    {
     "data": {
      "text/html": [
       "<div>\n",
       "<style scoped>\n",
       "    .dataframe tbody tr th:only-of-type {\n",
       "        vertical-align: middle;\n",
       "    }\n",
       "\n",
       "    .dataframe tbody tr th {\n",
       "        vertical-align: top;\n",
       "    }\n",
       "\n",
       "    .dataframe thead th {\n",
       "        text-align: right;\n",
       "    }\n",
       "</style>\n",
       "<table border=\"1\" class=\"dataframe\">\n",
       "  <thead>\n",
       "    <tr style=\"text-align: right;\">\n",
       "      <th></th>\n",
       "      <th>Occupation</th>\n",
       "      <th>Total_Purchase</th>\n",
       "    </tr>\n",
       "  </thead>\n",
       "  <tbody>\n",
       "    <tr>\n",
       "      <th>0</th>\n",
       "      <td>0</td>\n",
       "      <td>635406958</td>\n",
       "    </tr>\n",
       "    <tr>\n",
       "      <th>1</th>\n",
       "      <td>1</td>\n",
       "      <td>424614144</td>\n",
       "    </tr>\n",
       "    <tr>\n",
       "      <th>2</th>\n",
       "      <td>2</td>\n",
       "      <td>238028583</td>\n",
       "    </tr>\n",
       "    <tr>\n",
       "      <th>3</th>\n",
       "      <td>3</td>\n",
       "      <td>162002168</td>\n",
       "    </tr>\n",
       "    <tr>\n",
       "      <th>4</th>\n",
       "      <td>4</td>\n",
       "      <td>666244484</td>\n",
       "    </tr>\n",
       "    <tr>\n",
       "      <th>5</th>\n",
       "      <td>5</td>\n",
       "      <td>113649759</td>\n",
       "    </tr>\n",
       "  </tbody>\n",
       "</table>\n",
       "</div>"
      ],
      "text/plain": [
       "   Occupation  Total_Purchase\n",
       "0           0       635406958\n",
       "1           1       424614144\n",
       "2           2       238028583\n",
       "3           3       162002168\n",
       "4           4       666244484\n",
       "5           5       113649759"
      ]
     },
     "execution_count": 24,
     "metadata": {},
     "output_type": "execute_result"
    }
   ],
   "source": [
    "job_purchase = user_df[['Occupation', 'Total_Purchase']]\n",
    "job_purchase = job_purchase.groupby(by='Occupation', as_index = False).agg({'Total_Purchase': 'sum'})\n",
    "job_purchase.head(6)"
   ]
  },
  {
   "cell_type": "code",
   "execution_count": 25,
   "metadata": {
    "colab": {
     "base_uri": "https://localhost:8080/",
     "height": 238
    },
    "id": "H5irUIIlcgFT",
    "outputId": "13212aff-313d-417f-fa76-1576ec91668b"
   },
   "outputs": [
    {
     "data": {
      "text/html": [
       "<div>\n",
       "<style scoped>\n",
       "    .dataframe tbody tr th:only-of-type {\n",
       "        vertical-align: middle;\n",
       "    }\n",
       "\n",
       "    .dataframe tbody tr th {\n",
       "        vertical-align: top;\n",
       "    }\n",
       "\n",
       "    .dataframe thead th {\n",
       "        text-align: right;\n",
       "    }\n",
       "</style>\n",
       "<table border=\"1\" class=\"dataframe\">\n",
       "  <thead>\n",
       "    <tr style=\"text-align: right;\">\n",
       "      <th></th>\n",
       "      <th>Occupation</th>\n",
       "      <th>Total_Purchase</th>\n",
       "      <th>NumberCustomer</th>\n",
       "      <th>Ratio Purchase/Person</th>\n",
       "    </tr>\n",
       "  </thead>\n",
       "  <tbody>\n",
       "    <tr>\n",
       "      <th>0</th>\n",
       "      <td>0</td>\n",
       "      <td>635406958</td>\n",
       "      <td>688</td>\n",
       "      <td>923556.625</td>\n",
       "    </tr>\n",
       "    <tr>\n",
       "      <th>1</th>\n",
       "      <td>1</td>\n",
       "      <td>424614144</td>\n",
       "      <td>517</td>\n",
       "      <td>821303.954</td>\n",
       "    </tr>\n",
       "    <tr>\n",
       "      <th>2</th>\n",
       "      <td>2</td>\n",
       "      <td>238028583</td>\n",
       "      <td>256</td>\n",
       "      <td>929799.152</td>\n",
       "    </tr>\n",
       "    <tr>\n",
       "      <th>3</th>\n",
       "      <td>3</td>\n",
       "      <td>162002168</td>\n",
       "      <td>170</td>\n",
       "      <td>952953.929</td>\n",
       "    </tr>\n",
       "    <tr>\n",
       "      <th>4</th>\n",
       "      <td>4</td>\n",
       "      <td>666244484</td>\n",
       "      <td>740</td>\n",
       "      <td>900330.384</td>\n",
       "    </tr>\n",
       "    <tr>\n",
       "      <th>5</th>\n",
       "      <td>5</td>\n",
       "      <td>113649759</td>\n",
       "      <td>111</td>\n",
       "      <td>1023871.703</td>\n",
       "    </tr>\n",
       "  </tbody>\n",
       "</table>\n",
       "</div>"
      ],
      "text/plain": [
       "   Occupation  Total_Purchase  NumberCustomer  Ratio Purchase/Person\n",
       "0           0       635406958             688             923556.625\n",
       "1           1       424614144             517             821303.954\n",
       "2           2       238028583             256             929799.152\n",
       "3           3       162002168             170             952953.929\n",
       "4           4       666244484             740             900330.384\n",
       "5           5       113649759             111            1023871.703"
      ]
     },
     "execution_count": 25,
     "metadata": {},
     "output_type": "execute_result"
    }
   ],
   "source": [
    "job_purchase['NumberCustomer'] = 0 \n",
    "for job in job_purchase.Occupation.unique():\n",
    "    job_purchase.loc[job_purchase.Occupation == job, 'NumberCustomer'] = len(user_df[user_df.Occupation == job])\n",
    "job_purchase['Ratio Purchase/Person'] = round(job_purchase.Total_Purchase / job_purchase[\"NumberCustomer\"], 3)\n",
    "job_purchase.head(6)"
   ]
  },
  {
   "cell_type": "code",
   "execution_count": 26,
   "metadata": {
    "colab": {
     "base_uri": "https://localhost:8080/"
    },
    "id": "njduR3A7cgFU",
    "outputId": "ccdf684f-958d-4f94-b0fb-045852580dd1"
   },
   "outputs": [
    {
     "name": "stdout",
     "output_type": "stream",
     "text": [
      "    Occupation  Total_Purchase  NumberCustomer  Ratio Purchase/Person\n",
      "0           13        71919481             140             513710.579\n",
      "1           10       115844465             192             603356.589\n",
      "2            9        54340046              88             617500.523\n",
      "3           17       393281453             491             800980.556\n",
      "4           12       305449446             376             812365.548\n",
      "5            1       424614144             517             821303.954\n",
      "6            6       188416784             228             826389.404\n",
      "7            7       557371587             669             833141.386\n",
      "8           11       106751618             128             833997.016\n",
      "9           15       118960211             140             849715.793\n",
      "10           8        14737388              17             866905.176\n",
      "11          14       259454692             294             882498.952\n",
      "12           4       666244484             740             900330.384\n",
      "13          18        60721461              67             906290.463\n",
      "14           0       635406958             688             923556.625\n",
      "15           2       238028583             256             929799.152\n",
      "16           3       162002168             170             952953.929\n",
      "17          16       238346955             235            1014242.362\n",
      "18           5       113649759             111            1023871.703\n",
      "19          19        73700617              71            1038036.859\n",
      "20          20       296570442             273            1086338.615\n",
      "\n",
      "Order of Job ID which spent most money (increasing order):\n",
      "[13, 10, 9, 17, 12, 1, 6, 7, 11, 15, 8, 14, 4, 18, 0, 2, 3, 16, 5, 19, 20]\n"
     ]
    }
   ],
   "source": [
    "print(job_purchase.sort_values(by='Ratio Purchase/Person',ignore_index=True))\n",
    "# job_purchase.Occupation = job_purchase.Occupation - 1\n",
    "job_purchase\n",
    "print(\"\\nOrder of Job ID which spent most money (increasing order):\")\n",
    "print(list(job_purchase.sort_values(by='Ratio Purchase/Person').Occupation))"
   ]
  },
  {
   "cell_type": "markdown",
   "metadata": {
    "id": "OZ9HVzvGcgFU"
   },
   "source": [
    "#### Relationship between Gender - Martial Status - Purchase amount  "
   ]
  },
  {
   "cell_type": "markdown",
   "metadata": {
    "id": "Z4Q8rx6Yy7Sq"
   },
   "source": []
  },
  {
   "cell_type": "markdown",
   "metadata": {
    "id": "DVIEgn1-cgFg"
   },
   "source": [
    "### 2.3 Product analysis \n"
   ]
  },
  {
   "cell_type": "code",
   "execution_count": 27,
   "metadata": {
    "colab": {
     "base_uri": "https://localhost:8080/",
     "height": 206
    },
    "id": "AxBL59A0cgFg",
    "outputId": "180fbf1f-6dc7-42d6-ecc9-b56ea96e3c33"
   },
   "outputs": [
    {
     "data": {
      "text/html": [
       "<div>\n",
       "<style scoped>\n",
       "    .dataframe tbody tr th:only-of-type {\n",
       "        vertical-align: middle;\n",
       "    }\n",
       "\n",
       "    .dataframe tbody tr th {\n",
       "        vertical-align: top;\n",
       "    }\n",
       "\n",
       "    .dataframe thead th {\n",
       "        text-align: right;\n",
       "    }\n",
       "</style>\n",
       "<table border=\"1\" class=\"dataframe\">\n",
       "  <thead>\n",
       "    <tr style=\"text-align: right;\">\n",
       "      <th></th>\n",
       "      <th>User_ID</th>\n",
       "      <th>Product_ID</th>\n",
       "      <th>Gender</th>\n",
       "      <th>Age</th>\n",
       "      <th>Occupation</th>\n",
       "      <th>City_Category</th>\n",
       "      <th>Years_in_city</th>\n",
       "      <th>Marital_Status</th>\n",
       "      <th>Product_Category_1</th>\n",
       "      <th>Product_Category_2</th>\n",
       "      <th>Product_Category_3</th>\n",
       "      <th>Purchase</th>\n",
       "    </tr>\n",
       "  </thead>\n",
       "  <tbody>\n",
       "    <tr>\n",
       "      <th>0</th>\n",
       "      <td>1000001</td>\n",
       "      <td>P00069042</td>\n",
       "      <td>F</td>\n",
       "      <td>0-17</td>\n",
       "      <td>10</td>\n",
       "      <td>A</td>\n",
       "      <td>2</td>\n",
       "      <td>0</td>\n",
       "      <td>3</td>\n",
       "      <td>NaN</td>\n",
       "      <td>NaN</td>\n",
       "      <td>8370</td>\n",
       "    </tr>\n",
       "    <tr>\n",
       "      <th>1</th>\n",
       "      <td>1000001</td>\n",
       "      <td>P00248942</td>\n",
       "      <td>F</td>\n",
       "      <td>0-17</td>\n",
       "      <td>10</td>\n",
       "      <td>A</td>\n",
       "      <td>2</td>\n",
       "      <td>0</td>\n",
       "      <td>1</td>\n",
       "      <td>6.0</td>\n",
       "      <td>14.0</td>\n",
       "      <td>15200</td>\n",
       "    </tr>\n",
       "    <tr>\n",
       "      <th>2</th>\n",
       "      <td>1000001</td>\n",
       "      <td>P00087842</td>\n",
       "      <td>F</td>\n",
       "      <td>0-17</td>\n",
       "      <td>10</td>\n",
       "      <td>A</td>\n",
       "      <td>2</td>\n",
       "      <td>0</td>\n",
       "      <td>12</td>\n",
       "      <td>NaN</td>\n",
       "      <td>NaN</td>\n",
       "      <td>1422</td>\n",
       "    </tr>\n",
       "    <tr>\n",
       "      <th>3</th>\n",
       "      <td>1000001</td>\n",
       "      <td>P00085442</td>\n",
       "      <td>F</td>\n",
       "      <td>0-17</td>\n",
       "      <td>10</td>\n",
       "      <td>A</td>\n",
       "      <td>2</td>\n",
       "      <td>0</td>\n",
       "      <td>12</td>\n",
       "      <td>14.0</td>\n",
       "      <td>NaN</td>\n",
       "      <td>1057</td>\n",
       "    </tr>\n",
       "    <tr>\n",
       "      <th>4</th>\n",
       "      <td>1000002</td>\n",
       "      <td>P00285442</td>\n",
       "      <td>M</td>\n",
       "      <td>55+</td>\n",
       "      <td>16</td>\n",
       "      <td>C</td>\n",
       "      <td>4+</td>\n",
       "      <td>0</td>\n",
       "      <td>8</td>\n",
       "      <td>NaN</td>\n",
       "      <td>NaN</td>\n",
       "      <td>7969</td>\n",
       "    </tr>\n",
       "  </tbody>\n",
       "</table>\n",
       "</div>"
      ],
      "text/plain": [
       "   User_ID Product_ID Gender   Age  Occupation City_Category Years_in_city  \\\n",
       "0  1000001  P00069042      F  0-17          10             A             2   \n",
       "1  1000001  P00248942      F  0-17          10             A             2   \n",
       "2  1000001  P00087842      F  0-17          10             A             2   \n",
       "3  1000001  P00085442      F  0-17          10             A             2   \n",
       "4  1000002  P00285442      M   55+          16             C            4+   \n",
       "\n",
       "   Marital_Status  Product_Category_1  Product_Category_2  Product_Category_3  \\\n",
       "0               0                   3                 NaN                 NaN   \n",
       "1               0                   1                 6.0                14.0   \n",
       "2               0                  12                 NaN                 NaN   \n",
       "3               0                  12                14.0                 NaN   \n",
       "4               0                   8                 NaN                 NaN   \n",
       "\n",
       "   Purchase  \n",
       "0      8370  \n",
       "1     15200  \n",
       "2      1422  \n",
       "3      1057  \n",
       "4      7969  "
      ]
     },
     "execution_count": 27,
     "metadata": {},
     "output_type": "execute_result"
    }
   ],
   "source": [
    "product_df = train_df.copy()\n",
    "product_df.head()"
   ]
  },
  {
   "cell_type": "code",
   "execution_count": 28,
   "metadata": {
    "colab": {
     "base_uri": "https://localhost:8080/"
    },
    "id": "juGZbAYJcgFg",
    "outputId": "fcefb711-8735-4a72-85b3-7c26f418c469"
   },
   "outputs": [
    {
     "name": "stdout",
     "output_type": "stream",
     "text": [
      "<class 'pandas.core.frame.DataFrame'>\n",
      "RangeIndex: 550068 entries, 0 to 550067\n",
      "Data columns (total 12 columns):\n",
      " #   Column              Non-Null Count   Dtype  \n",
      "---  ------              --------------   -----  \n",
      " 0   User_ID             550068 non-null  int64  \n",
      " 1   Product_ID          550068 non-null  object \n",
      " 2   Gender              550068 non-null  object \n",
      " 3   Age                 550068 non-null  object \n",
      " 4   Occupation          550068 non-null  int64  \n",
      " 5   City_Category       550068 non-null  object \n",
      " 6   Years_in_city       550068 non-null  object \n",
      " 7   Marital_Status      550068 non-null  int64  \n",
      " 8   Product_Category_1  550068 non-null  int64  \n",
      " 9   Product_Category_2  376430 non-null  float64\n",
      " 10  Product_Category_3  166821 non-null  float64\n",
      " 11  Purchase            550068 non-null  int64  \n",
      "dtypes: float64(2), int64(5), object(5)\n",
      "memory usage: 50.4+ MB\n"
     ]
    }
   ],
   "source": [
    "product_df.info()"
   ]
  },
  {
   "cell_type": "markdown",
   "metadata": {
    "id": "jMOIR_r6f_LR"
   },
   "source": [
    "#### Analysis on sample Product \"P00248942\""
   ]
  },
  {
   "cell_type": "code",
   "execution_count": 29,
   "metadata": {
    "colab": {
     "base_uri": "https://localhost:8080/",
     "height": 300
    },
    "id": "FOvyWbpifvJX",
    "outputId": "709c7fa7-121c-47e7-fd82-93c7886f7295"
   },
   "outputs": [
    {
     "data": {
      "text/html": [
       "<div>\n",
       "<style scoped>\n",
       "    .dataframe tbody tr th:only-of-type {\n",
       "        vertical-align: middle;\n",
       "    }\n",
       "\n",
       "    .dataframe tbody tr th {\n",
       "        vertical-align: top;\n",
       "    }\n",
       "\n",
       "    .dataframe thead th {\n",
       "        text-align: right;\n",
       "    }\n",
       "</style>\n",
       "<table border=\"1\" class=\"dataframe\">\n",
       "  <thead>\n",
       "    <tr style=\"text-align: right;\">\n",
       "      <th></th>\n",
       "      <th>User_ID</th>\n",
       "      <th>Occupation</th>\n",
       "      <th>Marital_Status</th>\n",
       "      <th>Product_Category_1</th>\n",
       "      <th>Product_Category_2</th>\n",
       "      <th>Product_Category_3</th>\n",
       "      <th>Purchase</th>\n",
       "    </tr>\n",
       "  </thead>\n",
       "  <tbody>\n",
       "    <tr>\n",
       "      <th>count</th>\n",
       "      <td>5.810000e+02</td>\n",
       "      <td>581.000000</td>\n",
       "      <td>581.000000</td>\n",
       "      <td>581.0</td>\n",
       "      <td>581.0</td>\n",
       "      <td>581.0</td>\n",
       "      <td>581.000000</td>\n",
       "    </tr>\n",
       "    <tr>\n",
       "      <th>mean</th>\n",
       "      <td>1.002915e+06</td>\n",
       "      <td>8.013769</td>\n",
       "      <td>0.407917</td>\n",
       "      <td>1.0</td>\n",
       "      <td>6.0</td>\n",
       "      <td>14.0</td>\n",
       "      <td>16304.030981</td>\n",
       "    </tr>\n",
       "    <tr>\n",
       "      <th>std</th>\n",
       "      <td>1.800201e+03</td>\n",
       "      <td>6.419782</td>\n",
       "      <td>0.491871</td>\n",
       "      <td>0.0</td>\n",
       "      <td>0.0</td>\n",
       "      <td>0.0</td>\n",
       "      <td>3340.288874</td>\n",
       "    </tr>\n",
       "    <tr>\n",
       "      <th>min</th>\n",
       "      <td>1.000001e+06</td>\n",
       "      <td>0.000000</td>\n",
       "      <td>0.000000</td>\n",
       "      <td>1.0</td>\n",
       "      <td>6.0</td>\n",
       "      <td>14.0</td>\n",
       "      <td>3880.000000</td>\n",
       "    </tr>\n",
       "    <tr>\n",
       "      <th>25%</th>\n",
       "      <td>1.001347e+06</td>\n",
       "      <td>3.000000</td>\n",
       "      <td>0.000000</td>\n",
       "      <td>1.0</td>\n",
       "      <td>6.0</td>\n",
       "      <td>14.0</td>\n",
       "      <td>15312.000000</td>\n",
       "    </tr>\n",
       "    <tr>\n",
       "      <th>50%</th>\n",
       "      <td>1.002898e+06</td>\n",
       "      <td>6.000000</td>\n",
       "      <td>0.000000</td>\n",
       "      <td>1.0</td>\n",
       "      <td>6.0</td>\n",
       "      <td>14.0</td>\n",
       "      <td>15812.000000</td>\n",
       "    </tr>\n",
       "    <tr>\n",
       "      <th>75%</th>\n",
       "      <td>1.004514e+06</td>\n",
       "      <td>14.000000</td>\n",
       "      <td>1.000000</td>\n",
       "      <td>1.0</td>\n",
       "      <td>6.0</td>\n",
       "      <td>14.0</td>\n",
       "      <td>19264.000000</td>\n",
       "    </tr>\n",
       "    <tr>\n",
       "      <th>max</th>\n",
       "      <td>1.006040e+06</td>\n",
       "      <td>20.000000</td>\n",
       "      <td>1.000000</td>\n",
       "      <td>1.0</td>\n",
       "      <td>6.0</td>\n",
       "      <td>14.0</td>\n",
       "      <td>19701.000000</td>\n",
       "    </tr>\n",
       "  </tbody>\n",
       "</table>\n",
       "</div>"
      ],
      "text/plain": [
       "            User_ID  Occupation  Marital_Status  Product_Category_1  \\\n",
       "count  5.810000e+02  581.000000      581.000000               581.0   \n",
       "mean   1.002915e+06    8.013769        0.407917                 1.0   \n",
       "std    1.800201e+03    6.419782        0.491871                 0.0   \n",
       "min    1.000001e+06    0.000000        0.000000                 1.0   \n",
       "25%    1.001347e+06    3.000000        0.000000                 1.0   \n",
       "50%    1.002898e+06    6.000000        0.000000                 1.0   \n",
       "75%    1.004514e+06   14.000000        1.000000                 1.0   \n",
       "max    1.006040e+06   20.000000        1.000000                 1.0   \n",
       "\n",
       "       Product_Category_2  Product_Category_3      Purchase  \n",
       "count               581.0               581.0    581.000000  \n",
       "mean                  6.0                14.0  16304.030981  \n",
       "std                   0.0                 0.0   3340.288874  \n",
       "min                   6.0                14.0   3880.000000  \n",
       "25%                   6.0                14.0  15312.000000  \n",
       "50%                   6.0                14.0  15812.000000  \n",
       "75%                   6.0                14.0  19264.000000  \n",
       "max                   6.0                14.0  19701.000000  "
      ]
     },
     "execution_count": 29,
     "metadata": {},
     "output_type": "execute_result"
    }
   ],
   "source": [
    "sample = product_df[product_df.Product_ID == 'P00248942']\n",
    "sample.describe()"
   ]
  },
  {
   "cell_type": "code",
   "execution_count": 30,
   "metadata": {
    "colab": {
     "base_uri": "https://localhost:8080/",
     "height": 610
    },
    "id": "cwupIj23f8ja",
    "outputId": "76f48101-b3fa-41f8-b091-63040a519ae6"
   },
   "outputs": [
    {
     "data": {
      "text/plain": [
       "<matplotlib.axes._subplots.AxesSubplot at 0x1d28189a820>"
      ]
     },
     "execution_count": 30,
     "metadata": {},
     "output_type": "execute_result"
    },
    {
     "data": {
      "image/png": "[encoded data removed]",
      "text/plain": [
       "<Figure size 921.6x633.6 with 1 Axes>"
      ]
     },
     "metadata": {},
     "output_type": "display_data"
    }
   ],
   "source": [
    "sns.histplot(x=\"Purchase\", data=sample)"
   ]
  },
  {
   "cell_type": "code",
   "execution_count": 31,
   "metadata": {
    "colab": {
     "base_uri": "https://localhost:8080/",
     "height": 206
    },
    "id": "Tgu3Iwjgx6Qd",
    "outputId": "6c85cdfd-8124-4e18-8c28-dfb21f3b9d09",
    "scrolled": true
   },
   "outputs": [
    {
     "data": {
      "text/html": [
       "<div>\n",
       "<style scoped>\n",
       "    .dataframe tbody tr th:only-of-type {\n",
       "        vertical-align: middle;\n",
       "    }\n",
       "\n",
       "    .dataframe tbody tr th {\n",
       "        vertical-align: top;\n",
       "    }\n",
       "\n",
       "    .dataframe thead th {\n",
       "        text-align: right;\n",
       "    }\n",
       "</style>\n",
       "<table border=\"1\" class=\"dataframe\">\n",
       "  <thead>\n",
       "    <tr style=\"text-align: right;\">\n",
       "      <th></th>\n",
       "      <th>User_ID</th>\n",
       "      <th>Product_ID</th>\n",
       "      <th>Gender</th>\n",
       "      <th>Age</th>\n",
       "      <th>Occupation</th>\n",
       "      <th>City_Category</th>\n",
       "      <th>Years_in_city</th>\n",
       "      <th>Marital_Status</th>\n",
       "      <th>Product_Category_1</th>\n",
       "      <th>Product_Category_2</th>\n",
       "      <th>Product_Category_3</th>\n",
       "      <th>Purchase</th>\n",
       "    </tr>\n",
       "  </thead>\n",
       "  <tbody>\n",
       "    <tr>\n",
       "      <th>1</th>\n",
       "      <td>1000001</td>\n",
       "      <td>P00248942</td>\n",
       "      <td>F</td>\n",
       "      <td>0-17</td>\n",
       "      <td>10</td>\n",
       "      <td>A</td>\n",
       "      <td>2</td>\n",
       "      <td>0</td>\n",
       "      <td>1</td>\n",
       "      <td>6.0</td>\n",
       "      <td>14.0</td>\n",
       "      <td>15200</td>\n",
       "    </tr>\n",
       "    <tr>\n",
       "      <th>126</th>\n",
       "      <td>1000024</td>\n",
       "      <td>P00248942</td>\n",
       "      <td>F</td>\n",
       "      <td>26-35</td>\n",
       "      <td>7</td>\n",
       "      <td>A</td>\n",
       "      <td>3</td>\n",
       "      <td>1</td>\n",
       "      <td>1</td>\n",
       "      <td>6.0</td>\n",
       "      <td>14.0</td>\n",
       "      <td>15774</td>\n",
       "    </tr>\n",
       "    <tr>\n",
       "      <th>405</th>\n",
       "      <td>1000068</td>\n",
       "      <td>P00248942</td>\n",
       "      <td>M</td>\n",
       "      <td>18-25</td>\n",
       "      <td>4</td>\n",
       "      <td>A</td>\n",
       "      <td>0</td>\n",
       "      <td>0</td>\n",
       "      <td>1</td>\n",
       "      <td>6.0</td>\n",
       "      <td>14.0</td>\n",
       "      <td>11429</td>\n",
       "    </tr>\n",
       "    <tr>\n",
       "      <th>516</th>\n",
       "      <td>1000093</td>\n",
       "      <td>P00248942</td>\n",
       "      <td>M</td>\n",
       "      <td>26-35</td>\n",
       "      <td>17</td>\n",
       "      <td>B</td>\n",
       "      <td>1</td>\n",
       "      <td>1</td>\n",
       "      <td>1</td>\n",
       "      <td>6.0</td>\n",
       "      <td>14.0</td>\n",
       "      <td>11754</td>\n",
       "    </tr>\n",
       "    <tr>\n",
       "      <th>701</th>\n",
       "      <td>1000135</td>\n",
       "      <td>P00248942</td>\n",
       "      <td>M</td>\n",
       "      <td>18-25</td>\n",
       "      <td>4</td>\n",
       "      <td>C</td>\n",
       "      <td>1</td>\n",
       "      <td>1</td>\n",
       "      <td>1</td>\n",
       "      <td>6.0</td>\n",
       "      <td>14.0</td>\n",
       "      <td>19146</td>\n",
       "    </tr>\n",
       "  </tbody>\n",
       "</table>\n",
       "</div>"
      ],
      "text/plain": [
       "     User_ID Product_ID Gender    Age  Occupation City_Category Years_in_city  \\\n",
       "1    1000001  P00248942      F   0-17          10             A             2   \n",
       "126  1000024  P00248942      F  26-35           7             A             3   \n",
       "405  1000068  P00248942      M  18-25           4             A             0   \n",
       "516  1000093  P00248942      M  26-35          17             B             1   \n",
       "701  1000135  P00248942      M  18-25           4             C             1   \n",
       "\n",
       "     Marital_Status  Product_Category_1  Product_Category_2  \\\n",
       "1                 0                   1                 6.0   \n",
       "126               1                   1                 6.0   \n",
       "405               0                   1                 6.0   \n",
       "516               1                   1                 6.0   \n",
       "701               1                   1                 6.0   \n",
       "\n",
       "     Product_Category_3  Purchase  \n",
       "1                  14.0     15200  \n",
       "126                14.0     15774  \n",
       "405                14.0     11429  \n",
       "516                14.0     11754  \n",
       "701                14.0     19146  "
      ]
     },
     "execution_count": 31,
     "metadata": {},
     "output_type": "execute_result"
    }
   ],
   "source": [
    "sample.head()"
   ]
  },
  {
   "cell_type": "code",
   "execution_count": 32,
   "metadata": {
    "colab": {
     "base_uri": "https://localhost:8080/"
    },
    "id": "cF5IsjtIyFTe",
    "outputId": "2d4c9ba3-cefc-42be-cb6f-fee0a0a5e1d7"
   },
   "outputs": [
    {
     "name": "stdout",
     "output_type": "stream",
     "text": [
      "number of product P00248942 which was sold with too low price: 29\n",
      "ratio product sold with too low price / product sold: 4.9914%\n"
     ]
    }
   ],
   "source": [
    "nb = sample[(sample.Purchase < sample.Purchase.quantile(0.25) - 1.5* (sample.Purchase.quantile(0.75) - sample.Purchase.quantile(0.25)))]\n",
    "print(f\"number of product P00248942 which was sold with too low price: {nb.shape[0]}\")\n",
    "print(f\"ratio product sold with too low price / product sold: {round(100 * nb.shape[0]/ sample.shape[0], 4)}%\")"
   ]
  },
  {
   "cell_type": "markdown",
   "metadata": {
    "id": "uRddsMRTjXat"
   },
   "source": [
    "*Number of people who buy product P00248942 too small* \n",
    "\n",
    "**ASSUMPTION: Outliers exists**"
   ]
  },
  {
   "cell_type": "markdown",
   "metadata": {
    "id": "CIJq5j7C0Itu"
   },
   "source": [
    "#### Eliminate Outliers"
   ]
  },
  {
   "cell_type": "markdown",
   "metadata": {
    "id": "2znDiCfe0OFy"
   },
   "source": [
    "**Analysis on Product Category 1**"
   ]
  },
  {
   "cell_type": "code",
   "execution_count": 33,
   "metadata": {
    "colab": {
     "base_uri": "https://localhost:8080/",
     "height": 568
    },
    "id": "pXqzOmqQvSut",
    "outputId": "f0210a03-0c82-4e5d-ec63-2f0b273dce63"
   },
   "outputs": [
    {
     "data": {
      "image/png": "[encoded data removed]",
      "text/plain": [
       "<Figure size 1008x576 with 1 Axes>"
      ]
     },
     "metadata": {},
     "output_type": "display_data"
    }
   ],
   "source": [
    "plt.figure(figsize=(14,8))\n",
    "sns.barplot(data=product_df, x=\"Product_Category_1\", y=\"Purchase\", palette='Paired')\n",
    "plt.xlabel(\"Category\")\n",
    "plt.title(\"Amount of Price of Product according Product Category 1\")\n",
    "plt.show()"
   ]
  },
  {
   "cell_type": "code",
   "execution_count": 34,
   "metadata": {
    "colab": {
     "base_uri": "https://localhost:8080/",
     "height": 550
    },
    "id": "Fk2yfKaKphQt",
    "outputId": "1bd2bc6a-1f96-41f5-e4d1-9f48144c9ff4"
   },
   "outputs": [
    {
     "data": {
      "image/png": "[encoded data removed]",
      "text/plain": [
       "<Figure size 1008x576 with 1 Axes>"
      ]
     },
     "metadata": {},
     "output_type": "display_data"
    }
   ],
   "source": [
    "plt.figure(figsize=(14, 8))\n",
    "sns.boxplot(x='Product_Category_1', y=\"Purchase\", data=product_df)\n",
    "plt.xlabel(\"Category Product 1\")\n",
    "plt.show()"
   ]
  },
  {
   "cell_type": "code",
   "execution_count": 35,
   "metadata": {
    "colab": {
     "base_uri": "https://localhost:8080/"
    },
    "id": "jK5lDljyUiof",
    "outputId": "aee71707-0461-4484-938c-37184e07064e"
   },
   "outputs": [
    {
     "name": "stdout",
     "output_type": "stream",
     "text": [
      "Number of category product 1: 140378\n",
      "Number of category product 1 eliminated 9018\n",
      "Number of category product 2: 23864\n",
      "Number of category product 2 eliminated 1533\n",
      "Number of category product 3: 20213\n",
      "Number of category product 3 eliminated 0\n",
      "Number of category product 4: 11753\n",
      "Number of category product 4 eliminated 1143\n",
      "Number of category product 5: 150933\n",
      "Number of category product 5 eliminated 8757\n",
      "Number of category product 6: 20466\n",
      "Number of category product 6 eliminated 0\n",
      "Number of category product 7: 3721\n",
      "Number of category product 7 eliminated 0\n",
      "Number of category product 8: 113925\n",
      "Number of category product 8 eliminated 0\n",
      "Number of category product 9: 410\n",
      "Number of category product 9 eliminated 31\n",
      "Number of category product 10: 5125\n",
      "Number of category product 10 eliminated 278\n",
      "Number of category product 11: 24287\n",
      "Number of category product 11 eliminated 0\n",
      "Number of category product 12: 3947\n",
      "Number of category product 12 eliminated 0\n",
      "Number of category product 13: 5549\n",
      "Number of category product 13 eliminated 0\n",
      "Number of category product 14: 1523\n",
      "Number of category product 14 eliminated 85\n",
      "Number of category product 15: 6290\n",
      "Number of category product 15 eliminated 0\n",
      "Number of category product 16: 9828\n",
      "Number of category product 16 eliminated 491\n",
      "Number of category product 17: 578\n",
      "Number of category product 17 eliminated 0\n",
      "Number of category product 18: 3125\n",
      "Number of category product 18 eliminated 0\n",
      "Number of category product 19: 1603\n",
      "Number of category product 19 eliminated 0\n",
      "Number of category product 20: 2550\n",
      "Number of category product 20 eliminated 0\n"
     ]
    }
   ],
   "source": [
    "rm_outlier_product_df = product_df.copy()\n",
    "cate_1 = sorted(product_df.Product_Category_1.unique())\n",
    "tot =  0\n",
    "for i in cate_1:\n",
    "    p_df = product_df[(product_df.Product_Category_1 == i)]\n",
    "    print(f\"Number of category product {i}:\", p_df.shape[0])\n",
    "\n",
    "    mini = p_df.Purchase.quantile(0.25) - 1.5 * (p_df.Purchase.quantile(0.75) - p_df.Purchase.quantile(0.25))\n",
    "    maxi = p_df.Purchase.quantile(0.75) + 1.5 * (p_df.Purchase.quantile(0.75) - p_df.Purchase.quantile(0.25))\n",
    "    p_df = p_df[(p_df.Purchase > maxi) | (p_df.Purchase < mini)]\n",
    "\n",
    "    tot += p_df.shape[0]\n",
    "    print(f\"Number of category product {i} eliminated\", p_df.shape[0])\n",
    "    \n",
    "    rm_outlier_product_df = pd.concat([rm_outlier_product_df, p_df]).drop_duplicates(keep=False)"
   ]
  },
  {
   "cell_type": "code",
   "execution_count": 36,
   "metadata": {
    "colab": {
     "base_uri": "https://localhost:8080/"
    },
    "id": "p_HjfVwdYzco",
    "outputId": "7f13a605-5bad-44f2-bc24-ed4839737ddd"
   },
   "outputs": [
    {
     "name": "stdout",
     "output_type": "stream",
     "text": [
      "Total number of rows in product table: 550068\n",
      "Total number of rows have been eliminated: 21336\n",
      "Percentage of number of rows have been eliminated: 3.88%\n"
     ]
    }
   ],
   "source": [
    "print(f\"Total number of rows in product table: {product_df.shape[0]}\")\n",
    "print(f\"Total number of rows have been eliminated: {tot}\")\n",
    "print(f\"Percentage of number of rows have been eliminated: {round(100 * tot/product_df.shape[0], 2)}%\")"
   ]
  },
  {
   "cell_type": "code",
   "execution_count": 37,
   "metadata": {
    "colab": {
     "base_uri": "https://localhost:8080/",
     "height": 550
    },
    "id": "b8GQcDfl5Xyc",
    "outputId": "e6100d3b-4a81-4fca-de52-8ccd573ba2ac"
   },
   "outputs": [
    {
     "data": {
      "image/png": "[encoded data removed]",
      "text/plain": [
       "<Figure size 1008x576 with 1 Axes>"
      ]
     },
     "metadata": {},
     "output_type": "display_data"
    }
   ],
   "source": [
    "plt.figure(figsize=(14, 8))\n",
    "sns.boxplot(x='Product_Category_1', y=\"Purchase\", data=rm_outlier_product_df)\n",
    "plt.xlabel(\"Category Product 1\")\n",
    "plt.show()"
   ]
  },
  {
   "cell_type": "code",
   "execution_count": 38,
   "metadata": {
    "id": "UJ5odTzY8Vy0"
   },
   "outputs": [],
   "source": [
    "def q50(x):\n",
    "    return x.quantile(0.5)"
   ]
  },
  {
   "cell_type": "code",
   "execution_count": 39,
   "metadata": {
    "colab": {
     "base_uri": "https://localhost:8080/"
    },
    "id": "eqazIRoIy2AH",
    "outputId": "3d1f54dc-f006-4a2a-d6c6-5ae4be097d37"
   },
   "outputs": [
    {
     "name": "stdout",
     "output_type": "stream",
     "text": [
      "ordered list of category according Mode Purchase amount: [19, 20, 13, 12, 4, 18, 11, 5, 8, 17, 3, 2, 9, 14, 1, 16, 6, 15, 7, 10]\n",
      "ordered list of category according Mean Purchase amount: [7.0, 12.0, 14.0, 9.0, 11.0, 5.0, 18.0, 17.0, 13.0, 4.0, 8.0, 16.0, 15.0, 3.0, 6.0, 2.0, 10.0]\n",
      "ordered list of category according Mean Purchase amount: [12.0, 4.0, 14.0, 9.0, 18.0, 17.0, 16.0, 11.0, 5.0, 15.0, 8.0, 13.0, 6.0, 10.0, 3.0]\n"
     ]
    }
   ],
   "source": [
    "ord_1_cate_1 = product_df.groupby(by=\"Product_Category_1\").agg({'Purchase':q50}).sort_values(by='Purchase').index\n",
    "ord_2_cate_1 = product_df.groupby(by=\"Product_Category_1\").agg({'Purchase':'mean'}).sort_values(by='Purchase').index\n",
    "ord_cate_2 = product_df.groupby(by=\"Product_Category_2\").agg({'Purchase':'mean'}).sort_values(by='Purchase').index \n",
    "ord_cate_3 = product_df.groupby(by=\"Product_Category_3\").agg({'Purchase':'mean'}).sort_values(by='Purchase').index\n",
    "print(\"ordered list of category according Mode Purchase amount:\", list(ord_1_cate_1))\n",
    "print(\"ordered list of category according Mean Purchase amount:\", list(ord_cate_2))\n",
    "print(\"ordered list of category according Mean Purchase amount:\", list(ord_cate_3))\n"
   ]
  },
  {
   "cell_type": "markdown",
   "metadata": {
    "id": "ZvKfG_d0cgFV"
   },
   "source": [
    "### 2.4 Product ID "
   ]
  },
  {
   "cell_type": "code",
   "execution_count": 40,
   "metadata": {
    "id": "zofQQdZrphV7"
   },
   "outputs": [],
   "source": [
    "### HANDLE NEW PRODUCT \n",
    "\n",
    "def handle_new_product(new_products: list,train_df: pd.DataFrame):\n",
    "    '''\n",
    "    new_products: new product which has new Product_ID that have not appeared in train_df dataframe.\n",
    "    train_df: dataframe which already encodes known Product_ID from categorical datatype to integer (or number).\n",
    "\n",
    "    '''\n",
    "    transform_dict = dict()\n",
    "    df = train_df.copy()\n",
    "\n",
    "    df = df[~df.Product_ID.isin(new_products)]\n",
    "    similar = df.copy()\n",
    "    for product in new_products: \n",
    "        c1, c2, c3 = list(df[df.Product_ID == product].iloc[0, [8,9,10]])\n",
    "        if math.isnan(c1):\n",
    "            print('Empty information product')\n",
    "        # if not math.isnan(c1):\n",
    "        similar = df[df.Product_Category_1 == c1]\n",
    "        if not math.isnan(c2):\n",
    "            similar = similar[similar.Prodcut_Category_2 == c2]\n",
    "        if not math.isnan(c3):\n",
    "            similar = similar[similar.Prodcut_Category_3 == c3]\n",
    "        if similar.shape[0] != 0:\n",
    "            label = math.average(list(similar.Product_ID.unique()))\n",
    "            transform_dict[product] = round()\n",
    "    train_df['Product_ID'].replace(transform_dict, inplace=True)"
   ]
  },
  {
   "cell_type": "code",
   "execution_count": 41,
   "metadata": {
    "colab": {
     "base_uri": "https://localhost:8080/",
     "height": 206
    },
    "id": "MbRhwSD_8lPf",
    "outputId": "55b92bc3-29d1-4fa3-d7cc-27a1307d2323"
   },
   "outputs": [
    {
     "data": {
      "text/html": [
       "<div>\n",
       "<style scoped>\n",
       "    .dataframe tbody tr th:only-of-type {\n",
       "        vertical-align: middle;\n",
       "    }\n",
       "\n",
       "    .dataframe tbody tr th {\n",
       "        vertical-align: top;\n",
       "    }\n",
       "\n",
       "    .dataframe thead th {\n",
       "        text-align: right;\n",
       "    }\n",
       "</style>\n",
       "<table border=\"1\" class=\"dataframe\">\n",
       "  <thead>\n",
       "    <tr style=\"text-align: right;\">\n",
       "      <th></th>\n",
       "      <th>User_ID</th>\n",
       "      <th>Product_ID</th>\n",
       "      <th>Gender</th>\n",
       "      <th>Age</th>\n",
       "      <th>Occupation</th>\n",
       "      <th>City_Category</th>\n",
       "      <th>Years_in_city</th>\n",
       "      <th>Marital_Status</th>\n",
       "      <th>Product_Category_1</th>\n",
       "      <th>Product_Category_2</th>\n",
       "      <th>Product_Category_3</th>\n",
       "      <th>Purchase</th>\n",
       "    </tr>\n",
       "  </thead>\n",
       "  <tbody>\n",
       "    <tr>\n",
       "      <th>0</th>\n",
       "      <td>1000001</td>\n",
       "      <td>P00069042</td>\n",
       "      <td>F</td>\n",
       "      <td>0-17</td>\n",
       "      <td>10</td>\n",
       "      <td>A</td>\n",
       "      <td>2</td>\n",
       "      <td>0</td>\n",
       "      <td>3</td>\n",
       "      <td>NaN</td>\n",
       "      <td>NaN</td>\n",
       "      <td>8370</td>\n",
       "    </tr>\n",
       "    <tr>\n",
       "      <th>1</th>\n",
       "      <td>1000001</td>\n",
       "      <td>P00248942</td>\n",
       "      <td>F</td>\n",
       "      <td>0-17</td>\n",
       "      <td>10</td>\n",
       "      <td>A</td>\n",
       "      <td>2</td>\n",
       "      <td>0</td>\n",
       "      <td>1</td>\n",
       "      <td>6.0</td>\n",
       "      <td>14.0</td>\n",
       "      <td>15200</td>\n",
       "    </tr>\n",
       "    <tr>\n",
       "      <th>2</th>\n",
       "      <td>1000001</td>\n",
       "      <td>P00087842</td>\n",
       "      <td>F</td>\n",
       "      <td>0-17</td>\n",
       "      <td>10</td>\n",
       "      <td>A</td>\n",
       "      <td>2</td>\n",
       "      <td>0</td>\n",
       "      <td>12</td>\n",
       "      <td>NaN</td>\n",
       "      <td>NaN</td>\n",
       "      <td>1422</td>\n",
       "    </tr>\n",
       "    <tr>\n",
       "      <th>3</th>\n",
       "      <td>1000001</td>\n",
       "      <td>P00085442</td>\n",
       "      <td>F</td>\n",
       "      <td>0-17</td>\n",
       "      <td>10</td>\n",
       "      <td>A</td>\n",
       "      <td>2</td>\n",
       "      <td>0</td>\n",
       "      <td>12</td>\n",
       "      <td>14.0</td>\n",
       "      <td>NaN</td>\n",
       "      <td>1057</td>\n",
       "    </tr>\n",
       "    <tr>\n",
       "      <th>4</th>\n",
       "      <td>1000002</td>\n",
       "      <td>P00285442</td>\n",
       "      <td>M</td>\n",
       "      <td>55+</td>\n",
       "      <td>16</td>\n",
       "      <td>C</td>\n",
       "      <td>4+</td>\n",
       "      <td>0</td>\n",
       "      <td>8</td>\n",
       "      <td>NaN</td>\n",
       "      <td>NaN</td>\n",
       "      <td>7969</td>\n",
       "    </tr>\n",
       "  </tbody>\n",
       "</table>\n",
       "</div>"
      ],
      "text/plain": [
       "   User_ID Product_ID Gender   Age  Occupation City_Category Years_in_city  \\\n",
       "0  1000001  P00069042      F  0-17          10             A             2   \n",
       "1  1000001  P00248942      F  0-17          10             A             2   \n",
       "2  1000001  P00087842      F  0-17          10             A             2   \n",
       "3  1000001  P00085442      F  0-17          10             A             2   \n",
       "4  1000002  P00285442      M   55+          16             C            4+   \n",
       "\n",
       "   Marital_Status  Product_Category_1  Product_Category_2  Product_Category_3  \\\n",
       "0               0                   3                 NaN                 NaN   \n",
       "1               0                   1                 6.0                14.0   \n",
       "2               0                  12                 NaN                 NaN   \n",
       "3               0                  12                14.0                 NaN   \n",
       "4               0                   8                 NaN                 NaN   \n",
       "\n",
       "   Purchase  \n",
       "0      8370  \n",
       "1     15200  \n",
       "2      1422  \n",
       "3      1057  \n",
       "4      7969  "
      ]
     },
     "execution_count": 41,
     "metadata": {},
     "output_type": "execute_result"
    }
   ],
   "source": [
    "product_df.head()"
   ]
  },
  {
   "cell_type": "code",
   "execution_count": 42,
   "metadata": {
    "colab": {
     "base_uri": "https://localhost:8080/"
    },
    "id": "5GIssL0G8xcS",
    "outputId": "48500392-201c-417a-da04-832ee4b671d6",
    "scrolled": true
   },
   "outputs": [
    {
     "name": "stdout",
     "output_type": "stream",
     "text": [
      "ordered list of Product_ID according amount of Purchase on average: ['P00370293', 'P00370853', 'P00371644', 'P00375436', 'P00372445', 'P00091742', 'P00041442', 'P00293442', 'P00063242', 'P00273842', 'P00203742', 'P00069842', 'P00207842', 'P00132042', 'P00321442', 'P00135542', 'P00066742', 'P00135142', 'P00200742', 'P00025142', 'P00171342', 'P00032642', 'P00212042', 'P00173042', 'P00114242', 'P00102142', 'P00200442', 'P00137142', 'P00238742', 'P00309042', 'P00283142', 'P00227542', 'P00149342', 'P00087142', 'P00202542', 'P00084642', 'P00101542', 'P00089042', 'P00084342', 'P00084442', 'P00112342', 'P00337142', 'P00101642', 'P00336342', 'P00174742', 'P00076542', 'P00101742', 'P00175342', 'P00357742', 'P00087842', 'P00090342', 'P00332842', 'P00273442', 'P00177242', 'P00336542', 'P00331642', 'P00343442', 'P00084042', 'P00276142', 'P00331242', 'P00156542', 'P00236942', 'P0097142', 'P00085842', 'P00272742', 'P00336742', 'P00197242', 'P00176842', 'P00085442', 'P00083942', 'P00036542', 'P00164742', 'P00185642', 'P00353042', 'P00033442', 'P00341042', 'P00008642', 'P00187342', 'P00262442', 'P00136342', 'P00268042', 'P00281442', 'P00325342', 'P00034642', 'P00281342', 'P00274642', 'P00146242', 'P00012942', 'P0094142', 'P00287042', 'P00104042', 'P00185242', 'P00135242', 'P00333842', 'P00357542', 'P00186242', 'P00082742', 'P00121842', 'P00317742', 'P00156242', 'P00005342', 'P00063442', 'P00183742', 'P00290842', 'P00365442', 'P00082442', 'P00132342', 'P00024442', 'P00054642', 'P00107442', 'P00145342', 'P00300742', 'P00069742', 'P00220842', 'P00203242', 'P00191142', 'P00013842', 'P00185842', 'P00056242', 'P00190242', 'P00040342', 'P00055642', 'P00107842', 'P00191542', 'P00172642', 'P00185142', 'P00187242', 'P00185542', 'P00077542', 'P00316942', 'P00075642', 'P00012342', 'P0095742', 'P00127042', 'P00338242', 'P00186042', 'P00065942', 'P0094342', 'P00145842', 'P00142442', 'P00183842', 'P00107942', 'P00023542', 'P00365942', 'P00299042', 'P00122742', 'P00183542', 'P00294242', 'P00250542', 'P00281242', 'P00156842', 'P00190442', 'P00169842', 'P00090742', 'P00106342', 'P00057342', 'P00298342', 'P0094642', 'P00191842', 'P00083542', 'P00059342', 'P00030942', 'P00187942', 'P00013442', 'P00174042', 'P00020542', 'P00333742', 'P00219242', 'P00264042', 'P0095242', 'P0095042', 'P00340242', 'P00183642', 'P00164042', 'P0095442', 'P00122942', 'P00356442', 'P00316842', 'P00078642', 'P00269042', 'P0094942', 'P00181042', 'P00342442', 'P00181142', 'P00037442', 'P00342342', 'P00190342', 'P00191742', 'P00355042', 'P00368742', 'P00196042', 'P00123242', 'P00340442', 'P00071842', 'P00053842', 'P00290442', 'P00151842', 'P00174942', 'P00090442', 'P00369642', 'P00316742', 'P00051842', 'P0094842', 'P00189942', 'P00085742', 'P00308642', 'P00226042', 'P0094442', 'P00186742', 'P00333642', 'P0096442', 'P00301342', 'P00003442', 'P00227042', 'P00369442', 'P00325542', 'P00316642', 'P00245442', 'P00025642', 'P00324042', 'P00181942', 'P00282942', 'P00219142', 'P00102642', 'P00342242', 'P00345342', 'P00232142', 'P00021542', 'P00168342', 'P00344142', 'P00220942', 'P00122842', 'P00283042', 'P00271542', 'P00232242', 'P00122642', 'P00181742', 'P00286042', 'P00276442', 'P00079542', 'P00068442', 'P00345442', 'P00169942', 'P00259542', 'P00271442', 'P00344042', 'P00342542', 'P00180242', 'P00257942', 'P00167442', 'P00352042', 'P00054042', 'P00227342', 'P00341142', 'P00123042', 'P00179342', 'P00181442', 'P00235142', 'P00368542', 'P00103442', 'P00112042', 'P00369342', 'P00179942', 'P00180942', 'P00313742', 'P00327642', 'P00282842', 'P00353542', 'P00180742', 'P00179742', 'P00232042', 'P0096242', 'P00117542', 'P00323142', 'P00155542', 'P00180542', 'P00264842', 'P00369542', 'P00119242', 'P00058642', 'P00274742', 'P00219042', 'P00342142', 'P00124042', 'P00179442', 'P00238042', 'P00007442', 'P00160542', 'P00269742', 'P00369242', 'P00277142', 'P00181342', 'P00366242', 'P00147242', 'P00325642', 'P00206742', 'P00236042', 'P00255042', 'P00010042', 'P00226942', 'P00179842', 'P00353242', 'P00108142', 'P00234242', 'P00316242', 'P00266242', 'P00143442', 'P00180142', 'P00214642', 'P00226442', 'P00259442', 'P00348142', 'P00218942', 'P00038742', 'P00346842', 'P00344942', 'P00083242', 'P00059242', 'P00149142', 'P00128342', 'P00193342', 'P00154342', 'P00179642', 'P00158442', 'P00225642', 'P00045742', 'P00179042', 'P00309642', 'P00267242', 'P00103542', 'P00180042', 'P00070142', 'P00205542', 'P00137742', 'P00071142', 'P00179242', 'P00149742', 'P00281842', 'P00006442', 'P00243042', 'P00344842', 'P00171242', 'P00235342', 'P00312042', 'P00042442', 'P00212442', 'P00367342', 'P00151942', 'P00193942', 'P00024942', 'P00194242', 'P00251542', 'P00181642', 'P00269642', 'P00081242', 'P00219442', 'P00342042', 'P00250942', 'P00078342', 'P00218842', 'P00091542', 'P00278442', 'P00180642', 'P00185942', 'P00180842', 'P00032342', 'P00078242', 'P00358342', 'P00226842', 'P00072542', 'P00281142', 'P00133542', 'P00316142', 'P00243542', 'P00325842', 'P00246742', 'P00283542', 'P00308842', 'P00203642', 'P00022842', 'P00270742', 'P00046042', 'P00359642', 'P00306142', 'P00134042', 'P00150842', 'P00220042', 'P00208642', 'P00009142', 'P00160242', 'P00230542', 'P00053242', 'P00345142', 'P00062342', 'P00296442', 'P00017242', 'P00164242', 'P00280542', 'P00196942', 'P00208842', 'P00023742', 'P00251142', 'P00161142', 'P00142542', 'P00307442', 'P00092042', 'P00235742', 'P00040642', 'P00264942', 'P00366642', 'P00069642', 'P00204442', 'P00358942', 'P00278142', 'P00051342', 'P00229442', 'P00367742', 'P00070642', 'P00269442', 'P00359542', 'P00204542', 'P00206542', 'P00205342', 'P00270142', 'P00179142', 'P00006342', 'P00068142', 'P00215142', 'P00077242', 'P00245542', 'P00081542', 'P00138842', 'P00168442', 'P00305042', 'P00017442', 'P00066342', 'P00301642', 'P00359942', 'P00247842', 'P00236242', 'P00070842', 'P00284542', 'P00244942', 'P00067442', 'P00245242', 'P00066142', 'P00367242', 'P00168942', 'P00359442', 'P00134842', 'P00184742', 'P00351542', 'P00049942', 'P00065142', 'P00228142', 'P00243642', 'P00016142', 'P00055142', 'P00018842', 'P00143942', 'P00316342', 'P00174542', 'P00057842', 'P00261042', 'P00311742', 'P00079142', 'P00167642', 'P00314742', 'P00166142', 'P00201142', 'P00218742', 'P00143242', 'P00019142', 'P00223642', 'P00181242', 'P00192742', 'P00167342', 'P00149942', 'P00082242', 'P00210542', 'P00039842', 'P00244542', 'P00269242', 'P00335842', 'P00182042', 'P00014742', 'P00301442', 'P00059842', 'P00022242', 'P00194142', 'P00225942', 'P00077842', 'P00030442', 'P00124442', 'P00180442', 'P00335742', 'P00291542', 'P00213542', 'P00001242', 'P00342842', 'P00184842', 'P00105042', 'P00035742', 'P00047442', 'P00077042', 'P00310042', 'P00041642', 'P00026842', 'P00043142', 'P00020742', 'P00001942', 'P00226642', 'P00340842', 'P00123342', 'P00016942', 'P00364742', 'P00337742', 'P00249242', 'P00123642', 'P00294742', 'P00363942', 'P00102742', 'P00140642', 'P00358542', 'P00311442', 'P00046342', 'P00295142', 'P00279342', 'P00124542', 'P00239942', 'P00258242', 'P00029742', 'P00162542', 'P00198442', 'P00280942', 'P00211542', 'P00358142', 'P00253642', 'P00043442', 'P00213642', 'P00302042', 'P00267842', 'P00137942', 'P00212642', 'P00039442', 'P00340642', 'P00040042', 'P00049742', 'P00258342', 'P00050542', 'P00231542', 'P00105242', 'P00028742', 'P00076742', 'P00346742', 'P00070742', 'P00040242', 'P00046542', 'P00047642', 'P00245142', 'P00355742', 'P00031642', 'P00123142', 'P00125842', 'P00003842', 'P00232942', 'P00134542', 'P00264742', 'P00135842', 'P00341942', 'P00258142', 'P00041942', 'P00134742', 'P00296142', 'P00302542', 'P00219342', 'P00367642', 'P00218542', 'P00044742', 'P00315542', 'P00334942', 'P00168542', 'P00060942', 'P00369842', 'P00063542', 'P00166042', 'P00179542', 'P00363042', 'P00368942', 'P00311842', 'P00049242', 'P00231942', 'P00230742', 'P00250642', 'P00228742', 'P00345542', 'P00276942', 'P00359342', 'P00140342', 'P00315742', 'P00027942', 'P00150442', 'P00258642', 'P00186442', 'P00061842', 'P00023842', 'P00142742', 'P00232342', 'P00280042', 'P00243742', 'P00048642', 'P00198342', 'P00309742', 'P00221642', 'P00157142', 'P00042242', 'P00149042', 'P00327942', 'P00225742', 'P00239242', 'P00018342', 'P00060442', 'P00243442', 'P00328842', 'P00360342', 'P00240542', 'P00041342', 'P00031942', 'P00026942', 'P00182842', 'P00237842', 'P00242842', 'P00239042', 'P00123542', 'P00338742', 'P00040142', 'P00260542', 'P00268142', 'P00138042', 'P00092242', 'P00235942', 'P00123842', 'P00245042', 'P00260242', 'P00367142', 'P00258542', 'P00349142', 'P00270042', 'P00062042', 'P00182542', 'P00226742', 'P00025042', 'P00152942', 'P00350242', 'P00020442', 'P00310642', 'P00032142', 'P00258942', 'P00367542', 'P00068942', 'P00042042', 'P00072842', 'P00242242', 'P00201942', 'P00132742', 'P00209542', 'P00015242', 'P00047342', 'P00043242', 'P00051542', 'P00265842', 'P00000442', 'P00206642', 'P00366342', 'P00159342', 'P00280442', 'P00229842', 'P00236342', 'P00074242', 'P00326842', 'P00141742', 'P00135342', 'P00198942', 'P00280142', 'P00363842', 'P00303542', 'P00347442', 'P00316442', 'P00105442', 'P00207542', 'P00027242', 'P00300642', 'P00013142', 'P00268842', 'P00055242', 'P00357842', 'P00269542', 'P00041142', 'P00009042', 'P00078942', 'P00315842', 'P00276842', 'P00205242', 'P00170742', 'P00069342', 'P00275142', 'P00232542', 'P00353142', 'P00243342', 'P00052942', 'P00060542', 'P00026142', 'P00254742', 'P00018142', 'P00124942', 'P00268242', 'P00133242', 'P00293142', 'P00036142', 'P00161742', 'P00258042', 'P00075142', 'P00345242', 'P00146342', 'P00229942', 'P00027042', 'P00102042', 'P00019042', 'P00365542', 'P00067742', 'P00356242', 'P00018642', 'P00103842', 'P00305342', 'P00244642', 'P00368442', 'P00262142', 'P00050342', 'P00344742', 'P00309942', 'P00228042', 'P00232842', 'P00124242', 'P00011842', 'P00235842', 'P00037742', 'P00196742', 'P00214742', 'P00219542', 'P00006242', 'P00125242', 'P00066942', 'P00011542', 'P00145142', 'P00250142', 'P00067042', 'P00362942', 'P00320642', 'P00358842', 'P00076242', 'P00133642', 'P00082942', 'P00021242', 'P00171742', 'P00207042', 'P00077142', 'P00301242', 'P00345042', 'P00365642', 'P00294142', 'P00024242', 'P00151042', 'P00226242', 'P00087942', 'P00222542', 'P00073442', 'P00077942', 'P00312442', 'P00310142', 'P00257842', 'P00045942', 'P00244842', 'P00259042', 'P00188342', 'P00284142', 'P00205742', 'P00187542', 'P00175142', 'P00139742', 'P00322242', 'P00050742', 'P00264342', 'P00363142', 'P00189242', 'P00223442', 'P00218242', 'P00339642', 'P00325042', 'P00207742', 'P00348042', 'P00226342', 'P00260142', 'P00059042', 'P00238842', 'P00232742', 'P00280642', 'P00057242', 'P00218342', 'P00029642', 'P00215842', 'P00123442', 'P00331742', 'P00160742', 'P00056342', 'P00336142', 'P00251342', 'P00041742', 'P00316542', 'P00125042', 'P00153242', 'P00306542', 'P00335142', 'P00108042', 'P00214342', 'P00303142', 'P00231142', 'P00060042', 'P00082542', 'P00063642', 'P00023142', 'P00217742', 'P00338142', 'P00244442', 'P00196842', 'P00075942', 'P00164342', 'P00039742', 'P00170942', 'P00286642', 'P00188042', 'P00258842', 'P00262542', 'P00239142', 'P00165042', 'P00257742', 'P00008742', 'P00280242', 'P00050042', 'P00053742', 'P00235542', 'P00216442', 'P00255142', 'P00149242', 'P00143542', 'P00012542', 'P00338842', 'P00011642', 'P00203942', 'P00364042', 'P00173242', 'P00360442', 'P00351642', 'P00028642', 'P00028942', 'P00157942', 'P00130842', 'P00135442', 'P00332642', 'P00218042', 'P00351042', 'P00144142', 'P00154142', 'P00339142', 'P00257342', 'P00331142', 'P00334142', 'P00000342', 'P00322742', 'P00225542', 'P00042342', 'P00073742', 'P00213342', 'P00276742', 'P00256842', 'P00266342', 'P00141142', 'P00074642', 'P00036942', 'P00150642', 'P00167542', 'P00324542', 'P00081342', 'P00326542', 'P00011442', 'P00254842', 'P00071342', 'P00143042', 'P00306342', 'P00201542', 'P00354342', 'P00130642', 'P00265642', 'P00239442', 'P00124842', 'P00247342', 'P00290542', 'P00324442', 'P00108742', 'P00325942', 'P00256342', 'P00156342', 'P00259242', 'P00206342', 'P00197142', 'P00229342', 'P00218642', 'P00301742', 'P00103942', 'P00358242', 'P00283242', 'P00021342', 'P00000542', 'P00283742', 'P00139542', 'P00248242', 'P00243242', 'P00291642', 'P00228642', 'P00062442', 'P00334342', 'P00134942', 'P00362442', 'P00367842', 'P00137042', 'P00090842', 'P00316042', 'P00231442', 'P00033542', 'P00209942', 'P00290142', 'P00149642', 'P00360242', 'P00141842', 'P00008342', 'P00200842', 'P00159942', 'P00164642', 'P00330242', 'P00222642', 'P00302442', 'P00265942', 'P00052442', 'P00130942', 'P00304142', 'P00032742', 'P00322342', 'P00193842', 'P00216942', 'P00320542', 'P00275242', 'P00205842', 'P00007842', 'P00062142', 'P00051942', 'P00270442', 'P00252042', 'P00347842', 'P00256942', 'P00354242', 'P00222442', 'P00122542', 'P00131642', 'P00019842', 'P00299942', 'P00199742', 'P00155342', 'P00021142', 'P00240342', 'P00240042', 'P00249142', 'P00304042', 'P00036342', 'P00213942', 'P00141642', 'P00181542', 'P00238542', 'P0099942', 'P00321542', 'P00125342', 'P00206042', 'P00347142', 'P00208042', 'P00005842', 'P00079042', 'P00290942', 'P00271642', 'P00133942', 'P00019642', 'P00237142', 'P00157442', 'P00225342', 'P0097942', 'P00197442', 'P00164442', 'P00329342', 'P00193042', 'P00014342', 'P00080042', 'P00036242', 'P00329942', 'P00266742', 'P00148242', 'P00194442', 'P00323342', 'P00125642', 'P00129242', 'P00361342', 'P00166342', 'P00124142', 'P00193142', 'P00158942', 'P00361642', 'P00251442', 'P00368642', 'P00132242', 'P00362042', 'P00022542', 'P00334542', 'P00156742', 'P00061242', 'P00195642', 'P00043742', 'P00107742', 'P00180342', 'P00044042', 'P00207342', 'P00326342', 'P00105942', 'P00256642', 'P0095642', 'P00338042', 'P00257642', 'P00223942', 'P00317342', 'P00328642', 'P00129742', 'P00265442', 'P00279242', 'P00011142', 'P00332942', 'P00051242', 'P00354442', 'P00267642', 'P00337542', 'P00308342', 'P00066442', 'P00034342', 'P00183342', 'P00045542', 'P00171642', 'P00018242', 'P00134642', 'P00263142', 'P00206842', 'P00201042', 'P00288442', 'P00254342', 'P00213442', 'P00369942', 'P00222142', 'P00330342', 'P00265542', 'P00147842', 'P00358642', 'P00166842', 'P00122342', 'P00092542', 'P00362142', 'P00369742', 'P00298042', 'P00363742', 'P00182442', 'P00005442', 'P00328342', 'P00303942', 'P00186942', 'P00283842', 'P00245842', 'P00283642', 'P00271942', 'P00116442', 'P00123742', 'P00326742', 'P00045442', 'P00235042', 'P00048342', 'P00164842', 'P00314542', 'P00023042', 'P0093942', 'P00227742', 'P00145542', 'P00209242', 'P00035842', 'P00091042', 'P00327742', 'P00245342', 'P00024642', 'P00071642', 'P00282042', 'P00012742', 'P00142642', 'P00124342', 'P00319742', 'P00148342', 'P00245642', 'P00256442', 'P00194042', 'P00051742', 'P00136942', 'P00224342', 'P00137442', 'P00222342', 'P00037342', 'P00256742', 'P00048542', 'P00337842', 'P00138142', 'P00165242', 'P00333942', 'P00133842', 'P00183242', 'P00172442', 'P00307742', 'P00244742', 'P00147042', 'P00110642', 'P00327442', 'P00332042', 'P00040542', 'P00255542', 'P00195442', 'P00198042', 'P00321842', 'P00045642', 'P00353642', 'P00064542', 'P00242142', 'P00089842', 'P00333342', 'P00355242', 'P00026742', 'P00267142', 'P00075442', 'P00006042', 'P00196542', 'P00237642', 'P00170542', 'P00115042', 'P00092642', 'P00144942', 'P00336442', 'P00246342', 'P00238142', 'P00126642', 'P00319142', 'P00241842', 'P00021842', 'P00198842', 'P00254242', 'P00311042', 'P00352342', 'P00167142', 'P00335242', 'P00355842', 'P00229042', 'P00282742', 'P00006642', 'P00204042', 'P00067142', 'P00229142', 'P00262742', 'P00181842', 'P00337942', 'P00043642', 'P00055942', 'P00230642', 'P00169342', 'P00234542', 'P00361742', 'P00266842', 'P00167842', 'P00212542', 'P00319242', 'P00053042', 'P00172742', 'P00002742', 'P00299742', 'P00223242', 'P00128542', 'P00104442', 'P00292942', 'P00056142', 'P00197542', 'P00276542', 'P00356742', 'P00132542', 'P00207242', 'P00039642', 'P00151542', 'P00227142', 'P00019742', 'P00144242', 'P00309542', 'P00330042', 'P00307642', 'P00249842', 'P00306942', 'P00230342', 'P00063742', 'P00171142', 'P00064342', 'P00321942', 'P00011042', 'P00276642', 'P00067942', 'P00269142', 'P00268542', 'P00013942', 'P00336942', 'P00121942', 'P00235242', 'P00231342', 'P00224942', 'P00064242', 'P00250742', 'P00074842', 'P00000742', 'P00248842', 'P00244342', 'P00075242', 'P00329042', 'P00069442', 'P00248142', 'P00299342', 'P00253442', 'P00156142', 'P00346642', 'P00126942', 'P00192042', 'P00170442', 'P00040442', 'P00137342', 'P00268342', 'P00266142', 'P00194842', 'P00205642', 'P00034242', 'P00212342', 'P00212842', 'P00136542', 'P00073542', 'P00354942', 'P00261442', 'P00032442', 'P00360942', 'P00255642', 'P00151242', 'P00312542', 'P00305942', 'P00284042', 'P00232442', 'P00351842', 'P00074342', 'P00314942', 'P00314842', 'P00162642', 'P00080542', 'P0094242', 'P00267742', 'P00048742', 'P00330542', 'P00368242', 'P00028142', 'P00305742', 'P00278842', 'P00333042', 'P00295842', 'P00217042', 'P00159442', 'P0097642', 'P0097842', 'P00133742', 'P00069242', 'P00073042', 'P00366042', 'P00253242', 'P00003142', 'P00081642', 'P00292642', 'P00148142', 'P00035642', 'P00004542', 'P00175442', 'P00007342', 'P00329242', 'P00322542', 'P00270642', 'P00172342', 'P00083042', 'P00020242', 'P00328242', 'P00199242', 'P00189342', 'P00061342', 'P00201242', 'P00185042', 'P00206142', 'P00283342', 'P00247442', 'P00080842', 'P00057442', 'P00033042', 'P00303842', 'P00232642', 'P00072742', 'P00137242', 'P00312242', 'P00243842', 'P00287242', 'P00255442', 'P00116742', 'P00273542', 'P00329642', 'P00250042', 'P00141942', 'P00289142', 'P00052342', 'P00357042', 'P00169642', 'P00299642', 'P00350842', 'P00239642', 'P00016642', 'P00070242', 'P00222742', 'P00356842', 'P00196642', 'P00084142', 'P00140942', 'P00036642', 'P00287142', 'P00161442', 'P00015442', 'P00172542', 'P00068842', 'P0009842', 'P00290042', 'P00214942', 'P0099042', 'P00125142', 'P00347342', 'P00242542', 'P00050142', 'P00291742', 'P00009442', 'P00017542', 'P00055742', 'P00128242', 'P00004642', 'P00224042', 'P00013742', 'P00319542', 'P00021942', 'P00017342', 'P00364842', 'P00266442', 'P00365742', 'P00221542', 'P00035042', 'P00177942', 'P00199442', 'P00324142', 'P00144842', 'P00333142', 'P00078442', 'P00192442', 'P00006742', 'P00130142', 'P00017742', 'P00344442', 'P00032242', 'P00217642', 'P00247542', 'P00215742', 'P00336042', 'P00015142', 'P00256242', 'P0097442', 'P00169542', 'P00323442', 'P00226142', 'P00248542', 'P00326442', 'P00303042', 'P00013642', 'P00340042', 'P00364142', 'P0096342', 'P00263242', 'P00111342', 'P00027142', 'P00076142', 'P00340942', 'P00076642', 'P00152342', 'P00151442', 'P00270842', 'P00045842', 'P00301042', 'P00010242', 'P00347042', 'P00257542', 'P00247142', 'P00141442', 'P00288842', 'P00313042', 'P00208142', 'P00081842', 'P00203442', 'P00210642', 'P00211042', 'P00370242', 'P00002442', 'P00217942', 'P00292342', 'P00297342', 'P00139442', 'P00332342', 'P00003942', 'P00247042', 'P00113042', 'P00289442', 'P00148942', 'P00120642', 'P00178742', 'P00357142', 'P00026542', 'P00289342', 'P00058442', 'P00286242', 'P00236542', 'P00289542', 'P00250842', 'P00087442', 'P00061542', 'P00202442', 'P00199142', 'P00290242', 'P00158042', 'P00224442', 'P00358742', 'P00158642', 'P00209142', 'P00138342', 'P00090142', 'P00091242', 'P00339242', 'P00170642', 'P00024842', 'P00317942', 'P00087542', 'P00188542', 'P00018442', 'P00330642', 'P00101242', 'P00317042', 'P00318842', 'P00020042', 'P00047942', 'P0099642', 'P00006842', 'P00057042', 'P00093442', 'P00007142', 'P00022942', 'P00223142', 'P00291842', 'P00357442', 'P00234742', 'P00044842', 'P00207642', 'P00158842', 'P00362342', 'P00262642', 'P00178642', 'P00300442', 'P00026242', 'P00033342', 'P00295742', 'P00326942', 'P00303242', 'P00362842', 'P00080942', 'P00247742', 'P00360842', 'P00044542', 'P00026442', 'P00297642', 'P00061742', 'P00067642', 'P00005142', 'P00138942', 'P00007742', 'P00256142', 'P00101042', 'P00016442', 'P00139142', 'P00170142', 'P00250242', 'P00267942', 'P00321742', 'P00104342', 'P00197642', 'P00283942', 'P00294642', 'P00304742', 'P00196442', 'P00310742', 'P00104642', 'P00125442', 'P00033942', 'P00360742', 'P00293942', 'P00343542', 'P00108442', 'P00263842', 'P00010342', 'P00027642', 'P00212942', 'P00248742', 'P00192842', 'P00139942', 'P00164142', 'P00290742', 'P00219842', 'P00336642', 'P00017642', 'P00146542', 'P00328142', 'P00043842', 'P00301842', 'P00034542', 'P00131342', 'P00059142', 'P00254642', 'P00055042', 'P00334842', 'P00109642', 'P00139042', 'P00037242', 'P0099142', 'P00054942', 'P00366842', 'P00214542', 'P00319442', 'P00335442', 'P00348642', 'P00089742', 'P00289742', 'P00334442', 'P00215042', 'P00188242', 'P00205442', 'P00010442', 'P00266942', 'P00127142', 'P00155942', 'P00291442', 'P00205042', 'P00227442', 'P00131542', 'P00327142', 'P00239842', 'P00033842', 'P00042842', 'P00355342', 'P00141042', 'P00211142', 'P00328442', 'P00104942', 'P00299542', 'P00069542', 'P00119442', 'P00052642', 'P00158542', 'P00146942', 'P00148042', 'P00296942', 'P00309442', 'P00047842', 'P00324642', 'P00015042', 'P00192642', 'P00273942', 'P00012242', 'P00197042', 'P00031442', 'P00065042', 'P00083642', 'P00329442', 'P00330442', 'P00166742', 'P00108642', 'P00211442', 'P00034942', 'P00071542', 'P00257042', 'P00118842', 'P00034842', 'P00176942', 'P00192942', 'P00194742', 'P00296342', 'P00169142', 'P00285842', 'P00308142', 'P00036042', 'P00063042', 'P00299842', 'P00042742', 'P00060342', 'P00175842', 'P00139842', 'P00328942', 'P00284642', 'P00249442', 'P00138542', 'P00153442', 'P00224142', 'P00035242', 'P00302142', 'P00055342', 'P00293042', 'P00001142', 'P00235642', 'P0009942', 'P00237742', 'P00303642', 'P00029342', 'P00331542', 'P00047542', 'P00349842', 'P00017942', 'P00033642', 'P00173542', 'P00204942', 'P00008442', 'P00228242', 'P00129442', 'P00254542', 'P00292542', 'P00354842', 'P00313342', 'P00039542', 'P00272142', 'P00037642', 'P00043942', 'P00184542', 'P00364242', 'P00291242', 'P00131242', 'P00241742', 'P00294342', 'P00261742', 'P00272642', 'P00251042', 'P00158742', 'P0098542', 'P00158142', 'P00163742', 'P00210442', 'P00247942', 'P00220342', 'P00239342', 'P00109342', 'P00263742', 'P00337442', 'P00133342', 'P00252642', 'P00302742', 'P00208242', 'P00299142', 'P00259342', 'P00300242', 'P00237442', 'P00156042', 'P00130542', 'P00152742', 'P00100742', 'P00086742', 'P00335942', 'P00284742', 'P00281542', 'P00349042', 'P00230942', 'P00198542', 'P00260342', 'P00116642', 'P00322042', 'P0098042', 'P00107642', 'P00259142', 'P00254042', 'P00034142', 'P00210242', 'P00317142', 'P00285942', 'P00029042', 'P00338342', 'P00216742', 'P00150542', 'P00282642', 'P00083342', 'P00308442', 'P00088642', 'P00331942', 'P00072942', 'P00253042', 'P00102242', 'P00178942', 'P00160842', 'P00012142', 'P00224842', 'P00285342', 'P00361042', 'P00222842', 'P0099242', 'P00351442', 'P00073942', 'P00291342', 'P00298142', 'P00327042', 'P00026042', 'P00249342', 'P00135642', 'P00324942', 'P00319342', 'P00216042', 'P00234842', 'P00333542', 'P00046842', 'P00005642', 'P00335342', 'P00262942', 'P00367942', 'P00365842', 'P00302842', 'P00278542', 'P00343242', 'P00335542', 'P00344342', 'P00314142', 'P00251242', 'P00332142', 'P00234342', 'P00004342', 'P00307342', 'P00054742', 'P00086142', 'P00290342', 'P00360142', 'P00091442', 'P00335642', 'P00219642', 'P00242942', 'P00082042', 'P00174442', 'P00142342', 'P00294042', 'P00224242', 'P00349342', 'P00143142', 'P00061042', 'P00078142', 'P00165942', 'P00059942', 'P00209842', 'P00368342', 'P00174342', 'P00212742', 'P00078742', 'P00118242', 'P00115242', 'P00017042', 'P00240142', 'P00062642', 'P00002642', 'P00331042', 'P00136042', 'P00079942', 'P00165142', 'P00206242', 'P00184642', 'P00161942', 'P00309242', 'P00265742', 'P00079642', 'P00108842', 'P00272242', 'P00272442', 'P00364942', 'P00079342', 'P0099342', 'P00327542', 'P00048242', 'P00148742', 'P00046442', 'P00341642', 'P00075742', 'P00210842', 'P00313442', 'P00016242', 'P00020642', 'P00304542', 'P00317242', 'P00261342', 'P00215342', 'P00297142', 'P00128642', 'P00117442', 'P00366942', 'P00137642', 'P00143842', 'P00184342', 'P00291042', 'P00166242', 'P00029142', 'P00257142', 'P00117942', 'P00030242', 'P00336242', 'P00225142', 'P00100842', 'P00092942', 'P00202042', 'P00073242', 'P00017142', 'P00120142', 'P00093142', 'P00296042', 'P00350742', 'P00022442', 'P00117742', 'P00253942', 'P00021742', 'P00104142', 'P00362242', 'P00055542', 'P00354542', 'P00258742', 'P0093842', 'P00202642', 'P00048442', 'P0098942', 'P00152442', 'P00114842', 'P00033742', 'P00350542', 'P00176442', 'P00100642', 'P00026342', 'P00024742', 'P00134142', 'P00129942', 'P00027442', 'P00110042', 'P00272942', 'P00175542', 'P00089642', 'P00216642', 'P00215642', 'P00049042', 'P00198642', 'P00313542', 'P00297042', 'P00343042', 'P00044142', 'P00360042', 'P0098742', 'P00295442', 'P00129642', 'P00056742', 'P00288142', 'P00088742', 'P00349742', 'P00079442', 'P00357642', 'P00168042', 'P00297442', 'P00133042', 'P00205942', 'P00104542', 'P00315242', 'P00085542', 'P00014242', 'P00100942', 'P00023642', 'P00021642', 'P00329842', 'P00144442', 'P00119542', 'P00157542', 'P00062742', 'P00008242', 'P00080142', 'P00286442', 'P00351242', 'P00051042', 'P00084742', 'P00327242', 'P00370442', 'P00153642', 'P00119042', 'P00259742', 'P00357242', 'P00068742', 'P00030142', 'P00191242', 'P00269842', 'P00189442', 'P00311542', 'P00178442', 'P00056042', 'P00282442', 'P00200242', 'P00345942', 'P00205142', 'P00022342', 'P00234942', 'P00169242', 'P00019242', 'P00080742', 'P00014642', 'P00039942', 'P00031542', 'P00314242', 'P00273242', 'P00204842', 'P00236442', 'P00319042', 'P00287342', 'P00003542', 'P00301942', 'P00277742', 'P00171842', 'P00299242', 'P00108342', 'P00261242', 'P00049342', 'P00171442', 'P00037942', 'P00066042', 'P00084942', 'P00110242', 'P00348342', 'P00130242', 'P00210042', 'P00242042', 'P00025542', 'P00022642', 'P00160342', 'P00188442', 'P00366542', 'P00121642', 'P00224742', 'P00087342', 'P00038042', 'P00231642', 'P00275442', 'P00347942', 'P00260742', 'P00276342', 'P00163842', 'P00288242', 'P00043542', 'P00087642', 'P00225842', 'P00122042', 'P00333442', 'P00163642', 'P00109942', 'P00076042', 'P00088542', 'P00361142', 'P00114542', 'P00367442', 'P00271142', 'P00157842', 'P00266042', 'P00034742', 'P00121542', 'P00067342', 'P00143742', 'P00358042', 'P00343742', 'P00224542', 'P00195142', 'P00114042', 'P0099842', 'P00193442', 'P00109842', 'P00318442', 'P00087742', 'P00150042', 'P00113742', 'P00295242', 'P00159742', 'P00109542', 'P00120342', 'P00273042', 'P00038442', 'P00115342', 'P00220442', 'P00119942', 'P00120442', 'P00134342', 'P00004942', 'P00120742', 'P00278642', 'P00204742', 'P00101142', 'P00141542', 'P00027542', 'P00155842', 'P00155742', 'P00055842', 'P00294842', 'P00296742', 'P00174642', 'P00240942', 'P00282242', 'P00055442', 'P00340142', 'P00117842', 'P00119742', 'P00041242', 'P00051142', 'P00279842', 'P00286842', 'P00241942', 'P00047042', 'P00210942', 'P00116542', 'P00296542', 'P00285542', 'P00002542', 'P00064842', 'P00009542', 'P00369042', 'P00279942', 'P00202742', 'P00159042', 'P00178042', 'P00085142', 'P00302942', 'P00209442', 'P00220542', 'P00151742', 'P00318942', 'P00258442', 'P00190642', 'P00001442', 'P00332742', 'P00006142', 'P00021442', 'P00141342', 'P00267042', 'P00228942', 'P00188942', 'P00114642', 'P00287842', 'P00324842', 'P00144542', 'P00318042', 'P00085642', 'P00048842', 'P00092142', 'P00236742', 'P00112242', 'P00060642', 'P00123942', 'P00089542', 'P00339042', 'P00275742', 'P00356142', 'P00015642', 'P00175042', 'P00362542', 'P00049642', 'P00088842', 'P00273642', 'P00022742', 'P00260042', 'P00328042', 'P00333242', 'P00365242', 'P00068542', 'P00175942', 'P00357942', 'P00007242', 'P00285742', 'P00009242', 'P00118742', 'P00273142', 'P00348242', 'P00238942', 'P00370642', 'P00289642', 'P00231842', 'P00306442', 'P00174142', 'P00289042', 'P00018942', 'P00026642', 'P00089142', 'P00272842', 'P00029242', 'P00102342', 'P00039342', 'P00177842', 'P00194542', 'P00237042', 'P00121442', 'P00146642', 'P00032542', 'P00244242', 'P00088442', 'P00307142', 'P00053342', 'P00261642', 'P00150342', 'P00189542', 'P00225042', 'P00229642', 'P00108542', 'P00305542', 'P00014942', 'P00118542', 'P00208542', 'P00237342', 'P00011942', 'P00060742', 'P00145442', 'P00293542', 'P00052142', 'P00347242', 'P00239742', 'P00084542', 'P00189642', 'P00283442', 'P00193742', 'P00303742', 'P00173442', 'P00310542', 'P00315642', 'P00104842', 'P00253542', 'P00323042', 'P00154742', 'P00089942', 'P00029442', 'P00308242', 'P00169442', 'P00212142', 'P00163942', 'P00158342', 'P00003042', 'P00085042', 'P00264642', 'P00083442', 'P00265242', 'P00306242', 'P00033242', 'P00327842', 'P00264142', 'P00150142', 'P00322442', 'P00146442', 'P00176242', 'P00255342', 'P00118042', 'P00155642', 'P00001642', 'P00241042', 'P00030642', 'P00213242', 'P00083842', 'P00264542', 'P00225242', 'P00109042', 'P00288342', 'P00214142', 'P00312942', 'P00114442', 'P00331342', 'P00106042', 'P00171942', 'P00129542', 'P00366442', 'P00129142', 'P00288542', 'P00340542', 'P00178542', 'P00177642', 'P00278342', 'P00153742', 'P00012042', 'P00107542', 'P00287942', 'P00176142', 'P00268442', 'P00031342', 'P00143342', 'P00349242', 'P00350642', 'P00362742', 'P00349542', 'P00341442', 'P00150742', 'P00126042', 'P00024342', 'P00154442', 'P00331442', 'P00154642', 'P00139642', 'P00317842', 'P00006542', 'P00296242', 'P00311642', 'P00275942', 'P00354642', 'P00286542', 'P00139242', 'P00281042', 'P00165742', 'P00228542', 'P00271842', 'P00188842', 'P00211942', 'P00339742', 'P00321642', 'P00061142', 'P00046242', 'P00032842', 'P00252842', 'P00294542', 'P00189142', 'P00285442', 'P00141242', 'P00332542', 'P00027342', 'P00125742', 'P00304842', 'P00261942', 'P00252142', 'P00272542', 'P00178342', 'P00349642', 'P00295542', 'P00170042', 'P00052542', 'P00310442', 'P00350142', 'P00131042', 'P00019442', 'P00318542', 'P00362642', 'P00024142', 'P00312342', 'P00106942', 'P00021042', 'P00025942', 'P00254142', 'P00126542', 'P00175742', 'P00352542', 'P00154242', 'P00342742', 'P00315042', 'P00103242', 'P00126842', 'P00275042', 'P00237942', 'P00065542', 'P00357342', 'P00367042', 'P00102442', 'P00078042', 'P00030042', 'P00049542', 'P00168142', 'P00370542', 'P00196242', 'P00003242', 'P00313242', 'P00011742', 'P00293342', 'P00292042', 'P00003642', 'P00189042', 'P00342642', 'P00025842', 'P00224642', 'P00320942', 'P00044342', 'P00102542', 'P00211242', 'P00091842', 'P00343342', 'P00023342', 'P00052242', 'P00108942', 'P00115542', 'P00162742', 'P00007942', 'P00248342', 'P00274342', 'P00264242', 'P00202142', 'P00312142', 'P00121142', 'P00209342', 'P00302342', 'P00252542', 'P00060142', 'P00102842', 'P00153842', 'P00109742', 'P00051642', 'P0099742', 'P00293742', 'P00254442', 'P00184142', 'P00084242', 'P00091342', 'P00068342', 'P00131742', 'P00285142', 'P00074742', 'P00072042', 'P00271242', 'P00041542', 'P00276242', 'P00178142', 'P0097742', 'P00020842', 'P00177742', 'P00073342', 'P00131142', 'P00220642', 'P00160442', 'P00120542', 'P00050242', 'P00230042', 'P00252442', 'P00216242', 'P00326642', 'P00004142', 'P00194342', 'P00305442', 'P00300542', 'P00324342', 'P00176742', 'P00091142', 'P00072142', 'P00008142', 'P00175642', 'P00068042', 'P00275642', 'P00140142', 'P00270242', 'P00007042', 'P00298242', 'P00363242', 'P00166642', 'P00340742', 'P00292842', 'P00281742', 'P0098142', 'P00090642', 'P00167242', 'P00211342', 'P00323542', 'P00001742', 'P00086042', 'P00115442', 'P00242342', 'P00248042', 'P00297942', 'P00088942', 'P00214442', 'P00073642', 'P00178242', 'P00062942', 'P00291142', 'P00176342', 'P00172142', 'P00088342', 'P00197342', 'P00029942', 'P00279542', 'P00116242', 'P00323942', 'P00075542', 'P00004842', 'P00048942', 'P00222042', 'P00241142', 'P00038642', 'P00086442', 'P00241342', 'P00237242', 'P00138242', 'P00274942', 'P00014542', 'P00330142', 'P00114142', 'P00101942', 'P00020942', 'P00238342', 'P00370342', 'P00264442', 'P00313142', 'P00004042', 'P00271342', 'P00212242', 'P00157342', 'P00272042', 'P00080442', 'P00147542', 'P00195242', 'P00176042', 'P00307042', 'P00093242', 'P00356942', 'P00187142', 'P00188742', 'P00356642', 'P00104242', 'P00177342', 'P00116042', 'P00142242', 'P00176542', 'P00288042', 'P00009642', 'P00354742', 'P00287742', 'P00130442', 'P00293242', 'P00300342', 'P00120242', 'P00230842', 'P00177142', 'P00117242', 'P00064642', 'P00156642', 'P00025242', 'P00320142', 'P00005742', 'P00211742', 'P00282542', 'P00156442', 'P00320842', 'P00240642', 'P00118942', 'P00177042', 'P00348942', 'P00185342', 'P00122142', 'P00352642', 'P00010842', 'P00126142', 'P00223042', 'P00089442', 'P00058542', 'P00113942', 'P00043342', 'P00348442', 'P00170842', 'P00005542', 'P00114742', 'P00240842', 'P00355942', 'P00323642', 'P00190842', 'P00297542', 'P00297742', 'P00307242', 'P00113642', 'P00259642', 'P00115642', 'P00142042', 'P00025742', 'P00120942', 'P00044242', 'P00287642', 'P00243142', 'P00337242', 'P00120842', 'P00111942', 'P00287542', 'P00030542', 'P00103342', 'P00344242', 'P00252942', 'P00216842', 'P00215942', 'P00216542', 'P00251642', 'P00029842', 'P00070442', 'P00050642', 'P00370042', 'P00086642', 'P00213742', 'P00323742', 'P00126242', 'P00325142', 'P00351742', 'P00031742', 'P00249742', 'P00065442', 'P00346942', 'P00190942', 'P00113542', 'P00275542', 'P00105642', 'P00089342', 'P00364642', 'P00118142', 'P00077442', 'P00001342', 'P00201742', 'P00112842', 'P00252742', 'P00320242', 'P00064942', 'P00105542', 'P00111442', 'P00058042', 'P00064742', 'P00263342', 'P00084842', 'P00115942', 'P00072342', 'P00247242', 'P00287442', 'P00153042', 'P00231042', 'P00056642', 'P00065242', 'P00337642', 'P00291942', 'P00154542', 'P00078842', 'P00022042', 'P00187042', 'P00110542', 'P00355542', 'P00227942', 'P00076942', 'P00198242', 'P00306042', 'P00086342', 'P00060242', 'P00109142', 'P00235442', 'P00301142', 'P00066242', 'P00085242', 'P00071742', 'P00077742', 'P00191342', 'P00111842', 'P00313942', 'P00074142', 'P00143642', 'P00199542', 'P00161542', 'P00068242', 'P00080242', 'P00210742', 'P00342942', 'P00147642', 'P00359042', 'P00039242', 'P00233142', 'P0094742', 'P00005242', 'P00051442', 'P00015542', 'P00152842', 'P00072442', 'P00138442', 'P00221242', 'P00031042', 'P00320342', 'P00052742', 'P00244142', 'P00321142', 'P00140542', 'P00064442', 'P00047142', 'P00103142', 'P00277542', 'P00262842', 'P00016842', 'P00353442', 'P0096042', 'P00302242', 'P00162842', 'P00220742', 'P00196142', 'P0096942', 'P00082342', 'P00191042', 'P00001542', 'P00132142', 'P00223742', 'P00170342', 'P00364442', 'P00356042', 'P00023242', 'P00107042', 'P00353342', 'P00301542', 'P00192242', 'P00163542', 'P00168842', 'P00140242', 'P00064042', 'P00066542', 'P00161242', 'P00155242', 'P00067542', 'P00186842', 'P00230242', 'P00192342', 'P00347542', 'P00035142', 'P00210342', 'P00170242', 'P00002042', 'P00167042', 'P00038342', 'P00171542', 'P00248442', 'P00234042', 'P00299442', 'P00295042', 'P00246842', 'P00201642', 'P00268642', 'P00220242', 'P0096142', 'P00056442', 'P00187442', 'P00040742', 'P00003342', 'P00056542', 'P00190542', 'P00199042', 'P00059742', 'P00261842', 'P00285242', 'P00008942', 'P00059542', 'P00233242', 'P00142842', 'P00364342', 'P00126342', 'P00028342', 'P00146042', 'P00161342', 'P00190742', 'P00047242', 'P00228842', 'P00343142', 'P00135042', 'P00077342', 'P0096542', 'P00076442', 'P00054442', 'P00149442', 'P00129042', 'P00285042', 'P00265142', 'P00325742', 'P00015342', 'P00000842', 'P00169042', 'P00260442', 'P00065342', 'P00058342', 'P00132442', 'P00207142', 'P00183942', 'P00132842', 'P00218142', 'P00191642', 'P00241442', 'P0096842', 'P00053542', 'P00140442', 'P00159242', 'P00282142', 'P00200942', 'P00261142', 'P00214042', 'P00159842', 'P00211642', 'P00079742', 'P00012842', 'P00172842', 'P00365042', 'P00053142', 'P00166942', 'P00165442', 'P00016742', 'P00020342', 'P00346442', 'P00249642', 'P00311342', 'P00078542', 'P00186142', 'P00223842', 'P00010542', 'P00190142', 'P0095842', 'P00066642', 'P0096642', 'P00195742', 'P00189842', 'P00187642', 'P00152642', 'P00057542', 'P00240742', 'P00352442', 'P00257442', 'P00195842', 'P00014842', 'P00069942', 'P00217542', 'P0094042', 'P00031842', 'P00146142', 'P00206442', 'P00210142', 'P00037842', 'P00005942', 'P00294442', 'P00262342', 'P00186342', 'P00042542', 'P00216342', 'P00058142', 'P0094542', 'P00354042', 'P00054542', 'P00190042', 'P00352242', 'P00217342', 'P00320742', 'P00304642', 'P00289842', 'P00163042', 'P0097342', 'P00022142', 'P00359742', 'P00268742', 'P00052042', 'P00350942', 'P00157242', 'P00145242', 'P00058242', 'P00030742', 'P00195942', 'P00246942', 'P00119142', 'P00000242', 'P00092842', 'P00035542', 'P00000942', 'P00311942', 'P00241542', 'P00222942', 'P00151642', 'P00195542', 'P00217242', 'P00147442', 'P00106542', 'P00221942', 'P00361242', 'P00144042', 'P00127542', 'P00197742', 'P00076342', 'P00138642', 'P00109442', 'P00195342', 'P00196342', 'P00074042', 'P00033142', 'P00132942', 'P00227642', 'P0095942', 'P00045142', 'P00174842', 'P00282342', 'P00046642', 'P00160642', 'P00315942', 'P00045042', 'P00075342', 'P00128442', 'P00263042', 'P00330842', 'P00194642', 'P00008542', 'P00134442', 'P00309142', 'P00035342', 'P00298942', 'P00146842', 'P00045342', 'P00234142', 'P0095142', 'P00368042', 'P00229542', 'P00255742', 'P00090042', 'P00326042', 'P00083142', 'P00044942', 'P00187742', 'P00334642', 'P00230442', 'P00225442', 'P00193642', 'P00260642', 'P00285642', 'P00246642', 'P00318142', 'P00363442', 'P00219742', 'P00068642', 'P00136242', 'P00233742', 'P00227842', 'P00004442', 'P00251842', 'P00361942', 'P00189742', 'P00000142', 'P00312742', 'P00233842', 'P00350442', 'P00182942', 'P00221042', 'P00082842', 'P00221842', 'P00102942', 'P00325242', 'P00128142', 'P00137542', 'P00004242', 'P00027742', 'P00037042', 'P00345842', 'P00133442', 'P00147142', 'P00303442', 'P00352842', 'P00053442', 'P00070542', 'P00320042', 'P00009342', 'P00023442', 'P00093342', 'P00345642', 'P00154942', 'P00016342', 'P0096742', 'P00255242', 'P00129342', 'P00213042', 'P00037542', 'P00359142', 'P00186542', 'P00182642', 'P00151142', 'P00019942', 'P00289942', 'P00044642', 'P00365342', 'P00253142', 'P00353942', 'P00153142', 'P00347642', 'P00233042', 'P00186642', 'P00014142', 'P00164942', 'P00155442', 'P00136642', 'P00310942', 'P00318642', 'P00368142', 'P00148442', 'P00040842', 'P00049142', 'P00093542', 'P00238642', 'P00089242', 'P00319842', 'P00088142', 'P00269342', 'P00178842', 'P00025342', 'P00029542', 'P00163242', 'P00185742', 'P00152242', 'P00092442', 'P00086542', 'P0095342', 'P00322942', 'P00127942', 'P00113442', 'P00061442', 'P00191942', 'P00249542', 'P00185442', 'P00144742', 'P00042942', 'P00159642', 'P00054142', 'P00142142', 'P00091942', 'P00002342', 'P00138742', 'P00016542', 'P00231242', 'P00105842', 'P00198142', 'P00069042', 'P00233642', 'P00149542', 'P00008842', 'P00197842', 'P00122442', 'P00251942', 'P00155142', 'P00277642', 'P00284942', 'P00312842', 'P00148542', 'P00165642', 'P00234642', 'P00233942', 'P00083742', 'P00318342', 'P00337342', 'P00074442', 'P00191442', 'P00356342', 'P00137842', 'P0095542', 'P00263442', 'P00199342', 'P00145642', 'P00275842', 'P00172042', 'P00324742', 'P00106742', 'P00071242', 'P00027842', 'P00162342', 'P00042142', 'P00305142', 'P00136442', 'P00326242', 'P00154042', 'P00361542', 'P00125542', 'P00244042', 'P00070342', 'P00112742', 'P00214242', 'P00295342', 'P00081742', 'P00241242', 'P00236642', 'P00028042', 'P00322142', 'P0098642', 'P00253742', 'P00274842', 'P00127342', 'P00207442', 'P00242442', 'P00041042', 'P00167742', 'P00168742', 'P00070942', 'P00050442', 'P00295942', 'P00298742', 'P00332442', 'P00018042', 'P00007542', 'P00259842', 'P00323242', 'P00169742', 'P00173942', 'P00032942', 'P00081442', 'P00192142', 'P00369142', 'P00351942', 'P00335042', 'P00260842', 'P00262242', 'P00006942', 'P00366142', 'P00338442', 'P00064142', 'P00101442', 'P00165842', 'P00221342', 'P00019542', 'P00346342', 'P00157042', 'P00353742', 'P0098842', 'P00267542', 'P00160942', 'P00368842', 'P00173842', 'P00111642', 'P00110342', 'P00063342', 'P00058742', 'P00131942', 'P00265042', 'P00100442', 'P00234442', 'P00093042', 'P00321342', 'P00152142', 'P00092342', 'P00147342', 'P00130042', 'P00276042', 'P00214842', 'P00188142', 'P00240242', 'P00182342', 'P00142942', 'P00253342', 'P00061942', 'P00339842', 'P00350342', 'P00162442', 'P00018742', 'P00136742', 'P00053942', 'P00221742', 'P00345742', 'P00071942', 'P00065842', 'P00163342', 'P00319942', 'P00014042', 'P00081942', 'P00028442', 'P00277942', 'P00356542', 'P00040942', 'P00057742', 'P00167942', 'P00136142', 'P00036742', 'P00307542', 'P00128742', 'P00228342', 'P00321042', 'P00192542', 'P00266542', 'P00155042', 'P00208442', 'P00067842', 'P00218442', 'P00008042', 'P00297842', 'P00048142', 'P00364542', 'P00228442', 'P00118342', 'P00132642', 'P00363342', 'P00217142', 'P00325442', 'P00013242', 'P00184442', 'P00175242', 'P00241642', 'P00049842', 'P00328742', 'P00281642', 'P00103742', 'P00340342', 'P0098342', 'P00127742', 'P00152542', 'P00329142', 'P00146742', 'P00226542', 'P00160042', 'P00153942', 'P00023942', 'P00130342', 'P00302642', 'P00152042', 'P00107242', 'P00292442', 'P00338942', 'P00351342', 'P00257242', 'P00019342', 'P00145742', 'P00240442', 'P00002942', 'P00223542', 'P00134242', 'P0093742', 'P00161042', 'P00267442', 'P00222242', 'P00203842', 'P00220142', 'P00308942', 'P00286742', 'P00305242', 'P00278742', 'P00032042', 'P00162042', 'P00121242', 'P00298842', 'P00348842', 'P00358442', 'P0098242', 'P00352942', 'P00144642', 'P00136842', 'P00063842', 'P00128042', 'P00160142', 'P00352742', 'P00045242', 'P00010942', 'P00183442', 'P00267342', 'P00127442', 'P00339342', 'P00233442', 'P00131842', 'P00010142', 'P00198742', 'P00202842', 'P00106142', 'P00015842', 'P00346042', 'P00140042', 'P00049442', 'P00360642', 'P00116842', 'P00304942', 'P00289242', 'P00062842', 'P00034442', 'P00242742', 'P00233342', 'P00201342', 'P00150242', 'P00349942', 'P00277442', 'P00277842', 'P00215242', 'P00093642', 'P00307842', 'P00002242', 'P00199942', 'P00319642', 'P00144342', 'P00105342', 'P00154842', 'P00352142', 'P00344542', 'P00073842', 'P00280842', 'P00229742', 'P00153342', 'P00365142', 'P00024542', 'P00305842', 'P00059642', 'P00054842', 'P00116342', 'P00030842', 'P00324242', 'P00300042', 'P00157642', 'P00127242', 'P00221142', 'P00243942', 'P00080642', 'P00001042', 'P00332242', 'P00256542', 'P00038242', 'P00182742', 'P00148842', 'P00194942', 'P00173742', 'P00355642', 'P00036842', 'P00242642', 'P00035942', 'P00085942', 'P00323842', 'P00251742', 'P00039142', 'P00050842', 'P00339542', 'P00308542', 'P00131442', 'P00091642', 'P00145942', 'P00182242', 'P00204142', 'P00348542', 'P00259942', 'P00048042', 'P00208742', 'P00334742', 'P00208342', 'P00106442', 'P00317442', 'P00296842', 'P00292742', 'P00168642', 'P00013342', 'P00366742', 'P00197942', 'P00066842', 'P00200042', 'P00217842', 'P00209042', 'P00187842', 'P00270542', 'P00278042', 'P00293842', 'P00208942', 'P00248642', 'P00314642', 'P00334042', 'P00280342', 'P00279442', 'P00107142', 'P00361842', 'P00217442', 'P00057942', 'P00147742', 'P00161842', 'P00314042', 'P00309342', 'P00346142', 'P00111542', 'P00002142', 'P00277042', 'P00037142', 'P00292242', 'P00200142', 'P00329542', 'P00284242', 'P00255942', 'P00341842', 'P00339942', 'P00117142', 'P00140742', 'P00153542', 'P00087242', 'P00353842', 'P00015942', 'P00193242', 'P00075842', 'P00246442', 'P00127842', 'P00009742', 'P00321242', 'P00193542', 'P00304342', 'P00215442', 'P00233542', 'P00216142', 'P00016042', 'P00363542', 'P00150942', 'P00103042', 'P00270942', 'P00318742', 'P00329742', 'P0099442', 'P00047742', 'P00105142', 'P00017842', 'P00263642', 'P00246542', 'P00163142', 'P00163442', 'P00338542', 'P00278242', 'P00003742', 'P00001842', 'P00034042', 'P00314342', 'P00246242', 'P00347742', 'P00351142', 'P00307942', 'P00070042', 'P00221442', 'P00346242', 'P00303342', 'P00162142', 'P00145042', 'P00125942', 'P00215542', 'P00254942', 'P00315442', 'P00073142', 'P00304442', 'P00266642', 'P00046942', 'P00370142', 'P00317642', 'P00199842', 'P00209742', 'P00112642', 'P00223342', 'P00050942', 'P00046742', 'P00204342', 'P00038542', 'P00118442', 'P00250342', 'P00121742', 'P00203042', 'P00204242', 'P00286942', 'P00173342', 'P00281942', 'P00130742', 'P00117042', 'P00046142', 'P00108242', 'P00256042', 'P00338642', 'P00288942', 'P00355142', 'P00002842', 'P00183042', 'P00313842', 'P00100342', 'P00317542', 'P00000642', 'P00355442', 'P00065642', 'P00274542', 'P00149842', 'P00246142', 'P00238242', 'P00263542', 'P00173142', 'P00158242', 'P00341742', 'P00104742', 'P00274142', 'P00298542', 'P00209642', 'P00079842', 'P00127642', 'P00246042', 'P00298442', 'P00038142', 'P00011342', 'P00359242', 'P00118642', 'P00245742', 'P00250442', 'P00020142', 'P00274242', 'P00124642', 'P0097542', 'P00206942', 'P00260942', 'P00113142', 'P00182142', 'P0097042', 'P00288642', 'P00090242', 'P00041842', 'P00202942', 'P00219942', 'P00014442', 'P00310242', 'P00129842', 'P00088042', 'P00288742', 'P00300942', 'P00177542', 'P00117342', 'P00135742', 'P00100542', 'P00109242', 'P00054242', 'P00274042', 'P00086842', 'P00162242', 'P00112142', 'P00201442', 'P00043042', 'P00184242', 'P00133142', 'P00284842', 'P00081142', 'P00113842', 'P00273742', 'P00274442', 'P00310342', 'P00161642', 'P00297242', 'P00238442', 'P00284342', 'P00100042', 'P00126742', 'P0098442', 'P00341342', 'P00202342', 'P00271742', 'P00147942', 'P00057642', 'P00010642', 'P00060842', 'P00151342', 'P00128942', 'P00174242', 'P00277242', 'P00348742', 'P00086942', 'P00036442', 'P00341242', 'P00203142', 'P00013542', 'P00279742', 'P00195042', 'P00343642', 'P00177442', 'P00044442', 'P00119642', 'P00304242', 'P00334242', 'P00275342', 'P00231742', 'P0097242', 'P00007642', 'P00295642', 'P00166442', 'P00207942', 'P00120042', 'P00111242', 'P00249042', 'P00113342', 'P00028242', 'P00119842', 'P00112942', 'P00199642', 'P00112542', 'P00327342', 'P00111142', 'P00200542', 'P00313642', 'P00018542', 'P00346542', 'P00031242', 'P00230142', 'P00171042', 'P00278942', 'P00053642', 'P00331842', 'P00349442', 'P00286142', 'P00280742', 'P00115142', 'P00361442', 'P00114942', 'P00248942', 'P00090942', 'P00296642', 'P00069142', 'P00354142', 'P00343942', 'P00162942', 'P00200342', 'P00010742', 'P00115842', 'P00056842', 'P00330742', 'P00011242', 'P00106842', 'P00201842', 'P00121342', 'P00271042', 'P00213142', 'P00114342', 'P00031142', 'P00110742', 'P00337042', 'P00159142', 'P00292142', 'P00277342', 'P00028542', 'P00262042', 'P00090542', 'P00350042', 'P00110842', 'P00004742', 'P00310842', 'P00279142', 'P00261542', 'P00305642', 'P00101842', 'P00058942', 'P00101342', 'P00121042', 'P00237542', 'P00015742', 'P00113242', 'P00360542', 'P00038842', 'P00184942', 'P00252342', 'P00252242', 'P00110442', 'P00135942', 'P00245942', 'P00103642', 'P00035442', 'P00088242', 'P00279642', 'P00183142', 'P00115742', 'P00012442', 'P00112442', 'P00126442', 'P00148642', 'P00247642', 'P00059442', 'P00111742', 'P00025442', 'P00110942', 'P00176642', 'P00290642', 'P00339442', 'P00024042', 'P00213842', 'P00080342', 'P00111042', 'P00028842', 'P00116942', 'P00100142', 'P00265342', 'P00343842', 'P00184042', 'P00320442', 'P00065742', 'P00110142', 'P00269942', 'P00054342', 'P00286342', 'P00072242', 'P00172242', 'P00106642', 'P00124742', 'P00159542', 'P00255842', 'P00005042', 'P00075042', 'P00315142', 'P00071042', 'P00306742', 'P00272342', 'P00071442', 'P00273342', 'P00308042', 'P00311242', 'P00188642', 'P00107342', 'P00202242', 'P00087042', 'P00052842', 'P00341542', 'P00074542', 'P00117642', 'P00119342', 'P00116142', 'P00200642', 'P00085342', 'P00086242']\n"
     ]
    }
   ],
   "source": [
    "ord_pid = product_df.groupby(by=\"Product_ID\").agg({'Purchase':'mean'}).sort_values(by='Purchase').index\n",
    "print(f\"ordered list of Product_ID according amount of Purchase on average: {list(ord_pid)}\")"
   ]
  },
  {
   "cell_type": "code",
   "execution_count": null,
   "metadata": {
    "id": "XJL6iOlM8xZx"
   },
   "outputs": [],
   "source": []
  },
  {
   "cell_type": "markdown",
   "metadata": {
    "id": "4eyIH8cecgFV"
   },
   "source": [
    "## **3. Modelling**"
   ]
  },
  {
   "cell_type": "markdown",
   "metadata": {
    "id": "GAh_9HAncgFV"
   },
   "source": [
    "### Processing "
   ]
  },
  {
   "cell_type": "code",
   "execution_count": 43,
   "metadata": {
    "colab": {
     "base_uri": "https://localhost:8080/",
     "height": 206
    },
    "id": "Eg-dB1ZucgFW",
    "outputId": "48702288-80b2-4f64-c90a-331a5b9234a4"
   },
   "outputs": [
    {
     "data": {
      "text/html": [
       "<div>\n",
       "<style scoped>\n",
       "    .dataframe tbody tr th:only-of-type {\n",
       "        vertical-align: middle;\n",
       "    }\n",
       "\n",
       "    .dataframe tbody tr th {\n",
       "        vertical-align: top;\n",
       "    }\n",
       "\n",
       "    .dataframe thead th {\n",
       "        text-align: right;\n",
       "    }\n",
       "</style>\n",
       "<table border=\"1\" class=\"dataframe\">\n",
       "  <thead>\n",
       "    <tr style=\"text-align: right;\">\n",
       "      <th></th>\n",
       "      <th>User_ID</th>\n",
       "      <th>Product_ID</th>\n",
       "      <th>Gender</th>\n",
       "      <th>Age</th>\n",
       "      <th>Occupation</th>\n",
       "      <th>City_Category</th>\n",
       "      <th>Years_in_city</th>\n",
       "      <th>Marital_Status</th>\n",
       "      <th>Product_Category_1</th>\n",
       "      <th>Product_Category_2</th>\n",
       "      <th>Product_Category_3</th>\n",
       "      <th>Purchase</th>\n",
       "    </tr>\n",
       "  </thead>\n",
       "  <tbody>\n",
       "    <tr>\n",
       "      <th>0</th>\n",
       "      <td>1000001</td>\n",
       "      <td>P00069042</td>\n",
       "      <td>F</td>\n",
       "      <td>0-17</td>\n",
       "      <td>10</td>\n",
       "      <td>A</td>\n",
       "      <td>2</td>\n",
       "      <td>0</td>\n",
       "      <td>3</td>\n",
       "      <td>NaN</td>\n",
       "      <td>NaN</td>\n",
       "      <td>8370</td>\n",
       "    </tr>\n",
       "    <tr>\n",
       "      <th>1</th>\n",
       "      <td>1000001</td>\n",
       "      <td>P00248942</td>\n",
       "      <td>F</td>\n",
       "      <td>0-17</td>\n",
       "      <td>10</td>\n",
       "      <td>A</td>\n",
       "      <td>2</td>\n",
       "      <td>0</td>\n",
       "      <td>1</td>\n",
       "      <td>6.0</td>\n",
       "      <td>14.0</td>\n",
       "      <td>15200</td>\n",
       "    </tr>\n",
       "    <tr>\n",
       "      <th>2</th>\n",
       "      <td>1000001</td>\n",
       "      <td>P00087842</td>\n",
       "      <td>F</td>\n",
       "      <td>0-17</td>\n",
       "      <td>10</td>\n",
       "      <td>A</td>\n",
       "      <td>2</td>\n",
       "      <td>0</td>\n",
       "      <td>12</td>\n",
       "      <td>NaN</td>\n",
       "      <td>NaN</td>\n",
       "      <td>1422</td>\n",
       "    </tr>\n",
       "    <tr>\n",
       "      <th>3</th>\n",
       "      <td>1000001</td>\n",
       "      <td>P00085442</td>\n",
       "      <td>F</td>\n",
       "      <td>0-17</td>\n",
       "      <td>10</td>\n",
       "      <td>A</td>\n",
       "      <td>2</td>\n",
       "      <td>0</td>\n",
       "      <td>12</td>\n",
       "      <td>14.0</td>\n",
       "      <td>NaN</td>\n",
       "      <td>1057</td>\n",
       "    </tr>\n",
       "    <tr>\n",
       "      <th>4</th>\n",
       "      <td>1000002</td>\n",
       "      <td>P00285442</td>\n",
       "      <td>M</td>\n",
       "      <td>55+</td>\n",
       "      <td>16</td>\n",
       "      <td>C</td>\n",
       "      <td>4+</td>\n",
       "      <td>0</td>\n",
       "      <td>8</td>\n",
       "      <td>NaN</td>\n",
       "      <td>NaN</td>\n",
       "      <td>7969</td>\n",
       "    </tr>\n",
       "  </tbody>\n",
       "</table>\n",
       "</div>"
      ],
      "text/plain": [
       "   User_ID Product_ID Gender   Age  Occupation City_Category Years_in_city  \\\n",
       "0  1000001  P00069042      F  0-17          10             A             2   \n",
       "1  1000001  P00248942      F  0-17          10             A             2   \n",
       "2  1000001  P00087842      F  0-17          10             A             2   \n",
       "3  1000001  P00085442      F  0-17          10             A             2   \n",
       "4  1000002  P00285442      M   55+          16             C            4+   \n",
       "\n",
       "   Marital_Status  Product_Category_1  Product_Category_2  Product_Category_3  \\\n",
       "0               0                   3                 NaN                 NaN   \n",
       "1               0                   1                 6.0                14.0   \n",
       "2               0                  12                 NaN                 NaN   \n",
       "3               0                  12                14.0                 NaN   \n",
       "4               0                   8                 NaN                 NaN   \n",
       "\n",
       "   Purchase  \n",
       "0      8370  \n",
       "1     15200  \n",
       "2      1422  \n",
       "3      1057  \n",
       "4      7969  "
      ]
     },
     "execution_count": 43,
     "metadata": {},
     "output_type": "execute_result"
    }
   ],
   "source": [
    "learn_df = train_df.copy()\n",
    "learn_df.head()"
   ]
  },
  {
   "cell_type": "code",
   "execution_count": 44,
   "metadata": {
    "colab": {
     "base_uri": "https://localhost:8080/",
     "height": 206
    },
    "id": "rVfEZMnScgFW",
    "outputId": "e0d61227-8784-4474-b53e-98bda6148b80",
    "scrolled": true
   },
   "outputs": [
    {
     "data": {
      "text/html": [
       "<div>\n",
       "<style scoped>\n",
       "    .dataframe tbody tr th:only-of-type {\n",
       "        vertical-align: middle;\n",
       "    }\n",
       "\n",
       "    .dataframe tbody tr th {\n",
       "        vertical-align: top;\n",
       "    }\n",
       "\n",
       "    .dataframe thead th {\n",
       "        text-align: right;\n",
       "    }\n",
       "</style>\n",
       "<table border=\"1\" class=\"dataframe\">\n",
       "  <thead>\n",
       "    <tr style=\"text-align: right;\">\n",
       "      <th></th>\n",
       "      <th>User_ID</th>\n",
       "      <th>Product_ID</th>\n",
       "      <th>Gender</th>\n",
       "      <th>Age</th>\n",
       "      <th>Occupation</th>\n",
       "      <th>City_Category</th>\n",
       "      <th>Years_in_city</th>\n",
       "      <th>Marital_Status</th>\n",
       "      <th>Product_Category_1</th>\n",
       "      <th>Product_Category_2</th>\n",
       "      <th>Product_Category_3</th>\n",
       "      <th>Purchase</th>\n",
       "      <th>Efficiency</th>\n",
       "    </tr>\n",
       "  </thead>\n",
       "  <tbody>\n",
       "    <tr>\n",
       "      <th>0</th>\n",
       "      <td>1000001</td>\n",
       "      <td>P00069042</td>\n",
       "      <td>F</td>\n",
       "      <td>0-17</td>\n",
       "      <td>10</td>\n",
       "      <td>A</td>\n",
       "      <td>2</td>\n",
       "      <td>0</td>\n",
       "      <td>3</td>\n",
       "      <td>NaN</td>\n",
       "      <td>NaN</td>\n",
       "      <td>8370</td>\n",
       "      <td>1</td>\n",
       "    </tr>\n",
       "    <tr>\n",
       "      <th>1</th>\n",
       "      <td>1000001</td>\n",
       "      <td>P00248942</td>\n",
       "      <td>F</td>\n",
       "      <td>0-17</td>\n",
       "      <td>10</td>\n",
       "      <td>A</td>\n",
       "      <td>2</td>\n",
       "      <td>0</td>\n",
       "      <td>1</td>\n",
       "      <td>6.0</td>\n",
       "      <td>14.0</td>\n",
       "      <td>15200</td>\n",
       "      <td>3</td>\n",
       "    </tr>\n",
       "    <tr>\n",
       "      <th>2</th>\n",
       "      <td>1000001</td>\n",
       "      <td>P00087842</td>\n",
       "      <td>F</td>\n",
       "      <td>0-17</td>\n",
       "      <td>10</td>\n",
       "      <td>A</td>\n",
       "      <td>2</td>\n",
       "      <td>0</td>\n",
       "      <td>12</td>\n",
       "      <td>NaN</td>\n",
       "      <td>NaN</td>\n",
       "      <td>1422</td>\n",
       "      <td>1</td>\n",
       "    </tr>\n",
       "    <tr>\n",
       "      <th>3</th>\n",
       "      <td>1000001</td>\n",
       "      <td>P00085442</td>\n",
       "      <td>F</td>\n",
       "      <td>0-17</td>\n",
       "      <td>10</td>\n",
       "      <td>A</td>\n",
       "      <td>2</td>\n",
       "      <td>0</td>\n",
       "      <td>12</td>\n",
       "      <td>14.0</td>\n",
       "      <td>NaN</td>\n",
       "      <td>1057</td>\n",
       "      <td>2</td>\n",
       "    </tr>\n",
       "    <tr>\n",
       "      <th>4</th>\n",
       "      <td>1000002</td>\n",
       "      <td>P00285442</td>\n",
       "      <td>M</td>\n",
       "      <td>55+</td>\n",
       "      <td>16</td>\n",
       "      <td>C</td>\n",
       "      <td>4+</td>\n",
       "      <td>0</td>\n",
       "      <td>8</td>\n",
       "      <td>NaN</td>\n",
       "      <td>NaN</td>\n",
       "      <td>7969</td>\n",
       "      <td>1</td>\n",
       "    </tr>\n",
       "  </tbody>\n",
       "</table>\n",
       "</div>"
      ],
      "text/plain": [
       "   User_ID Product_ID Gender   Age  Occupation City_Category Years_in_city  \\\n",
       "0  1000001  P00069042      F  0-17          10             A             2   \n",
       "1  1000001  P00248942      F  0-17          10             A             2   \n",
       "2  1000001  P00087842      F  0-17          10             A             2   \n",
       "3  1000001  P00085442      F  0-17          10             A             2   \n",
       "4  1000002  P00285442      M   55+          16             C            4+   \n",
       "\n",
       "   Marital_Status  Product_Category_1  Product_Category_2  Product_Category_3  \\\n",
       "0               0                   3                 NaN                 NaN   \n",
       "1               0                   1                 6.0                14.0   \n",
       "2               0                  12                 NaN                 NaN   \n",
       "3               0                  12                14.0                 NaN   \n",
       "4               0                   8                 NaN                 NaN   \n",
       "\n",
       "   Purchase  Efficiency  \n",
       "0      8370           1  \n",
       "1     15200           3  \n",
       "2      1422           1  \n",
       "3      1057           2  \n",
       "4      7969           1  "
      ]
     },
     "execution_count": 44,
     "metadata": {},
     "output_type": "execute_result"
    }
   ],
   "source": [
    "learn_df['Efficiency'] = 3 - learn_df.iloc[:,[8, 9, 10]].isnull().sum(axis = 1)\n",
    "learn_df.head()"
   ]
  },
  {
   "cell_type": "markdown",
   "metadata": {
    "id": "cNO9HkSIcgFY"
   },
   "source": [
    "### Simple Linear Regression"
   ]
  },
  {
   "cell_type": "markdown",
   "metadata": {
    "id": "q_WGAguySSwm"
   },
   "source": [
    "#### Simple Linear Regression without analysis on attributes"
   ]
  },
  {
   "cell_type": "code",
   "execution_count": 45,
   "metadata": {
    "id": "bEtK_D7RShRK"
   },
   "outputs": [],
   "source": [
    "def lr_processing1(data_frame:pd.DataFrame):\n",
    "    df = data_frame.copy()\n",
    "\n",
    "    df.Product_Category_2 = df.Product_Category_2.fillna(0)\n",
    "    df.Product_Category_3 = df.Product_Category_3.fillna(0)\n",
    "\n",
    "    le = LabelEncoder()\n",
    "\n",
    "    df.Gender = le.fit_transform(df.Gender)\n",
    "    df.City_Category = le.fit_transform(df.City_Category)\n",
    "    df.Age = le.fit_transform(df.Age)\n",
    "    df.Years_in_city = le.fit_transform(df.Years_in_city)\n",
    "    df.Occupation = le.fit_transform(df.Occupation)\n",
    "\n",
    "    return df"
   ]
  },
  {
   "cell_type": "code",
   "execution_count": 46,
   "metadata": {
    "colab": {
     "base_uri": "https://localhost:8080/"
    },
    "id": "P9U2b_8rTFxw",
    "outputId": "d5129bc4-aa28-4dcb-ccc8-71e22a988cc4"
   },
   "outputs": [
    {
     "name": "stdout",
     "output_type": "stream",
     "text": [
      "Number of rows in train set (attrs):  412551 \n",
      "Number of rows in train set (labels):  412551\n"
     ]
    }
   ],
   "source": [
    "df = lr_processing1(train_df)\n",
    "X = df.drop(columns = ['User_ID', 'Product_ID', 'Purchase'])\n",
    "y = df.loc[:, 'Purchase']\n",
    "X_train, X_test, y_train, y_test = train_test_split(X, y, test_size=0.25, random_state=43)\n",
    "print(\"Number of rows in train set (attrs): \", X_train.shape[0], \"\\nNumber of rows in train set (labels): \", y_train.shape[0])"
   ]
  },
  {
   "cell_type": "code",
   "execution_count": 47,
   "metadata": {
    "colab": {
     "base_uri": "https://localhost:8080/"
    },
    "id": "I8YcZofOTQtT",
    "outputId": "3ca493b3-0b6b-4cbc-810b-e0944ea6a9ab"
   },
   "outputs": [
    {
     "name": "stdout",
     "output_type": "stream",
     "text": [
      "Root mean square error on validation set: 4619.5038\n"
     ]
    }
   ],
   "source": [
    "lr_model = LinearRegression().fit(X_train, y_train)\n",
    "y_pred = lr_model.predict(X_test)\n",
    "rmsq_lr = round(math.sqrt(mean_squared_error(y_pred, y_test)),4)\n",
    "print(\"Root mean square error on validation set:\", rmsq_lr)"
   ]
  },
  {
   "cell_type": "markdown",
   "metadata": {
    "id": "B1Ozv34gSb18"
   },
   "source": [
    "#### Simple Linear Regression applying analysis on User attributes"
   ]
  },
  {
   "cell_type": "code",
   "execution_count": 48,
   "metadata": {
    "id": "T5e6LL8ecgFX"
   },
   "outputs": [],
   "source": [
    "def lr_processing2(data_frame:pd.DataFrame, inplace: bool =False):\n",
    "    df = data_frame.copy()\n",
    "\n",
    "    # ASSUMPTION: A Product is more efficient if it is contained in more field (Category here).\n",
    "    df['Efficiency'] = 3 - df.iloc[:,[8, 9, 10]].isnull().sum(axis = 1)\n",
    "    \n",
    "    df.Product_Category_2 = df.Product_Category_2.fillna(0)\n",
    "    df.Product_Category_3 = df.Product_Category_3.fillna(0)\n",
    "    \n",
    "    le = LabelEncoder()\n",
    "    ss = StandardScaler()\n",
    "\n",
    "    df.Gender = le.fit_transform(df.Gender)\n",
    "    df.City_Category = le.fit(['C', 'B', 'A']).transform(df.City_Category)\n",
    "    df.Age = le.fit(['55+', '0-17', '51-55', '46-50', '18-25', '36-45', '26-35']).transform(df.Age)\n",
    "    df.Years_in_city = le.fit(['0', '1', '2', '3', '4+']).transform(df.Years_in_city)\n",
    "    df.Occupation = le.fit([13, 10, 9, 17, 12, 1, 6, 7, 11, 15, 8, 14, 4, 18, 0, 2, 3, 16, 5, 19, 20]).transform(df.Occupation)\n",
    "\n",
    "    return df "
   ]
  },
  {
   "cell_type": "code",
   "execution_count": 49,
   "metadata": {
    "colab": {
     "base_uri": "https://localhost:8080/"
    },
    "id": "3uUzVJ7nOc0d",
    "outputId": "d01c6fb1-e8c1-46bb-8494-c995f6c60738"
   },
   "outputs": [
    {
     "name": "stdout",
     "output_type": "stream",
     "text": [
      "Number of rows in train set (attrs):  412551 \n",
      "Number of rows in train set (labels):  412551\n"
     ]
    }
   ],
   "source": [
    "df = lr_processing2(train_df)\n",
    "X = df.drop(columns = ['User_ID', 'Product_ID', 'Purchase'])\n",
    "y = df.loc[:, 'Purchase']\n",
    "X_train, X_test, y_train, y_test = train_test_split(X, y, test_size=0.25, random_state=43)\n",
    "print(\"Number of rows in train set (attrs): \", X_train.shape[0], \"\\nNumber of rows in train set (labels): \", y_train.shape[0])"
   ]
  },
  {
   "cell_type": "code",
   "execution_count": 50,
   "metadata": {
    "colab": {
     "base_uri": "https://localhost:8080/"
    },
    "id": "X0H55cTPOXp6",
    "outputId": "ffa5e48a-677f-4480-bd63-0ead3c4855ba"
   },
   "outputs": [
    {
     "name": "stdout",
     "output_type": "stream",
     "text": [
      "Root mean square error on validation set: 4603.9093\n"
     ]
    }
   ],
   "source": [
    "lin_model = LinearRegression().fit(X_train, y_train)\n",
    "y_pred = lin_model.predict(X_test)\n",
    "lin_rmse = round(math.sqrt(mean_squared_error(y_pred, y_test)),4)\n",
    "print(\"Root mean square error on validation set:\", lin_rmse)"
   ]
  },
  {
   "cell_type": "code",
   "execution_count": 51,
   "metadata": {
    "colab": {
     "base_uri": "https://localhost:8080/"
    },
    "id": "ZPdSNQNiYvi4",
    "outputId": "23f6fd30-e78f-475b-fe50-666057c4f0da"
   },
   "outputs": [
    {
     "name": "stdout",
     "output_type": "stream",
     "text": [
      "APPLYING ANALYSIS ON USER ATTRIBUTES GIVES decrease: 0.3376 %\n"
     ]
    }
   ],
   "source": [
    "print(\"APPLYING ANALYSIS ON USER ATTRIBUTES GIVES decrease:\",  round(100*(rmsq_lr - lin_rmse)/rmsq_lr, 4), \"%\")"
   ]
  },
  {
   "cell_type": "markdown",
   "metadata": {
    "id": "SM-5QknRZR2Q"
   },
   "source": [
    "**=> User Attributes are useless. So, we need analize more on Product Attributes**"
   ]
  },
  {
   "cell_type": "markdown",
   "metadata": {
    "id": "CBnqsV2l9zi8"
   },
   "source": [
    "#### Simple Linear Regression applying analysis on Product attributes"
   ]
  },
  {
   "cell_type": "code",
   "execution_count": 52,
   "metadata": {
    "id": "mCQXf9eu9Krx"
   },
   "outputs": [],
   "source": [
    "# test \n",
    "def lr_processing3(data_frame:pd.DataFrame, inplace: bool =False):\n",
    "    df = data_frame.copy()\n",
    "    df['Efficiency'] = 3 - df.iloc[:,[8, 9, 10]].isnull().sum(axis = 1)\n",
    "    \n",
    "    le = LabelEncoder()\n",
    "    ss = StandardScaler()\n",
    "    \n",
    "    \n",
    "    df.Product_Category_2 = df.Product_Category_2.fillna(0)\n",
    "    df.Product_Category_3 = df.Product_Category_3.fillna(0)\n",
    "    \n",
    "    df.Product_Category_1 = le.fit([19, 20, 13, 12, 4, 18, 11, 5, 8, 17, 3, 2, 9, 14, 1, 16, 6, 15, 7, 10]).transform(df.Product_Category_1)\n",
    "    df.Product_Category_2 = le.fit([0 ,7.0, 12.0, 14.0, 9.0, 11.0, 5.0, 18.0, 17.0, 13.0, 4.0, 8.0, 16.0, 15.0, 3.0, 6.0, 2.0, 10.0]).transform(df.Product_Category_2)\n",
    "    df.Product_Category_3 = le.fit([0, 12.0, 4.0, 14.0, 9.0, 18.0, 17.0, 16.0, 11.0, 5.0, 15.0, 8.0, 13.0, 6.0, 10.0, 3.0]).transform(df.Product_Category_3)\n",
    "    df.Product_ID = le.fit(list(ord_pid)).transform(df.Product_ID)\n",
    "\n",
    "    df.Gender = le.fit_transform(df.Gender)\n",
    "    df.City_Category = le.fit(['C', 'B', 'A']).transform(df.City_Category)\n",
    "    df.Age = le.fit(['55+', '0-17', '51-55', '46-50', '18-25', '36-45', '26-35']).transform(df.Age)\n",
    "    df.Years_in_city = le.fit(['0', '1', '2', '3', '4+']).transform(df.Years_in_city)\n",
    "    df.Occupation = le.fit([13, 10, 9, 17, 12, 1, 6, 7, 11, 15, 8, 14, 4, 18, 0, 2, 3, 16, 5, 19, 20]).transform(df.Occupation)\n",
    "\n",
    "    return df"
   ]
  },
  {
   "cell_type": "code",
   "execution_count": 53,
   "metadata": {
    "colab": {
     "base_uri": "https://localhost:8080/"
    },
    "id": "mxw_h5pV9to3",
    "outputId": "44e86963-2404-44b0-80a7-d23b01871f32"
   },
   "outputs": [
    {
     "name": "stdout",
     "output_type": "stream",
     "text": [
      "Number of rows in train set (attrs):  412551 \n",
      "Number of rows in train set (labels):  412551\n"
     ]
    }
   ],
   "source": [
    "df = lr_processing3(product_df)\n",
    "X = df.drop(columns = ['User_ID', 'Purchase'])\n",
    "y = df.loc[:, 'Purchase']\n",
    "X_train, X_test, y_train, y_test = train_test_split(X, y, test_size=0.25, random_state=43)\n",
    "print(\"Number of rows in train set (attrs): \", X_train.shape[0], \"\\nNumber of rows in train set (labels): \", y_train.shape[0])"
   ]
  },
  {
   "cell_type": "code",
   "execution_count": 54,
   "metadata": {
    "colab": {
     "base_uri": "https://localhost:8080/"
    },
    "id": "7o2BvrpK9to5",
    "outputId": "1a7004be-2d61-472d-c39f-b2058fc0fdac"
   },
   "outputs": [
    {
     "name": "stdout",
     "output_type": "stream",
     "text": [
      "Root mean square error on validation set: 4593.6957\n"
     ]
    }
   ],
   "source": [
    "lin_model = LinearRegression().fit(X_train, y_train)\n",
    "y_pred = lin_model.predict(X_test)\n",
    "lin_rmse = round(math.sqrt(mean_squared_error(y_pred, y_test)),4)\n",
    "print(\"Root mean square error on validation set:\", lin_rmse)"
   ]
  },
  {
   "cell_type": "markdown",
   "metadata": {
    "id": "dpVHSYNb9pr4"
   },
   "source": [
    "#### Unused"
   ]
  },
  {
   "cell_type": "code",
   "execution_count": 55,
   "metadata": {
    "id": "xQiIX3hMcgFZ"
   },
   "outputs": [],
   "source": [
    "# df_copy = df.copy()\n",
    "# age_label = le.fit(['0-17', '18-25', '26-35', '36-45', '46-50', '51-55', '55+'])\n",
    "# df_copy.Age = age_label.transform(df_copy.Age)"
   ]
  },
  {
   "cell_type": "code",
   "execution_count": 56,
   "metadata": {
    "id": "6RnxLfddcgFZ"
   },
   "outputs": [],
   "source": [
    "# df_copy.Gender = le.fit_transform(df_copy.Gender)\n",
    "# city_label = le.fit(['C', 'B', 'A'])\n",
    "# df_copy.City_Category = city_label.transform(df_copy.City_Category)\n",
    "# year_label = le.fit(['0', '1', '2', '3', '4+'])\n",
    "# df_copy.Years_in_city = year_label.transform(df_copy.Years_in_city)"
   ]
  },
  {
   "cell_type": "code",
   "execution_count": 57,
   "metadata": {
    "id": "6-fJhhNJcgFZ"
   },
   "outputs": [],
   "source": [
    "# df_copy.head()"
   ]
  },
  {
   "cell_type": "code",
   "execution_count": 58,
   "metadata": {
    "id": "Vu1I36QlcgFZ"
   },
   "outputs": [],
   "source": [
    "# df_copy.info()"
   ]
  },
  {
   "cell_type": "code",
   "execution_count": 59,
   "metadata": {
    "id": "hTmenTuMcgFa"
   },
   "outputs": [],
   "source": [
    "# df_copy = df_copy.sort_values(by=['Product_Category_1', 'Product_Category_2', 'Product_Category_3'], ascending=[False, False, False])\n",
    "# display(df_copy.head(4))"
   ]
  },
  {
   "cell_type": "code",
   "execution_count": 60,
   "metadata": {
    "id": "Af5JB_74cgFa"
   },
   "outputs": [],
   "source": [
    "# df_copy.Product_ID = le.fit_transform(df_copy.Product_ID)\n",
    "# df_copy.head(4)"
   ]
  },
  {
   "cell_type": "code",
   "execution_count": 61,
   "metadata": {
    "id": "eCW2OR2BcgFa"
   },
   "outputs": [],
   "source": [
    "# num_product = df.Product_ID.unique()\n",
    "# print(\"number of products:\", len(num_product))"
   ]
  },
  {
   "cell_type": "code",
   "execution_count": 62,
   "metadata": {
    "id": "rLKmZzw_cgFa",
    "scrolled": true
   },
   "outputs": [],
   "source": [
    "# print(\"maximum items that was bought by 1 user:\", max(a2), \n",
    "#       \"\\nminimum items that was bought by 1 user:\", min(a2))"
   ]
  },
  {
   "cell_type": "code",
   "execution_count": null,
   "metadata": {
    "id": "6Sw14PRBcgFa"
   },
   "outputs": [],
   "source": []
  },
  {
   "cell_type": "markdown",
   "metadata": {
    "id": "n5A9kq4HcgFc"
   },
   "source": [
    "### Polynomial Regression\n"
   ]
  },
  {
   "cell_type": "code",
   "execution_count": 63,
   "metadata": {
    "id": "hU1Yddb6AakH"
   },
   "outputs": [],
   "source": [
    "df = lr_processing3(product_df)\n",
    "X = df.drop(columns = ['User_ID', 'Purchase'])\n",
    "y = df.loc[:, 'Purchase']"
   ]
  },
  {
   "cell_type": "code",
   "execution_count": 72,
   "metadata": {},
   "outputs": [
    {
     "name": "stdout",
     "output_type": "stream",
     "text": [
      "rmse in train set:  4321.86094175912\n",
      "rmse in validation set:  4315.937288457915\n"
     ]
    }
   ],
   "source": [
    "# Polynomial Regression degree = 2\n",
    "\n",
    "poly = PolynomialFeatures(degree = 2) \n",
    "X_train, X_test, y_train, y_test = train_test_split(X, y, test_size=0.25, random_state=42)\n",
    "poly_X_train = poly.fit_transform(X_train)\n",
    "poly_X_test = poly.fit_transform(X_test)\n",
    "\n",
    "trans_ = LinearRegression().fit(poly_X_train, y_train)\n",
    "y_pred = trans_.predict(poly_X_test)\n",
    "print(\"rmse in train set: \", math.sqrt(mean_squared_error(trans_.predict(poly_X_train), y_train)))\n",
    "print(\"rmse in validation set: \", math.sqrt(mean_squared_error(y_pred, y_test)))"
   ]
  },
  {
   "cell_type": "code",
   "execution_count": 70,
   "metadata": {
    "id": "060O6hPicgFd"
   },
   "outputs": [],
   "source": [
    "poly = PolynomialFeatures(degree = 4) # cannot test degree = 4 (GG Colab crashes)\n",
    "X_train, X_test, y_train, y_test = train_test_split(X, y, test_size=0.25, random_state=42)\n",
    "poly_X_train = poly.fit_transform(X_train)\n",
    "poly_X_test = poly.fit_transform(X_test)"
   ]
  },
  {
   "cell_type": "code",
   "execution_count": 71,
   "metadata": {
    "colab": {
     "base_uri": "https://localhost:8080/"
    },
    "id": "eO1bym2scgFd",
    "outputId": "b13707df-c249-45ed-8977-b7004d1d1953"
   },
   "outputs": [
    {
     "name": "stdout",
     "output_type": "stream",
     "text": [
      "rmse in train set:  3896.257982394621\n",
      "rmse in validation set:  3905.280289552176\n"
     ]
    }
   ],
   "source": [
    "trans_ = LinearRegression().fit(poly_X_train, y_train)\n",
    "y_pred = trans_.predict(poly_X_test)\n",
    "print(\"rmse in train set: \", math.sqrt(mean_squared_error(trans_.predict(poly_X_train), y_train)))\n",
    "print(\"rmse in validation set: \", math.sqrt(mean_squared_error(y_pred, y_test)))"
   ]
  },
  {
   "cell_type": "markdown",
   "metadata": {},
   "source": [
    "## **THE END, BELOW = DRAFT**"
   ]
  },
  {
   "cell_type": "markdown",
   "metadata": {
    "id": "QwjfbA_0fhFB"
   },
   "source": [
    "**Unused**"
   ]
  },
  {
   "cell_type": "code",
   "execution_count": 73,
   "metadata": {
    "colab": {
     "base_uri": "https://localhost:8080/"
    },
    "id": "HBFLCA0ZcgFe",
    "outputId": "d39ed212-77de-4efc-8c6f-ee21e9f290db"
   },
   "outputs": [
    {
     "name": "stdout",
     "output_type": "stream",
     "text": [
      "[1004464, 1000094, 1003883, 1005117, 1004991, 1005944, 1002111, 1003291, 1003275, 1004636]\n"
     ]
    }
   ],
   "source": [
    "top_user = list(user_df.sort_values(by=\"Total_Purchase\", ignore_index=False, ascending=True).User_ID.unique())\n",
    "print(top_user[:10])"
   ]
  },
  {
   "cell_type": "code",
   "execution_count": null,
   "metadata": {
    "id": "3l8xU73NiPZS"
   },
   "outputs": [],
   "source": [
    "# sample2_customer = sample2.loc[(sample2.Purchase > 6000) & (sample2.Purchase <7500)]\n",
    "'''\n",
    "    Mua sản phẩm với giá thấp\n",
    "'''\n",
    "sample2_customer = sample2.loc[(sample2.Purchase < 9000)]\n",
    "print(list(sample2_customer.Age.unique()))\n",
    "sns.countplot(x='Age', data=sample2_customer, hue='Gender', order=['0-17', '18-25', '26-35', '36-45', '46-50', '51-55', '55+'])\n",
    "plt.show()"
   ]
  },
  {
   "cell_type": "code",
   "execution_count": null,
   "metadata": {
    "id": "M56-_sehkIy3"
   },
   "outputs": [],
   "source": [
    "# sample2_customer = sample2.loc[(sample2.Purchase < 5000)]\n",
    "\"\"\"\n",
    "    Mua sản phẩm với giá cao\n",
    "\"\"\"\n",
    "sns.countplot(x='Age', data=sample2.loc[(sample2.Purchase > 9000)], hue='Gender', order=['0-17', '18-25', '26-35', '36-45', '46-50', '51-55', '55+'])\n",
    "plt.show()"
   ]
  },
  {
   "cell_type": "code",
   "execution_count": null,
   "metadata": {
    "id": "nhmw2LnimtGH"
   },
   "outputs": [],
   "source": [
    "sample = product_df.groupby(by = ['Product_ID', 'User_ID']).agg({'Purchase':'mean'}).sort_values(by=['Product_ID', 'User_ID'])\n",
    "sample2 = product_df.sort_values(by=['User_ID', 'Product_ID'])\n",
    "# sample2.\n",
    "sample2[sample2.Product_ID == 'P00000142']\n",
    "sample3 = product_df.groupby(by = 'User_ID').agg({'Purchase':'mean'})"
   ]
  },
  {
   "cell_type": "code",
   "execution_count": null,
   "metadata": {
    "id": "qFkN7xu2msyC"
   },
   "outputs": [],
   "source": [
    "product_df[product_df.Product_ID.isin(['P00000142'])]"
   ]
  },
  {
   "cell_type": "code",
   "execution_count": null,
   "metadata": {
    "id": "4ufvXOqFcgFg"
   },
   "outputs": [],
   "source": [
    "train_product = product_df.iloc[:, 0]\n",
    "u_train_product = train_product.unique()\n",
    "print(\"number of distinct products in train data:\", len(u_train_product))\n",
    "print(\"number of duplicated products in train data:\", product_df[product_df.duplicated()].shape[0])"
   ]
  },
  {
   "cell_type": "code",
   "execution_count": null,
   "metadata": {
    "id": "eCbEHfLocgFh"
   },
   "outputs": [],
   "source": [
    "# test_product = test_df.iloc[:, 1]\n",
    "# u_test_product = test_product.unique()\n",
    "# print(\"number of distinct products in test data:\", len(u_test_product))\n",
    "# print(\"number of duplicated product in test data:\", test_product[test_product.duplicated()].shape[0])"
   ]
  },
  {
   "cell_type": "code",
   "execution_count": null,
   "metadata": {
    "id": "3A4_Fr2QcgFh"
   },
   "outputs": [],
   "source": [
    "# in_train_but_test = np.isin(u_train_product,u_test_product, invert=True)\n",
    "# print(\"number of products in train data but not in test data:\", len(u_train_product[in_train_but_test]))\n",
    "# in_test_but_train = np.isin(u_test_product, u_train_product, invert=True)\n",
    "# print(\"number of products in test data but not in train data:\", len(u_test_product[in_test_but_train]))"
   ]
  },
  {
   "cell_type": "code",
   "execution_count": null,
   "metadata": {
    "id": "N9bIjbUNcgFh",
    "scrolled": true
   },
   "outputs": [],
   "source": [
    "# print(sorted(u_test_product[in_test_but_train])[0:2])\n",
    "# print(\"product P00012642 in train data:\")\n",
    "# (product_df[product_df.Product_ID == 'P00012642'])"
   ]
  },
  {
   "cell_type": "code",
   "execution_count": null,
   "metadata": {
    "id": "qnnAXYzGcgFh",
    "scrolled": false
   },
   "outputs": [],
   "source": [
    "# new_products = test_df.loc[test_df.Product_ID.isin(list(u_test_product[in_test_but_train]))]\n",
    "# new_products.head()"
   ]
  },
  {
   "cell_type": "code",
   "execution_count": null,
   "metadata": {
    "id": "oKgpVPp_8uGj"
   },
   "outputs": [],
   "source": [
    "sns.boxplot(x='Product_Category_2', y=\"Purchase\", data=product_df)\n",
    "plt.xlabel(\"Product Category 2\")\n",
    "plt.show()"
   ]
  },
  {
   "cell_type": "markdown",
   "metadata": {
    "id": "6k-k5ye5pWSK"
   },
   "source": [
    "**Submit .csv file**"
   ]
  },
  {
   "cell_type": "code",
   "execution_count": null,
   "metadata": {
    "id": "fqsDBlUV97ku"
   },
   "outputs": [],
   "source": [
    "\n",
    "# test = processing_(test_df)\n",
    "# X_test = test.drop(columns = ['User_ID', 'Product_ID'])\n",
    "# y_test_pred = lin_model.predict(X_test)"
   ]
  },
  {
   "cell_type": "code",
   "execution_count": null,
   "metadata": {
    "id": "-9yyjsaKcgFd"
   },
   "outputs": [],
   "source": [
    "# Output, need change name\n",
    "submit_df = pd.DataFrame()\n",
    "submit_df[\"Purchase\"] = y_test_pred\n",
    "submit_df[\"User_ID\"] = test_df.loc[:, \"User_ID\"]\n",
    "submit_df['Product_ID'] = test_df.loc[:, \"Product_ID\"]\n",
    "submit_df.to_csv(path_or_buf= 'output.csv', index = False)"
   ]
  }
 ],
 "metadata": {
  "colab": {
   "collapsed_sections": [
    "adzY_yGScgFa",
    "n5A9kq4HcgFc",
    "3xc2JHyncgFe",
    "Frsuqi9UvTaR"
   ],
   "name": "BlackFridayTest.ipynb",
   "provenance": [],
   "toc_visible": true
  },
  "kernelspec": {
   "display_name": "Python 3",
   "language": "python",
   "name": "python3"
  },
  "language_info": {
   "codemirror_mode": {
    "name": "ipython",
    "version": 3
   },
   "file_extension": ".py",
   "mimetype": "text/x-python",
   "name": "python",
   "nbconvert_exporter": "python",
   "pygments_lexer": "ipython3",
   "version": "3.8.2"
  }
 },
 "nbformat": 4,
 "nbformat_minor": 1
}
